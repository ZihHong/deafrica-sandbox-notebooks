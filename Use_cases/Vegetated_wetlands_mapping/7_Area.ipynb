{
 "cells": [
  {
   "cell_type": "markdown",
   "id": "641b673e-6cd3-4fd7-842c-d4c3893f7ad2",
   "metadata": {},
   "source": [
    "# Calculate Area of wetlands"
   ]
  },
  {
   "cell_type": "markdown",
   "id": "4c900648-3918-4fd7-bcbb-ef5024976a2c",
   "metadata": {},
   "source": [
    "***\n",
    "## Getting started\n",
    "\n",
    "To run this analysis, run all the cells in the notebook, starting with the \"Load packages\" cell. "
   ]
  },
  {
   "cell_type": "markdown",
   "id": "8a985373-4bb0-4b4b-9151-8c1b012b4e83",
   "metadata": {},
   "source": [
    "### Load Packages"
   ]
  },
  {
   "cell_type": "code",
   "execution_count": 1,
   "id": "5a8ed588-a697-40e4-9cbf-9fbcf96a4324",
   "metadata": {},
   "outputs": [],
   "source": [
    "import datacube\n",
    "import matplotlib.pyplot as plt\n",
    "import numpy as np\n",
    "import pandas as pd\n",
    "import rioxarray as rio\n",
    "import xarray as xr\n",
    "from datacube.testutils.io import rio_slurp_xarray\n",
    "from datacube.utils.cog import write_cog\n",
    "from datacube.utils.masking import mask_invalid_data\n",
    "from deafrica_tools.classification import sklearn_flatten, sklearn_unflatten\n",
    "from deafrica_tools.plotting import display_map, plot_lulc\n",
    "from matplotlib import colors as mcolors\n",
    "from matplotlib.colors import ListedColormap\n",
    "from sklearn.metrics import accuracy_score, f1_score, precision_score, recall_score"
   ]
  },
  {
   "cell_type": "markdown",
   "id": "6000a128-b29a-4bde-8493-8f8967e44a17",
   "metadata": {},
   "source": [
    "### Analysis Parameters\n",
    "\n",
    "* `pred_tif`: The path and name of the prediction GeoTIFF output in the previous notebook.\n",
    "* `ouput_dir`: A folder location to store the classified GeoTIFFs."
   ]
  },
  {
   "cell_type": "code",
   "execution_count": 2,
   "id": "720e72d1-704b-4ac8-b226-dabbe9f6e0a7",
   "metadata": {},
   "outputs": [],
   "source": [
    "class_dict = {\n",
    "    \"Cropland\": 1,\n",
    "    \"Dense Forest\": 2,\n",
    "    \"Open Forest\": 3,\n",
    "    \"Open Grassland\": 4,\n",
    "    \"Open Water\": 5,\n",
    "    \"Otherland\": 6,\n",
    "    \"Settlements\": 7,\n",
    "    \"Vegetated Wetland\": 8,\n",
    "    \"Wooded Grassland\": 9,\n",
    "}"
   ]
  },
  {
   "cell_type": "code",
   "execution_count": 3,
   "id": "e57734e2-a160-4df7-a17d-83a76af4a8a2",
   "metadata": {},
   "outputs": [],
   "source": [
    "years = [\"1987\", \"2000\", \"2007\", \"2017\"]\n",
    "\n",
    "output_dir = \"results\""
   ]
  },
  {
   "cell_type": "code",
   "execution_count": 4,
   "id": "38f5e650-319a-4fbc-ade0-faa3511124b2",
   "metadata": {},
   "outputs": [
    {
     "data": {
      "text/html": [
       "<style type=\"text/css\">\n",
       "#T_a2918_ caption {\n",
       "  font-weight: bold;\n",
       "  font-size: 16px;\n",
       "}\n",
       "</style>\n",
       "<table id=\"T_a2918_\">\n",
       "  <caption>Land cover class area in $km^2$</caption>\n",
       "  <thead>\n",
       "    <tr>\n",
       "      <th class=\"blank level0\" >&nbsp;</th>\n",
       "      <th class=\"col_heading level0 col0\" >1987</th>\n",
       "      <th class=\"col_heading level0 col1\" >2000</th>\n",
       "      <th class=\"col_heading level0 col2\" >2007</th>\n",
       "      <th class=\"col_heading level0 col3\" >2017</th>\n",
       "    </tr>\n",
       "  </thead>\n",
       "  <tbody>\n",
       "    <tr>\n",
       "      <th id=\"T_a2918_level0_row0\" class=\"row_heading level0 row0\" >Cropland</th>\n",
       "      <td id=\"T_a2918_row0_col0\" class=\"data row0 col0\" >7272.874800</td>\n",
       "      <td id=\"T_a2918_row0_col1\" class=\"data row0 col1\" >14925.394800</td>\n",
       "      <td id=\"T_a2918_row0_col2\" class=\"data row0 col2\" >18026.022600</td>\n",
       "      <td id=\"T_a2918_row0_col3\" class=\"data row0 col3\" >26932.693200</td>\n",
       "    </tr>\n",
       "    <tr>\n",
       "      <th id=\"T_a2918_level0_row1\" class=\"row_heading level0 row1\" >Dense Forest</th>\n",
       "      <td id=\"T_a2918_row1_col0\" class=\"data row1 col0\" >4312.809000</td>\n",
       "      <td id=\"T_a2918_row1_col1\" class=\"data row1 col1\" >4163.966100</td>\n",
       "      <td id=\"T_a2918_row1_col2\" class=\"data row1 col2\" >4569.296400</td>\n",
       "      <td id=\"T_a2918_row1_col3\" class=\"data row1 col3\" >2740.643200</td>\n",
       "    </tr>\n",
       "    <tr>\n",
       "      <th id=\"T_a2918_level0_row2\" class=\"row_heading level0 row2\" >Open Forest</th>\n",
       "      <td id=\"T_a2918_row2_col0\" class=\"data row2 col0\" >3207.744000</td>\n",
       "      <td id=\"T_a2918_row2_col1\" class=\"data row2 col1\" >2836.694700</td>\n",
       "      <td id=\"T_a2918_row2_col2\" class=\"data row2 col2\" >4487.647500</td>\n",
       "      <td id=\"T_a2918_row2_col3\" class=\"data row2 col3\" >3836.828800</td>\n",
       "    </tr>\n",
       "    <tr>\n",
       "      <th id=\"T_a2918_level0_row3\" class=\"row_heading level0 row3\" >Open Grassland</th>\n",
       "      <td id=\"T_a2918_row3_col0\" class=\"data row3 col0\" >6288.779700</td>\n",
       "      <td id=\"T_a2918_row3_col1\" class=\"data row3 col1\" >4969.878300</td>\n",
       "      <td id=\"T_a2918_row3_col2\" class=\"data row3 col2\" >4926.924000</td>\n",
       "      <td id=\"T_a2918_row3_col3\" class=\"data row3 col3\" >4942.787200</td>\n",
       "    </tr>\n",
       "    <tr>\n",
       "      <th id=\"T_a2918_level0_row4\" class=\"row_heading level0 row4\" >Open Water</th>\n",
       "      <td id=\"T_a2918_row4_col0\" class=\"data row4 col0\" >4448.883600</td>\n",
       "      <td id=\"T_a2918_row4_col1\" class=\"data row4 col1\" >3618.536400</td>\n",
       "      <td id=\"T_a2918_row4_col2\" class=\"data row4 col2\" >3524.351400</td>\n",
       "      <td id=\"T_a2918_row4_col3\" class=\"data row4 col3\" >3475.565600</td>\n",
       "    </tr>\n",
       "    <tr>\n",
       "      <th id=\"T_a2918_level0_row5\" class=\"row_heading level0 row5\" >Otherland</th>\n",
       "      <td id=\"T_a2918_row5_col0\" class=\"data row5 col0\" >30.790800</td>\n",
       "      <td id=\"T_a2918_row5_col1\" class=\"data row5 col1\" >0.432000</td>\n",
       "      <td id=\"T_a2918_row5_col2\" class=\"data row5 col2\" >2.000700</td>\n",
       "      <td id=\"T_a2918_row5_col3\" class=\"data row5 col3\" >12.149600</td>\n",
       "    </tr>\n",
       "    <tr>\n",
       "      <th id=\"T_a2918_level0_row6\" class=\"row_heading level0 row6\" >Settlements</th>\n",
       "      <td id=\"T_a2918_row6_col0\" class=\"data row6 col0\" >0.019800</td>\n",
       "      <td id=\"T_a2918_row6_col1\" class=\"data row6 col1\" >1.983600</td>\n",
       "      <td id=\"T_a2918_row6_col2\" class=\"data row6 col2\" >14.908500</td>\n",
       "      <td id=\"T_a2918_row6_col3\" class=\"data row6 col3\" >125.270000</td>\n",
       "    </tr>\n",
       "    <tr>\n",
       "      <th id=\"T_a2918_level0_row7\" class=\"row_heading level0 row7\" >Vegetated Wetland</th>\n",
       "      <td id=\"T_a2918_row7_col0\" class=\"data row7 col0\" >1388.457900</td>\n",
       "      <td id=\"T_a2918_row7_col1\" class=\"data row7 col1\" >2620.718100</td>\n",
       "      <td id=\"T_a2918_row7_col2\" class=\"data row7 col2\" >2278.810800</td>\n",
       "      <td id=\"T_a2918_row7_col3\" class=\"data row7 col3\" >1989.196800</td>\n",
       "    </tr>\n",
       "    <tr>\n",
       "      <th id=\"T_a2918_level0_row8\" class=\"row_heading level0 row8\" >Wooded Grassland</th>\n",
       "      <td id=\"T_a2918_row8_col0\" class=\"data row8 col0\" >22279.459500</td>\n",
       "      <td id=\"T_a2918_row8_col1\" class=\"data row8 col1\" >16092.215100</td>\n",
       "      <td id=\"T_a2918_row8_col2\" class=\"data row8 col2\" >11399.857200</td>\n",
       "      <td id=\"T_a2918_row8_col3\" class=\"data row8 col3\" >5170.204000</td>\n",
       "    </tr>\n",
       "  </tbody>\n",
       "</table>\n"
      ],
      "text/plain": [
       "<pandas.io.formats.style.Styler at 0x7ff92318b460>"
      ]
     },
     "execution_count": 4,
     "metadata": {},
     "output_type": "execute_result"
    }
   ],
   "source": [
    "# Get the area of each land cover class in the prediction images.\n",
    "results = {}\n",
    "for year in years:\n",
    "    pred_tif = f\"{output_dir}/prediction_{year}.tif\"\n",
    "    # Load the pixel-based prediction raster.\n",
    "    pred = rio.open_rasterio(pred_tif).squeeze()\n",
    "    # Get the resolution i.e. actual ground distance represented by the length of a single pixel in meters.\n",
    "    pixel_length = pred.geobox.resolution[1]\n",
    "    # Conversion from metres to kilometres.\n",
    "    m_per_km = 1000\n",
    "    # Get the actual ground area represented by each pixel.\n",
    "    area_per_pixel = (pixel_length / m_per_km) ** 2\n",
    "    # Use the numpy np.unique function to return the pixel count for each land cover class.\n",
    "    counts = np.unique(pred, return_counts=True)\n",
    "    # Calculate the area of each land cover class.\n",
    "    areas = np.array(counts[1] * area_per_pixel)\n",
    "    results[year] = dict(zip(class_dict.keys(), areas))\n",
    "\n",
    "\n",
    "# Convert the results dictionary into a pandas DataFrame.\n",
    "results_df = pd.DataFrame.from_dict(results).style.set_caption(\"Land cover class area in $km^2$\").set_table_styles(\n",
    "        [{\"selector\": \"caption\", \"props\": [(\"font-weight\", \"bold\"), (\"font-size\", \"16px\")]}])\n",
    " \n",
    "results_df"
   ]
  }
 ],
 "metadata": {
  "kernelspec": {
   "display_name": "Python 3 (ipykernel)",
   "language": "python",
   "name": "python3"
  },
  "language_info": {
   "codemirror_mode": {
    "name": "ipython",
    "version": 3
   },
   "file_extension": ".py",
   "mimetype": "text/x-python",
   "name": "python",
   "nbconvert_exporter": "python",
   "pygments_lexer": "ipython3",
   "version": "3.8.10"
  },
  "widgets": {
   "application/vnd.jupyter.widget-state+json": {
    "state": {},
    "version_major": 2,
    "version_minor": 0
   }
  }
 },
 "nbformat": 4,
 "nbformat_minor": 5
}
