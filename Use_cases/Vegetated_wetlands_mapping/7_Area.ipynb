{
 "cells": [
  {
   "cell_type": "markdown",
   "id": "641b673e-6cd3-4fd7-842c-d4c3893f7ad2",
   "metadata": {},
   "source": [
    "# Calculate Area of wetlands"
   ]
  },
  {
   "cell_type": "markdown",
   "id": "4c900648-3918-4fd7-bcbb-ef5024976a2c",
   "metadata": {},
   "source": [
    "***\n",
    "## Getting started\n",
    "\n",
    "To run this analysis, run all the cells in the notebook, starting with the \"Load packages\" cell. "
   ]
  },
  {
   "cell_type": "markdown",
   "id": "8a985373-4bb0-4b4b-9151-8c1b012b4e83",
   "metadata": {},
   "source": [
    "### Load Packages"
   ]
  },
  {
   "cell_type": "code",
   "execution_count": 1,
   "id": "5a8ed588-a697-40e4-9cbf-9fbcf96a4324",
   "metadata": {},
   "outputs": [],
   "source": [
    "import datacube\n",
    "import matplotlib.pyplot as plt\n",
    "import pandas as pd\n",
    "import numpy as np\n",
    "import rioxarray as rio\n",
    "import xarray as xr\n",
    "from datacube.testutils.io import rio_slurp_xarray\n",
    "from datacube.utils.cog import write_cog\n",
    "from datacube.utils.masking import mask_invalid_data\n",
    "from deafrica_tools.classification import sklearn_flatten, sklearn_unflatten\n",
    "from deafrica_tools.plotting import display_map, plot_lulc\n",
    "from matplotlib import colors as mcolors\n",
    "from matplotlib.colors import ListedColormap\n",
    "from sklearn.metrics import accuracy_score, f1_score, precision_score, recall_score"
   ]
  },
  {
   "cell_type": "markdown",
   "id": "6000a128-b29a-4bde-8493-8f8967e44a17",
   "metadata": {},
   "source": [
    "### Analysis Parameters\n",
    "\n",
    "* `pred_tif`: The path and name of the prediction GeoTIFF output in the previous notebook.\n",
    "* `ouput_dir`: A folder location to store the classified GeoTIFFs."
   ]
  },
  {
   "cell_type": "code",
   "execution_count": 2,
   "id": "720e72d1-704b-4ac8-b226-dabbe9f6e0a7",
   "metadata": {},
   "outputs": [],
   "source": [
    "class_dict = {\n",
    "    \"Cropland\": 1,\n",
    "    \"Dense Forest\": 2,\n",
    "    \"Open Forest\": 3,\n",
    "    \"Open Grassland\": 4,\n",
    "    \"Open Water\": 5,\n",
    "    \"Otherland\": 6,\n",
    "    \"Settlements\": 7,\n",
    "    \"Vegetated Wetland\": 8,\n",
    "    \"Wooded Grassland\": 9,\n",
    "}"
   ]
  },
  {
   "cell_type": "code",
   "execution_count": 3,
   "id": "e57734e2-a160-4df7-a17d-83a76af4a8a2",
   "metadata": {},
   "outputs": [],
   "source": [
    "years = [\"1987\", \"2000\",\"2007\", \"2017\"]\n",
    "\n",
    "output_dir = \"results\""
   ]
  },
  {
   "cell_type": "code",
   "execution_count": 5,
   "id": "38f5e650-319a-4fbc-ade0-faa3511124b2",
   "metadata": {},
   "outputs": [
    {
     "data": {
      "text/html": [
       "<div>\n",
       "<style scoped>\n",
       "    .dataframe tbody tr th:only-of-type {\n",
       "        vertical-align: middle;\n",
       "    }\n",
       "\n",
       "    .dataframe tbody tr th {\n",
       "        vertical-align: top;\n",
       "    }\n",
       "\n",
       "    .dataframe thead th {\n",
       "        text-align: right;\n",
       "    }\n",
       "</style>\n",
       "<table border=\"1\" class=\"dataframe\">\n",
       "  <thead>\n",
       "    <tr style=\"text-align: right;\">\n",
       "      <th></th>\n",
       "      <th>1987</th>\n",
       "      <th>2000</th>\n",
       "      <th>2007</th>\n",
       "      <th>2017</th>\n",
       "    </tr>\n",
       "  </thead>\n",
       "  <tbody>\n",
       "    <tr>\n",
       "      <th>Cropland</th>\n",
       "      <td>7272.8748</td>\n",
       "      <td>14925.3948</td>\n",
       "      <td>18026.0226</td>\n",
       "      <td>26932.6932</td>\n",
       "    </tr>\n",
       "    <tr>\n",
       "      <th>Dense Forest</th>\n",
       "      <td>4312.8090</td>\n",
       "      <td>4163.9661</td>\n",
       "      <td>4569.2964</td>\n",
       "      <td>2740.6432</td>\n",
       "    </tr>\n",
       "    <tr>\n",
       "      <th>Open Forest</th>\n",
       "      <td>3207.7440</td>\n",
       "      <td>2836.6947</td>\n",
       "      <td>4487.6475</td>\n",
       "      <td>3836.8288</td>\n",
       "    </tr>\n",
       "    <tr>\n",
       "      <th>Open Grassland</th>\n",
       "      <td>6288.7797</td>\n",
       "      <td>4969.8783</td>\n",
       "      <td>4926.9240</td>\n",
       "      <td>4942.7872</td>\n",
       "    </tr>\n",
       "    <tr>\n",
       "      <th>Open Water</th>\n",
       "      <td>4448.8836</td>\n",
       "      <td>3618.5364</td>\n",
       "      <td>3524.3514</td>\n",
       "      <td>3475.5656</td>\n",
       "    </tr>\n",
       "    <tr>\n",
       "      <th>Otherland</th>\n",
       "      <td>30.7908</td>\n",
       "      <td>0.4320</td>\n",
       "      <td>2.0007</td>\n",
       "      <td>12.1496</td>\n",
       "    </tr>\n",
       "    <tr>\n",
       "      <th>Settlements</th>\n",
       "      <td>0.0198</td>\n",
       "      <td>1.9836</td>\n",
       "      <td>14.9085</td>\n",
       "      <td>125.2700</td>\n",
       "    </tr>\n",
       "    <tr>\n",
       "      <th>Vegetated Wetland</th>\n",
       "      <td>1388.4579</td>\n",
       "      <td>2620.7181</td>\n",
       "      <td>2278.8108</td>\n",
       "      <td>1989.1968</td>\n",
       "    </tr>\n",
       "    <tr>\n",
       "      <th>Wooded Grassland</th>\n",
       "      <td>22279.4595</td>\n",
       "      <td>16092.2151</td>\n",
       "      <td>11399.8572</td>\n",
       "      <td>5170.2040</td>\n",
       "    </tr>\n",
       "  </tbody>\n",
       "</table>\n",
       "</div>"
      ],
      "text/plain": [
       "                         1987        2000        2007        2017\n",
       "Cropland            7272.8748  14925.3948  18026.0226  26932.6932\n",
       "Dense Forest        4312.8090   4163.9661   4569.2964   2740.6432\n",
       "Open Forest         3207.7440   2836.6947   4487.6475   3836.8288\n",
       "Open Grassland      6288.7797   4969.8783   4926.9240   4942.7872\n",
       "Open Water          4448.8836   3618.5364   3524.3514   3475.5656\n",
       "Otherland             30.7908      0.4320      2.0007     12.1496\n",
       "Settlements            0.0198      1.9836     14.9085    125.2700\n",
       "Vegetated Wetland   1388.4579   2620.7181   2278.8108   1989.1968\n",
       "Wooded Grassland   22279.4595  16092.2151  11399.8572   5170.2040"
      ]
     },
     "execution_count": 5,
     "metadata": {},
     "output_type": "execute_result"
    }
   ],
   "source": [
    "# Get the area of each land cover class in the prediction images.\n",
    "results = {}\n",
    "for year in years:\n",
    "    pred_tif = f\"{output_dir}/prediction_{year}.tif\"\n",
    "    # Load the pixel-based prediction raster.\n",
    "    pred = rio.open_rasterio(pred_tif).squeeze()\n",
    "    # Get the resolution i.e. actual ground distance represented by the length of a single pixel in meters.\n",
    "    pixel_length = pred.geobox.resolution[1]\n",
    "    # Conversion from metres to kilometres.\n",
    "    m_per_km = 1000\n",
    "    # Get the actual ground area represented by each pixel.\n",
    "    area_per_pixel = (pixel_length / m_per_km) ** 2\n",
    "    # Use the numpy np.unique function to return the pixel count for each land cover class.\n",
    "    counts = np.unique(pred, return_counts=True)\n",
    "    # Calculate the area of each land cover class.\n",
    "    areas = np.array(counts[1] * area_per_pixel)\n",
    "    results[year] = dict(zip(class_dict.keys(), areas))\n",
    "\n",
    "    \n",
    " # Convert the results dictionary into a pandas DataFrame.\n",
    "results_df = pd.DataFrame.from_dict(results)\n",
    "\n",
    "results_df"
   ]
  }
 ],
 "metadata": {
  "kernelspec": {
   "display_name": "Python 3 (ipykernel)",
   "language": "python",
   "name": "python3"
  },
  "language_info": {
   "codemirror_mode": {
    "name": "ipython",
    "version": 3
   },
   "file_extension": ".py",
   "mimetype": "text/x-python",
   "name": "python",
   "nbconvert_exporter": "python",
   "pygments_lexer": "ipython3",
   "version": "3.8.10"
  },
  "widgets": {
   "application/vnd.jupyter.widget-state+json": {
    "state": {},
    "version_major": 2,
    "version_minor": 0
   }
  }
 },
 "nbformat": 4,
 "nbformat_minor": 5
}
