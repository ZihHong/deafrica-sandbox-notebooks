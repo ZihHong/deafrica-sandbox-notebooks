{
 "cells": [
  {
   "cell_type": "markdown",
   "id": "0043a286-ab79-47b0-8df1-4b39213e636c",
   "metadata": {
    "tags": []
   },
   "source": [
    "# Unsupervised Class Identification\n",
    "\n",
    "\n",
    "* **Products used:** \n",
    "[gm_s2_annual](https://explorer.digitalearth.africa/gm_s2_annual), \n",
    "[gm_s2_semiannual](https://explorer.digitalearth.africa/gm_s2_semiannual), \n",
    "[fc_ls_summary_annual](https://explorer.digitalearth.africa/fc_ls_summary_annual),\n"
   ]
  },
  {
   "cell_type": "raw",
   "id": "23e78ad1-2644-48f4-8514-74541ea9e073",
   "metadata": {
    "raw_mimetype": "text/restructuredtext",
    "tags": []
   },
   "source": [
    "**Keywords**: :index:`data used; sentinel-2 geomedian`, `data used; sentinel-2 semiannual geomedian`, index:`data used; MADs`, :index:`data used; fc_ls_summary_annual`,"
   ]
  },
  {
   "cell_type": "markdown",
   "id": "e94af07b-f7ec-4e9d-a717-a228b39204a0",
   "metadata": {},
   "source": [
    "## Background"
   ]
  },
  {
   "cell_type": "markdown",
   "id": "87ad2be1-1961-49c1-9918-a617c1bd3ad2",
   "metadata": {},
   "source": [
    "## Description\n",
    "\n",
    "The goal in this set of notebooks is to investigate whether unsupervised learning can be used identify individual crop-types in Niger.\n",
    "\n",
    "\n",
    "---"
   ]
  },
  {
   "cell_type": "markdown",
   "id": "72632c8a-26b0-4696-800a-23bebc2a2b19",
   "metadata": {},
   "source": [
    "## Getting Started\n",
    "\n",
    "To run this analysis, run all the cells in the notebook, starting with the \"**Load packages**\" cell."
   ]
  },
  {
   "cell_type": "markdown",
   "id": "6c62b6cd-2934-4a0e-90e9-208ccdfb0db4",
   "metadata": {},
   "source": [
    "### Load packages"
   ]
  },
  {
   "cell_type": "code",
   "execution_count": 1,
   "id": "820a2963-2b27-431b-bbd7-0312d54b81ca",
   "metadata": {},
   "outputs": [],
   "source": [
    "import os\n",
    "import pickle\n",
    "\n",
    "import datacube\n",
    "import geopandas as gpd\n",
    "import matplotlib as mpl\n",
    "import matplotlib.pyplot as plt\n",
    "import numpy as np\n",
    "import pandas as pd\n",
    "import rioxarray\n",
    "import xarray as xr\n",
    "from datacube.utils import geometry\n",
    "from datacube.utils.geometry import CRS, Geometry\n",
    "from deafrica_tools.bandindices import calculate_indices\n",
    "from deafrica_tools.classification import sklearn_flatten, sklearn_unflatten\n",
    "from deafrica_tools.dask import create_local_dask_cluster\n",
    "from deafrica_tools.datahandling import load_ard\n",
    "from deafrica_tools.plotting import display_map, rgb\n",
    "from deafrica_tools.spatial import xr_rasterize\n",
    "from deafrica_tools.temporal import temporal_statistics, xr_phenology\n",
    "from sklearn.cluster import DBSCAN, KMeans\n",
    "from sklearn.decomposition import PCA\n",
    "from sklearn.ensemble import RandomForestClassifier\n",
    "from sklearn.preprocessing import StandardScaler"
   ]
  },
  {
   "cell_type": "markdown",
   "id": "a082464a-7942-4603-9ef8-20f951ca9a44",
   "metadata": {},
   "source": [
    "### Set up a Dask cluster\n",
    "\n",
    "Dask can be used to better manage memory use and conduct the analysis in parallel. \n",
    "For an introduction to using Dask with Digital Earth Africa, see the [Dask notebook](../Beginners_guide/08_Parallel_processing_with_dask.ipynb).\n",
    "\n",
    ">**Note**: We recommend opening the Dask processing window to view the different computations that are being executed; to do this, see the *Dask dashboard in DE Africa* section of the [Dask notebook](../Beginners_guide/08_Parallel_processing_with_dask.ipynb).\n",
    "\n",
    "To use Dask, set up the local computing cluster using the cell below."
   ]
  },
  {
   "cell_type": "code",
   "execution_count": 2,
   "id": "4b1b75b7-e3ac-45de-84dd-f05fb1bce582",
   "metadata": {},
   "outputs": [
    {
     "data": {
      "text/html": [
       "<table style=\"border: 2px solid white;\">\n",
       "<tr>\n",
       "<td style=\"vertical-align: top; border: 0px solid white\">\n",
       "<h3 style=\"text-align: left;\">Client</h3>\n",
       "<ul style=\"text-align: left; list-style: none; margin: 0; padding: 0;\">\n",
       "  <li><b>Scheduler: </b>tcp://127.0.0.1:35747</li>\n",
       "  <li><b>Dashboard: </b><a href='/user/victoria@kartoza.com/proxy/8787/status' target='_blank'>/user/victoria@kartoza.com/proxy/8787/status</a></li>\n",
       "</ul>\n",
       "</td>\n",
       "<td style=\"vertical-align: top; border: 0px solid white\">\n",
       "<h3 style=\"text-align: left;\">Cluster</h3>\n",
       "<ul style=\"text-align: left; list-style:none; margin: 0; padding: 0;\">\n",
       "  <li><b>Workers: </b>1</li>\n",
       "  <li><b>Cores: </b>4</li>\n",
       "  <li><b>Memory: </b>28.14 GB</li>\n",
       "</ul>\n",
       "</td>\n",
       "</tr>\n",
       "</table>"
      ],
      "text/plain": [
       "<Client: 'tcp://127.0.0.1:35747' processes=1 threads=4, memory=28.14 GB>"
      ]
     },
     "metadata": {},
     "output_type": "display_data"
    }
   ],
   "source": [
    "create_local_dask_cluster()"
   ]
  },
  {
   "cell_type": "markdown",
   "id": "e4a0cfdd-4fa4-4ece-940e-df135a72ebc9",
   "metadata": {},
   "source": [
    "### Analysis parameters\n",
    "\n",
    "The following cell sets important parameters for the analysis:\n",
    "\n",
    "* `vector_file`: file path for the shapefile containing the points of interest\n",
    "* `time_01` : This is the time period of interest to load data for.\n",
    "* `resolution` : The spatial resolution, in metres, to resample the satellite data to. \n",
    "* `output_crs` : The coordinate reference system that the loaded data is to be reprojected to.\n",
    "* `dask_chunks`: the size of the dask chunks, dask breaks data into manageable chunks that can be easily stored in memory, e.g. dict(x=1000,y=1000)\n",
    "* `output_dir` : The directory in which to store results from the analysis.\n",
    "* `no_of_clusters` : The number of clusters to form as well as the number of centroids generated in the K-Means clustering.\n",
    "\n",
    "**If running the notebook for the first time**, keep the default settings below.\n",
    "This will demonstrate how the analysis works and provide meaningful results."
   ]
  },
  {
   "cell_type": "code",
   "execution_count": 3,
   "id": "54afcc9e-d0cc-4b5d-9444-c47e27f34dbb",
   "metadata": {},
   "outputs": [],
   "source": [
    "vector_file_1 = \"../data/boundary_data/donnees_commune_kiota.geojson\"\n",
    "vector_file_2 = \"../data/boundary_data/donnees_commune_koygolo.geojson\"\n",
    "\n",
    "# Time period of interest.\n",
    "time_01 = \"2021\"\n",
    "\n",
    "# Resolution and CRS to reproject data to.\n",
    "resolution = (-20, 20)\n",
    "output_crs = \"EPSG:6933\"\n",
    "\n",
    "# Size of dask chunks.\n",
    "dask_chunks = {\"time\": 1, \"x\": 500, \"y\": 500}\n",
    "\n",
    "# Create the output directory to store the results.\n",
    "output_dir = \"results\"\n",
    "os.makedirs(output_dir, exist_ok=True)\n",
    "\n",
    "# Specify the number of clusters to form as well as the number of centroids to generate in the K-Means Clustering.\n",
    "no_of_clusters = 15"
   ]
  },
  {
   "cell_type": "markdown",
   "id": "27424d01-de56-4804-ad22-ffeb53cde23f",
   "metadata": {},
   "source": [
    "### Connect to the datacube\n",
    "\n",
    "Connect to the datacube so we can access DE Africa data. \n",
    "The `app` parameter is a unique name for the analysis which is based on the notebook file name."
   ]
  },
  {
   "cell_type": "code",
   "execution_count": 4,
   "id": "672b00b9-a4b6-413b-ac2b-d60203ac8fee",
   "metadata": {},
   "outputs": [],
   "source": [
    "dc = datacube.Datacube(app=\"unsupervised_class_identification\")"
   ]
  },
  {
   "cell_type": "markdown",
   "id": "df0eab36-2e4f-4252-99f5-c64c10787d09",
   "metadata": {},
   "source": [
    "### Load the shapefile\n",
    "\n",
    "This shapefile contains the points of interest."
   ]
  },
  {
   "cell_type": "code",
   "execution_count": 5,
   "id": "ceb61b36-15da-44f4-ae4c-061e59846a3b",
   "metadata": {},
   "outputs": [],
   "source": [
    "# Read in the vector_file.\n",
    "gdf_1 = gpd.read_file(vector_file_1)\n",
    "# Drop unnecessary columns from the GeoDataFrame.\n",
    "gdf_1 = gdf_1.drop(\n",
    "    columns=[\n",
    "        \"VILLAGE\",\n",
    "        \"LATITUDE\",\n",
    "        \"LONGITUD\",\n",
    "        \"ANNEE\",\n",
    "        \"LATDD\",\n",
    "        \"LATMIN\",\n",
    "        \"LAT\",\n",
    "        \"LONDD\",\n",
    "        \"LONMIN\",\n",
    "        \"LON\",\n",
    "    ]\n",
    ")\n",
    "# Rename the columns.\n",
    "gdf_1.rename(\n",
    "    columns={\"DEPARTEMEN\": \"Departemen\", \"COMMUNE\": \"Commune\", \"CULTURES\": \"Cultures\"},\n",
    "    inplace=True,\n",
    ")"
   ]
  },
  {
   "cell_type": "code",
   "execution_count": 6,
   "id": "683b176d-a50c-4910-8719-c061db1d2bf6",
   "metadata": {},
   "outputs": [],
   "source": [
    "# Read in the vector_file.\n",
    "gdf_2 = gpd.read_file(vector_file_2)\n",
    "# Drop unnecessary columns from the GeoDataFrame.\n",
    "gdf_2 = gdf_2.drop(\n",
    "    columns=[\n",
    "        \"village\",\n",
    "        \"coodos__go\",\n",
    "        \"Latitude\",\n",
    "        \"Field6\",\n",
    "        \"Field7\",\n",
    "        \"Longitude\",\n",
    "        \"Field9\",\n",
    "        \"Field10\",\n",
    "        \"campagne_a\",\n",
    "        \"Lat\",\n",
    "        \"Lon\",\n",
    "    ]\n",
    ")\n",
    "# Rename the columns.\n",
    "gdf_2.rename(columns={\"Cultures_r\": \"Cultures\"}, inplace=True)"
   ]
  },
  {
   "cell_type": "code",
   "execution_count": 7,
   "id": "f17bf31a-1e59-4f74-95c8-e10547b27fee",
   "metadata": {},
   "outputs": [
    {
     "data": {
      "text/html": [
       "<div style=\"width:100%;\"><div style=\"position:relative;width:100%;height:0;padding-bottom:60%;\"><span style=\"color:#565656\">Make this Notebook Trusted to load map: File -> Trust Notebook</span><iframe src=\"about:blank\" style=\"position:absolute;width:100%;height:100%;left:0;top:0;border:none !important;\" data-html=%3C%21DOCTYPE%20html%3E%0A%3Chead%3E%20%20%20%20%0A%20%20%20%20%3Cmeta%20http-equiv%3D%22content-type%22%20content%3D%22text/html%3B%20charset%3DUTF-8%22%20/%3E%0A%20%20%20%20%0A%20%20%20%20%20%20%20%20%3Cscript%3E%0A%20%20%20%20%20%20%20%20%20%20%20%20L_NO_TOUCH%20%3D%20false%3B%0A%20%20%20%20%20%20%20%20%20%20%20%20L_DISABLE_3D%20%3D%20false%3B%0A%20%20%20%20%20%20%20%20%3C/script%3E%0A%20%20%20%20%0A%20%20%20%20%3Cstyle%3Ehtml%2C%20body%20%7Bwidth%3A%20100%25%3Bheight%3A%20100%25%3Bmargin%3A%200%3Bpadding%3A%200%3B%7D%3C/style%3E%0A%20%20%20%20%3Cstyle%3E%23map%20%7Bposition%3Aabsolute%3Btop%3A0%3Bbottom%3A0%3Bright%3A0%3Bleft%3A0%3B%7D%3C/style%3E%0A%20%20%20%20%3Cscript%20src%3D%22https%3A//cdn.jsdelivr.net/npm/leaflet%401.6.0/dist/leaflet.js%22%3E%3C/script%3E%0A%20%20%20%20%3Cscript%20src%3D%22https%3A//code.jquery.com/jquery-1.12.4.min.js%22%3E%3C/script%3E%0A%20%20%20%20%3Cscript%20src%3D%22https%3A//maxcdn.bootstrapcdn.com/bootstrap/3.2.0/js/bootstrap.min.js%22%3E%3C/script%3E%0A%20%20%20%20%3Cscript%20src%3D%22https%3A//cdnjs.cloudflare.com/ajax/libs/Leaflet.awesome-markers/2.0.2/leaflet.awesome-markers.js%22%3E%3C/script%3E%0A%20%20%20%20%3Clink%20rel%3D%22stylesheet%22%20href%3D%22https%3A//cdn.jsdelivr.net/npm/leaflet%401.6.0/dist/leaflet.css%22/%3E%0A%20%20%20%20%3Clink%20rel%3D%22stylesheet%22%20href%3D%22https%3A//maxcdn.bootstrapcdn.com/bootstrap/3.2.0/css/bootstrap.min.css%22/%3E%0A%20%20%20%20%3Clink%20rel%3D%22stylesheet%22%20href%3D%22https%3A//maxcdn.bootstrapcdn.com/bootstrap/3.2.0/css/bootstrap-theme.min.css%22/%3E%0A%20%20%20%20%3Clink%20rel%3D%22stylesheet%22%20href%3D%22https%3A//maxcdn.bootstrapcdn.com/font-awesome/4.6.3/css/font-awesome.min.css%22/%3E%0A%20%20%20%20%3Clink%20rel%3D%22stylesheet%22%20href%3D%22https%3A//cdnjs.cloudflare.com/ajax/libs/Leaflet.awesome-markers/2.0.2/leaflet.awesome-markers.css%22/%3E%0A%20%20%20%20%3Clink%20rel%3D%22stylesheet%22%20href%3D%22https%3A//cdn.jsdelivr.net/gh/python-visualization/folium/folium/templates/leaflet.awesome.rotate.min.css%22/%3E%0A%20%20%20%20%0A%20%20%20%20%20%20%20%20%20%20%20%20%3Cmeta%20name%3D%22viewport%22%20content%3D%22width%3Ddevice-width%2C%0A%20%20%20%20%20%20%20%20%20%20%20%20%20%20%20%20initial-scale%3D1.0%2C%20maximum-scale%3D1.0%2C%20user-scalable%3Dno%22%20/%3E%0A%20%20%20%20%20%20%20%20%20%20%20%20%3Cstyle%3E%0A%20%20%20%20%20%20%20%20%20%20%20%20%20%20%20%20%23map_e23d9d641d6049ccb959656dc503bced%20%7B%0A%20%20%20%20%20%20%20%20%20%20%20%20%20%20%20%20%20%20%20%20position%3A%20relative%3B%0A%20%20%20%20%20%20%20%20%20%20%20%20%20%20%20%20%20%20%20%20width%3A%20100.0%25%3B%0A%20%20%20%20%20%20%20%20%20%20%20%20%20%20%20%20%20%20%20%20height%3A%20100.0%25%3B%0A%20%20%20%20%20%20%20%20%20%20%20%20%20%20%20%20%20%20%20%20left%3A%200.0%25%3B%0A%20%20%20%20%20%20%20%20%20%20%20%20%20%20%20%20%20%20%20%20top%3A%200.0%25%3B%0A%20%20%20%20%20%20%20%20%20%20%20%20%20%20%20%20%7D%0A%20%20%20%20%20%20%20%20%20%20%20%20%3C/style%3E%0A%20%20%20%20%20%20%20%20%0A%20%20%20%20%0A%20%20%20%20%20%20%20%20%20%20%20%20%20%20%20%20%20%20%20%20%3Cstyle%3E%0A%20%20%20%20%20%20%20%20%20%20%20%20%20%20%20%20%20%20%20%20%20%20%20%20.foliumtooltip%20%7B%0A%20%20%20%20%20%20%20%20%20%20%20%20%20%20%20%20%20%20%20%20%20%20%20%20%20%20%20%20%0A%20%20%20%20%20%20%20%20%20%20%20%20%20%20%20%20%20%20%20%20%20%20%20%20%7D%0A%20%20%20%20%20%20%20%20%20%20%20%20%20%20%20%20%20%20%20%20%20%20%20.foliumtooltip%20table%7B%0A%20%20%20%20%20%20%20%20%20%20%20%20%20%20%20%20%20%20%20%20%20%20%20%20%20%20%20%20margin%3A%20auto%3B%0A%20%20%20%20%20%20%20%20%20%20%20%20%20%20%20%20%20%20%20%20%20%20%20%20%7D%0A%20%20%20%20%20%20%20%20%20%20%20%20%20%20%20%20%20%20%20%20%20%20%20%20.foliumtooltip%20tr%7B%0A%20%20%20%20%20%20%20%20%20%20%20%20%20%20%20%20%20%20%20%20%20%20%20%20%20%20%20%20text-align%3A%20left%3B%0A%20%20%20%20%20%20%20%20%20%20%20%20%20%20%20%20%20%20%20%20%20%20%20%20%7D%0A%20%20%20%20%20%20%20%20%20%20%20%20%20%20%20%20%20%20%20%20%20%20%20%20.foliumtooltip%20th%7B%0A%20%20%20%20%20%20%20%20%20%20%20%20%20%20%20%20%20%20%20%20%20%20%20%20%20%20%20%20padding%3A%202px%3B%20padding-right%3A%208px%3B%0A%20%20%20%20%20%20%20%20%20%20%20%20%20%20%20%20%20%20%20%20%20%20%20%20%7D%0A%20%20%20%20%20%20%20%20%20%20%20%20%20%20%20%20%20%20%20%20%3C/style%3E%0A%20%20%20%20%20%20%20%20%20%20%20%20%0A%3C/head%3E%0A%3Cbody%3E%20%20%20%20%0A%20%20%20%20%0A%20%20%20%20%20%20%20%20%20%20%20%20%3Cdiv%20class%3D%22folium-map%22%20id%3D%22map_e23d9d641d6049ccb959656dc503bced%22%20%3E%3C/div%3E%0A%20%20%20%20%20%20%20%20%0A%3C/body%3E%0A%3Cscript%3E%20%20%20%20%0A%20%20%20%20%0A%20%20%20%20%20%20%20%20%20%20%20%20var%20map_e23d9d641d6049ccb959656dc503bced%20%3D%20L.map%28%0A%20%20%20%20%20%20%20%20%20%20%20%20%20%20%20%20%22map_e23d9d641d6049ccb959656dc503bced%22%2C%0A%20%20%20%20%20%20%20%20%20%20%20%20%20%20%20%20%7B%0A%20%20%20%20%20%20%20%20%20%20%20%20%20%20%20%20%20%20%20%20center%3A%20%5B13.411283335%2C%202.9512083335000003%5D%2C%0A%20%20%20%20%20%20%20%20%20%20%20%20%20%20%20%20%20%20%20%20crs%3A%20L.CRS.EPSG3857%2C%0A%20%20%20%20%20%20%20%20%20%20%20%20%20%20%20%20%20%20%20%20zoom%3A%2010%2C%0A%20%20%20%20%20%20%20%20%20%20%20%20%20%20%20%20%20%20%20%20zoomControl%3A%20true%2C%0A%20%20%20%20%20%20%20%20%20%20%20%20%20%20%20%20%20%20%20%20preferCanvas%3A%20false%2C%0A%20%20%20%20%20%20%20%20%20%20%20%20%20%20%20%20%7D%0A%20%20%20%20%20%20%20%20%20%20%20%20%29%3B%0A%20%20%20%20%20%20%20%20%20%20%20%20L.control.scale%28%29.addTo%28map_e23d9d641d6049ccb959656dc503bced%29%3B%0A%0A%20%20%20%20%20%20%20%20%20%20%20%20%0A%0A%20%20%20%20%20%20%20%20%0A%20%20%20%20%0A%20%20%20%20%20%20%20%20%20%20%20%20var%20tile_layer_5d2e3c08a1ab46809d2037dce70c7f62%20%3D%20L.tileLayer%28%0A%20%20%20%20%20%20%20%20%20%20%20%20%20%20%20%20%22https%3A//%7Bs%7D.tile.openstreetmap.org/%7Bz%7D/%7Bx%7D/%7By%7D.png%22%2C%0A%20%20%20%20%20%20%20%20%20%20%20%20%20%20%20%20%7B%22attribution%22%3A%20%22Data%20by%20%5Cu0026copy%3B%20%5Cu003ca%20href%3D%5C%22http%3A//openstreetmap.org%5C%22%5Cu003eOpenStreetMap%5Cu003c/a%5Cu003e%2C%20under%20%5Cu003ca%20href%3D%5C%22http%3A//www.openstreetmap.org/copyright%5C%22%5Cu003eODbL%5Cu003c/a%5Cu003e.%22%2C%20%22detectRetina%22%3A%20false%2C%20%22maxNativeZoom%22%3A%2018%2C%20%22maxZoom%22%3A%2018%2C%20%22minZoom%22%3A%200%2C%20%22noWrap%22%3A%20false%2C%20%22opacity%22%3A%201%2C%20%22subdomains%22%3A%20%22abc%22%2C%20%22tms%22%3A%20false%7D%0A%20%20%20%20%20%20%20%20%20%20%20%20%29.addTo%28map_e23d9d641d6049ccb959656dc503bced%29%3B%0A%20%20%20%20%20%20%20%20%0A%20%20%20%20%0A%20%20%20%20%20%20%20%20%20%20%20%20map_e23d9d641d6049ccb959656dc503bced.fitBounds%28%0A%20%20%20%20%20%20%20%20%20%20%20%20%20%20%20%20%5B%5B13.22966667%2C%202.85%5D%2C%20%5B13.5929%2C%203.052416667%5D%5D%2C%0A%20%20%20%20%20%20%20%20%20%20%20%20%20%20%20%20%7B%7D%0A%20%20%20%20%20%20%20%20%20%20%20%20%29%3B%0A%20%20%20%20%20%20%20%20%0A%20%20%20%20%0A%20%20%20%20%20%20%20%20function%20geo_json_6101955b29884bac952bf14e76024585_styler%28feature%29%20%7B%0A%20%20%20%20%20%20%20%20%20%20%20%20switch%28feature.id%29%20%7B%0A%20%20%20%20%20%20%20%20%20%20%20%20%20%20%20%20default%3A%0A%20%20%20%20%20%20%20%20%20%20%20%20%20%20%20%20%20%20%20%20return%20%7B%22fillOpacity%22%3A%200.5%2C%20%22weight%22%3A%202%7D%3B%0A%20%20%20%20%20%20%20%20%20%20%20%20%7D%0A%20%20%20%20%20%20%20%20%7D%0A%20%20%20%20%20%20%20%20function%20geo_json_6101955b29884bac952bf14e76024585_highlighter%28feature%29%20%7B%0A%20%20%20%20%20%20%20%20%20%20%20%20switch%28feature.id%29%20%7B%0A%20%20%20%20%20%20%20%20%20%20%20%20%20%20%20%20default%3A%0A%20%20%20%20%20%20%20%20%20%20%20%20%20%20%20%20%20%20%20%20return%20%7B%22fillOpacity%22%3A%200.75%7D%3B%0A%20%20%20%20%20%20%20%20%20%20%20%20%7D%0A%20%20%20%20%20%20%20%20%7D%0A%20%20%20%20%20%20%20%20function%20geo_json_6101955b29884bac952bf14e76024585_pointToLayer%28feature%2C%20latlng%29%20%7B%0A%20%20%20%20%20%20%20%20%20%20%20%20var%20opts%20%3D%20%7B%22bubblingMouseEvents%22%3A%20true%2C%20%22color%22%3A%20%22%233388ff%22%2C%20%22dashArray%22%3A%20null%2C%20%22dashOffset%22%3A%20null%2C%20%22fill%22%3A%20true%2C%20%22fillColor%22%3A%20%22%233388ff%22%2C%20%22fillOpacity%22%3A%200.2%2C%20%22fillRule%22%3A%20%22evenodd%22%2C%20%22lineCap%22%3A%20%22round%22%2C%20%22lineJoin%22%3A%20%22round%22%2C%20%22opacity%22%3A%201.0%2C%20%22radius%22%3A%202%2C%20%22stroke%22%3A%20true%2C%20%22weight%22%3A%203%7D%3B%0A%20%20%20%20%20%20%20%20%20%20%20%20%0A%20%20%20%20%20%20%20%20%20%20%20%20let%20style%20%3D%20geo_json_6101955b29884bac952bf14e76024585_styler%28feature%29%0A%20%20%20%20%20%20%20%20%20%20%20%20Object.assign%28opts%2C%20style%29%0A%20%20%20%20%20%20%20%20%20%20%20%20%0A%20%20%20%20%20%20%20%20%20%20%20%20return%20new%20L.CircleMarker%28latlng%2C%20opts%29%0A%20%20%20%20%20%20%20%20%7D%0A%0A%20%20%20%20%20%20%20%20function%20geo_json_6101955b29884bac952bf14e76024585_onEachFeature%28feature%2C%20layer%29%20%7B%0A%20%20%20%20%20%20%20%20%20%20%20%20layer.on%28%7B%0A%20%20%20%20%20%20%20%20%20%20%20%20%20%20%20%20mouseout%3A%20function%28e%29%20%7B%0A%20%20%20%20%20%20%20%20%20%20%20%20%20%20%20%20%20%20%20%20if%28typeof%20e.target.setStyle%20%3D%3D%3D%20%22function%22%29%7B%0A%20%20%20%20%20%20%20%20%20%20%20%20%20%20%20%20%20%20%20%20%20%20%20%20geo_json_6101955b29884bac952bf14e76024585.resetStyle%28e.target%29%3B%0A%20%20%20%20%20%20%20%20%20%20%20%20%20%20%20%20%20%20%20%20%7D%0A%20%20%20%20%20%20%20%20%20%20%20%20%20%20%20%20%7D%2C%0A%20%20%20%20%20%20%20%20%20%20%20%20%20%20%20%20mouseover%3A%20function%28e%29%20%7B%0A%20%20%20%20%20%20%20%20%20%20%20%20%20%20%20%20%20%20%20%20if%28typeof%20e.target.setStyle%20%3D%3D%3D%20%22function%22%29%7B%0A%20%20%20%20%20%20%20%20%20%20%20%20%20%20%20%20%20%20%20%20%20%20%20%20const%20highlightStyle%20%3D%20geo_json_6101955b29884bac952bf14e76024585_highlighter%28e.target.feature%29%0A%20%20%20%20%20%20%20%20%20%20%20%20%20%20%20%20%20%20%20%20%20%20%20%20e.target.setStyle%28highlightStyle%29%3B%0A%20%20%20%20%20%20%20%20%20%20%20%20%20%20%20%20%20%20%20%20%7D%0A%20%20%20%20%20%20%20%20%20%20%20%20%20%20%20%20%7D%2C%0A%20%20%20%20%20%20%20%20%20%20%20%20%7D%29%3B%0A%20%20%20%20%20%20%20%20%7D%3B%0A%20%20%20%20%20%20%20%20var%20geo_json_6101955b29884bac952bf14e76024585%20%3D%20L.geoJson%28null%2C%20%7B%0A%20%20%20%20%20%20%20%20%20%20%20%20%20%20%20%20onEachFeature%3A%20geo_json_6101955b29884bac952bf14e76024585_onEachFeature%2C%0A%20%20%20%20%20%20%20%20%20%20%20%20%0A%20%20%20%20%20%20%20%20%20%20%20%20%20%20%20%20style%3A%20geo_json_6101955b29884bac952bf14e76024585_styler%2C%0A%20%20%20%20%20%20%20%20%20%20%20%20%20%20%20%20pointToLayer%3A%20geo_json_6101955b29884bac952bf14e76024585_pointToLayer%0A%20%20%20%20%20%20%20%20%7D%29%3B%0A%0A%20%20%20%20%20%20%20%20function%20geo_json_6101955b29884bac952bf14e76024585_add%20%28data%29%20%7B%0A%20%20%20%20%20%20%20%20%20%20%20%20geo_json_6101955b29884bac952bf14e76024585%0A%20%20%20%20%20%20%20%20%20%20%20%20%20%20%20%20.addData%28data%29%0A%20%20%20%20%20%20%20%20%20%20%20%20%20%20%20%20.addTo%28map_e23d9d641d6049ccb959656dc503bced%29%3B%0A%20%20%20%20%20%20%20%20%7D%0A%20%20%20%20%20%20%20%20%20%20%20%20geo_json_6101955b29884bac952bf14e76024585_add%28%7B%22bbox%22%3A%20%5B2.85%2C%2013.22966667%2C%203.052416667%2C%2013.5929%5D%2C%20%22features%22%3A%20%5B%7B%22bbox%22%3A%20%5B2.969083333%2C%2013.33146667%2C%202.969083333%2C%2013.33146667%5D%2C%20%22geometry%22%3A%20%7B%22coordinates%22%3A%20%5B2.969083333%2C%2013.33146667%5D%2C%20%22type%22%3A%20%22Point%22%7D%2C%20%22id%22%3A%20%220%22%2C%20%22properties%22%3A%20%7B%22Commune%22%3A%20%22Kiota%22%2C%20%22Cultures%22%3A%20%22mil%20et%20ni%5Cu00e9b%5Cu00e9%22%2C%20%22Departemen%22%3A%20%22Boboye%22%2C%20%22id%22%3A%200%7D%2C%20%22type%22%3A%20%22Feature%22%7D%2C%20%7B%22bbox%22%3A%20%5B2.9387%2C%2013.25270083%2C%202.9387%2C%2013.25270083%5D%2C%20%22geometry%22%3A%20%7B%22coordinates%22%3A%20%5B2.9387%2C%2013.25270083%5D%2C%20%22type%22%3A%20%22Point%22%7D%2C%20%22id%22%3A%20%221%22%2C%20%22properties%22%3A%20%7B%22Commune%22%3A%20%22Kiota%22%2C%20%22Cultures%22%3A%20%22mil%20et%20ni%5Cu00e9b%5Cu00e9%22%2C%20%22Departemen%22%3A%20%22Boboye%22%2C%20%22id%22%3A%201%7D%2C%20%22type%22%3A%20%22Feature%22%7D%2C%20%7B%22bbox%22%3A%20%5B2.945533333%2C%2013.29111667%2C%202.945533333%2C%2013.29111667%5D%2C%20%22geometry%22%3A%20%7B%22coordinates%22%3A%20%5B2.945533333%2C%2013.29111667%5D%2C%20%22type%22%3A%20%22Point%22%7D%2C%20%22id%22%3A%20%222%22%2C%20%22properties%22%3A%20%7B%22Commune%22%3A%20%22Kiota%22%2C%20%22Cultures%22%3A%20%22mil%20et%20ni%5Cu00e9b%5Cu00e9%22%2C%20%22Departemen%22%3A%20%22Boboye%22%2C%20%22id%22%3A%202%7D%2C%20%22type%22%3A%20%22Feature%22%7D%2C%20%7B%22bbox%22%3A%20%5B2.97375%2C%2013.28498333%2C%202.97375%2C%2013.28498333%5D%2C%20%22geometry%22%3A%20%7B%22coordinates%22%3A%20%5B2.97375%2C%2013.28498333%5D%2C%20%22type%22%3A%20%22Point%22%7D%2C%20%22id%22%3A%20%223%22%2C%20%22properties%22%3A%20%7B%22Commune%22%3A%20%22Kiota%22%2C%20%22Cultures%22%3A%20%22mil%20et%20ni%5Cu00e9b%5Cu00e9%22%2C%20%22Departemen%22%3A%20%22Boboye%22%2C%20%22id%22%3A%203%7D%2C%20%22type%22%3A%20%22Feature%22%7D%2C%20%7B%22bbox%22%3A%20%5B2.982616667%2C%2013.29145%2C%202.982616667%2C%2013.29145%5D%2C%20%22geometry%22%3A%20%7B%22coordinates%22%3A%20%5B2.982616667%2C%2013.29145%5D%2C%20%22type%22%3A%20%22Point%22%7D%2C%20%22id%22%3A%20%224%22%2C%20%22properties%22%3A%20%7B%22Commune%22%3A%20%22Kiota%22%2C%20%22Cultures%22%3A%20%22mil%20et%20ni%5Cu00e9b%5Cu00e9%22%2C%20%22Departemen%22%3A%20%22Boboye%22%2C%20%22id%22%3A%204%7D%2C%20%22type%22%3A%20%22Feature%22%7D%2C%20%7B%22bbox%22%3A%20%5B2.96875%2C%2013.2839%2C%202.96875%2C%2013.2839%5D%2C%20%22geometry%22%3A%20%7B%22coordinates%22%3A%20%5B2.96875%2C%2013.2839%5D%2C%20%22type%22%3A%20%22Point%22%7D%2C%20%22id%22%3A%20%225%22%2C%20%22properties%22%3A%20%7B%22Commune%22%3A%20%22Kiota%22%2C%20%22Cultures%22%3A%20%22mil%20et%20ni%5Cu00e9b%5Cu00e9%22%2C%20%22Departemen%22%3A%20%22Boboye%22%2C%20%22id%22%3A%205%7D%2C%20%22type%22%3A%20%22Feature%22%7D%2C%20%7B%22bbox%22%3A%20%5B2.930533333%2C%2013.28928333%2C%202.930533333%2C%2013.28928333%5D%2C%20%22geometry%22%3A%20%7B%22coordinates%22%3A%20%5B2.930533333%2C%2013.28928333%5D%2C%20%22type%22%3A%20%22Point%22%7D%2C%20%22id%22%3A%20%226%22%2C%20%22properties%22%3A%20%7B%22Commune%22%3A%20%22Kiota%22%2C%20%22Cultures%22%3A%20%22mil%20et%20ni%5Cu00e9b%5Cu00e9%22%2C%20%22Departemen%22%3A%20%22Boboye%22%2C%20%22id%22%3A%206%7D%2C%20%22type%22%3A%20%22Feature%22%7D%2C%20%7B%22bbox%22%3A%20%5B2.95437%2C%2013.254016%2C%202.95437%2C%2013.254016%5D%2C%20%22geometry%22%3A%20%7B%22coordinates%22%3A%20%5B2.95437%2C%2013.254016%5D%2C%20%22type%22%3A%20%22Point%22%7D%2C%20%22id%22%3A%20%227%22%2C%20%22properties%22%3A%20%7B%22Commune%22%3A%20%22Kiota%22%2C%20%22Cultures%22%3A%20%22mil%20et%20ni%5Cu00e9b%5Cu00e9%22%2C%20%22Departemen%22%3A%20%22Boboye%22%2C%20%22id%22%3A%207%7D%2C%20%22type%22%3A%20%22Feature%22%7D%2C%20%7B%22bbox%22%3A%20%5B2.954368%2C%2013.253606%2C%202.954368%2C%2013.253606%5D%2C%20%22geometry%22%3A%20%7B%22coordinates%22%3A%20%5B2.954368%2C%2013.253606%5D%2C%20%22type%22%3A%20%22Point%22%7D%2C%20%22id%22%3A%20%228%22%2C%20%22properties%22%3A%20%7B%22Commune%22%3A%20%22Kiota%22%2C%20%22Cultures%22%3A%20%22mil%20et%20ni%5Cu00e9b%5Cu00e9%22%2C%20%22Departemen%22%3A%20%22Boboye%22%2C%20%22id%22%3A%208%7D%2C%20%22type%22%3A%20%22Feature%22%7D%2C%20%7B%22bbox%22%3A%20%5B2.955313%2C%2013.254253%2C%202.955313%2C%2013.254253%5D%2C%20%22geometry%22%3A%20%7B%22coordinates%22%3A%20%5B2.955313%2C%2013.254253%5D%2C%20%22type%22%3A%20%22Point%22%7D%2C%20%22id%22%3A%20%229%22%2C%20%22properties%22%3A%20%7B%22Commune%22%3A%20%22Kiota%22%2C%20%22Cultures%22%3A%20%22mil%20et%20ni%5Cu00e9b%5Cu00e9%22%2C%20%22Departemen%22%3A%20%22Boboye%22%2C%20%22id%22%3A%209%7D%2C%20%22type%22%3A%20%22Feature%22%7D%2C%20%7B%22bbox%22%3A%20%5B2.955765%2C%2013.254517%2C%202.955765%2C%2013.254517%5D%2C%20%22geometry%22%3A%20%7B%22coordinates%22%3A%20%5B2.955765%2C%2013.254517%5D%2C%20%22type%22%3A%20%22Point%22%7D%2C%20%22id%22%3A%20%2210%22%2C%20%22properties%22%3A%20%7B%22Commune%22%3A%20%22Kiota%22%2C%20%22Cultures%22%3A%20%22mil%20et%20ni%5Cu00e9b%5Cu00e9%22%2C%20%22Departemen%22%3A%20%22Boboye%22%2C%20%22id%22%3A%2010%7D%2C%20%22type%22%3A%20%22Feature%22%7D%2C%20%7B%22bbox%22%3A%20%5B2.96578%2C%2013.256089%2C%202.96578%2C%2013.256089%5D%2C%20%22geometry%22%3A%20%7B%22coordinates%22%3A%20%5B2.96578%2C%2013.256089%5D%2C%20%22type%22%3A%20%22Point%22%7D%2C%20%22id%22%3A%20%2211%22%2C%20%22properties%22%3A%20%7B%22Commune%22%3A%20%22Kiota%22%2C%20%22Cultures%22%3A%20%22mil%20et%20ni%5Cu00e9b%5Cu00e9%22%2C%20%22Departemen%22%3A%20%22Boboye%22%2C%20%22id%22%3A%2011%7D%2C%20%22type%22%3A%20%22Feature%22%7D%2C%20%7B%22bbox%22%3A%20%5B2.969995667%2C%2013.259135%2C%202.969995667%2C%2013.259135%5D%2C%20%22geometry%22%3A%20%7B%22coordinates%22%3A%20%5B2.969995667%2C%2013.259135%5D%2C%20%22type%22%3A%20%22Point%22%7D%2C%20%22id%22%3A%20%2212%22%2C%20%22properties%22%3A%20%7B%22Commune%22%3A%20%22Kiota%22%2C%20%22Cultures%22%3A%20%22mil%20et%20ni%5Cu00e9b%5Cu00e9%22%2C%20%22Departemen%22%3A%20%22Boboye%22%2C%20%22id%22%3A%2012%7D%2C%20%22type%22%3A%20%22Feature%22%7D%2C%20%7B%22bbox%22%3A%20%5B2.969982667%2C%2013.254953%2C%202.969982667%2C%2013.254953%5D%2C%20%22geometry%22%3A%20%7B%22coordinates%22%3A%20%5B2.969982667%2C%2013.254953%5D%2C%20%22type%22%3A%20%22Point%22%7D%2C%20%22id%22%3A%20%2213%22%2C%20%22properties%22%3A%20%7B%22Commune%22%3A%20%22Kiota%22%2C%20%22Cultures%22%3A%20%22mil%20et%20ni%5Cu00e9b%5Cu00e9%22%2C%20%22Departemen%22%3A%20%22Boboye%22%2C%20%22id%22%3A%2013%7D%2C%20%22type%22%3A%20%22Feature%22%7D%2C%20%7B%22bbox%22%3A%20%5B2.976211667%2C%2013.25369308%2C%202.976211667%2C%2013.25369308%5D%2C%20%22geometry%22%3A%20%7B%22coordinates%22%3A%20%5B2.976211667%2C%2013.25369308%5D%2C%20%22type%22%3A%20%22Point%22%7D%2C%20%22id%22%3A%20%2214%22%2C%20%22properties%22%3A%20%7B%22Commune%22%3A%20%22Kiota%22%2C%20%22Cultures%22%3A%20%22mil%20et%20ni%5Cu00e9b%5Cu00e9%22%2C%20%22Departemen%22%3A%20%22Boboye%22%2C%20%22id%22%3A%2014%7D%2C%20%22type%22%3A%20%22Feature%22%7D%2C%20%7B%22bbox%22%3A%20%5B2.976205667%2C%2013.253689%2C%202.976205667%2C%2013.253689%5D%2C%20%22geometry%22%3A%20%7B%22coordinates%22%3A%20%5B2.976205667%2C%2013.253689%5D%2C%20%22type%22%3A%20%22Point%22%7D%2C%20%22id%22%3A%20%2215%22%2C%20%22properties%22%3A%20%7B%22Commune%22%3A%20%22Kiota%22%2C%20%22Cultures%22%3A%20%22mil%20et%20ni%5Cu00e9b%5Cu00e9%22%2C%20%22Departemen%22%3A%20%22Boboye%22%2C%20%22id%22%3A%2015%7D%2C%20%22type%22%3A%20%22Feature%22%7D%2C%20%7B%22bbox%22%3A%20%5B2.990499333%2C%2013.25808%2C%202.990499333%2C%2013.25808%5D%2C%20%22geometry%22%3A%20%7B%22coordinates%22%3A%20%5B2.990499333%2C%2013.25808%5D%2C%20%22type%22%3A%20%22Point%22%7D%2C%20%22id%22%3A%20%2216%22%2C%20%22properties%22%3A%20%7B%22Commune%22%3A%20%22Kiota%22%2C%20%22Cultures%22%3A%20%22mil%20et%20ni%5Cu00e9b%5Cu00e9%22%2C%20%22Departemen%22%3A%20%22Boboye%22%2C%20%22id%22%3A%2016%7D%2C%20%22type%22%3A%20%22Feature%22%7D%2C%20%7B%22bbox%22%3A%20%5B2.946966667%2C%2013.24693333%2C%202.946966667%2C%2013.24693333%5D%2C%20%22geometry%22%3A%20%7B%22coordinates%22%3A%20%5B2.946966667%2C%2013.24693333%5D%2C%20%22type%22%3A%20%22Point%22%7D%2C%20%22id%22%3A%20%2217%22%2C%20%22properties%22%3A%20%7B%22Commune%22%3A%20%22Kiota%22%2C%20%22Cultures%22%3A%20%22mil%20et%20ni%5Cu00e9b%5Cu00e9%22%2C%20%22Departemen%22%3A%20%22Boboye%22%2C%20%22id%22%3A%2017%7D%2C%20%22type%22%3A%20%22Feature%22%7D%2C%20%7B%22bbox%22%3A%20%5B2.948183333%2C%2013.23975%2C%202.948183333%2C%2013.23975%5D%2C%20%22geometry%22%3A%20%7B%22coordinates%22%3A%20%5B2.948183333%2C%2013.23975%5D%2C%20%22type%22%3A%20%22Point%22%7D%2C%20%22id%22%3A%20%2218%22%2C%20%22properties%22%3A%20%7B%22Commune%22%3A%20%22Kiota%22%2C%20%22Cultures%22%3A%20%22mil%20et%20ni%5Cu00e9b%5Cu00e9%22%2C%20%22Departemen%22%3A%20%22Boboye%22%2C%20%22id%22%3A%2018%7D%2C%20%22type%22%3A%20%22Feature%22%7D%2C%20%7B%22bbox%22%3A%20%5B2.981366667%2C%2013.22966667%2C%202.981366667%2C%2013.22966667%5D%2C%20%22geometry%22%3A%20%7B%22coordinates%22%3A%20%5B2.981366667%2C%2013.22966667%5D%2C%20%22type%22%3A%20%22Point%22%7D%2C%20%22id%22%3A%20%2219%22%2C%20%22properties%22%3A%20%7B%22Commune%22%3A%20%22Kiota%22%2C%20%22Cultures%22%3A%20%22mil%20et%20ni%5Cu00e9b%5Cu00e9%22%2C%20%22Departemen%22%3A%20%22Boboye%22%2C%20%22id%22%3A%2019%7D%2C%20%22type%22%3A%20%22Feature%22%7D%2C%20%7B%22bbox%22%3A%20%5B2.973833333%2C%2013.28501667%2C%202.973833333%2C%2013.28501667%5D%2C%20%22geometry%22%3A%20%7B%22coordinates%22%3A%20%5B2.973833333%2C%2013.28501667%5D%2C%20%22type%22%3A%20%22Point%22%7D%2C%20%22id%22%3A%20%2220%22%2C%20%22properties%22%3A%20%7B%22Commune%22%3A%20%22Kiota%22%2C%20%22Cultures%22%3A%20%22mil%20et%20ni%5Cu00e9b%5Cu00e9%22%2C%20%22Departemen%22%3A%20%22Boboye%22%2C%20%22id%22%3A%2020%7D%2C%20%22type%22%3A%20%22Feature%22%7D%2C%20%7B%22bbox%22%3A%20%5B2.973883333%2C%2013.29986667%2C%202.973883333%2C%2013.29986667%5D%2C%20%22geometry%22%3A%20%7B%22coordinates%22%3A%20%5B2.973883333%2C%2013.29986667%5D%2C%20%22type%22%3A%20%22Point%22%7D%2C%20%22id%22%3A%20%2221%22%2C%20%22properties%22%3A%20%7B%22Commune%22%3A%20%22Kiota%22%2C%20%22Cultures%22%3A%20%22mil%20et%20ni%5Cu00e9b%5Cu00e9%22%2C%20%22Departemen%22%3A%20%22Boboye%22%2C%20%22id%22%3A%2021%7D%2C%20%22type%22%3A%20%22Feature%22%7D%2C%20%7B%22bbox%22%3A%20%5B2.958633333%2C%2013.36955%2C%202.958633333%2C%2013.36955%5D%2C%20%22geometry%22%3A%20%7B%22coordinates%22%3A%20%5B2.958633333%2C%2013.36955%5D%2C%20%22type%22%3A%20%22Point%22%7D%2C%20%22id%22%3A%20%2222%22%2C%20%22properties%22%3A%20%7B%22Commune%22%3A%20%22Kiota%22%2C%20%22Cultures%22%3A%20%22mil%20et%20ni%5Cu00e9b%5Cu00e9%22%2C%20%22Departemen%22%3A%20null%2C%20%22id%22%3A%2022%7D%2C%20%22type%22%3A%20%22Feature%22%7D%2C%20%7B%22bbox%22%3A%20%5B2.930916667%2C%2013.28623333%2C%202.930916667%2C%2013.28623333%5D%2C%20%22geometry%22%3A%20%7B%22coordinates%22%3A%20%5B2.930916667%2C%2013.28623333%5D%2C%20%22type%22%3A%20%22Point%22%7D%2C%20%22id%22%3A%20%2223%22%2C%20%22properties%22%3A%20%7B%22Commune%22%3A%20%22Kiota%22%2C%20%22Cultures%22%3A%20%22mil%20et%20ni%5Cu00e9b%5Cu00e9%22%2C%20%22Departemen%22%3A%20null%2C%20%22id%22%3A%2023%7D%2C%20%22type%22%3A%20%22Feature%22%7D%2C%20%7B%22bbox%22%3A%20%5B2.981716667%2C%2013.3346%2C%202.981716667%2C%2013.3346%5D%2C%20%22geometry%22%3A%20%7B%22coordinates%22%3A%20%5B2.981716667%2C%2013.3346%5D%2C%20%22type%22%3A%20%22Point%22%7D%2C%20%22id%22%3A%20%2224%22%2C%20%22properties%22%3A%20%7B%22Commune%22%3A%20%22Kiota%22%2C%20%22Cultures%22%3A%20%22mil%20et%20ni%5Cu00e9b%5Cu00e9%22%2C%20%22Departemen%22%3A%20null%2C%20%22id%22%3A%2024%7D%2C%20%22type%22%3A%20%22Feature%22%7D%2C%20%7B%22bbox%22%3A%20%5B2.952033333%2C%2013.36986667%2C%202.952033333%2C%2013.36986667%5D%2C%20%22geometry%22%3A%20%7B%22coordinates%22%3A%20%5B2.952033333%2C%2013.36986667%5D%2C%20%22type%22%3A%20%22Point%22%7D%2C%20%22id%22%3A%20%2225%22%2C%20%22properties%22%3A%20%7B%22Commune%22%3A%20%22Kiota%22%2C%20%22Cultures%22%3A%20%22mil%20et%20ni%5Cu00e9b%5Cu00e9%22%2C%20%22Departemen%22%3A%20null%2C%20%22id%22%3A%2025%7D%2C%20%22type%22%3A%20%22Feature%22%7D%2C%20%7B%22bbox%22%3A%20%5B2.960633333%2C%2013.37695%2C%202.960633333%2C%2013.37695%5D%2C%20%22geometry%22%3A%20%7B%22coordinates%22%3A%20%5B2.960633333%2C%2013.37695%5D%2C%20%22type%22%3A%20%22Point%22%7D%2C%20%22id%22%3A%20%2226%22%2C%20%22properties%22%3A%20%7B%22Commune%22%3A%20%22Kiota%22%2C%20%22Cultures%22%3A%20%22mil%20et%20ni%5Cu00e9b%5Cu00e9%22%2C%20%22Departemen%22%3A%20null%2C%20%22id%22%3A%2026%7D%2C%20%22type%22%3A%20%22Feature%22%7D%2C%20%7B%22bbox%22%3A%20%5B2.921916667%2C%2013.34936667%2C%202.921916667%2C%2013.34936667%5D%2C%20%22geometry%22%3A%20%7B%22coordinates%22%3A%20%5B2.921916667%2C%2013.34936667%5D%2C%20%22type%22%3A%20%22Point%22%7D%2C%20%22id%22%3A%20%2227%22%2C%20%22properties%22%3A%20%7B%22Commune%22%3A%20%22Kiota%22%2C%20%22Cultures%22%3A%20%22mil%20et%20ni%5Cu00e9b%5Cu00e9%22%2C%20%22Departemen%22%3A%20null%2C%20%22id%22%3A%2027%7D%2C%20%22type%22%3A%20%22Feature%22%7D%2C%20%7B%22bbox%22%3A%20%5B2.912%2C%2013.29088333%2C%202.912%2C%2013.29088333%5D%2C%20%22geometry%22%3A%20%7B%22coordinates%22%3A%20%5B2.912%2C%2013.29088333%5D%2C%20%22type%22%3A%20%22Point%22%7D%2C%20%22id%22%3A%20%2228%22%2C%20%22properties%22%3A%20%7B%22Commune%22%3A%20%22Kiota%22%2C%20%22Cultures%22%3A%20%22mil%20et%20ni%5Cu00e9b%5Cu00e9%22%2C%20%22Departemen%22%3A%20null%2C%20%22id%22%3A%2028%7D%2C%20%22type%22%3A%20%22Feature%22%7D%2C%20%7B%22bbox%22%3A%20%5B2.9313%2C%2013.28618333%2C%202.9313%2C%2013.28618333%5D%2C%20%22geometry%22%3A%20%7B%22coordinates%22%3A%20%5B2.9313%2C%2013.28618333%5D%2C%20%22type%22%3A%20%22Point%22%7D%2C%20%22id%22%3A%20%2229%22%2C%20%22properties%22%3A%20%7B%22Commune%22%3A%20%22Kiota%22%2C%20%22Cultures%22%3A%20%22mil%20et%20ni%5Cu00e9b%5Cu00e9%22%2C%20%22Departemen%22%3A%20null%2C%20%22id%22%3A%2029%7D%2C%20%22type%22%3A%20%22Feature%22%7D%2C%20%7B%22bbox%22%3A%20%5B2.968616667%2C%2013.31185%2C%202.968616667%2C%2013.31185%5D%2C%20%22geometry%22%3A%20%7B%22coordinates%22%3A%20%5B2.968616667%2C%2013.31185%5D%2C%20%22type%22%3A%20%22Point%22%7D%2C%20%22id%22%3A%20%2230%22%2C%20%22properties%22%3A%20%7B%22Commune%22%3A%20%22Kiota%22%2C%20%22Cultures%22%3A%20%22mil%20et%20ni%5Cu00e9b%5Cu00e9%22%2C%20%22Departemen%22%3A%20null%2C%20%22id%22%3A%2030%7D%2C%20%22type%22%3A%20%22Feature%22%7D%2C%20%7B%22bbox%22%3A%20%5B2.95135%2C%2013.48461667%2C%202.95135%2C%2013.48461667%5D%2C%20%22geometry%22%3A%20%7B%22coordinates%22%3A%20%5B2.95135%2C%2013.48461667%5D%2C%20%22type%22%3A%20%22Point%22%7D%2C%20%22id%22%3A%20%2231%22%2C%20%22properties%22%3A%20%7B%22Commune%22%3A%20%22Koygolo%22%2C%20%22Cultures%22%3A%20%22Mil-ni%5Cu00e9b%5Cu00e9%22%2C%20%22Departemen%22%3A%20%22Boboye%22%2C%20%22id%22%3A%2031%7D%2C%20%22type%22%3A%20%22Feature%22%7D%2C%20%7B%22bbox%22%3A%20%5B2.940333333%2C%2013.45188333%2C%202.940333333%2C%2013.45188333%5D%2C%20%22geometry%22%3A%20%7B%22coordinates%22%3A%20%5B2.940333333%2C%2013.45188333%5D%2C%20%22type%22%3A%20%22Point%22%7D%2C%20%22id%22%3A%20%2232%22%2C%20%22properties%22%3A%20%7B%22Commune%22%3A%20%22Koygolo%22%2C%20%22Cultures%22%3A%20%22Mil-ni%5Cu00e9b%5Cu00e9%22%2C%20%22Departemen%22%3A%20%22Boboye%22%2C%20%22id%22%3A%2032%7D%2C%20%22type%22%3A%20%22Feature%22%7D%2C%20%7B%22bbox%22%3A%20%5B2.94185%2C%2013.48636667%2C%202.94185%2C%2013.48636667%5D%2C%20%22geometry%22%3A%20%7B%22coordinates%22%3A%20%5B2.94185%2C%2013.48636667%5D%2C%20%22type%22%3A%20%22Point%22%7D%2C%20%22id%22%3A%20%2233%22%2C%20%22properties%22%3A%20%7B%22Commune%22%3A%20%22Koygolo%22%2C%20%22Cultures%22%3A%20%22Mil-ni%5Cu00e9b%5Cu00e9%22%2C%20%22Departemen%22%3A%20%22Boboye%22%2C%20%22id%22%3A%2033%7D%2C%20%22type%22%3A%20%22Feature%22%7D%2C%20%7B%22bbox%22%3A%20%5B2.940016667%2C%2013.48826667%2C%202.940016667%2C%2013.48826667%5D%2C%20%22geometry%22%3A%20%7B%22coordinates%22%3A%20%5B2.940016667%2C%2013.48826667%5D%2C%20%22type%22%3A%20%22Point%22%7D%2C%20%22id%22%3A%20%2234%22%2C%20%22properties%22%3A%20%7B%22Commune%22%3A%20%22Koygolo%22%2C%20%22Cultures%22%3A%20%22Mil-ni%5Cu00e9b%5Cu00e9%22%2C%20%22Departemen%22%3A%20%22Boboye%22%2C%20%22id%22%3A%2034%7D%2C%20%22type%22%3A%20%22Feature%22%7D%2C%20%7B%22bbox%22%3A%20%5B2.936166667%2C%2013.4755%2C%202.936166667%2C%2013.4755%5D%2C%20%22geometry%22%3A%20%7B%22coordinates%22%3A%20%5B2.936166667%2C%2013.4755%5D%2C%20%22type%22%3A%20%22Point%22%7D%2C%20%22id%22%3A%20%2235%22%2C%20%22properties%22%3A%20%7B%22Commune%22%3A%20%22Koygolo%22%2C%20%22Cultures%22%3A%20%22Mil-ni%5Cu00e9b%5Cu00e9%22%2C%20%22Departemen%22%3A%20%22Boboye%22%2C%20%22id%22%3A%2035%7D%2C%20%22type%22%3A%20%22Feature%22%7D%2C%20%7B%22bbox%22%3A%20%5B2.968466667%2C%2013.47496667%2C%202.968466667%2C%2013.47496667%5D%2C%20%22geometry%22%3A%20%7B%22coordinates%22%3A%20%5B2.968466667%2C%2013.47496667%5D%2C%20%22type%22%3A%20%22Point%22%7D%2C%20%22id%22%3A%20%2236%22%2C%20%22properties%22%3A%20%7B%22Commune%22%3A%20%22Koygolo%22%2C%20%22Cultures%22%3A%20%22Mil-ni%5Cu00e9b%5Cu00e9%22%2C%20%22Departemen%22%3A%20%22Boboye%22%2C%20%22id%22%3A%2036%7D%2C%20%22type%22%3A%20%22Feature%22%7D%2C%20%7B%22bbox%22%3A%20%5B2.938533333%2C%2013.4907%2C%202.938533333%2C%2013.4907%5D%2C%20%22geometry%22%3A%20%7B%22coordinates%22%3A%20%5B2.938533333%2C%2013.4907%5D%2C%20%22type%22%3A%20%22Point%22%7D%2C%20%22id%22%3A%20%2237%22%2C%20%22properties%22%3A%20%7B%22Commune%22%3A%20%22Koygolo%22%2C%20%22Cultures%22%3A%20%22Mil-ni%5Cu00e9b%5Cu00e9%22%2C%20%22Departemen%22%3A%20%22Boboye%22%2C%20%22id%22%3A%2037%7D%2C%20%22type%22%3A%20%22Feature%22%7D%2C%20%7B%22bbox%22%3A%20%5B2.9404%2C%2013.49265%2C%202.9404%2C%2013.49265%5D%2C%20%22geometry%22%3A%20%7B%22coordinates%22%3A%20%5B2.9404%2C%2013.49265%5D%2C%20%22type%22%3A%20%22Point%22%7D%2C%20%22id%22%3A%20%2238%22%2C%20%22properties%22%3A%20%7B%22Commune%22%3A%20%22Koygolo%22%2C%20%22Cultures%22%3A%20%22Mil-ni%5Cu00e9b%5Cu00e9%22%2C%20%22Departemen%22%3A%20%22Boboye%22%2C%20%22id%22%3A%2038%7D%2C%20%22type%22%3A%20%22Feature%22%7D%2C%20%7B%22bbox%22%3A%20%5B2.957183333%2C%2013.4761%2C%202.957183333%2C%2013.4761%5D%2C%20%22geometry%22%3A%20%7B%22coordinates%22%3A%20%5B2.957183333%2C%2013.4761%5D%2C%20%22type%22%3A%20%22Point%22%7D%2C%20%22id%22%3A%20%2239%22%2C%20%22properties%22%3A%20%7B%22Commune%22%3A%20%22Koygolo%22%2C%20%22Cultures%22%3A%20%22Mil-ni%5Cu00e9b%5Cu00e9%22%2C%20%22Departemen%22%3A%20%22Boboye%22%2C%20%22id%22%3A%2039%7D%2C%20%22type%22%3A%20%22Feature%22%7D%2C%20%7B%22bbox%22%3A%20%5B2.9343%2C%2013.48483333%2C%202.9343%2C%2013.48483333%5D%2C%20%22geometry%22%3A%20%7B%22coordinates%22%3A%20%5B2.9343%2C%2013.48483333%5D%2C%20%22type%22%3A%20%22Point%22%7D%2C%20%22id%22%3A%20%2240%22%2C%20%22properties%22%3A%20%7B%22Commune%22%3A%20%22Koygolo%22%2C%20%22Cultures%22%3A%20%22Mil-ni%5Cu00e9b%5Cu00e9%22%2C%20%22Departemen%22%3A%20%22Boboye%22%2C%20%22id%22%3A%2040%7D%2C%20%22type%22%3A%20%22Feature%22%7D%2C%20%7B%22bbox%22%3A%20%5B2.939333333%2C%2013.50138333%2C%202.939333333%2C%2013.50138333%5D%2C%20%22geometry%22%3A%20%7B%22coordinates%22%3A%20%5B2.939333333%2C%2013.50138333%5D%2C%20%22type%22%3A%20%22Point%22%7D%2C%20%22id%22%3A%20%2241%22%2C%20%22properties%22%3A%20%7B%22Commune%22%3A%20%22Koygolo%22%2C%20%22Cultures%22%3A%20%22Mil-ni%5Cu00e9b%5Cu00e9%22%2C%20%22Departemen%22%3A%20%22Boboye%22%2C%20%22id%22%3A%2041%7D%2C%20%22type%22%3A%20%22Feature%22%7D%2C%20%7B%22bbox%22%3A%20%5B2.9397%2C%2013.48646667%2C%202.9397%2C%2013.48646667%5D%2C%20%22geometry%22%3A%20%7B%22coordinates%22%3A%20%5B2.9397%2C%2013.48646667%5D%2C%20%22type%22%3A%20%22Point%22%7D%2C%20%22id%22%3A%20%2242%22%2C%20%22properties%22%3A%20%7B%22Commune%22%3A%20%22Koygolo%22%2C%20%22Cultures%22%3A%20%22Mil-ni%5Cu00e9b%5Cu00e9%22%2C%20%22Departemen%22%3A%20%22Boboye%22%2C%20%22id%22%3A%2042%7D%2C%20%22type%22%3A%20%22Feature%22%7D%2C%20%7B%22bbox%22%3A%20%5B2.95045%2C%2013.5002%2C%202.95045%2C%2013.5002%5D%2C%20%22geometry%22%3A%20%7B%22coordinates%22%3A%20%5B2.95045%2C%2013.5002%5D%2C%20%22type%22%3A%20%22Point%22%7D%2C%20%22id%22%3A%20%2243%22%2C%20%22properties%22%3A%20%7B%22Commune%22%3A%20%22Koygolo%22%2C%20%22Cultures%22%3A%20%22Mil-ni%5Cu00e9b%5Cu00e9%22%2C%20%22Departemen%22%3A%20%22Boboye%22%2C%20%22id%22%3A%2043%7D%2C%20%22type%22%3A%20%22Feature%22%7D%2C%20%7B%22bbox%22%3A%20%5B2.95065%2C%2013.50008333%2C%202.95065%2C%2013.50008333%5D%2C%20%22geometry%22%3A%20%7B%22coordinates%22%3A%20%5B2.95065%2C%2013.50008333%5D%2C%20%22type%22%3A%20%22Point%22%7D%2C%20%22id%22%3A%20%2244%22%2C%20%22properties%22%3A%20%7B%22Commune%22%3A%20%22Koygolo%22%2C%20%22Cultures%22%3A%20%22Mil-ni%5Cu00e9b%5Cu00e9%22%2C%20%22Departemen%22%3A%20%22Boboye%22%2C%20%22id%22%3A%2044%7D%2C%20%22type%22%3A%20%22Feature%22%7D%2C%20%7B%22bbox%22%3A%20%5B2.950583333%2C%2013.49311667%2C%202.950583333%2C%2013.49311667%5D%2C%20%22geometry%22%3A%20%7B%22coordinates%22%3A%20%5B2.950583333%2C%2013.49311667%5D%2C%20%22type%22%3A%20%22Point%22%7D%2C%20%22id%22%3A%20%2245%22%2C%20%22properties%22%3A%20%7B%22Commune%22%3A%20%22Koygolo%22%2C%20%22Cultures%22%3A%20%22Mil-ni%5Cu00e9b%5Cu00e9%22%2C%20%22Departemen%22%3A%20%22Boboye%22%2C%20%22id%22%3A%2045%7D%2C%20%22type%22%3A%20%22Feature%22%7D%2C%20%7B%22bbox%22%3A%20%5B2.9511%2C%2013.49281667%2C%202.9511%2C%2013.49281667%5D%2C%20%22geometry%22%3A%20%7B%22coordinates%22%3A%20%5B2.9511%2C%2013.49281667%5D%2C%20%22type%22%3A%20%22Point%22%7D%2C%20%22id%22%3A%20%2246%22%2C%20%22properties%22%3A%20%7B%22Commune%22%3A%20%22Koygolo%22%2C%20%22Cultures%22%3A%20%22Mil-ni%5Cu00e9b%5Cu00e9%22%2C%20%22Departemen%22%3A%20%22Boboye%22%2C%20%22id%22%3A%2046%7D%2C%20%22type%22%3A%20%22Feature%22%7D%2C%20%7B%22bbox%22%3A%20%5B2.952916667%2C%2013.41928333%2C%202.952916667%2C%2013.41928333%5D%2C%20%22geometry%22%3A%20%7B%22coordinates%22%3A%20%5B2.952916667%2C%2013.41928333%5D%2C%20%22type%22%3A%20%22Point%22%7D%2C%20%22id%22%3A%20%2247%22%2C%20%22properties%22%3A%20%7B%22Commune%22%3A%20%22Koygolo%22%2C%20%22Cultures%22%3A%20%22Mil-ni%5Cu00e9b%5Cu00e9%22%2C%20%22Departemen%22%3A%20%22Boboye%22%2C%20%22id%22%3A%2047%7D%2C%20%22type%22%3A%20%22Feature%22%7D%2C%20%7B%22bbox%22%3A%20%5B2.9539%2C%2013.4902%2C%202.9539%2C%2013.4902%5D%2C%20%22geometry%22%3A%20%7B%22coordinates%22%3A%20%5B2.9539%2C%2013.4902%5D%2C%20%22type%22%3A%20%22Point%22%7D%2C%20%22id%22%3A%20%2248%22%2C%20%22properties%22%3A%20%7B%22Commune%22%3A%20%22Koygolo%22%2C%20%22Cultures%22%3A%20%22Mil-ni%5Cu00e9b%5Cu00e9%22%2C%20%22Departemen%22%3A%20%22Boboye%22%2C%20%22id%22%3A%2048%7D%2C%20%22type%22%3A%20%22Feature%22%7D%2C%20%7B%22bbox%22%3A%20%5B2.9235%2C%2013.50386667%2C%202.9235%2C%2013.50386667%5D%2C%20%22geometry%22%3A%20%7B%22coordinates%22%3A%20%5B2.9235%2C%2013.50386667%5D%2C%20%22type%22%3A%20%22Point%22%7D%2C%20%22id%22%3A%20%2249%22%2C%20%22properties%22%3A%20%7B%22Commune%22%3A%20%22Koygolo%22%2C%20%22Cultures%22%3A%20%22Mil-ni%5Cu00e9b%5Cu00e9%22%2C%20%22Departemen%22%3A%20%22Boboye%22%2C%20%22id%22%3A%2049%7D%2C%20%22type%22%3A%20%22Feature%22%7D%2C%20%7B%22bbox%22%3A%20%5B2.94025%2C%2013.47311667%2C%202.94025%2C%2013.47311667%5D%2C%20%22geometry%22%3A%20%7B%22coordinates%22%3A%20%5B2.94025%2C%2013.47311667%5D%2C%20%22type%22%3A%20%22Point%22%7D%2C%20%22id%22%3A%20%2250%22%2C%20%22properties%22%3A%20%7B%22Commune%22%3A%20%22Koygolo%22%2C%20%22Cultures%22%3A%20%22Mil-ni%5Cu00e9b%5Cu00e9%22%2C%20%22Departemen%22%3A%20%22Boboye%22%2C%20%22id%22%3A%2050%7D%2C%20%22type%22%3A%20%22Feature%22%7D%2C%20%7B%22bbox%22%3A%20%5B2.950433333%2C%2013.50106667%2C%202.950433333%2C%2013.50106667%5D%2C%20%22geometry%22%3A%20%7B%22coordinates%22%3A%20%5B2.950433333%2C%2013.50106667%5D%2C%20%22type%22%3A%20%22Point%22%7D%2C%20%22id%22%3A%20%2251%22%2C%20%22properties%22%3A%20%7B%22Commune%22%3A%20%22Koygolo%22%2C%20%22Cultures%22%3A%20%22Mil-ni%5Cu00e9b%5Cu00e9%22%2C%20%22Departemen%22%3A%20%22Boboye%22%2C%20%22id%22%3A%2051%7D%2C%20%22type%22%3A%20%22Feature%22%7D%2C%20%7B%22bbox%22%3A%20%5B2.95515%2C%2013.5093%2C%202.95515%2C%2013.5093%5D%2C%20%22geometry%22%3A%20%7B%22coordinates%22%3A%20%5B2.95515%2C%2013.5093%5D%2C%20%22type%22%3A%20%22Point%22%7D%2C%20%22id%22%3A%20%2252%22%2C%20%22properties%22%3A%20%7B%22Commune%22%3A%20%22Koygolo%22%2C%20%22Cultures%22%3A%20%22Mil-ni%5Cu00e9b%5Cu00e9%22%2C%20%22Departemen%22%3A%20%22Boboye%22%2C%20%22id%22%3A%2052%7D%2C%20%22type%22%3A%20%22Feature%22%7D%2C%20%7B%22bbox%22%3A%20%5B2.971533333%2C%2013.50428333%2C%202.971533333%2C%2013.50428333%5D%2C%20%22geometry%22%3A%20%7B%22coordinates%22%3A%20%5B2.971533333%2C%2013.50428333%5D%2C%20%22type%22%3A%20%22Point%22%7D%2C%20%22id%22%3A%20%2253%22%2C%20%22properties%22%3A%20%7B%22Commune%22%3A%20%22Koygolo%22%2C%20%22Cultures%22%3A%20%22Mil-ni%5Cu00e9b%5Cu00e9%22%2C%20%22Departemen%22%3A%20%22Boboye%22%2C%20%22id%22%3A%2053%7D%2C%20%22type%22%3A%20%22Feature%22%7D%2C%20%7B%22bbox%22%3A%20%5B2.853733333%2C%2013.43535%2C%202.853733333%2C%2013.43535%5D%2C%20%22geometry%22%3A%20%7B%22coordinates%22%3A%20%5B2.853733333%2C%2013.43535%5D%2C%20%22type%22%3A%20%22Point%22%7D%2C%20%22id%22%3A%20%2254%22%2C%20%22properties%22%3A%20%7B%22Commune%22%3A%20%22Koygolo%22%2C%20%22Cultures%22%3A%20%22Mil-ni%5Cu00e9b%5Cu00e9%22%2C%20%22Departemen%22%3A%20%22Boboye%22%2C%20%22id%22%3A%2054%7D%2C%20%22type%22%3A%20%22Feature%22%7D%2C%20%7B%22bbox%22%3A%20%5B2.867416667%2C%2013.42638333%2C%202.867416667%2C%2013.42638333%5D%2C%20%22geometry%22%3A%20%7B%22coordinates%22%3A%20%5B2.867416667%2C%2013.42638333%5D%2C%20%22type%22%3A%20%22Point%22%7D%2C%20%22id%22%3A%20%2255%22%2C%20%22properties%22%3A%20%7B%22Commune%22%3A%20%22Koygolo%22%2C%20%22Cultures%22%3A%20%22Mil-ni%5Cu00e9b%5Cu00e9%22%2C%20%22Departemen%22%3A%20%22Boboye%22%2C%20%22id%22%3A%2055%7D%2C%20%22type%22%3A%20%22Feature%22%7D%2C%20%7B%22bbox%22%3A%20%5B2.867016667%2C%2013.42653333%2C%202.867016667%2C%2013.42653333%5D%2C%20%22geometry%22%3A%20%7B%22coordinates%22%3A%20%5B2.867016667%2C%2013.42653333%5D%2C%20%22type%22%3A%20%22Point%22%7D%2C%20%22id%22%3A%20%2256%22%2C%20%22properties%22%3A%20%7B%22Commune%22%3A%20%22Koygolo%22%2C%20%22Cultures%22%3A%20%22Mil-ni%5Cu00e9b%5Cu00e9%22%2C%20%22Departemen%22%3A%20%22Boboye%22%2C%20%22id%22%3A%2056%7D%2C%20%22type%22%3A%20%22Feature%22%7D%2C%20%7B%22bbox%22%3A%20%5B2.868916667%2C%2013.41845%2C%202.868916667%2C%2013.41845%5D%2C%20%22geometry%22%3A%20%7B%22coordinates%22%3A%20%5B2.868916667%2C%2013.41845%5D%2C%20%22type%22%3A%20%22Point%22%7D%2C%20%22id%22%3A%20%2257%22%2C%20%22properties%22%3A%20%7B%22Commune%22%3A%20%22Koygolo%22%2C%20%22Cultures%22%3A%20%22Mil-ni%5Cu00e9b%5Cu00e9%22%2C%20%22Departemen%22%3A%20%22Boboye%22%2C%20%22id%22%3A%2057%7D%2C%20%22type%22%3A%20%22Feature%22%7D%2C%20%7B%22bbox%22%3A%20%5B2.87205%2C%2013.4245%2C%202.87205%2C%2013.4245%5D%2C%20%22geometry%22%3A%20%7B%22coordinates%22%3A%20%5B2.87205%2C%2013.4245%5D%2C%20%22type%22%3A%20%22Point%22%7D%2C%20%22id%22%3A%20%2258%22%2C%20%22properties%22%3A%20%7B%22Commune%22%3A%20%22Koygolo%22%2C%20%22Cultures%22%3A%20%22Mil-ni%5Cu00e9b%5Cu00e9%22%2C%20%22Departemen%22%3A%20%22Boboye%22%2C%20%22id%22%3A%2058%7D%2C%20%22type%22%3A%20%22Feature%22%7D%2C%20%7B%22bbox%22%3A%20%5B2.859066667%2C%2013.42123333%2C%202.859066667%2C%2013.42123333%5D%2C%20%22geometry%22%3A%20%7B%22coordinates%22%3A%20%5B2.859066667%2C%2013.42123333%5D%2C%20%22type%22%3A%20%22Point%22%7D%2C%20%22id%22%3A%20%2259%22%2C%20%22properties%22%3A%20%7B%22Commune%22%3A%20%22Koygolo%22%2C%20%22Cultures%22%3A%20%22Mil-ni%5Cu00e9b%5Cu00e9%22%2C%20%22Departemen%22%3A%20%22Boboye%22%2C%20%22id%22%3A%2059%7D%2C%20%22type%22%3A%20%22Feature%22%7D%2C%20%7B%22bbox%22%3A%20%5B2.856633333%2C%2013.4239%2C%202.856633333%2C%2013.4239%5D%2C%20%22geometry%22%3A%20%7B%22coordinates%22%3A%20%5B2.856633333%2C%2013.4239%5D%2C%20%22type%22%3A%20%22Point%22%7D%2C%20%22id%22%3A%20%2260%22%2C%20%22properties%22%3A%20%7B%22Commune%22%3A%20%22Koygolo%22%2C%20%22Cultures%22%3A%20%22Mil-ni%5Cu00e9b%5Cu00e9%22%2C%20%22Departemen%22%3A%20%22Boboye%22%2C%20%22id%22%3A%2060%7D%2C%20%22type%22%3A%20%22Feature%22%7D%2C%20%7B%22bbox%22%3A%20%5B2.8721%2C%2013.4236%2C%202.8721%2C%2013.4236%5D%2C%20%22geometry%22%3A%20%7B%22coordinates%22%3A%20%5B2.8721%2C%2013.4236%5D%2C%20%22type%22%3A%20%22Point%22%7D%2C%20%22id%22%3A%20%2261%22%2C%20%22properties%22%3A%20%7B%22Commune%22%3A%20%22Koygolo%22%2C%20%22Cultures%22%3A%20%22Mil-ni%5Cu00e9b%5Cu00e9%22%2C%20%22Departemen%22%3A%20%22Boboye%22%2C%20%22id%22%3A%2061%7D%2C%20%22type%22%3A%20%22Feature%22%7D%2C%20%7B%22bbox%22%3A%20%5B2.871466667%2C%2013.40903333%2C%202.871466667%2C%2013.40903333%5D%2C%20%22geometry%22%3A%20%7B%22coordinates%22%3A%20%5B2.871466667%2C%2013.40903333%5D%2C%20%22type%22%3A%20%22Point%22%7D%2C%20%22id%22%3A%20%2262%22%2C%20%22properties%22%3A%20%7B%22Commune%22%3A%20%22Koygolo%22%2C%20%22Cultures%22%3A%20%22Mil-ni%5Cu00e9b%5Cu00e9%22%2C%20%22Departemen%22%3A%20%22Boboye%22%2C%20%22id%22%3A%2062%7D%2C%20%22type%22%3A%20%22Feature%22%7D%2C%20%7B%22bbox%22%3A%20%5B2.871883333%2C%2013.40705%2C%202.871883333%2C%2013.40705%5D%2C%20%22geometry%22%3A%20%7B%22coordinates%22%3A%20%5B2.871883333%2C%2013.40705%5D%2C%20%22type%22%3A%20%22Point%22%7D%2C%20%22id%22%3A%20%2263%22%2C%20%22properties%22%3A%20%7B%22Commune%22%3A%20%22Koygolo%22%2C%20%22Cultures%22%3A%20%22Mil-ni%5Cu00e9b%5Cu00e9%22%2C%20%22Departemen%22%3A%20%22Boboye%22%2C%20%22id%22%3A%2063%7D%2C%20%22type%22%3A%20%22Feature%22%7D%2C%20%7B%22bbox%22%3A%20%5B2.869266667%2C%2013.42381667%2C%202.869266667%2C%2013.42381667%5D%2C%20%22geometry%22%3A%20%7B%22coordinates%22%3A%20%5B2.869266667%2C%2013.42381667%5D%2C%20%22type%22%3A%20%22Point%22%7D%2C%20%22id%22%3A%20%2264%22%2C%20%22properties%22%3A%20%7B%22Commune%22%3A%20%22Koygolo%22%2C%20%22Cultures%22%3A%20%22Mil-ni%5Cu00e9b%5Cu00e9%22%2C%20%22Departemen%22%3A%20%22Boboye%22%2C%20%22id%22%3A%2064%7D%2C%20%22type%22%3A%20%22Feature%22%7D%2C%20%7B%22bbox%22%3A%20%5B2.854116667%2C%2013.4187%2C%202.854116667%2C%2013.4187%5D%2C%20%22geometry%22%3A%20%7B%22coordinates%22%3A%20%5B2.854116667%2C%2013.4187%5D%2C%20%22type%22%3A%20%22Point%22%7D%2C%20%22id%22%3A%20%2265%22%2C%20%22properties%22%3A%20%7B%22Commune%22%3A%20%22Koygolo%22%2C%20%22Cultures%22%3A%20%22Mil-ni%5Cu00e9b%5Cu00e9%22%2C%20%22Departemen%22%3A%20%22Boboye%22%2C%20%22id%22%3A%2065%7D%2C%20%22type%22%3A%20%22Feature%22%7D%2C%20%7B%22bbox%22%3A%20%5B2.857466667%2C%2013.42068333%2C%202.857466667%2C%2013.42068333%5D%2C%20%22geometry%22%3A%20%7B%22coordinates%22%3A%20%5B2.857466667%2C%2013.42068333%5D%2C%20%22type%22%3A%20%22Point%22%7D%2C%20%22id%22%3A%20%2266%22%2C%20%22properties%22%3A%20%7B%22Commune%22%3A%20%22Koygolo%22%2C%20%22Cultures%22%3A%20%22Mil-ni%5Cu00e9b%5Cu00e9%22%2C%20%22Departemen%22%3A%20%22Boboye%22%2C%20%22id%22%3A%2066%7D%2C%20%22type%22%3A%20%22Feature%22%7D%2C%20%7B%22bbox%22%3A%20%5B2.8572%2C%2013.4377%2C%202.8572%2C%2013.4377%5D%2C%20%22geometry%22%3A%20%7B%22coordinates%22%3A%20%5B2.8572%2C%2013.4377%5D%2C%20%22type%22%3A%20%22Point%22%7D%2C%20%22id%22%3A%20%2267%22%2C%20%22properties%22%3A%20%7B%22Commune%22%3A%20%22Koygolo%22%2C%20%22Cultures%22%3A%20%22Mil-ni%5Cu00e9b%5Cu00e9%22%2C%20%22Departemen%22%3A%20%22Boboye%22%2C%20%22id%22%3A%2067%7D%2C%20%22type%22%3A%20%22Feature%22%7D%2C%20%7B%22bbox%22%3A%20%5B2.859466667%2C%2013.40803333%2C%202.859466667%2C%2013.40803333%5D%2C%20%22geometry%22%3A%20%7B%22coordinates%22%3A%20%5B2.859466667%2C%2013.40803333%5D%2C%20%22type%22%3A%20%22Point%22%7D%2C%20%22id%22%3A%20%2268%22%2C%20%22properties%22%3A%20%7B%22Commune%22%3A%20%22Koygolo%22%2C%20%22Cultures%22%3A%20%22Mil-ni%5Cu00e9b%5Cu00e9%22%2C%20%22Departemen%22%3A%20%22Boboye%22%2C%20%22id%22%3A%2068%7D%2C%20%22type%22%3A%20%22Feature%22%7D%2C%20%7B%22bbox%22%3A%20%5B2.851533333%2C%2013.42655%2C%202.851533333%2C%2013.42655%5D%2C%20%22geometry%22%3A%20%7B%22coordinates%22%3A%20%5B2.851533333%2C%2013.42655%5D%2C%20%22type%22%3A%20%22Point%22%7D%2C%20%22id%22%3A%20%2269%22%2C%20%22properties%22%3A%20%7B%22Commune%22%3A%20%22Koygolo%22%2C%20%22Cultures%22%3A%20%22Mil-ni%5Cu00e9b%5Cu00e9%22%2C%20%22Departemen%22%3A%20%22Boboye%22%2C%20%22id%22%3A%2069%7D%2C%20%22type%22%3A%20%22Feature%22%7D%2C%20%7B%22bbox%22%3A%20%5B2.85%2C%2013.43541667%2C%202.85%2C%2013.43541667%5D%2C%20%22geometry%22%3A%20%7B%22coordinates%22%3A%20%5B2.85%2C%2013.43541667%5D%2C%20%22type%22%3A%20%22Point%22%7D%2C%20%22id%22%3A%20%2270%22%2C%20%22properties%22%3A%20%7B%22Commune%22%3A%20%22Koygolo%22%2C%20%22Cultures%22%3A%20%22Mil-ni%5Cu00e9b%5Cu00e9%22%2C%20%22Departemen%22%3A%20%22Boboye%22%2C%20%22id%22%3A%2070%7D%2C%20%22type%22%3A%20%22Feature%22%7D%2C%20%7B%22bbox%22%3A%20%5B2.851533333%2C%2013.43425%2C%202.851533333%2C%2013.43425%5D%2C%20%22geometry%22%3A%20%7B%22coordinates%22%3A%20%5B2.851533333%2C%2013.43425%5D%2C%20%22type%22%3A%20%22Point%22%7D%2C%20%22id%22%3A%20%2271%22%2C%20%22properties%22%3A%20%7B%22Commune%22%3A%20%22Koygolo%22%2C%20%22Cultures%22%3A%20%22Mil-ni%5Cu00e9b%5Cu00e9%22%2C%20%22Departemen%22%3A%20%22Boboye%22%2C%20%22id%22%3A%2071%7D%2C%20%22type%22%3A%20%22Feature%22%7D%2C%20%7B%22bbox%22%3A%20%5B2.868516667%2C%2013.43561667%2C%202.868516667%2C%2013.43561667%5D%2C%20%22geometry%22%3A%20%7B%22coordinates%22%3A%20%5B2.868516667%2C%2013.43561667%5D%2C%20%22type%22%3A%20%22Point%22%7D%2C%20%22id%22%3A%20%2272%22%2C%20%22properties%22%3A%20%7B%22Commune%22%3A%20%22Koygolo%22%2C%20%22Cultures%22%3A%20%22Mil-ni%5Cu00e9b%5Cu00e9%22%2C%20%22Departemen%22%3A%20%22Boboye%22%2C%20%22id%22%3A%2072%7D%2C%20%22type%22%3A%20%22Feature%22%7D%2C%20%7B%22bbox%22%3A%20%5B2.875583333%2C%2013.43835%2C%202.875583333%2C%2013.43835%5D%2C%20%22geometry%22%3A%20%7B%22coordinates%22%3A%20%5B2.875583333%2C%2013.43835%5D%2C%20%22type%22%3A%20%22Point%22%7D%2C%20%22id%22%3A%20%2273%22%2C%20%22properties%22%3A%20%7B%22Commune%22%3A%20%22Koygolo%22%2C%20%22Cultures%22%3A%20%22Mil-ni%5Cu00e9b%5Cu00e9%22%2C%20%22Departemen%22%3A%20%22Boboye%22%2C%20%22id%22%3A%2073%7D%2C%20%22type%22%3A%20%22Feature%22%7D%2C%20%7B%22bbox%22%3A%20%5B2.874933333%2C%2013.40726667%2C%202.874933333%2C%2013.40726667%5D%2C%20%22geometry%22%3A%20%7B%22coordinates%22%3A%20%5B2.874933333%2C%2013.40726667%5D%2C%20%22type%22%3A%20%22Point%22%7D%2C%20%22id%22%3A%20%2274%22%2C%20%22properties%22%3A%20%7B%22Commune%22%3A%20%22Koygolo%22%2C%20%22Cultures%22%3A%20%22Mil-ni%5Cu00e9b%5Cu00e9%22%2C%20%22Departemen%22%3A%20%22Boboye%22%2C%20%22id%22%3A%2074%7D%2C%20%22type%22%3A%20%22Feature%22%7D%2C%20%7B%22bbox%22%3A%20%5B3.050933333%2C%2013.59266667%2C%203.050933333%2C%2013.59266667%5D%2C%20%22geometry%22%3A%20%7B%22coordinates%22%3A%20%5B3.050933333%2C%2013.59266667%5D%2C%20%22type%22%3A%20%22Point%22%7D%2C%20%22id%22%3A%20%2275%22%2C%20%22properties%22%3A%20%7B%22Commune%22%3A%20%22Koygolo%22%2C%20%22Cultures%22%3A%20%22Mil-ni%5Cu00e9b%5Cu00e9%22%2C%20%22Departemen%22%3A%20%22Boboye%22%2C%20%22id%22%3A%2075%7D%2C%20%22type%22%3A%20%22Feature%22%7D%2C%20%7B%22bbox%22%3A%20%5B3.05155%2C%2013.59061667%2C%203.05155%2C%2013.59061667%5D%2C%20%22geometry%22%3A%20%7B%22coordinates%22%3A%20%5B3.05155%2C%2013.59061667%5D%2C%20%22type%22%3A%20%22Point%22%7D%2C%20%22id%22%3A%20%2276%22%2C%20%22properties%22%3A%20%7B%22Commune%22%3A%20%22Koygolo%22%2C%20%22Cultures%22%3A%20%22Mil-ni%5Cu00e9b%5Cu00e9%22%2C%20%22Departemen%22%3A%20%22Boboye%22%2C%20%22id%22%3A%2076%7D%2C%20%22type%22%3A%20%22Feature%22%7D%2C%20%7B%22bbox%22%3A%20%5B3.042016667%2C%2013.58458333%2C%203.042016667%2C%2013.58458333%5D%2C%20%22geometry%22%3A%20%7B%22coordinates%22%3A%20%5B3.042016667%2C%2013.58458333%5D%2C%20%22type%22%3A%20%22Point%22%7D%2C%20%22id%22%3A%20%2277%22%2C%20%22properties%22%3A%20%7B%22Commune%22%3A%20%22Koygolo%22%2C%20%22Cultures%22%3A%20%22Mil-ni%5Cu00e9b%5Cu00e9%22%2C%20%22Departemen%22%3A%20%22Boboye%22%2C%20%22id%22%3A%2077%7D%2C%20%22type%22%3A%20%22Feature%22%7D%2C%20%7B%22bbox%22%3A%20%5B3.041383333%2C%2013.58468333%2C%203.041383333%2C%2013.58468333%5D%2C%20%22geometry%22%3A%20%7B%22coordinates%22%3A%20%5B3.041383333%2C%2013.58468333%5D%2C%20%22type%22%3A%20%22Point%22%7D%2C%20%22id%22%3A%20%2278%22%2C%20%22properties%22%3A%20%7B%22Commune%22%3A%20%22Koygolo%22%2C%20%22Cultures%22%3A%20%22Mil-ni%5Cu00e9b%5Cu00e9%22%2C%20%22Departemen%22%3A%20%22Boboye%22%2C%20%22id%22%3A%2078%7D%2C%20%22type%22%3A%20%22Feature%22%7D%2C%20%7B%22bbox%22%3A%20%5B3.041066667%2C%2013.5917%2C%203.041066667%2C%2013.5917%5D%2C%20%22geometry%22%3A%20%7B%22coordinates%22%3A%20%5B3.041066667%2C%2013.5917%5D%2C%20%22type%22%3A%20%22Point%22%7D%2C%20%22id%22%3A%20%2279%22%2C%20%22properties%22%3A%20%7B%22Commune%22%3A%20%22Koygolo%22%2C%20%22Cultures%22%3A%20%22Mil-ni%5Cu00e9b%5Cu00e9%22%2C%20%22Departemen%22%3A%20%22Boboye%22%2C%20%22id%22%3A%2079%7D%2C%20%22type%22%3A%20%22Feature%22%7D%2C%20%7B%22bbox%22%3A%20%5B3.052416667%2C%2013.58728333%2C%203.052416667%2C%2013.58728333%5D%2C%20%22geometry%22%3A%20%7B%22coordinates%22%3A%20%5B3.052416667%2C%2013.58728333%5D%2C%20%22type%22%3A%20%22Point%22%7D%2C%20%22id%22%3A%20%2280%22%2C%20%22properties%22%3A%20%7B%22Commune%22%3A%20%22Koygolo%22%2C%20%22Cultures%22%3A%20%22Mil-ni%5Cu00e9b%5Cu00e9%22%2C%20%22Departemen%22%3A%20%22Boboye%22%2C%20%22id%22%3A%2080%7D%2C%20%22type%22%3A%20%22Feature%22%7D%2C%20%7B%22bbox%22%3A%20%5B3.052333333%2C%2013.58728333%2C%203.052333333%2C%2013.58728333%5D%2C%20%22geometry%22%3A%20%7B%22coordinates%22%3A%20%5B3.052333333%2C%2013.58728333%5D%2C%20%22type%22%3A%20%22Point%22%7D%2C%20%22id%22%3A%20%2281%22%2C%20%22properties%22%3A%20%7B%22Commune%22%3A%20%22Koygolo%22%2C%20%22Cultures%22%3A%20%22Mil-ni%5Cu00e9b%5Cu00e9%22%2C%20%22Departemen%22%3A%20%22Boboye%22%2C%20%22id%22%3A%2081%7D%2C%20%22type%22%3A%20%22Feature%22%7D%2C%20%7B%22bbox%22%3A%20%5B3.0507%2C%2013.5929%2C%203.0507%2C%2013.5929%5D%2C%20%22geometry%22%3A%20%7B%22coordinates%22%3A%20%5B3.0507%2C%2013.5929%5D%2C%20%22type%22%3A%20%22Point%22%7D%2C%20%22id%22%3A%20%2282%22%2C%20%22properties%22%3A%20%7B%22Commune%22%3A%20%22Koygolo%22%2C%20%22Cultures%22%3A%20%22Mil-ni%5Cu00e9b%5Cu00e9%22%2C%20%22Departemen%22%3A%20%22Boboye%22%2C%20%22id%22%3A%2082%7D%2C%20%22type%22%3A%20%22Feature%22%7D%5D%2C%20%22type%22%3A%20%22FeatureCollection%22%7D%29%3B%0A%0A%20%20%20%20%20%20%20%20%0A%20%20%20%20%0A%20%20%20%20geo_json_6101955b29884bac952bf14e76024585.bindTooltip%28%0A%20%20%20%20function%28layer%29%7B%0A%20%20%20%20let%20div%20%3D%20L.DomUtil.create%28%27div%27%29%3B%0A%20%20%20%20%0A%20%20%20%20let%20handleObject%20%3D%20feature%3D%3Etypeof%28feature%29%3D%3D%27object%27%20%3F%20JSON.stringify%28feature%29%20%3A%20feature%3B%0A%20%20%20%20let%20fields%20%3D%20%5B%22Departemen%22%2C%20%22Commune%22%2C%20%22Cultures%22%2C%20%22id%22%5D%3B%0A%20%20%20%20let%20aliases%20%3D%20%5B%22Departemen%22%2C%20%22Commune%22%2C%20%22Cultures%22%2C%20%22id%22%5D%3B%0A%20%20%20%20let%20table%20%3D%20%27%3Ctable%3E%27%20%2B%0A%20%20%20%20%20%20%20%20String%28%0A%20%20%20%20%20%20%20%20fields.map%28%0A%20%20%20%20%20%20%20%20%28v%2Ci%29%3D%3E%0A%20%20%20%20%20%20%20%20%60%3Ctr%3E%0A%20%20%20%20%20%20%20%20%20%20%20%20%3Cth%3E%24%7Baliases%5Bi%5D%7D%3C/th%3E%0A%20%20%20%20%20%20%20%20%20%20%20%20%0A%20%20%20%20%20%20%20%20%20%20%20%20%3Ctd%3E%24%7BhandleObject%28layer.feature.properties%5Bv%5D%29%7D%3C/td%3E%0A%20%20%20%20%20%20%20%20%3C/tr%3E%60%29.join%28%27%27%29%29%0A%20%20%20%20%2B%27%3C/table%3E%27%3B%0A%20%20%20%20div.innerHTML%3Dtable%3B%0A%20%20%20%20%0A%20%20%20%20return%20div%0A%20%20%20%20%7D%0A%20%20%20%20%2C%7B%22className%22%3A%20%22foliumtooltip%22%2C%20%22sticky%22%3A%20true%7D%29%3B%0A%20%20%20%20%20%20%20%20%20%20%20%20%20%20%20%20%20%20%20%20%20%0A%3C/script%3E onload=\"this.contentDocument.open();this.contentDocument.write(    decodeURIComponent(this.getAttribute('data-html')));this.contentDocument.close();\" allowfullscreen webkitallowfullscreen mozallowfullscreen></iframe></div></div>"
      ],
      "text/plain": [
       "<folium.folium.Map at 0x7f6acc14df70>"
      ]
     },
     "execution_count": 7,
     "metadata": {},
     "output_type": "execute_result"
    }
   ],
   "source": [
    "# Merge the two GeoDataframes\n",
    "gdf = pd.concat(objs=[gdf_1, gdf_2], axis=0, ignore_index=True)\n",
    "# Add a unique id to gdf.\n",
    "gdf[\"id\"] = range(0, len(gdf))\n",
    "gdf.explore()"
   ]
  },
  {
   "cell_type": "markdown",
   "id": "1ff1f35f-080a-4a42-80ff-a8efd5721c82",
   "metadata": {},
   "source": [
    "## Defining feature layers\n",
    "\n",
    "To create the desired feature layers, we pass instructions to `collect_training_data` through the `feature_func` parameter.\n",
    "\n",
    "* `feature_func`: A function for generating feature layers that is applied to the data within the bounds of the input geometry. The `feature_func` must accept a `dc_query` dictionary, and return a single `xarray.Dataset` or `xarray.DataArray` containing 2D coordinates (i.e x, y - no time dimension). e.g.\n",
    "\n",
    "          def feature_function(query):\n",
    "              dc = datacube.Datacube(app='feature_layers')\n",
    "              ds = dc.load(**query)\n",
    "              ds = ds.mean('time')\n",
    "              return ds\n",
    "\n",
    "Below, we will define a more complicated feature layer function than the brief example shown above. "
   ]
  },
  {
   "cell_type": "code",
   "execution_count": 8,
   "id": "2d2ccb60-4ec7-406f-a4d8-7005e69feea4",
   "metadata": {},
   "outputs": [],
   "source": [
    "# Define the `feature_layers` functions to load features.\n",
    "def feature_layers(query):\n",
    "\n",
    "    # Connnect to datacube.\n",
    "    dc = datacube.Datacube(app=\"unsupervised_class_identification\")\n",
    "\n",
    "    # ----------------- Sentinel-2 Annual Geomedian -----------------\n",
    "\n",
    "    # Sentinel-2 Annual and Bi-annual GeoMAD measurements.\n",
    "    s2_measurements = [\n",
    "        \"blue\",\n",
    "        \"green\",\n",
    "        \"red\",\n",
    "        \"nir\",\n",
    "        \"swir_1\",\n",
    "        \"swir_2\",\n",
    "        \"red_edge_1\",\n",
    "        \"red_edge_2\",\n",
    "        \"red_edge_3\",\n",
    "        \"BCMAD\",\n",
    "        \"EMAD\",\n",
    "        \"SMAD\",\n",
    "    ]\n",
    "\n",
    "    # Load Sentinel-2 Annual Geomedian.\n",
    "    ds_s2_annual_geomad = dc.load(\n",
    "        product=\"gm_s2_annual\", measurements=s2_measurements, **query\n",
    "    )\n",
    "\n",
    "    # Calculate some band indices.\n",
    "    ds_s2_annual_geomad = calculate_indices(\n",
    "        ds_s2_annual_geomad,\n",
    "        index=[\"NDVI\", \"LAI\", \"SAVI\", \"MSAVI\", \"MNDWI\"],\n",
    "        drop=False,\n",
    "        collection=\"s2\",\n",
    "    ).squeeze()\n",
    "\n",
    "    # ----------------- Sentinel-2 Bi-Annual Geomedian -----------------\n",
    "\n",
    "    # Load Sentinel-2 Bi-Annual Geomedian.\n",
    "    ds_s2_semiannual_geomad = dc.load(\n",
    "        product=\"gm_s2_semiannual\",\n",
    "        measurements=s2_measurements,\n",
    "        **query,\n",
    "    )\n",
    "\n",
    "    # Split into two seperate datasets Jan-Jun and Jul-Dec.\n",
    "    ds_janjun_geomad = (\n",
    "        ds_s2_semiannual_geomad.isel(time=0)\n",
    "        .reset_coords()\n",
    "        .drop_vars([\"time\", \"spatial_ref\"])\n",
    "    )\n",
    "    ds_juldec_geomad = (\n",
    "        ds_s2_semiannual_geomad.isel(time=1)\n",
    "        .reset_coords()\n",
    "        .drop_vars([\"time\", \"spatial_ref\"])\n",
    "    )\n",
    "\n",
    "    # Rename the dataset variables.\n",
    "    janjun_rename_dict = {key: f\"janjun_{key}\" for key in list(ds_janjun_geomad.keys())}\n",
    "    ds_janjun_geomad = ds_janjun_geomad.rename(name_dict=janjun_rename_dict)\n",
    "\n",
    "    juldec_rename_dict = {key: f\"juldec_{key}\" for key in list(ds_juldec_geomad.keys())}\n",
    "    ds_juldec_geomad = ds_juldec_geomad.rename(name_dict=juldec_rename_dict)\n",
    "\n",
    "    # ----------------- S1 RADAR -----------------\n",
    "\n",
    "    # Load Sentinel-1 data.\n",
    "    #     ds_S1 = dc.load(\n",
    "    #         product=\"s1_rtc\",\n",
    "    #         measurements=[\"vv\", \"vh\", \"mask\"],\n",
    "    #         group_by=\"solar_day\",\n",
    "    #         sat_orbit_state=\"ascending\",\n",
    "    #         **query,\n",
    "    #     )\n",
    "\n",
    "    # Get the temporal mean (mean over time) for the VH and VV polarizations.\n",
    "    #     mean_vv = ds_S1.vv.where(ds_S1.mask == 1).mean(dim=\"time\")\n",
    "    #     mean_vh = ds_S1.vh.where(ds_S1.mask == 1).mean(dim=\"time\")\n",
    "\n",
    "    # Merge the temporal mean xarray.DataArrays into one xarray.Dataset.\n",
    "    #     ds_S1_mean = xr.merge([mean_vv, mean_vh])\n",
    "\n",
    "    # ----------------- Fractional Cover Annual Summaries -----------------\n",
    "\n",
    "    # Fractional Cover Annual Summary  measurements.\n",
    "    fc_measurements = [\n",
    "        # \"pv_pc_10\",\n",
    "        # \"pv_pc_50\",\n",
    "        \"pv_pc_90\",\n",
    "        # \"npv_pc_10\",\n",
    "        # \"npv_pc_50\",\n",
    "        \"npv_pc_90\",\n",
    "        # \"bs_pc_10\",\n",
    "        # \"bs_pc_50\",\n",
    "        \"bs_pc_90\",\n",
    "    ]\n",
    "\n",
    "    # Load the Fractional Cover Annual Summary.\n",
    "    ds_annual_fc = dc.load(\n",
    "        product=\"fc_ls_summary_annual\",\n",
    "        measurements=fc_measurements,\n",
    "        **query,\n",
    "    )\n",
    "\n",
    "    # ----------------- Temporal Statistics -----------------\n",
    "    # Calculate these on NDVI over the year\n",
    "\n",
    "    #     # Set parameters\n",
    "    #     veg_index = \"NDVI\"\n",
    "    #     resample_period = \"2W\"\n",
    "    #     window = 4\n",
    "\n",
    "    #     # Load S2 for query\n",
    "    #     ds_S2 = load_ard(\n",
    "    #         dc=dc,\n",
    "    #         products=[\"s2_l2a\"],\n",
    "    #         measurements=[\"red\", \"nir\"],\n",
    "    #         mask_filters=[(\"opening\", 3), (\"dilation\", 3)],\n",
    "    #         **query,\n",
    "    #         verbose=False,\n",
    "    #     )\n",
    "\n",
    "    #     # Calculate NDVI\n",
    "    #     ds_S2 = calculate_indices(ds_S2, index=veg_index, collection=\"s2\")\n",
    "\n",
    "    #     # Smooth the NDVI over time\n",
    "    #     ds_smooth = (\n",
    "    #         ds_S2[veg_index]\n",
    "    #         .resample(time=resample_period)\n",
    "    #         .median()\n",
    "    #         .rolling(time=window, min_periods=1)\n",
    "    #         .mean()\n",
    "    #     )\n",
    "\n",
    "    #     statistics = [\n",
    "    #         \"discordance\",\n",
    "    #         #\"f_mean\",\n",
    "    #         #\"median_change\",\n",
    "    #         #\"abs_change\",\n",
    "    #         \"complexity\",\n",
    "    #         #\"central_diff\",\n",
    "    #     ]\n",
    "\n",
    "    #     ds_stats = temporal_statistics(ds_smooth, statistics)\n",
    "\n",
    "    # ----------------- MERGE -----------------\n",
    "\n",
    "    # Merge the indiviual datasets into one.\n",
    "    ds_final = xr.merge(\n",
    "        [\n",
    "            ds_s2_annual_geomad,\n",
    "            ds_janjun_geomad,\n",
    "            ds_juldec_geomad,\n",
    "            ds_annual_fc,\n",
    "        ]  # ds_S1_mean\n",
    "    )\n",
    "\n",
    "    return ds_final.squeeze(dim=\"time\", drop=True)"
   ]
  },
  {
   "cell_type": "markdown",
   "id": "e88762a1-00b3-401b-89af-b05b3779d193",
   "metadata": {},
   "source": [
    "## Load data using the feature layers function"
   ]
  },
  {
   "cell_type": "code",
   "execution_count": 9,
   "id": "3e1179e9-7e52-4cc2-ae9d-a1a06cc3eafb",
   "metadata": {},
   "outputs": [],
   "source": [
    "# Function to get the feature layers for a point.\n",
    "def get_point_feature_layers(geom):\n",
    "    # Generate a datacube query object.\n",
    "    query = {\n",
    "        \"geopolygon\": geom,\n",
    "        \"time\": time_01,\n",
    "        \"resolution\": resolution,\n",
    "        \"output_crs\": output_crs,\n",
    "        \"dask_chunks\": dask_chunks,\n",
    "    }\n",
    "    # Call the feature_layers function on the query to load the data.\n",
    "    data = feature_layers(query)\n",
    "    return data"
   ]
  },
  {
   "cell_type": "code",
   "execution_count": 10,
   "id": "9a6a89d8-a47d-4d50-a0c6-679f0c3695aa",
   "metadata": {},
   "outputs": [
    {
     "name": "stderr",
     "output_type": "stream",
     "text": [
      "CPLReleaseMutex: Error = 1 (Operation not permitted)\n"
     ]
    },
    {
     "name": "stdout",
     "output_type": "stream",
     "text": [
      "CPU times: user 28.6 s, sys: 945 ms, total: 29.5 s\n",
      "Wall time: 59 s\n"
     ]
    }
   ],
   "source": [
    "%%time\n",
    "# Get the feature layers for each point in the `gdf` GeoDataFrame.\n",
    "id_list = gdf[\"id\"].to_list()\n",
    "\n",
    "# Define list to store the data for each point.\n",
    "data_list = []\n",
    "\n",
    "for ID in id_list:\n",
    "    # print(f\"Feature {ID:02d}/{len(id_list)}\", end='\\r')\n",
    "    # Transform the point into a geometry object.\n",
    "    geom = geometry.Geometry(geom=gdf.iloc[ID].geometry, crs=gdf.crs)\n",
    "    # Get the NDVI profile for the point.\n",
    "    point_data = get_point_feature_layers(geom).load()\n",
    "    data_list.append(point_data)"
   ]
  },
  {
   "cell_type": "code",
   "execution_count": 11,
   "id": "228b404e-1257-47f8-8bca-074d9fe64970",
   "metadata": {},
   "outputs": [],
   "source": [
    "# Since all the point datasets in data_list have the same variables.\n",
    "# Get the list of variables from the first dataset on the list.\n",
    "variables = list(data_list[0].keys())\n",
    "\n",
    "# From each point dataset in data_list get the values for each variable.\n",
    "data_vars = {}\n",
    "for variable in variables:\n",
    "    variable_values = [point_data[variable].data.item() for point_data in data_list]\n",
    "    data_vars[variable] = variable_values"
   ]
  },
  {
   "cell_type": "code",
   "execution_count": 12,
   "id": "307fbc13-d043-427e-9434-c519e712b011",
   "metadata": {},
   "outputs": [
    {
     "data": {
      "text/html": [
       "<div>\n",
       "<style scoped>\n",
       "    .dataframe tbody tr th:only-of-type {\n",
       "        vertical-align: middle;\n",
       "    }\n",
       "\n",
       "    .dataframe tbody tr th {\n",
       "        vertical-align: top;\n",
       "    }\n",
       "\n",
       "    .dataframe thead th {\n",
       "        text-align: right;\n",
       "    }\n",
       "</style>\n",
       "<table border=\"1\" class=\"dataframe\">\n",
       "  <thead>\n",
       "    <tr style=\"text-align: right;\">\n",
       "      <th></th>\n",
       "      <th>blue</th>\n",
       "      <th>green</th>\n",
       "      <th>red</th>\n",
       "      <th>nir</th>\n",
       "      <th>swir_1</th>\n",
       "      <th>swir_2</th>\n",
       "      <th>red_edge_1</th>\n",
       "      <th>red_edge_2</th>\n",
       "      <th>red_edge_3</th>\n",
       "      <th>BCMAD</th>\n",
       "      <th>...</th>\n",
       "      <th>juldec_swir_2</th>\n",
       "      <th>juldec_red_edge_1</th>\n",
       "      <th>juldec_red_edge_2</th>\n",
       "      <th>juldec_red_edge_3</th>\n",
       "      <th>juldec_BCMAD</th>\n",
       "      <th>juldec_EMAD</th>\n",
       "      <th>juldec_SMAD</th>\n",
       "      <th>pv_pc_90</th>\n",
       "      <th>npv_pc_90</th>\n",
       "      <th>bs_pc_90</th>\n",
       "    </tr>\n",
       "  </thead>\n",
       "  <tbody>\n",
       "    <tr>\n",
       "      <th>0</th>\n",
       "      <td>1131</td>\n",
       "      <td>1826</td>\n",
       "      <td>2682</td>\n",
       "      <td>3920</td>\n",
       "      <td>4574</td>\n",
       "      <td>3789</td>\n",
       "      <td>2903</td>\n",
       "      <td>3364</td>\n",
       "      <td>3626</td>\n",
       "      <td>0.050755</td>\n",
       "      <td>...</td>\n",
       "      <td>3695</td>\n",
       "      <td>2716</td>\n",
       "      <td>3262</td>\n",
       "      <td>3538</td>\n",
       "      <td>0.034209</td>\n",
       "      <td>774.552002</td>\n",
       "      <td>0.000827</td>\n",
       "      <td>38</td>\n",
       "      <td>42</td>\n",
       "      <td>63</td>\n",
       "    </tr>\n",
       "    <tr>\n",
       "      <th>1</th>\n",
       "      <td>979</td>\n",
       "      <td>1537</td>\n",
       "      <td>2189</td>\n",
       "      <td>3621</td>\n",
       "      <td>5110</td>\n",
       "      <td>4286</td>\n",
       "      <td>2808</td>\n",
       "      <td>3245</td>\n",
       "      <td>3535</td>\n",
       "      <td>0.055128</td>\n",
       "      <td>...</td>\n",
       "      <td>3880</td>\n",
       "      <td>2395</td>\n",
       "      <td>2928</td>\n",
       "      <td>3261</td>\n",
       "      <td>0.046550</td>\n",
       "      <td>984.015442</td>\n",
       "      <td>0.001648</td>\n",
       "      <td>33</td>\n",
       "      <td>41</td>\n",
       "      <td>73</td>\n",
       "    </tr>\n",
       "    <tr>\n",
       "      <th>2</th>\n",
       "      <td>1233</td>\n",
       "      <td>2025</td>\n",
       "      <td>3205</td>\n",
       "      <td>4323</td>\n",
       "      <td>6041</td>\n",
       "      <td>5442</td>\n",
       "      <td>3688</td>\n",
       "      <td>3935</td>\n",
       "      <td>4183</td>\n",
       "      <td>0.018953</td>\n",
       "      <td>...</td>\n",
       "      <td>5398</td>\n",
       "      <td>3569</td>\n",
       "      <td>3884</td>\n",
       "      <td>4152</td>\n",
       "      <td>0.019566</td>\n",
       "      <td>528.851685</td>\n",
       "      <td>0.000342</td>\n",
       "      <td>19</td>\n",
       "      <td>18</td>\n",
       "      <td>92</td>\n",
       "    </tr>\n",
       "    <tr>\n",
       "      <th>3</th>\n",
       "      <td>1213</td>\n",
       "      <td>1875</td>\n",
       "      <td>2859</td>\n",
       "      <td>4142</td>\n",
       "      <td>5281</td>\n",
       "      <td>4439</td>\n",
       "      <td>3260</td>\n",
       "      <td>3666</td>\n",
       "      <td>3946</td>\n",
       "      <td>0.037131</td>\n",
       "      <td>...</td>\n",
       "      <td>3991</td>\n",
       "      <td>2873</td>\n",
       "      <td>3405</td>\n",
       "      <td>3724</td>\n",
       "      <td>0.038483</td>\n",
       "      <td>861.882446</td>\n",
       "      <td>0.000919</td>\n",
       "      <td>34</td>\n",
       "      <td>33</td>\n",
       "      <td>77</td>\n",
       "    </tr>\n",
       "    <tr>\n",
       "      <th>4</th>\n",
       "      <td>1087</td>\n",
       "      <td>1793</td>\n",
       "      <td>2972</td>\n",
       "      <td>4181</td>\n",
       "      <td>5363</td>\n",
       "      <td>4504</td>\n",
       "      <td>3438</td>\n",
       "      <td>3834</td>\n",
       "      <td>4068</td>\n",
       "      <td>0.043657</td>\n",
       "      <td>...</td>\n",
       "      <td>3805</td>\n",
       "      <td>2883</td>\n",
       "      <td>3421</td>\n",
       "      <td>3705</td>\n",
       "      <td>0.053983</td>\n",
       "      <td>1160.647095</td>\n",
       "      <td>0.000996</td>\n",
       "      <td>27</td>\n",
       "      <td>45</td>\n",
       "      <td>78</td>\n",
       "    </tr>\n",
       "  </tbody>\n",
       "</table>\n",
       "<p>5 rows × 44 columns</p>\n",
       "</div>"
      ],
      "text/plain": [
       "   blue  green   red   nir  swir_1  swir_2  red_edge_1  red_edge_2  \\\n",
       "0  1131   1826  2682  3920    4574    3789        2903        3364   \n",
       "1   979   1537  2189  3621    5110    4286        2808        3245   \n",
       "2  1233   2025  3205  4323    6041    5442        3688        3935   \n",
       "3  1213   1875  2859  4142    5281    4439        3260        3666   \n",
       "4  1087   1793  2972  4181    5363    4504        3438        3834   \n",
       "\n",
       "   red_edge_3     BCMAD  ...  juldec_swir_2  juldec_red_edge_1  \\\n",
       "0        3626  0.050755  ...           3695               2716   \n",
       "1        3535  0.055128  ...           3880               2395   \n",
       "2        4183  0.018953  ...           5398               3569   \n",
       "3        3946  0.037131  ...           3991               2873   \n",
       "4        4068  0.043657  ...           3805               2883   \n",
       "\n",
       "   juldec_red_edge_2  juldec_red_edge_3  juldec_BCMAD  juldec_EMAD  \\\n",
       "0               3262               3538      0.034209   774.552002   \n",
       "1               2928               3261      0.046550   984.015442   \n",
       "2               3884               4152      0.019566   528.851685   \n",
       "3               3405               3724      0.038483   861.882446   \n",
       "4               3421               3705      0.053983  1160.647095   \n",
       "\n",
       "   juldec_SMAD  pv_pc_90  npv_pc_90  bs_pc_90  \n",
       "0     0.000827        38         42        63  \n",
       "1     0.001648        33         41        73  \n",
       "2     0.000342        19         18        92  \n",
       "3     0.000919        34         33        77  \n",
       "4     0.000996        27         45        78  \n",
       "\n",
       "[5 rows x 44 columns]"
      ]
     },
     "execution_count": 12,
     "metadata": {},
     "output_type": "execute_result"
    }
   ],
   "source": [
    "# Get the feature layers as a pandas DataFrame.\n",
    "data_df = pd.DataFrame(data=data_vars)\n",
    "data_df.head()"
   ]
  },
  {
   "cell_type": "markdown",
   "id": "654720d7-8ee5-4b1b-af1a-bd4ace2c8377",
   "metadata": {},
   "source": [
    "## Classification using K-means Clustering"
   ]
  },
  {
   "cell_type": "markdown",
   "id": "164d2730-d2bf-4d9f-8fbc-857af79bad0d",
   "metadata": {},
   "source": [
    "### Run Standard Scaler for all parameters"
   ]
  },
  {
   "cell_type": "code",
   "execution_count": 13,
   "id": "40f1174c-d072-4f1a-992b-2fd4ee57a93f",
   "metadata": {},
   "outputs": [],
   "source": [
    "# Convert the `data_df` DataFrame to a matrix.\n",
    "model_input = data_df.values"
   ]
  },
  {
   "cell_type": "code",
   "execution_count": 14,
   "id": "d5b279b9-4c46-4f54-a7ed-7bced7d9b87a",
   "metadata": {},
   "outputs": [
    {
     "name": "stdout",
     "output_type": "stream",
     "text": [
      "CPU times: user 1.16 ms, sys: 0 ns, total: 1.16 ms\n",
      "Wall time: 919 µs\n"
     ]
    }
   ],
   "source": [
    "%%time\n",
    "# Standardize the model_input (numpy array) by removing the mean and scaling to unit variance.\n",
    "scaler = StandardScaler()\n",
    "scaler.fit(model_input)\n",
    "model_input = scaler.transform(model_input)"
   ]
  },
  {
   "cell_type": "code",
   "execution_count": 15,
   "id": "fbe879ae-73c9-4cef-a74e-a5c79a9506ac",
   "metadata": {},
   "outputs": [
    {
     "data": {
      "text/plain": [
       "array([False])"
      ]
     },
     "execution_count": 15,
     "metadata": {},
     "output_type": "execute_result"
    }
   ],
   "source": [
    "# Check for np.nan values in the scaled dataset.\n",
    "np.unique(np.isnan(model_input))"
   ]
  },
  {
   "cell_type": "markdown",
   "id": "83d2543e-10dc-4901-bdeb-8cd2811cf5d5",
   "metadata": {},
   "source": [
    "### Run K-Means Clustering\n",
    "\n",
    "Perform k-means clustering on the standardized `model_input` numpy array."
   ]
  },
  {
   "cell_type": "code",
   "execution_count": 16,
   "id": "b965ee60-7573-4c87-a689-eb52d8199969",
   "metadata": {},
   "outputs": [
    {
     "name": "stdout",
     "output_type": "stream",
     "text": [
      "CPU times: user 330 ms, sys: 99.5 ms, total: 429 ms\n",
      "Wall time: 135 ms\n"
     ]
    },
    {
     "data": {
      "text/plain": [
       "array([14,  9,  6,  0,  0,  0,  1,  3,  3, 11, 10, 13,  4,  1, 11, 11, 11,\n",
       "        7,  2, 13,  0,  1,  8,  1,  5,  8,  2,  1,  1,  1,  1,  6,  2,  2,\n",
       "       12,  6,  7, 12, 12,  2, 12, 12,  8,  8,  8,  8,  8,  8,  2,  6,  6,\n",
       "        2,  8,  8, 10,  1,  1, 10, 10,  0,  1,  4,  4,  1,  1, 10,  0,  4,\n",
       "        0, 10,  1,  4, 10,  4,  1,  6, 14, 10, 10,  1,  5,  5, 10],\n",
       "      dtype=int32)"
      ]
     },
     "execution_count": 16,
     "metadata": {},
     "output_type": "execute_result"
    }
   ],
   "source": [
    "%%time\n",
    "# Set up the kmeans classification by specifying the number of clusters.\n",
    "kmeans = KMeans(n_clusters=no_of_clusters, random_state=42)\n",
    "\n",
    "# Perform Kmeans clustering on the 'model_input'.\n",
    "# Begin iteratively computing the position of the clusters.\n",
    "kmeans.fit(model_input)\n",
    "\n",
    "# Use the sklearn kmeans `.predict` method to assign all the points of the `model_input` to a unique cluster.\n",
    "predicted = kmeans.predict(model_input)\n",
    "predicted"
   ]
  },
  {
   "cell_type": "code",
   "execution_count": 17,
   "id": "668385ba-ff4f-4586-9a16-d8e0a7c8f254",
   "metadata": {},
   "outputs": [
    {
     "data": {
      "text/html": [
       "<div>\n",
       "<style scoped>\n",
       "    .dataframe tbody tr th:only-of-type {\n",
       "        vertical-align: middle;\n",
       "    }\n",
       "\n",
       "    .dataframe tbody tr th {\n",
       "        vertical-align: top;\n",
       "    }\n",
       "\n",
       "    .dataframe thead th {\n",
       "        text-align: right;\n",
       "    }\n",
       "</style>\n",
       "<table border=\"1\" class=\"dataframe\">\n",
       "  <thead>\n",
       "    <tr style=\"text-align: right;\">\n",
       "      <th></th>\n",
       "      <th>Departemen</th>\n",
       "      <th>Commune</th>\n",
       "      <th>Cultures</th>\n",
       "      <th>geometry</th>\n",
       "      <th>id</th>\n",
       "      <th>predicted</th>\n",
       "    </tr>\n",
       "  </thead>\n",
       "  <tbody>\n",
       "    <tr>\n",
       "      <th>0</th>\n",
       "      <td>Boboye</td>\n",
       "      <td>Kiota</td>\n",
       "      <td>mil et niébé</td>\n",
       "      <td>POINT (2.96908 13.33147)</td>\n",
       "      <td>0</td>\n",
       "      <td>14</td>\n",
       "    </tr>\n",
       "    <tr>\n",
       "      <th>1</th>\n",
       "      <td>Boboye</td>\n",
       "      <td>Kiota</td>\n",
       "      <td>mil et niébé</td>\n",
       "      <td>POINT (2.93870 13.25270)</td>\n",
       "      <td>1</td>\n",
       "      <td>9</td>\n",
       "    </tr>\n",
       "    <tr>\n",
       "      <th>2</th>\n",
       "      <td>Boboye</td>\n",
       "      <td>Kiota</td>\n",
       "      <td>mil et niébé</td>\n",
       "      <td>POINT (2.94553 13.29112)</td>\n",
       "      <td>2</td>\n",
       "      <td>6</td>\n",
       "    </tr>\n",
       "    <tr>\n",
       "      <th>3</th>\n",
       "      <td>Boboye</td>\n",
       "      <td>Kiota</td>\n",
       "      <td>mil et niébé</td>\n",
       "      <td>POINT (2.97375 13.28498)</td>\n",
       "      <td>3</td>\n",
       "      <td>0</td>\n",
       "    </tr>\n",
       "    <tr>\n",
       "      <th>4</th>\n",
       "      <td>Boboye</td>\n",
       "      <td>Kiota</td>\n",
       "      <td>mil et niébé</td>\n",
       "      <td>POINT (2.98262 13.29145)</td>\n",
       "      <td>4</td>\n",
       "      <td>0</td>\n",
       "    </tr>\n",
       "  </tbody>\n",
       "</table>\n",
       "</div>"
      ],
      "text/plain": [
       "  Departemen Commune      Cultures                  geometry  id  predicted\n",
       "0     Boboye   Kiota  mil et niébé  POINT (2.96908 13.33147)   0         14\n",
       "1     Boboye   Kiota  mil et niébé  POINT (2.93870 13.25270)   1          9\n",
       "2     Boboye   Kiota  mil et niébé  POINT (2.94553 13.29112)   2          6\n",
       "3     Boboye   Kiota  mil et niébé  POINT (2.97375 13.28498)   3          0\n",
       "4     Boboye   Kiota  mil et niébé  POINT (2.98262 13.29145)   4          0"
      ]
     },
     "execution_count": 17,
     "metadata": {},
     "output_type": "execute_result"
    }
   ],
   "source": [
    "# Assign the predicted classes/clusters to the `gdf` GeoDataFrame.\n",
    "gdf[\"predicted\"] = predicted\n",
    "gdf.head()"
   ]
  },
  {
   "cell_type": "markdown",
   "id": "ad66c85a-0e9b-4f25-9ab7-aba151538a98",
   "metadata": {},
   "source": [
    "## Export the results"
   ]
  },
  {
   "cell_type": "code",
   "execution_count": 18,
   "id": "003cedef-37a9-49d7-bd87-9df439ed98ee",
   "metadata": {},
   "outputs": [],
   "source": [
    "# Export the results as a geojson file.\n",
    "gdf.to_file(\n",
    "    f\"{output_dir}/kmeans_{no_of_clusters}_classes_predicted_{time_01}.geojson\",\n",
    "    driver=\"GeoJSON\",\n",
    ")"
   ]
  },
  {
   "cell_type": "markdown",
   "id": "3d8ebb48-95c5-42e8-b429-41abfc90e9d4",
   "metadata": {},
   "source": [
    "## Recommended next steps\n",
    "\n",
    "To continue working through the notebooks in this workflow, go to the next notebook `02_group_classes_using_NDVI.ipynb`.\n",
    "\n",
    "1. **Unsupervised Class Identification (this notebook)**\n",
    "2. [Group Classes Using NDVI](02_group_classes_using_NDVI.ipynb.ipynb)\n",
    "3. [Reclassify Unsupervised NDVI](03_reclassify_unsupervised_map_NDVI_classes.ipynb)"
   ]
  },
  {
   "cell_type": "markdown",
   "id": "89fd9d5a-e8c4-41a0-8e42-570176078f7b",
   "metadata": {},
   "source": [
    "---\n",
    "\n",
    "## Additional information\n",
    "\n",
    "**License:** The code in this notebook is licensed under the [Apache License, Version 2.0](https://www.apache.org/licenses/LICENSE-2.0). \n",
    "Digital Earth Africa data is licensed under the [Creative Commons by Attribution 4.0](https://creativecommons.org/licenses/by/4.0/) license.\n",
    "\n",
    "**Contact:** If you need assistance, please post a question on the [Open Data Cube Slack channel](http://slack.opendatacube.org/) or on the [GIS Stack Exchange](https://gis.stackexchange.com/questions/ask?tags=open-data-cube) using the `open-data-cube` tag (you can view previously asked questions [here](https://gis.stackexchange.com/questions/tagged/open-data-cube)).\n",
    "If you would like to repoart an issue with this notebook, you can file one on [Github](https://github.com/digitalearthafrica/deafrica-sandbox-notebooks).\n",
    "\n",
    "**Compatible datacube version:**"
   ]
  },
  {
   "cell_type": "code",
   "execution_count": 19,
   "id": "ff79fcca-d0ec-4b0d-a61d-ce965c5e65c7",
   "metadata": {},
   "outputs": [
    {
     "name": "stdout",
     "output_type": "stream",
     "text": [
      "1.8.6\n"
     ]
    }
   ],
   "source": [
    "print(datacube.__version__)"
   ]
  },
  {
   "cell_type": "markdown",
   "id": "5df6ec07-545d-4ae0-9d09-9faa7f03f8eb",
   "metadata": {},
   "source": [
    "**Last Tested:**"
   ]
  },
  {
   "cell_type": "code",
   "execution_count": 20,
   "id": "110ab38a-6a88-4bd6-b1f8-204bdbea09ea",
   "metadata": {},
   "outputs": [
    {
     "data": {
      "text/plain": [
       "'2022-06-30'"
      ]
     },
     "execution_count": 20,
     "metadata": {},
     "output_type": "execute_result"
    }
   ],
   "source": [
    "from datetime import datetime\n",
    "\n",
    "datetime.today().strftime(\"%Y-%m-%d\")"
   ]
  }
 ],
 "metadata": {
  "kernelspec": {
   "display_name": "Python 3 (ipykernel)",
   "language": "python",
   "name": "python3"
  },
  "language_info": {
   "codemirror_mode": {
    "name": "ipython",
    "version": 3
   },
   "file_extension": ".py",
   "mimetype": "text/x-python",
   "name": "python",
   "nbconvert_exporter": "python",
   "pygments_lexer": "ipython3",
   "version": "3.8.10"
  },
  "widgets": {
   "application/vnd.jupyter.widget-state+json": {
    "state": {},
    "version_major": 2,
    "version_minor": 0
   }
  }
 },
 "nbformat": 4,
 "nbformat_minor": 5
}
