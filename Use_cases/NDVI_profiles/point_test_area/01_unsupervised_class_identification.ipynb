{
 "cells": [
  {
   "cell_type": "markdown",
   "id": "0043a286-ab79-47b0-8df1-4b39213e636c",
   "metadata": {
    "tags": []
   },
   "source": [
    "# Unsupervised Class Identification\n",
    "\n",
    "\n",
    "* **Products used:** \n",
    "[gm_s2_annual](https://explorer.digitalearth.africa/gm_s2_annual), \n",
    "[gm_s2_semiannual](https://explorer.digitalearth.africa/gm_s2_semiannual), \n",
    "[fc_ls_summary_annual](https://explorer.digitalearth.africa/fc_ls_summary_annual),\n"
   ]
  },
  {
   "cell_type": "raw",
   "id": "23e78ad1-2644-48f4-8514-74541ea9e073",
   "metadata": {
    "raw_mimetype": "text/restructuredtext",
    "tags": []
   },
   "source": [
    "**Keywords**: :index:`data used; sentinel-2 geomedian`, `data used; sentinel-2 semiannual geomedian`, index:`data used; MADs`, :index:`data used; fc_ls_summary_annual`,"
   ]
  },
  {
   "cell_type": "markdown",
   "id": "e94af07b-f7ec-4e9d-a717-a228b39204a0",
   "metadata": {},
   "source": [
    "## Background"
   ]
  },
  {
   "cell_type": "markdown",
   "id": "87ad2be1-1961-49c1-9918-a617c1bd3ad2",
   "metadata": {},
   "source": [
    "## Description\n",
    "\n",
    "The goal in this set of notebooks is to investigate whether unsupervised learning can be used identify individual crop-types in Niger.\n",
    "\n",
    "\n",
    "---"
   ]
  },
  {
   "cell_type": "markdown",
   "id": "72632c8a-26b0-4696-800a-23bebc2a2b19",
   "metadata": {},
   "source": [
    "## Getting Started\n",
    "\n",
    "To run this analysis, run all the cells in the notebook, starting with the \"**Load packages**\" cell."
   ]
  },
  {
   "cell_type": "markdown",
   "id": "6c62b6cd-2934-4a0e-90e9-208ccdfb0db4",
   "metadata": {},
   "source": [
    "### Load packages"
   ]
  },
  {
   "cell_type": "code",
   "execution_count": 1,
   "id": "820a2963-2b27-431b-bbd7-0312d54b81ca",
   "metadata": {},
   "outputs": [],
   "source": [
    "import os\n",
    "import pickle\n",
    "\n",
    "import datacube\n",
    "import geopandas as gpd\n",
    "import matplotlib as mpl\n",
    "import matplotlib.pyplot as plt\n",
    "import numpy as np\n",
    "import pandas as pd\n",
    "import rioxarray\n",
    "import xarray as xr\n",
    "from datacube.utils import geometry\n",
    "from datacube.utils.geometry import CRS, Geometry\n",
    "from deafrica_tools.bandindices import calculate_indices\n",
    "from deafrica_tools.classification import sklearn_flatten, sklearn_unflatten\n",
    "from deafrica_tools.dask import create_local_dask_cluster\n",
    "from deafrica_tools.datahandling import load_ard\n",
    "from deafrica_tools.plotting import display_map, rgb\n",
    "from deafrica_tools.spatial import xr_rasterize\n",
    "from deafrica_tools.temporal import temporal_statistics, xr_phenology\n",
    "from sklearn.cluster import DBSCAN, KMeans\n",
    "from sklearn.decomposition import PCA\n",
    "from sklearn.ensemble import RandomForestClassifier\n",
    "from sklearn.preprocessing import StandardScaler"
   ]
  },
  {
   "cell_type": "markdown",
   "id": "a082464a-7942-4603-9ef8-20f951ca9a44",
   "metadata": {},
   "source": [
    "### Set up a Dask cluster\n",
    "\n",
    "Dask can be used to better manage memory use and conduct the analysis in parallel. \n",
    "For an introduction to using Dask with Digital Earth Africa, see the [Dask notebook](../Beginners_guide/08_Parallel_processing_with_dask.ipynb).\n",
    "\n",
    ">**Note**: We recommend opening the Dask processing window to view the different computations that are being executed; to do this, see the *Dask dashboard in DE Africa* section of the [Dask notebook](../Beginners_guide/08_Parallel_processing_with_dask.ipynb).\n",
    "\n",
    "To use Dask, set up the local computing cluster using the cell below."
   ]
  },
  {
   "cell_type": "code",
   "execution_count": 2,
   "id": "4b1b75b7-e3ac-45de-84dd-f05fb1bce582",
   "metadata": {},
   "outputs": [
    {
     "data": {
      "text/html": [
       "<table style=\"border: 2px solid white;\">\n",
       "<tr>\n",
       "<td style=\"vertical-align: top; border: 0px solid white\">\n",
       "<h3 style=\"text-align: left;\">Client</h3>\n",
       "<ul style=\"text-align: left; list-style: none; margin: 0; padding: 0;\">\n",
       "  <li><b>Scheduler: </b>tcp://127.0.0.1:44683</li>\n",
       "  <li><b>Dashboard: </b><a href='/user/victoria@kartoza.com/proxy/8787/status' target='_blank'>/user/victoria@kartoza.com/proxy/8787/status</a></li>\n",
       "</ul>\n",
       "</td>\n",
       "<td style=\"vertical-align: top; border: 0px solid white\">\n",
       "<h3 style=\"text-align: left;\">Cluster</h3>\n",
       "<ul style=\"text-align: left; list-style:none; margin: 0; padding: 0;\">\n",
       "  <li><b>Workers: </b>1</li>\n",
       "  <li><b>Cores: </b>4</li>\n",
       "  <li><b>Memory: </b>28.14 GB</li>\n",
       "</ul>\n",
       "</td>\n",
       "</tr>\n",
       "</table>"
      ],
      "text/plain": [
       "<Client: 'tcp://127.0.0.1:44683' processes=1 threads=4, memory=28.14 GB>"
      ]
     },
     "metadata": {},
     "output_type": "display_data"
    }
   ],
   "source": [
    "create_local_dask_cluster()"
   ]
  },
  {
   "cell_type": "markdown",
   "id": "e4a0cfdd-4fa4-4ece-940e-df135a72ebc9",
   "metadata": {},
   "source": [
    "### Analysis parameters\n",
    "\n",
    "The following cell sets important parameters for the analysis:\n",
    "\n",
    "* `vector_file`: file path for the shapefile containing the points of interest\n",
    "* `time_01` : This is the time period of interest to load data for.\n",
    "* `resolution` : The spatial resolution, in metres, to resample the satellite data to. \n",
    "* `output_crs` : The coordinate reference system that the loaded data is to be reprojected to.\n",
    "* `dask_chunks`: the size of the dask chunks, dask breaks data into manageable chunks that can be easily stored in memory, e.g. dict(x=1000,y=1000)\n",
    "* `output_dir` : The directory in which to store results from the analysis.\n",
    "* `no_of_clusters` : The number of clusters to form as well as the number of centroids generated in the K-Means clustering.\n",
    "\n",
    "**If running the notebook for the first time**, keep the default settings below.\n",
    "This will demonstrate how the analysis works and provide meaningful results."
   ]
  },
  {
   "cell_type": "code",
   "execution_count": 3,
   "id": "54afcc9e-d0cc-4b5d-9444-c47e27f34dbb",
   "metadata": {},
   "outputs": [],
   "source": [
    "vector_file = \"../data/boundary_data/donnees_commune_kiota.geojson\"\n",
    "#vector_file = \"../data/boundary_data/donnees_commune_koygolo.geojson\"\n",
    "\n",
    "# File name to use when exporting results. \n",
    "file_name = \"donnees_commune_kiota\"\n",
    "# file_name = \"donnees_commune_koygolo\"\n",
    "\n",
    "# Time period of interest.\n",
    "time_01 = \"2020\"\n",
    "\n",
    "# Resolution and CRS to reproject data to.\n",
    "resolution = (-20, 20)\n",
    "output_crs = \"EPSG:6933\"\n",
    "\n",
    "# Size of dask chunks.\n",
    "dask_chunks = {\"time\": 1, \"x\": 500, \"y\": 500}\n",
    "\n",
    "# Create the output directory to store the results.\n",
    "output_dir = \"results\"\n",
    "os.makedirs(output_dir, exist_ok=True)\n",
    "\n",
    "# Specify the number of clusters to form as well as the number of centroids to generate in the K-Means Clustering.\n",
    "no_of_clusters = 15"
   ]
  },
  {
   "cell_type": "markdown",
   "id": "27424d01-de56-4804-ad22-ffeb53cde23f",
   "metadata": {},
   "source": [
    "### Connect to the datacube\n",
    "\n",
    "Connect to the datacube so we can access DE Africa data. \n",
    "The `app` parameter is a unique name for the analysis which is based on the notebook file name."
   ]
  },
  {
   "cell_type": "code",
   "execution_count": 4,
   "id": "672b00b9-a4b6-413b-ac2b-d60203ac8fee",
   "metadata": {},
   "outputs": [],
   "source": [
    "dc = datacube.Datacube(app=\"unsupervised_class_identification\")"
   ]
  },
  {
   "cell_type": "markdown",
   "id": "df0eab36-2e4f-4252-99f5-c64c10787d09",
   "metadata": {},
   "source": [
    "### Load the shapefile\n",
    "\n",
    "This shapefile contains the points of interest."
   ]
  },
  {
   "cell_type": "code",
   "execution_count": 5,
   "id": "ceb61b36-15da-44f4-ae4c-061e59846a3b",
   "metadata": {},
   "outputs": [
    {
     "data": {
      "text/html": [
       "<div style=\"width:100%;\"><div style=\"position:relative;width:100%;height:0;padding-bottom:60%;\"><span style=\"color:#565656\">Make this Notebook Trusted to load map: File -> Trust Notebook</span><iframe src=\"about:blank\" style=\"position:absolute;width:100%;height:100%;left:0;top:0;border:none !important;\" data-html=%3C%21DOCTYPE%20html%3E%0A%3Chead%3E%20%20%20%20%0A%20%20%20%20%3Cmeta%20http-equiv%3D%22content-type%22%20content%3D%22text/html%3B%20charset%3DUTF-8%22%20/%3E%0A%20%20%20%20%0A%20%20%20%20%20%20%20%20%3Cscript%3E%0A%20%20%20%20%20%20%20%20%20%20%20%20L_NO_TOUCH%20%3D%20false%3B%0A%20%20%20%20%20%20%20%20%20%20%20%20L_DISABLE_3D%20%3D%20false%3B%0A%20%20%20%20%20%20%20%20%3C/script%3E%0A%20%20%20%20%0A%20%20%20%20%3Cstyle%3Ehtml%2C%20body%20%7Bwidth%3A%20100%25%3Bheight%3A%20100%25%3Bmargin%3A%200%3Bpadding%3A%200%3B%7D%3C/style%3E%0A%20%20%20%20%3Cstyle%3E%23map%20%7Bposition%3Aabsolute%3Btop%3A0%3Bbottom%3A0%3Bright%3A0%3Bleft%3A0%3B%7D%3C/style%3E%0A%20%20%20%20%3Cscript%20src%3D%22https%3A//cdn.jsdelivr.net/npm/leaflet%401.6.0/dist/leaflet.js%22%3E%3C/script%3E%0A%20%20%20%20%3Cscript%20src%3D%22https%3A//code.jquery.com/jquery-1.12.4.min.js%22%3E%3C/script%3E%0A%20%20%20%20%3Cscript%20src%3D%22https%3A//maxcdn.bootstrapcdn.com/bootstrap/3.2.0/js/bootstrap.min.js%22%3E%3C/script%3E%0A%20%20%20%20%3Cscript%20src%3D%22https%3A//cdnjs.cloudflare.com/ajax/libs/Leaflet.awesome-markers/2.0.2/leaflet.awesome-markers.js%22%3E%3C/script%3E%0A%20%20%20%20%3Clink%20rel%3D%22stylesheet%22%20href%3D%22https%3A//cdn.jsdelivr.net/npm/leaflet%401.6.0/dist/leaflet.css%22/%3E%0A%20%20%20%20%3Clink%20rel%3D%22stylesheet%22%20href%3D%22https%3A//maxcdn.bootstrapcdn.com/bootstrap/3.2.0/css/bootstrap.min.css%22/%3E%0A%20%20%20%20%3Clink%20rel%3D%22stylesheet%22%20href%3D%22https%3A//maxcdn.bootstrapcdn.com/bootstrap/3.2.0/css/bootstrap-theme.min.css%22/%3E%0A%20%20%20%20%3Clink%20rel%3D%22stylesheet%22%20href%3D%22https%3A//maxcdn.bootstrapcdn.com/font-awesome/4.6.3/css/font-awesome.min.css%22/%3E%0A%20%20%20%20%3Clink%20rel%3D%22stylesheet%22%20href%3D%22https%3A//cdnjs.cloudflare.com/ajax/libs/Leaflet.awesome-markers/2.0.2/leaflet.awesome-markers.css%22/%3E%0A%20%20%20%20%3Clink%20rel%3D%22stylesheet%22%20href%3D%22https%3A//cdn.jsdelivr.net/gh/python-visualization/folium/folium/templates/leaflet.awesome.rotate.min.css%22/%3E%0A%20%20%20%20%0A%20%20%20%20%20%20%20%20%20%20%20%20%3Cmeta%20name%3D%22viewport%22%20content%3D%22width%3Ddevice-width%2C%0A%20%20%20%20%20%20%20%20%20%20%20%20%20%20%20%20initial-scale%3D1.0%2C%20maximum-scale%3D1.0%2C%20user-scalable%3Dno%22%20/%3E%0A%20%20%20%20%20%20%20%20%20%20%20%20%3Cstyle%3E%0A%20%20%20%20%20%20%20%20%20%20%20%20%20%20%20%20%23map_023d52094841438288769426baf8f27c%20%7B%0A%20%20%20%20%20%20%20%20%20%20%20%20%20%20%20%20%20%20%20%20position%3A%20relative%3B%0A%20%20%20%20%20%20%20%20%20%20%20%20%20%20%20%20%20%20%20%20width%3A%20100.0%25%3B%0A%20%20%20%20%20%20%20%20%20%20%20%20%20%20%20%20%20%20%20%20height%3A%20100.0%25%3B%0A%20%20%20%20%20%20%20%20%20%20%20%20%20%20%20%20%20%20%20%20left%3A%200.0%25%3B%0A%20%20%20%20%20%20%20%20%20%20%20%20%20%20%20%20%20%20%20%20top%3A%200.0%25%3B%0A%20%20%20%20%20%20%20%20%20%20%20%20%20%20%20%20%7D%0A%20%20%20%20%20%20%20%20%20%20%20%20%3C/style%3E%0A%20%20%20%20%20%20%20%20%0A%20%20%20%20%0A%20%20%20%20%20%20%20%20%20%20%20%20%20%20%20%20%20%20%20%20%3Cstyle%3E%0A%20%20%20%20%20%20%20%20%20%20%20%20%20%20%20%20%20%20%20%20%20%20%20%20.foliumtooltip%20%7B%0A%20%20%20%20%20%20%20%20%20%20%20%20%20%20%20%20%20%20%20%20%20%20%20%20%20%20%20%20%0A%20%20%20%20%20%20%20%20%20%20%20%20%20%20%20%20%20%20%20%20%20%20%20%20%7D%0A%20%20%20%20%20%20%20%20%20%20%20%20%20%20%20%20%20%20%20%20%20%20%20.foliumtooltip%20table%7B%0A%20%20%20%20%20%20%20%20%20%20%20%20%20%20%20%20%20%20%20%20%20%20%20%20%20%20%20%20margin%3A%20auto%3B%0A%20%20%20%20%20%20%20%20%20%20%20%20%20%20%20%20%20%20%20%20%20%20%20%20%7D%0A%20%20%20%20%20%20%20%20%20%20%20%20%20%20%20%20%20%20%20%20%20%20%20%20.foliumtooltip%20tr%7B%0A%20%20%20%20%20%20%20%20%20%20%20%20%20%20%20%20%20%20%20%20%20%20%20%20%20%20%20%20text-align%3A%20left%3B%0A%20%20%20%20%20%20%20%20%20%20%20%20%20%20%20%20%20%20%20%20%20%20%20%20%7D%0A%20%20%20%20%20%20%20%20%20%20%20%20%20%20%20%20%20%20%20%20%20%20%20%20.foliumtooltip%20th%7B%0A%20%20%20%20%20%20%20%20%20%20%20%20%20%20%20%20%20%20%20%20%20%20%20%20%20%20%20%20padding%3A%202px%3B%20padding-right%3A%208px%3B%0A%20%20%20%20%20%20%20%20%20%20%20%20%20%20%20%20%20%20%20%20%20%20%20%20%7D%0A%20%20%20%20%20%20%20%20%20%20%20%20%20%20%20%20%20%20%20%20%3C/style%3E%0A%20%20%20%20%20%20%20%20%20%20%20%20%0A%3C/head%3E%0A%3Cbody%3E%20%20%20%20%0A%20%20%20%20%0A%20%20%20%20%20%20%20%20%20%20%20%20%3Cdiv%20class%3D%22folium-map%22%20id%3D%22map_023d52094841438288769426baf8f27c%22%20%3E%3C/div%3E%0A%20%20%20%20%20%20%20%20%0A%3C/body%3E%0A%3Cscript%3E%20%20%20%20%0A%20%20%20%20%0A%20%20%20%20%20%20%20%20%20%20%20%20var%20map_023d52094841438288769426baf8f27c%20%3D%20L.map%28%0A%20%20%20%20%20%20%20%20%20%20%20%20%20%20%20%20%22map_023d52094841438288769426baf8f27c%22%2C%0A%20%20%20%20%20%20%20%20%20%20%20%20%20%20%20%20%7B%0A%20%20%20%20%20%20%20%20%20%20%20%20%20%20%20%20%20%20%20%20center%3A%20%5B13.303308335%2C%202.9512496665%5D%2C%0A%20%20%20%20%20%20%20%20%20%20%20%20%20%20%20%20%20%20%20%20crs%3A%20L.CRS.EPSG3857%2C%0A%20%20%20%20%20%20%20%20%20%20%20%20%20%20%20%20%20%20%20%20zoom%3A%2010%2C%0A%20%20%20%20%20%20%20%20%20%20%20%20%20%20%20%20%20%20%20%20zoomControl%3A%20true%2C%0A%20%20%20%20%20%20%20%20%20%20%20%20%20%20%20%20%20%20%20%20preferCanvas%3A%20false%2C%0A%20%20%20%20%20%20%20%20%20%20%20%20%20%20%20%20%7D%0A%20%20%20%20%20%20%20%20%20%20%20%20%29%3B%0A%20%20%20%20%20%20%20%20%20%20%20%20L.control.scale%28%29.addTo%28map_023d52094841438288769426baf8f27c%29%3B%0A%0A%20%20%20%20%20%20%20%20%20%20%20%20%0A%0A%20%20%20%20%20%20%20%20%0A%20%20%20%20%0A%20%20%20%20%20%20%20%20%20%20%20%20var%20tile_layer_3e3dd7ffec4e4fcfbe846b535063a9f1%20%3D%20L.tileLayer%28%0A%20%20%20%20%20%20%20%20%20%20%20%20%20%20%20%20%22https%3A//%7Bs%7D.tile.openstreetmap.org/%7Bz%7D/%7Bx%7D/%7By%7D.png%22%2C%0A%20%20%20%20%20%20%20%20%20%20%20%20%20%20%20%20%7B%22attribution%22%3A%20%22Data%20by%20%5Cu0026copy%3B%20%5Cu003ca%20href%3D%5C%22http%3A//openstreetmap.org%5C%22%5Cu003eOpenStreetMap%5Cu003c/a%5Cu003e%2C%20under%20%5Cu003ca%20href%3D%5C%22http%3A//www.openstreetmap.org/copyright%5C%22%5Cu003eODbL%5Cu003c/a%5Cu003e.%22%2C%20%22detectRetina%22%3A%20false%2C%20%22maxNativeZoom%22%3A%2018%2C%20%22maxZoom%22%3A%2018%2C%20%22minZoom%22%3A%200%2C%20%22noWrap%22%3A%20false%2C%20%22opacity%22%3A%201%2C%20%22subdomains%22%3A%20%22abc%22%2C%20%22tms%22%3A%20false%7D%0A%20%20%20%20%20%20%20%20%20%20%20%20%29.addTo%28map_023d52094841438288769426baf8f27c%29%3B%0A%20%20%20%20%20%20%20%20%0A%20%20%20%20%0A%20%20%20%20%20%20%20%20%20%20%20%20map_023d52094841438288769426baf8f27c.fitBounds%28%0A%20%20%20%20%20%20%20%20%20%20%20%20%20%20%20%20%5B%5B13.22966667%2C%202.912%5D%2C%20%5B13.37695%2C%202.990499333%5D%5D%2C%0A%20%20%20%20%20%20%20%20%20%20%20%20%20%20%20%20%7B%7D%0A%20%20%20%20%20%20%20%20%20%20%20%20%29%3B%0A%20%20%20%20%20%20%20%20%0A%20%20%20%20%0A%20%20%20%20%20%20%20%20function%20geo_json_43d93a1790534a9797d5fbb0c55688ed_styler%28feature%29%20%7B%0A%20%20%20%20%20%20%20%20%20%20%20%20switch%28feature.id%29%20%7B%0A%20%20%20%20%20%20%20%20%20%20%20%20%20%20%20%20default%3A%0A%20%20%20%20%20%20%20%20%20%20%20%20%20%20%20%20%20%20%20%20return%20%7B%22fillOpacity%22%3A%200.5%2C%20%22weight%22%3A%202%7D%3B%0A%20%20%20%20%20%20%20%20%20%20%20%20%7D%0A%20%20%20%20%20%20%20%20%7D%0A%20%20%20%20%20%20%20%20function%20geo_json_43d93a1790534a9797d5fbb0c55688ed_highlighter%28feature%29%20%7B%0A%20%20%20%20%20%20%20%20%20%20%20%20switch%28feature.id%29%20%7B%0A%20%20%20%20%20%20%20%20%20%20%20%20%20%20%20%20default%3A%0A%20%20%20%20%20%20%20%20%20%20%20%20%20%20%20%20%20%20%20%20return%20%7B%22fillOpacity%22%3A%200.75%7D%3B%0A%20%20%20%20%20%20%20%20%20%20%20%20%7D%0A%20%20%20%20%20%20%20%20%7D%0A%20%20%20%20%20%20%20%20function%20geo_json_43d93a1790534a9797d5fbb0c55688ed_pointToLayer%28feature%2C%20latlng%29%20%7B%0A%20%20%20%20%20%20%20%20%20%20%20%20var%20opts%20%3D%20%7B%22bubblingMouseEvents%22%3A%20true%2C%20%22color%22%3A%20%22%233388ff%22%2C%20%22dashArray%22%3A%20null%2C%20%22dashOffset%22%3A%20null%2C%20%22fill%22%3A%20true%2C%20%22fillColor%22%3A%20%22%233388ff%22%2C%20%22fillOpacity%22%3A%200.2%2C%20%22fillRule%22%3A%20%22evenodd%22%2C%20%22lineCap%22%3A%20%22round%22%2C%20%22lineJoin%22%3A%20%22round%22%2C%20%22opacity%22%3A%201.0%2C%20%22radius%22%3A%202%2C%20%22stroke%22%3A%20true%2C%20%22weight%22%3A%203%7D%3B%0A%20%20%20%20%20%20%20%20%20%20%20%20%0A%20%20%20%20%20%20%20%20%20%20%20%20let%20style%20%3D%20geo_json_43d93a1790534a9797d5fbb0c55688ed_styler%28feature%29%0A%20%20%20%20%20%20%20%20%20%20%20%20Object.assign%28opts%2C%20style%29%0A%20%20%20%20%20%20%20%20%20%20%20%20%0A%20%20%20%20%20%20%20%20%20%20%20%20return%20new%20L.CircleMarker%28latlng%2C%20opts%29%0A%20%20%20%20%20%20%20%20%7D%0A%0A%20%20%20%20%20%20%20%20function%20geo_json_43d93a1790534a9797d5fbb0c55688ed_onEachFeature%28feature%2C%20layer%29%20%7B%0A%20%20%20%20%20%20%20%20%20%20%20%20layer.on%28%7B%0A%20%20%20%20%20%20%20%20%20%20%20%20%20%20%20%20mouseout%3A%20function%28e%29%20%7B%0A%20%20%20%20%20%20%20%20%20%20%20%20%20%20%20%20%20%20%20%20if%28typeof%20e.target.setStyle%20%3D%3D%3D%20%22function%22%29%7B%0A%20%20%20%20%20%20%20%20%20%20%20%20%20%20%20%20%20%20%20%20%20%20%20%20geo_json_43d93a1790534a9797d5fbb0c55688ed.resetStyle%28e.target%29%3B%0A%20%20%20%20%20%20%20%20%20%20%20%20%20%20%20%20%20%20%20%20%7D%0A%20%20%20%20%20%20%20%20%20%20%20%20%20%20%20%20%7D%2C%0A%20%20%20%20%20%20%20%20%20%20%20%20%20%20%20%20mouseover%3A%20function%28e%29%20%7B%0A%20%20%20%20%20%20%20%20%20%20%20%20%20%20%20%20%20%20%20%20if%28typeof%20e.target.setStyle%20%3D%3D%3D%20%22function%22%29%7B%0A%20%20%20%20%20%20%20%20%20%20%20%20%20%20%20%20%20%20%20%20%20%20%20%20const%20highlightStyle%20%3D%20geo_json_43d93a1790534a9797d5fbb0c55688ed_highlighter%28e.target.feature%29%0A%20%20%20%20%20%20%20%20%20%20%20%20%20%20%20%20%20%20%20%20%20%20%20%20e.target.setStyle%28highlightStyle%29%3B%0A%20%20%20%20%20%20%20%20%20%20%20%20%20%20%20%20%20%20%20%20%7D%0A%20%20%20%20%20%20%20%20%20%20%20%20%20%20%20%20%7D%2C%0A%20%20%20%20%20%20%20%20%20%20%20%20%7D%29%3B%0A%20%20%20%20%20%20%20%20%7D%3B%0A%20%20%20%20%20%20%20%20var%20geo_json_43d93a1790534a9797d5fbb0c55688ed%20%3D%20L.geoJson%28null%2C%20%7B%0A%20%20%20%20%20%20%20%20%20%20%20%20%20%20%20%20onEachFeature%3A%20geo_json_43d93a1790534a9797d5fbb0c55688ed_onEachFeature%2C%0A%20%20%20%20%20%20%20%20%20%20%20%20%0A%20%20%20%20%20%20%20%20%20%20%20%20%20%20%20%20style%3A%20geo_json_43d93a1790534a9797d5fbb0c55688ed_styler%2C%0A%20%20%20%20%20%20%20%20%20%20%20%20%20%20%20%20pointToLayer%3A%20geo_json_43d93a1790534a9797d5fbb0c55688ed_pointToLayer%0A%20%20%20%20%20%20%20%20%7D%29%3B%0A%0A%20%20%20%20%20%20%20%20function%20geo_json_43d93a1790534a9797d5fbb0c55688ed_add%20%28data%29%20%7B%0A%20%20%20%20%20%20%20%20%20%20%20%20geo_json_43d93a1790534a9797d5fbb0c55688ed%0A%20%20%20%20%20%20%20%20%20%20%20%20%20%20%20%20.addData%28data%29%0A%20%20%20%20%20%20%20%20%20%20%20%20%20%20%20%20.addTo%28map_023d52094841438288769426baf8f27c%29%3B%0A%20%20%20%20%20%20%20%20%7D%0A%20%20%20%20%20%20%20%20%20%20%20%20geo_json_43d93a1790534a9797d5fbb0c55688ed_add%28%7B%22bbox%22%3A%20%5B2.912%2C%2013.22966667%2C%202.990499333%2C%2013.37695%5D%2C%20%22features%22%3A%20%5B%7B%22bbox%22%3A%20%5B2.969083333%2C%2013.33146667%2C%202.969083333%2C%2013.33146667%5D%2C%20%22geometry%22%3A%20%7B%22coordinates%22%3A%20%5B2.969083333%2C%2013.33146667%5D%2C%20%22type%22%3A%20%22Point%22%7D%2C%20%22id%22%3A%20%220%22%2C%20%22properties%22%3A%20%7B%22Commune%22%3A%20%22Kiota%22%2C%20%22Cultures%22%3A%20%22mil%20et%20ni%5Cu00e9b%5Cu00e9%22%2C%20%22Departemen%22%3A%20%22Boboye%22%2C%20%22id%22%3A%200%7D%2C%20%22type%22%3A%20%22Feature%22%7D%2C%20%7B%22bbox%22%3A%20%5B2.9387%2C%2013.25270083%2C%202.9387%2C%2013.25270083%5D%2C%20%22geometry%22%3A%20%7B%22coordinates%22%3A%20%5B2.9387%2C%2013.25270083%5D%2C%20%22type%22%3A%20%22Point%22%7D%2C%20%22id%22%3A%20%221%22%2C%20%22properties%22%3A%20%7B%22Commune%22%3A%20%22Kiota%22%2C%20%22Cultures%22%3A%20%22mil%20et%20ni%5Cu00e9b%5Cu00e9%22%2C%20%22Departemen%22%3A%20%22Boboye%22%2C%20%22id%22%3A%201%7D%2C%20%22type%22%3A%20%22Feature%22%7D%2C%20%7B%22bbox%22%3A%20%5B2.945533333%2C%2013.29111667%2C%202.945533333%2C%2013.29111667%5D%2C%20%22geometry%22%3A%20%7B%22coordinates%22%3A%20%5B2.945533333%2C%2013.29111667%5D%2C%20%22type%22%3A%20%22Point%22%7D%2C%20%22id%22%3A%20%222%22%2C%20%22properties%22%3A%20%7B%22Commune%22%3A%20%22Kiota%22%2C%20%22Cultures%22%3A%20%22mil%20et%20ni%5Cu00e9b%5Cu00e9%22%2C%20%22Departemen%22%3A%20%22Boboye%22%2C%20%22id%22%3A%202%7D%2C%20%22type%22%3A%20%22Feature%22%7D%2C%20%7B%22bbox%22%3A%20%5B2.97375%2C%2013.28498333%2C%202.97375%2C%2013.28498333%5D%2C%20%22geometry%22%3A%20%7B%22coordinates%22%3A%20%5B2.97375%2C%2013.28498333%5D%2C%20%22type%22%3A%20%22Point%22%7D%2C%20%22id%22%3A%20%223%22%2C%20%22properties%22%3A%20%7B%22Commune%22%3A%20%22Kiota%22%2C%20%22Cultures%22%3A%20%22mil%20et%20ni%5Cu00e9b%5Cu00e9%22%2C%20%22Departemen%22%3A%20%22Boboye%22%2C%20%22id%22%3A%203%7D%2C%20%22type%22%3A%20%22Feature%22%7D%2C%20%7B%22bbox%22%3A%20%5B2.982616667%2C%2013.29145%2C%202.982616667%2C%2013.29145%5D%2C%20%22geometry%22%3A%20%7B%22coordinates%22%3A%20%5B2.982616667%2C%2013.29145%5D%2C%20%22type%22%3A%20%22Point%22%7D%2C%20%22id%22%3A%20%224%22%2C%20%22properties%22%3A%20%7B%22Commune%22%3A%20%22Kiota%22%2C%20%22Cultures%22%3A%20%22mil%20et%20ni%5Cu00e9b%5Cu00e9%22%2C%20%22Departemen%22%3A%20%22Boboye%22%2C%20%22id%22%3A%204%7D%2C%20%22type%22%3A%20%22Feature%22%7D%2C%20%7B%22bbox%22%3A%20%5B2.96875%2C%2013.2839%2C%202.96875%2C%2013.2839%5D%2C%20%22geometry%22%3A%20%7B%22coordinates%22%3A%20%5B2.96875%2C%2013.2839%5D%2C%20%22type%22%3A%20%22Point%22%7D%2C%20%22id%22%3A%20%225%22%2C%20%22properties%22%3A%20%7B%22Commune%22%3A%20%22Kiota%22%2C%20%22Cultures%22%3A%20%22mil%20et%20ni%5Cu00e9b%5Cu00e9%22%2C%20%22Departemen%22%3A%20%22Boboye%22%2C%20%22id%22%3A%205%7D%2C%20%22type%22%3A%20%22Feature%22%7D%2C%20%7B%22bbox%22%3A%20%5B2.930533333%2C%2013.28928333%2C%202.930533333%2C%2013.28928333%5D%2C%20%22geometry%22%3A%20%7B%22coordinates%22%3A%20%5B2.930533333%2C%2013.28928333%5D%2C%20%22type%22%3A%20%22Point%22%7D%2C%20%22id%22%3A%20%226%22%2C%20%22properties%22%3A%20%7B%22Commune%22%3A%20%22Kiota%22%2C%20%22Cultures%22%3A%20%22mil%20et%20ni%5Cu00e9b%5Cu00e9%22%2C%20%22Departemen%22%3A%20%22Boboye%22%2C%20%22id%22%3A%206%7D%2C%20%22type%22%3A%20%22Feature%22%7D%2C%20%7B%22bbox%22%3A%20%5B2.95437%2C%2013.254016%2C%202.95437%2C%2013.254016%5D%2C%20%22geometry%22%3A%20%7B%22coordinates%22%3A%20%5B2.95437%2C%2013.254016%5D%2C%20%22type%22%3A%20%22Point%22%7D%2C%20%22id%22%3A%20%227%22%2C%20%22properties%22%3A%20%7B%22Commune%22%3A%20%22Kiota%22%2C%20%22Cultures%22%3A%20%22mil%20et%20ni%5Cu00e9b%5Cu00e9%22%2C%20%22Departemen%22%3A%20%22Boboye%22%2C%20%22id%22%3A%207%7D%2C%20%22type%22%3A%20%22Feature%22%7D%2C%20%7B%22bbox%22%3A%20%5B2.954368%2C%2013.253606%2C%202.954368%2C%2013.253606%5D%2C%20%22geometry%22%3A%20%7B%22coordinates%22%3A%20%5B2.954368%2C%2013.253606%5D%2C%20%22type%22%3A%20%22Point%22%7D%2C%20%22id%22%3A%20%228%22%2C%20%22properties%22%3A%20%7B%22Commune%22%3A%20%22Kiota%22%2C%20%22Cultures%22%3A%20%22mil%20et%20ni%5Cu00e9b%5Cu00e9%22%2C%20%22Departemen%22%3A%20%22Boboye%22%2C%20%22id%22%3A%208%7D%2C%20%22type%22%3A%20%22Feature%22%7D%2C%20%7B%22bbox%22%3A%20%5B2.955313%2C%2013.254253%2C%202.955313%2C%2013.254253%5D%2C%20%22geometry%22%3A%20%7B%22coordinates%22%3A%20%5B2.955313%2C%2013.254253%5D%2C%20%22type%22%3A%20%22Point%22%7D%2C%20%22id%22%3A%20%229%22%2C%20%22properties%22%3A%20%7B%22Commune%22%3A%20%22Kiota%22%2C%20%22Cultures%22%3A%20%22mil%20et%20ni%5Cu00e9b%5Cu00e9%22%2C%20%22Departemen%22%3A%20%22Boboye%22%2C%20%22id%22%3A%209%7D%2C%20%22type%22%3A%20%22Feature%22%7D%2C%20%7B%22bbox%22%3A%20%5B2.955765%2C%2013.254517%2C%202.955765%2C%2013.254517%5D%2C%20%22geometry%22%3A%20%7B%22coordinates%22%3A%20%5B2.955765%2C%2013.254517%5D%2C%20%22type%22%3A%20%22Point%22%7D%2C%20%22id%22%3A%20%2210%22%2C%20%22properties%22%3A%20%7B%22Commune%22%3A%20%22Kiota%22%2C%20%22Cultures%22%3A%20%22mil%20et%20ni%5Cu00e9b%5Cu00e9%22%2C%20%22Departemen%22%3A%20%22Boboye%22%2C%20%22id%22%3A%2010%7D%2C%20%22type%22%3A%20%22Feature%22%7D%2C%20%7B%22bbox%22%3A%20%5B2.96578%2C%2013.256089%2C%202.96578%2C%2013.256089%5D%2C%20%22geometry%22%3A%20%7B%22coordinates%22%3A%20%5B2.96578%2C%2013.256089%5D%2C%20%22type%22%3A%20%22Point%22%7D%2C%20%22id%22%3A%20%2211%22%2C%20%22properties%22%3A%20%7B%22Commune%22%3A%20%22Kiota%22%2C%20%22Cultures%22%3A%20%22mil%20et%20ni%5Cu00e9b%5Cu00e9%22%2C%20%22Departemen%22%3A%20%22Boboye%22%2C%20%22id%22%3A%2011%7D%2C%20%22type%22%3A%20%22Feature%22%7D%2C%20%7B%22bbox%22%3A%20%5B2.969995667%2C%2013.259135%2C%202.969995667%2C%2013.259135%5D%2C%20%22geometry%22%3A%20%7B%22coordinates%22%3A%20%5B2.969995667%2C%2013.259135%5D%2C%20%22type%22%3A%20%22Point%22%7D%2C%20%22id%22%3A%20%2212%22%2C%20%22properties%22%3A%20%7B%22Commune%22%3A%20%22Kiota%22%2C%20%22Cultures%22%3A%20%22mil%20et%20ni%5Cu00e9b%5Cu00e9%22%2C%20%22Departemen%22%3A%20%22Boboye%22%2C%20%22id%22%3A%2012%7D%2C%20%22type%22%3A%20%22Feature%22%7D%2C%20%7B%22bbox%22%3A%20%5B2.969982667%2C%2013.254953%2C%202.969982667%2C%2013.254953%5D%2C%20%22geometry%22%3A%20%7B%22coordinates%22%3A%20%5B2.969982667%2C%2013.254953%5D%2C%20%22type%22%3A%20%22Point%22%7D%2C%20%22id%22%3A%20%2213%22%2C%20%22properties%22%3A%20%7B%22Commune%22%3A%20%22Kiota%22%2C%20%22Cultures%22%3A%20%22mil%20et%20ni%5Cu00e9b%5Cu00e9%22%2C%20%22Departemen%22%3A%20%22Boboye%22%2C%20%22id%22%3A%2013%7D%2C%20%22type%22%3A%20%22Feature%22%7D%2C%20%7B%22bbox%22%3A%20%5B2.976211667%2C%2013.25369308%2C%202.976211667%2C%2013.25369308%5D%2C%20%22geometry%22%3A%20%7B%22coordinates%22%3A%20%5B2.976211667%2C%2013.25369308%5D%2C%20%22type%22%3A%20%22Point%22%7D%2C%20%22id%22%3A%20%2214%22%2C%20%22properties%22%3A%20%7B%22Commune%22%3A%20%22Kiota%22%2C%20%22Cultures%22%3A%20%22mil%20et%20ni%5Cu00e9b%5Cu00e9%22%2C%20%22Departemen%22%3A%20%22Boboye%22%2C%20%22id%22%3A%2014%7D%2C%20%22type%22%3A%20%22Feature%22%7D%2C%20%7B%22bbox%22%3A%20%5B2.976205667%2C%2013.253689%2C%202.976205667%2C%2013.253689%5D%2C%20%22geometry%22%3A%20%7B%22coordinates%22%3A%20%5B2.976205667%2C%2013.253689%5D%2C%20%22type%22%3A%20%22Point%22%7D%2C%20%22id%22%3A%20%2215%22%2C%20%22properties%22%3A%20%7B%22Commune%22%3A%20%22Kiota%22%2C%20%22Cultures%22%3A%20%22mil%20et%20ni%5Cu00e9b%5Cu00e9%22%2C%20%22Departemen%22%3A%20%22Boboye%22%2C%20%22id%22%3A%2015%7D%2C%20%22type%22%3A%20%22Feature%22%7D%2C%20%7B%22bbox%22%3A%20%5B2.990499333%2C%2013.25808%2C%202.990499333%2C%2013.25808%5D%2C%20%22geometry%22%3A%20%7B%22coordinates%22%3A%20%5B2.990499333%2C%2013.25808%5D%2C%20%22type%22%3A%20%22Point%22%7D%2C%20%22id%22%3A%20%2216%22%2C%20%22properties%22%3A%20%7B%22Commune%22%3A%20%22Kiota%22%2C%20%22Cultures%22%3A%20%22mil%20et%20ni%5Cu00e9b%5Cu00e9%22%2C%20%22Departemen%22%3A%20%22Boboye%22%2C%20%22id%22%3A%2016%7D%2C%20%22type%22%3A%20%22Feature%22%7D%2C%20%7B%22bbox%22%3A%20%5B2.946966667%2C%2013.24693333%2C%202.946966667%2C%2013.24693333%5D%2C%20%22geometry%22%3A%20%7B%22coordinates%22%3A%20%5B2.946966667%2C%2013.24693333%5D%2C%20%22type%22%3A%20%22Point%22%7D%2C%20%22id%22%3A%20%2217%22%2C%20%22properties%22%3A%20%7B%22Commune%22%3A%20%22Kiota%22%2C%20%22Cultures%22%3A%20%22mil%20et%20ni%5Cu00e9b%5Cu00e9%22%2C%20%22Departemen%22%3A%20%22Boboye%22%2C%20%22id%22%3A%2017%7D%2C%20%22type%22%3A%20%22Feature%22%7D%2C%20%7B%22bbox%22%3A%20%5B2.948183333%2C%2013.23975%2C%202.948183333%2C%2013.23975%5D%2C%20%22geometry%22%3A%20%7B%22coordinates%22%3A%20%5B2.948183333%2C%2013.23975%5D%2C%20%22type%22%3A%20%22Point%22%7D%2C%20%22id%22%3A%20%2218%22%2C%20%22properties%22%3A%20%7B%22Commune%22%3A%20%22Kiota%22%2C%20%22Cultures%22%3A%20%22mil%20et%20ni%5Cu00e9b%5Cu00e9%22%2C%20%22Departemen%22%3A%20%22Boboye%22%2C%20%22id%22%3A%2018%7D%2C%20%22type%22%3A%20%22Feature%22%7D%2C%20%7B%22bbox%22%3A%20%5B2.981366667%2C%2013.22966667%2C%202.981366667%2C%2013.22966667%5D%2C%20%22geometry%22%3A%20%7B%22coordinates%22%3A%20%5B2.981366667%2C%2013.22966667%5D%2C%20%22type%22%3A%20%22Point%22%7D%2C%20%22id%22%3A%20%2219%22%2C%20%22properties%22%3A%20%7B%22Commune%22%3A%20%22Kiota%22%2C%20%22Cultures%22%3A%20%22mil%20et%20ni%5Cu00e9b%5Cu00e9%22%2C%20%22Departemen%22%3A%20%22Boboye%22%2C%20%22id%22%3A%2019%7D%2C%20%22type%22%3A%20%22Feature%22%7D%2C%20%7B%22bbox%22%3A%20%5B2.973833333%2C%2013.28501667%2C%202.973833333%2C%2013.28501667%5D%2C%20%22geometry%22%3A%20%7B%22coordinates%22%3A%20%5B2.973833333%2C%2013.28501667%5D%2C%20%22type%22%3A%20%22Point%22%7D%2C%20%22id%22%3A%20%2220%22%2C%20%22properties%22%3A%20%7B%22Commune%22%3A%20%22Kiota%22%2C%20%22Cultures%22%3A%20%22mil%20et%20ni%5Cu00e9b%5Cu00e9%22%2C%20%22Departemen%22%3A%20%22Boboye%22%2C%20%22id%22%3A%2020%7D%2C%20%22type%22%3A%20%22Feature%22%7D%2C%20%7B%22bbox%22%3A%20%5B2.973883333%2C%2013.29986667%2C%202.973883333%2C%2013.29986667%5D%2C%20%22geometry%22%3A%20%7B%22coordinates%22%3A%20%5B2.973883333%2C%2013.29986667%5D%2C%20%22type%22%3A%20%22Point%22%7D%2C%20%22id%22%3A%20%2221%22%2C%20%22properties%22%3A%20%7B%22Commune%22%3A%20%22Kiota%22%2C%20%22Cultures%22%3A%20%22mil%20et%20ni%5Cu00e9b%5Cu00e9%22%2C%20%22Departemen%22%3A%20%22Boboye%22%2C%20%22id%22%3A%2021%7D%2C%20%22type%22%3A%20%22Feature%22%7D%2C%20%7B%22bbox%22%3A%20%5B2.958633333%2C%2013.36955%2C%202.958633333%2C%2013.36955%5D%2C%20%22geometry%22%3A%20%7B%22coordinates%22%3A%20%5B2.958633333%2C%2013.36955%5D%2C%20%22type%22%3A%20%22Point%22%7D%2C%20%22id%22%3A%20%2222%22%2C%20%22properties%22%3A%20%7B%22Commune%22%3A%20%22Kiota%22%2C%20%22Cultures%22%3A%20%22mil%20et%20ni%5Cu00e9b%5Cu00e9%22%2C%20%22Departemen%22%3A%20null%2C%20%22id%22%3A%2022%7D%2C%20%22type%22%3A%20%22Feature%22%7D%2C%20%7B%22bbox%22%3A%20%5B2.930916667%2C%2013.28623333%2C%202.930916667%2C%2013.28623333%5D%2C%20%22geometry%22%3A%20%7B%22coordinates%22%3A%20%5B2.930916667%2C%2013.28623333%5D%2C%20%22type%22%3A%20%22Point%22%7D%2C%20%22id%22%3A%20%2223%22%2C%20%22properties%22%3A%20%7B%22Commune%22%3A%20%22Kiota%22%2C%20%22Cultures%22%3A%20%22mil%20et%20ni%5Cu00e9b%5Cu00e9%22%2C%20%22Departemen%22%3A%20null%2C%20%22id%22%3A%2023%7D%2C%20%22type%22%3A%20%22Feature%22%7D%2C%20%7B%22bbox%22%3A%20%5B2.981716667%2C%2013.3346%2C%202.981716667%2C%2013.3346%5D%2C%20%22geometry%22%3A%20%7B%22coordinates%22%3A%20%5B2.981716667%2C%2013.3346%5D%2C%20%22type%22%3A%20%22Point%22%7D%2C%20%22id%22%3A%20%2224%22%2C%20%22properties%22%3A%20%7B%22Commune%22%3A%20%22Kiota%22%2C%20%22Cultures%22%3A%20%22mil%20et%20ni%5Cu00e9b%5Cu00e9%22%2C%20%22Departemen%22%3A%20null%2C%20%22id%22%3A%2024%7D%2C%20%22type%22%3A%20%22Feature%22%7D%2C%20%7B%22bbox%22%3A%20%5B2.952033333%2C%2013.36986667%2C%202.952033333%2C%2013.36986667%5D%2C%20%22geometry%22%3A%20%7B%22coordinates%22%3A%20%5B2.952033333%2C%2013.36986667%5D%2C%20%22type%22%3A%20%22Point%22%7D%2C%20%22id%22%3A%20%2225%22%2C%20%22properties%22%3A%20%7B%22Commune%22%3A%20%22Kiota%22%2C%20%22Cultures%22%3A%20%22mil%20et%20ni%5Cu00e9b%5Cu00e9%22%2C%20%22Departemen%22%3A%20null%2C%20%22id%22%3A%2025%7D%2C%20%22type%22%3A%20%22Feature%22%7D%2C%20%7B%22bbox%22%3A%20%5B2.960633333%2C%2013.37695%2C%202.960633333%2C%2013.37695%5D%2C%20%22geometry%22%3A%20%7B%22coordinates%22%3A%20%5B2.960633333%2C%2013.37695%5D%2C%20%22type%22%3A%20%22Point%22%7D%2C%20%22id%22%3A%20%2226%22%2C%20%22properties%22%3A%20%7B%22Commune%22%3A%20%22Kiota%22%2C%20%22Cultures%22%3A%20%22mil%20et%20ni%5Cu00e9b%5Cu00e9%22%2C%20%22Departemen%22%3A%20null%2C%20%22id%22%3A%2026%7D%2C%20%22type%22%3A%20%22Feature%22%7D%2C%20%7B%22bbox%22%3A%20%5B2.921916667%2C%2013.34936667%2C%202.921916667%2C%2013.34936667%5D%2C%20%22geometry%22%3A%20%7B%22coordinates%22%3A%20%5B2.921916667%2C%2013.34936667%5D%2C%20%22type%22%3A%20%22Point%22%7D%2C%20%22id%22%3A%20%2227%22%2C%20%22properties%22%3A%20%7B%22Commune%22%3A%20%22Kiota%22%2C%20%22Cultures%22%3A%20%22mil%20et%20ni%5Cu00e9b%5Cu00e9%22%2C%20%22Departemen%22%3A%20null%2C%20%22id%22%3A%2027%7D%2C%20%22type%22%3A%20%22Feature%22%7D%2C%20%7B%22bbox%22%3A%20%5B2.912%2C%2013.29088333%2C%202.912%2C%2013.29088333%5D%2C%20%22geometry%22%3A%20%7B%22coordinates%22%3A%20%5B2.912%2C%2013.29088333%5D%2C%20%22type%22%3A%20%22Point%22%7D%2C%20%22id%22%3A%20%2228%22%2C%20%22properties%22%3A%20%7B%22Commune%22%3A%20%22Kiota%22%2C%20%22Cultures%22%3A%20%22mil%20et%20ni%5Cu00e9b%5Cu00e9%22%2C%20%22Departemen%22%3A%20null%2C%20%22id%22%3A%2028%7D%2C%20%22type%22%3A%20%22Feature%22%7D%2C%20%7B%22bbox%22%3A%20%5B2.9313%2C%2013.28618333%2C%202.9313%2C%2013.28618333%5D%2C%20%22geometry%22%3A%20%7B%22coordinates%22%3A%20%5B2.9313%2C%2013.28618333%5D%2C%20%22type%22%3A%20%22Point%22%7D%2C%20%22id%22%3A%20%2229%22%2C%20%22properties%22%3A%20%7B%22Commune%22%3A%20%22Kiota%22%2C%20%22Cultures%22%3A%20%22mil%20et%20ni%5Cu00e9b%5Cu00e9%22%2C%20%22Departemen%22%3A%20null%2C%20%22id%22%3A%2029%7D%2C%20%22type%22%3A%20%22Feature%22%7D%2C%20%7B%22bbox%22%3A%20%5B2.968616667%2C%2013.31185%2C%202.968616667%2C%2013.31185%5D%2C%20%22geometry%22%3A%20%7B%22coordinates%22%3A%20%5B2.968616667%2C%2013.31185%5D%2C%20%22type%22%3A%20%22Point%22%7D%2C%20%22id%22%3A%20%2230%22%2C%20%22properties%22%3A%20%7B%22Commune%22%3A%20%22Kiota%22%2C%20%22Cultures%22%3A%20%22mil%20et%20ni%5Cu00e9b%5Cu00e9%22%2C%20%22Departemen%22%3A%20null%2C%20%22id%22%3A%2030%7D%2C%20%22type%22%3A%20%22Feature%22%7D%5D%2C%20%22type%22%3A%20%22FeatureCollection%22%7D%29%3B%0A%0A%20%20%20%20%20%20%20%20%0A%20%20%20%20%0A%20%20%20%20geo_json_43d93a1790534a9797d5fbb0c55688ed.bindTooltip%28%0A%20%20%20%20function%28layer%29%7B%0A%20%20%20%20let%20div%20%3D%20L.DomUtil.create%28%27div%27%29%3B%0A%20%20%20%20%0A%20%20%20%20let%20handleObject%20%3D%20feature%3D%3Etypeof%28feature%29%3D%3D%27object%27%20%3F%20JSON.stringify%28feature%29%20%3A%20feature%3B%0A%20%20%20%20let%20fields%20%3D%20%5B%22Departemen%22%2C%20%22Commune%22%2C%20%22Cultures%22%2C%20%22id%22%5D%3B%0A%20%20%20%20let%20aliases%20%3D%20%5B%22Departemen%22%2C%20%22Commune%22%2C%20%22Cultures%22%2C%20%22id%22%5D%3B%0A%20%20%20%20let%20table%20%3D%20%27%3Ctable%3E%27%20%2B%0A%20%20%20%20%20%20%20%20String%28%0A%20%20%20%20%20%20%20%20fields.map%28%0A%20%20%20%20%20%20%20%20%28v%2Ci%29%3D%3E%0A%20%20%20%20%20%20%20%20%60%3Ctr%3E%0A%20%20%20%20%20%20%20%20%20%20%20%20%3Cth%3E%24%7Baliases%5Bi%5D%7D%3C/th%3E%0A%20%20%20%20%20%20%20%20%20%20%20%20%0A%20%20%20%20%20%20%20%20%20%20%20%20%3Ctd%3E%24%7BhandleObject%28layer.feature.properties%5Bv%5D%29%7D%3C/td%3E%0A%20%20%20%20%20%20%20%20%3C/tr%3E%60%29.join%28%27%27%29%29%0A%20%20%20%20%2B%27%3C/table%3E%27%3B%0A%20%20%20%20div.innerHTML%3Dtable%3B%0A%20%20%20%20%0A%20%20%20%20return%20div%0A%20%20%20%20%7D%0A%20%20%20%20%2C%7B%22className%22%3A%20%22foliumtooltip%22%2C%20%22sticky%22%3A%20true%7D%29%3B%0A%20%20%20%20%20%20%20%20%20%20%20%20%20%20%20%20%20%20%20%20%20%0A%3C/script%3E onload=\"this.contentDocument.open();this.contentDocument.write(    decodeURIComponent(this.getAttribute('data-html')));this.contentDocument.close();\" allowfullscreen webkitallowfullscreen mozallowfullscreen></iframe></div></div>"
      ],
      "text/plain": [
       "<folium.folium.Map at 0x7faeaefd8eb0>"
      ]
     },
     "execution_count": 5,
     "metadata": {},
     "output_type": "execute_result"
    }
   ],
   "source": [
    "# Read in the vector_file.\n",
    "gdf = gpd.read_file(vector_file)\n",
    "# Drop unnecessary columns from the GeoDataFrame.\n",
    "gdf = gdf.drop(columns=[\"VILLAGE\", \"LATITUDE\", \"LONGITUD\", \"ANNEE\", \"LATDD\", \"LATMIN\", \"LAT\", \"LONDD\", \"LONMIN\", \"LON\"])\n",
    "# gdf = gdf.drop(columns=[\"village\",\"coodos__go\", \"Latitude\", \"Field6\", \"Field7\", \"Longitude\", \"Field9\", \"Field10\", \"campagne_a\", \"Lat\", \"Lon\"])\n",
    "# Rename the columns.\n",
    "gdf.rename(columns={\"DEPARTEMEN\": \"Departemen\", \"COMMUNE\": \"Commune\", \"CULTURES\": \"Cultures\"}, inplace=True)\n",
    "# gdf.rename(columns={\"Cultures_r\": \"Cultures\"}, inplace=True)\n",
    "# Add a unique id to gdf.\n",
    "gdf[\"id\"] = range(0, len(gdf))\n",
    "gdf.explore()"
   ]
  },
  {
   "cell_type": "markdown",
   "id": "1ff1f35f-080a-4a42-80ff-a8efd5721c82",
   "metadata": {},
   "source": [
    "## Defining feature layers\n",
    "\n",
    "To create the desired feature layers, we pass instructions to `collect_training_data` through the `feature_func` parameter.\n",
    "\n",
    "* `feature_func`: A function for generating feature layers that is applied to the data within the bounds of the input geometry. The `feature_func` must accept a `dc_query` dictionary, and return a single `xarray.Dataset` or `xarray.DataArray` containing 2D coordinates (i.e x, y - no time dimension). e.g.\n",
    "\n",
    "          def feature_function(query):\n",
    "              dc = datacube.Datacube(app='feature_layers')\n",
    "              ds = dc.load(**query)\n",
    "              ds = ds.mean('time')\n",
    "              return ds\n",
    "\n",
    "Below, we will define a more complicated feature layer function than the brief example shown above. "
   ]
  },
  {
   "cell_type": "code",
   "execution_count": 6,
   "id": "2d2ccb60-4ec7-406f-a4d8-7005e69feea4",
   "metadata": {},
   "outputs": [],
   "source": [
    "# Define the `feature_layers` functions to load features.\n",
    "def feature_layers(query):\n",
    "\n",
    "    # Connnect to datacube.\n",
    "    dc = datacube.Datacube(app=\"unsupervised_class_identification\")\n",
    "\n",
    "    # ----------------- Sentinel-2 Annual Geomedian -----------------\n",
    "\n",
    "    # Sentinel-2 Annual and Bi-annual GeoMAD measurements.\n",
    "    s2_measurements = [\n",
    "        \"blue\",\n",
    "        \"green\",\n",
    "        \"red\",\n",
    "        \"nir\",\n",
    "        \"swir_1\",\n",
    "        \"swir_2\",\n",
    "        \"red_edge_1\",\n",
    "        \"red_edge_2\",\n",
    "        \"red_edge_3\",\n",
    "        \"BCMAD\",\n",
    "        \"EMAD\",\n",
    "        \"SMAD\",\n",
    "    ]\n",
    "\n",
    "    # Load Sentinel-2 Annual Geomedian.\n",
    "    ds_s2_annual_geomad = dc.load(\n",
    "        product=\"gm_s2_annual\", measurements=s2_measurements, **query\n",
    "    )\n",
    "\n",
    "    # Calculate some band indices.\n",
    "    ds_s2_annual_geomad = calculate_indices(\n",
    "        ds_s2_annual_geomad,\n",
    "        index=[\"NDVI\", \"LAI\", \"SAVI\", \"MSAVI\", \"MNDWI\"],\n",
    "        drop=False,\n",
    "        collection=\"s2\",\n",
    "    ).squeeze()\n",
    "\n",
    "    # ----------------- Sentinel-2 Bi-Annual Geomedian -----------------\n",
    "\n",
    "    # Load Sentinel-2 Bi-Annual Geomedian.\n",
    "    ds_s2_semiannual_geomad = dc.load(\n",
    "        product=\"gm_s2_semiannual\",\n",
    "        measurements=s2_measurements,\n",
    "        **query,\n",
    "    )\n",
    "\n",
    "    # Split into two seperate datasets Jan-Jun and Jul-Dec.\n",
    "    ds_janjun_geomad = (\n",
    "        ds_s2_semiannual_geomad.isel(time=0)\n",
    "        .reset_coords()\n",
    "        .drop_vars([\"time\", \"spatial_ref\"])\n",
    "    )\n",
    "    ds_juldec_geomad = (\n",
    "        ds_s2_semiannual_geomad.isel(time=1)\n",
    "        .reset_coords()\n",
    "        .drop_vars([\"time\", \"spatial_ref\"])\n",
    "    )\n",
    "\n",
    "    # Rename the dataset variables.\n",
    "    janjun_rename_dict = {key: f\"janjun_{key}\" for key in list(ds_janjun_geomad.keys())}\n",
    "    ds_janjun_geomad = ds_janjun_geomad.rename(name_dict=janjun_rename_dict)\n",
    "\n",
    "    juldec_rename_dict = {key: f\"juldec_{key}\" for key in list(ds_juldec_geomad.keys())}\n",
    "    ds_juldec_geomad = ds_juldec_geomad.rename(name_dict=juldec_rename_dict)\n",
    "\n",
    "    # ----------------- S1 RADAR -----------------\n",
    "\n",
    "    # Load Sentinel-1 data.\n",
    "    #     ds_S1 = dc.load(\n",
    "    #         product=\"s1_rtc\",\n",
    "    #         measurements=[\"vv\", \"vh\", \"mask\"],\n",
    "    #         group_by=\"solar_day\",\n",
    "    #         sat_orbit_state=\"ascending\",\n",
    "    #         **query,\n",
    "    #     )\n",
    "\n",
    "    # Get the temporal mean (mean over time) for the VH and VV polarizations.\n",
    "    #     mean_vv = ds_S1.vv.where(ds_S1.mask == 1).mean(dim=\"time\")\n",
    "    #     mean_vh = ds_S1.vh.where(ds_S1.mask == 1).mean(dim=\"time\")\n",
    "\n",
    "    # Merge the temporal mean xarray.DataArrays into one xarray.Dataset.\n",
    "    #     ds_S1_mean = xr.merge([mean_vv, mean_vh])\n",
    "\n",
    "    # ----------------- Fractional Cover Annual Summaries -----------------\n",
    "\n",
    "    # Fractional Cover Annual Summary  measurements.\n",
    "    fc_measurements = [\n",
    "        # \"pv_pc_10\",\n",
    "        # \"pv_pc_50\",\n",
    "        \"pv_pc_90\",\n",
    "        # \"npv_pc_10\",\n",
    "        # \"npv_pc_50\",\n",
    "        \"npv_pc_90\",\n",
    "        # \"bs_pc_10\",\n",
    "        # \"bs_pc_50\",\n",
    "        \"bs_pc_90\",\n",
    "    ]\n",
    "\n",
    "    # Load the Fractional Cover Annual Summary.\n",
    "    ds_annual_fc = dc.load(\n",
    "        product=\"fc_ls_summary_annual\",\n",
    "        measurements=fc_measurements,\n",
    "        **query,\n",
    "    )\n",
    "\n",
    "    # ----------------- Temporal Statistics -----------------\n",
    "    # Calculate these on NDVI over the year\n",
    "\n",
    "    #     # Set parameters\n",
    "    #     veg_index = \"NDVI\"\n",
    "    #     resample_period = \"2W\"\n",
    "    #     window = 4\n",
    "\n",
    "    #     # Load S2 for query\n",
    "    #     ds_S2 = load_ard(\n",
    "    #         dc=dc,\n",
    "    #         products=[\"s2_l2a\"],\n",
    "    #         measurements=[\"red\", \"nir\"],\n",
    "    #         mask_filters=[(\"opening\", 3), (\"dilation\", 3)],\n",
    "    #         **query,\n",
    "    #         verbose=False,\n",
    "    #     )\n",
    "\n",
    "    #     # Calculate NDVI\n",
    "    #     ds_S2 = calculate_indices(ds_S2, index=veg_index, collection=\"s2\")\n",
    "\n",
    "    #     # Smooth the NDVI over time\n",
    "    #     ds_smooth = (\n",
    "    #         ds_S2[veg_index]\n",
    "    #         .resample(time=resample_period)\n",
    "    #         .median()\n",
    "    #         .rolling(time=window, min_periods=1)\n",
    "    #         .mean()\n",
    "    #     )\n",
    "\n",
    "    #     statistics = [\n",
    "    #         \"discordance\",\n",
    "    #         #\"f_mean\",\n",
    "    #         #\"median_change\",\n",
    "    #         #\"abs_change\",\n",
    "    #         \"complexity\",\n",
    "    #         #\"central_diff\",\n",
    "    #     ]\n",
    "\n",
    "    #     ds_stats = temporal_statistics(ds_smooth, statistics)\n",
    "\n",
    "    # ----------------- MERGE -----------------\n",
    "\n",
    "    # Merge the indiviual datasets into one.\n",
    "    ds_final = xr.merge(\n",
    "        [\n",
    "            ds_s2_annual_geomad,\n",
    "            ds_janjun_geomad,\n",
    "            ds_juldec_geomad,\n",
    "            ds_annual_fc,\n",
    "        ]  # ds_S1_mean\n",
    "    )\n",
    "\n",
    "    return ds_final.squeeze(dim=\"time\", drop=True)"
   ]
  },
  {
   "cell_type": "markdown",
   "id": "e88762a1-00b3-401b-89af-b05b3779d193",
   "metadata": {},
   "source": [
    "## Load data using the feature layers function"
   ]
  },
  {
   "cell_type": "code",
   "execution_count": 7,
   "id": "3e1179e9-7e52-4cc2-ae9d-a1a06cc3eafb",
   "metadata": {},
   "outputs": [],
   "source": [
    "# Function to get the feature layers for a point.\n",
    "def get_point_feature_layers(geom):\n",
    "    # Generate a datacube query object.\n",
    "    query = {\n",
    "        \"geopolygon\": geom,\n",
    "        \"time\": time_01,\n",
    "        \"resolution\": resolution,\n",
    "        \"output_crs\": output_crs,\n",
    "        \"dask_chunks\": dask_chunks,\n",
    "    }\n",
    "    # Call the feature_layers function on the query to load the data.\n",
    "    data = feature_layers(query)\n",
    "    return data"
   ]
  },
  {
   "cell_type": "code",
   "execution_count": 8,
   "id": "9a6a89d8-a47d-4d50-a0c6-679f0c3695aa",
   "metadata": {},
   "outputs": [
    {
     "name": "stdout",
     "output_type": "stream",
     "text": [
      "CPU times: user 10.5 s, sys: 406 ms, total: 10.9 s\n",
      "Wall time: 25.7 s\n"
     ]
    }
   ],
   "source": [
    "%%time\n",
    "# Get the feature layers for each point in the `gdf` GeoDataFrame.\n",
    "id_list = gdf[\"id\"].to_list()\n",
    "\n",
    "# Define list to store the data for each point.\n",
    "data_list = []\n",
    "\n",
    "for ID in id_list:\n",
    "    # print(f\"Feature {ID:02d}/{len(id_list)}\", end='\\r')\n",
    "    # Transform the point into a geometry object.\n",
    "    geom = geometry.Geometry(geom=gdf.iloc[ID].geometry, crs=gdf.crs)\n",
    "    # Get the NDVI profile for the point.\n",
    "    point_data = get_point_feature_layers(geom).load()\n",
    "    data_list.append(point_data)"
   ]
  },
  {
   "cell_type": "code",
   "execution_count": 9,
   "id": "228b404e-1257-47f8-8bca-074d9fe64970",
   "metadata": {},
   "outputs": [],
   "source": [
    "# Since all the point datasets in data_list have the same variables.\n",
    "# Get the list of variables from the first dataset on the list.\n",
    "variables = list(data_list[0].keys())\n",
    "\n",
    "# From each point dataset in data_list get the values for each variable.\n",
    "data_vars = {}\n",
    "for variable in variables:\n",
    "    variable_values = [point_data[variable].data.item() for point_data in data_list]\n",
    "    data_vars[variable] = variable_values"
   ]
  },
  {
   "cell_type": "code",
   "execution_count": 10,
   "id": "307fbc13-d043-427e-9434-c519e712b011",
   "metadata": {},
   "outputs": [
    {
     "data": {
      "text/html": [
       "<div>\n",
       "<style scoped>\n",
       "    .dataframe tbody tr th:only-of-type {\n",
       "        vertical-align: middle;\n",
       "    }\n",
       "\n",
       "    .dataframe tbody tr th {\n",
       "        vertical-align: top;\n",
       "    }\n",
       "\n",
       "    .dataframe thead th {\n",
       "        text-align: right;\n",
       "    }\n",
       "</style>\n",
       "<table border=\"1\" class=\"dataframe\">\n",
       "  <thead>\n",
       "    <tr style=\"text-align: right;\">\n",
       "      <th></th>\n",
       "      <th>blue</th>\n",
       "      <th>green</th>\n",
       "      <th>red</th>\n",
       "      <th>nir</th>\n",
       "      <th>swir_1</th>\n",
       "      <th>swir_2</th>\n",
       "      <th>red_edge_1</th>\n",
       "      <th>red_edge_2</th>\n",
       "      <th>red_edge_3</th>\n",
       "      <th>BCMAD</th>\n",
       "      <th>...</th>\n",
       "      <th>juldec_swir_2</th>\n",
       "      <th>juldec_red_edge_1</th>\n",
       "      <th>juldec_red_edge_2</th>\n",
       "      <th>juldec_red_edge_3</th>\n",
       "      <th>juldec_BCMAD</th>\n",
       "      <th>juldec_EMAD</th>\n",
       "      <th>juldec_SMAD</th>\n",
       "      <th>pv_pc_90</th>\n",
       "      <th>npv_pc_90</th>\n",
       "      <th>bs_pc_90</th>\n",
       "    </tr>\n",
       "  </thead>\n",
       "  <tbody>\n",
       "    <tr>\n",
       "      <th>0</th>\n",
       "      <td>1222</td>\n",
       "      <td>1910</td>\n",
       "      <td>2766</td>\n",
       "      <td>3942</td>\n",
       "      <td>4507</td>\n",
       "      <td>3786</td>\n",
       "      <td>3043</td>\n",
       "      <td>3407</td>\n",
       "      <td>3668</td>\n",
       "      <td>0.070004</td>\n",
       "      <td>...</td>\n",
       "      <td>2860</td>\n",
       "      <td>2456</td>\n",
       "      <td>2860</td>\n",
       "      <td>3110</td>\n",
       "      <td>0.079536</td>\n",
       "      <td>1358.881104</td>\n",
       "      <td>0.001852</td>\n",
       "      <td>29</td>\n",
       "      <td>42</td>\n",
       "      <td>64</td>\n",
       "    </tr>\n",
       "    <tr>\n",
       "      <th>1</th>\n",
       "      <td>1018</td>\n",
       "      <td>1562</td>\n",
       "      <td>2199</td>\n",
       "      <td>3527</td>\n",
       "      <td>5055</td>\n",
       "      <td>4297</td>\n",
       "      <td>2775</td>\n",
       "      <td>3174</td>\n",
       "      <td>3463</td>\n",
       "      <td>0.062596</td>\n",
       "      <td>...</td>\n",
       "      <td>3709</td>\n",
       "      <td>2357</td>\n",
       "      <td>2874</td>\n",
       "      <td>3199</td>\n",
       "      <td>0.039291</td>\n",
       "      <td>815.801758</td>\n",
       "      <td>0.001445</td>\n",
       "      <td>39</td>\n",
       "      <td>36</td>\n",
       "      <td>80</td>\n",
       "    </tr>\n",
       "    <tr>\n",
       "      <th>2</th>\n",
       "      <td>1279</td>\n",
       "      <td>2057</td>\n",
       "      <td>3175</td>\n",
       "      <td>4282</td>\n",
       "      <td>5947</td>\n",
       "      <td>5374</td>\n",
       "      <td>3692</td>\n",
       "      <td>3945</td>\n",
       "      <td>4201</td>\n",
       "      <td>0.027898</td>\n",
       "      <td>...</td>\n",
       "      <td>4931</td>\n",
       "      <td>3425</td>\n",
       "      <td>3770</td>\n",
       "      <td>4072</td>\n",
       "      <td>0.028894</td>\n",
       "      <td>812.542786</td>\n",
       "      <td>0.000939</td>\n",
       "      <td>20</td>\n",
       "      <td>15</td>\n",
       "      <td>93</td>\n",
       "    </tr>\n",
       "    <tr>\n",
       "      <th>3</th>\n",
       "      <td>1183</td>\n",
       "      <td>1808</td>\n",
       "      <td>2699</td>\n",
       "      <td>4047</td>\n",
       "      <td>5099</td>\n",
       "      <td>4228</td>\n",
       "      <td>3138</td>\n",
       "      <td>3603</td>\n",
       "      <td>3894</td>\n",
       "      <td>0.044213</td>\n",
       "      <td>...</td>\n",
       "      <td>3749</td>\n",
       "      <td>2843</td>\n",
       "      <td>3488</td>\n",
       "      <td>3846</td>\n",
       "      <td>0.045874</td>\n",
       "      <td>1122.667725</td>\n",
       "      <td>0.003201</td>\n",
       "      <td>36</td>\n",
       "      <td>32</td>\n",
       "      <td>77</td>\n",
       "    </tr>\n",
       "    <tr>\n",
       "      <th>4</th>\n",
       "      <td>1106</td>\n",
       "      <td>1808</td>\n",
       "      <td>2968</td>\n",
       "      <td>4108</td>\n",
       "      <td>5294</td>\n",
       "      <td>4481</td>\n",
       "      <td>3450</td>\n",
       "      <td>3808</td>\n",
       "      <td>4029</td>\n",
       "      <td>0.034914</td>\n",
       "      <td>...</td>\n",
       "      <td>3998</td>\n",
       "      <td>3155</td>\n",
       "      <td>3711</td>\n",
       "      <td>3983</td>\n",
       "      <td>0.032524</td>\n",
       "      <td>813.601318</td>\n",
       "      <td>0.001486</td>\n",
       "      <td>32</td>\n",
       "      <td>42</td>\n",
       "      <td>83</td>\n",
       "    </tr>\n",
       "  </tbody>\n",
       "</table>\n",
       "<p>5 rows × 44 columns</p>\n",
       "</div>"
      ],
      "text/plain": [
       "   blue  green   red   nir  swir_1  swir_2  red_edge_1  red_edge_2  \\\n",
       "0  1222   1910  2766  3942    4507    3786        3043        3407   \n",
       "1  1018   1562  2199  3527    5055    4297        2775        3174   \n",
       "2  1279   2057  3175  4282    5947    5374        3692        3945   \n",
       "3  1183   1808  2699  4047    5099    4228        3138        3603   \n",
       "4  1106   1808  2968  4108    5294    4481        3450        3808   \n",
       "\n",
       "   red_edge_3     BCMAD  ...  juldec_swir_2  juldec_red_edge_1  \\\n",
       "0        3668  0.070004  ...           2860               2456   \n",
       "1        3463  0.062596  ...           3709               2357   \n",
       "2        4201  0.027898  ...           4931               3425   \n",
       "3        3894  0.044213  ...           3749               2843   \n",
       "4        4029  0.034914  ...           3998               3155   \n",
       "\n",
       "   juldec_red_edge_2  juldec_red_edge_3  juldec_BCMAD  juldec_EMAD  \\\n",
       "0               2860               3110      0.079536  1358.881104   \n",
       "1               2874               3199      0.039291   815.801758   \n",
       "2               3770               4072      0.028894   812.542786   \n",
       "3               3488               3846      0.045874  1122.667725   \n",
       "4               3711               3983      0.032524   813.601318   \n",
       "\n",
       "   juldec_SMAD  pv_pc_90  npv_pc_90  bs_pc_90  \n",
       "0     0.001852        29         42        64  \n",
       "1     0.001445        39         36        80  \n",
       "2     0.000939        20         15        93  \n",
       "3     0.003201        36         32        77  \n",
       "4     0.001486        32         42        83  \n",
       "\n",
       "[5 rows x 44 columns]"
      ]
     },
     "execution_count": 10,
     "metadata": {},
     "output_type": "execute_result"
    }
   ],
   "source": [
    "# Get the feature layers as a pandas DataFrame.\n",
    "data_df = pd.DataFrame(data=data_vars)\n",
    "data_df.head()"
   ]
  },
  {
   "cell_type": "markdown",
   "id": "654720d7-8ee5-4b1b-af1a-bd4ace2c8377",
   "metadata": {},
   "source": [
    "## Classification using K-means Clustering"
   ]
  },
  {
   "cell_type": "markdown",
   "id": "164d2730-d2bf-4d9f-8fbc-857af79bad0d",
   "metadata": {},
   "source": [
    "### Run Standard Scaler for all parameters"
   ]
  },
  {
   "cell_type": "code",
   "execution_count": 11,
   "id": "40f1174c-d072-4f1a-992b-2fd4ee57a93f",
   "metadata": {},
   "outputs": [],
   "source": [
    "# Convert the `data_df` DataFrame to a matrix.\n",
    "model_input = data_df.values"
   ]
  },
  {
   "cell_type": "code",
   "execution_count": 12,
   "id": "d5b279b9-4c46-4f54-a7ed-7bced7d9b87a",
   "metadata": {},
   "outputs": [
    {
     "name": "stdout",
     "output_type": "stream",
     "text": [
      "CPU times: user 1.24 ms, sys: 103 µs, total: 1.35 ms\n",
      "Wall time: 1.06 ms\n"
     ]
    }
   ],
   "source": [
    "%%time\n",
    "# Standardize the model_input (numpy array) by removing the mean and scaling to unit variance.\n",
    "scaler = StandardScaler()\n",
    "scaler.fit(model_input)\n",
    "model_input = scaler.transform(model_input)"
   ]
  },
  {
   "cell_type": "code",
   "execution_count": 13,
   "id": "fbe879ae-73c9-4cef-a74e-a5c79a9506ac",
   "metadata": {},
   "outputs": [
    {
     "data": {
      "text/plain": [
       "array([False])"
      ]
     },
     "execution_count": 13,
     "metadata": {},
     "output_type": "execute_result"
    }
   ],
   "source": [
    "# Check for np.nan values in the scaled dataset.\n",
    "np.unique(np.isnan(model_input))"
   ]
  },
  {
   "cell_type": "markdown",
   "id": "83d2543e-10dc-4901-bdeb-8cd2811cf5d5",
   "metadata": {},
   "source": [
    "### Run K-Means Clustering\n",
    "\n",
    "Perform k-means clustering on the standardized `model_input` numpy array."
   ]
  },
  {
   "cell_type": "code",
   "execution_count": 14,
   "id": "b965ee60-7573-4c87-a689-eb52d8199969",
   "metadata": {},
   "outputs": [
    {
     "name": "stdout",
     "output_type": "stream",
     "text": [
      "CPU times: user 192 ms, sys: 24.8 ms, total: 217 ms\n",
      "Wall time: 87 ms\n"
     ]
    },
    {
     "data": {
      "text/plain": [
       "array([ 7, 14,  1,  2,  4,  2, 12,  3,  3,  9,  9,  6,  0, 13,  4,  4,  4,\n",
       "       10,  5,  6,  2,  9, 11,  1,  8, 11,  5, 12, 12,  1,  1],\n",
       "      dtype=int32)"
      ]
     },
     "execution_count": 14,
     "metadata": {},
     "output_type": "execute_result"
    }
   ],
   "source": [
    "%%time\n",
    "# Set up the kmeans classification by specifying the number of clusters.\n",
    "kmeans = KMeans(n_clusters=no_of_clusters, random_state=42)\n",
    "\n",
    "# Perform Kmeans clustering on the 'model_input'.\n",
    "# Begin iteratively computing the position of the clusters.\n",
    "kmeans.fit(model_input)\n",
    "\n",
    "# Use the sklearn kmeans `.predict` method to assign all the points of the `model_input` to a unique cluster.\n",
    "predicted = kmeans.predict(model_input)\n",
    "predicted"
   ]
  },
  {
   "cell_type": "code",
   "execution_count": 15,
   "id": "668385ba-ff4f-4586-9a16-d8e0a7c8f254",
   "metadata": {},
   "outputs": [
    {
     "data": {
      "text/html": [
       "<div>\n",
       "<style scoped>\n",
       "    .dataframe tbody tr th:only-of-type {\n",
       "        vertical-align: middle;\n",
       "    }\n",
       "\n",
       "    .dataframe tbody tr th {\n",
       "        vertical-align: top;\n",
       "    }\n",
       "\n",
       "    .dataframe thead th {\n",
       "        text-align: right;\n",
       "    }\n",
       "</style>\n",
       "<table border=\"1\" class=\"dataframe\">\n",
       "  <thead>\n",
       "    <tr style=\"text-align: right;\">\n",
       "      <th></th>\n",
       "      <th>Departemen</th>\n",
       "      <th>Commune</th>\n",
       "      <th>Cultures</th>\n",
       "      <th>geometry</th>\n",
       "      <th>id</th>\n",
       "      <th>predicted</th>\n",
       "    </tr>\n",
       "  </thead>\n",
       "  <tbody>\n",
       "    <tr>\n",
       "      <th>0</th>\n",
       "      <td>Boboye</td>\n",
       "      <td>Kiota</td>\n",
       "      <td>mil et niébé</td>\n",
       "      <td>POINT (2.96908 13.33147)</td>\n",
       "      <td>0</td>\n",
       "      <td>7</td>\n",
       "    </tr>\n",
       "    <tr>\n",
       "      <th>1</th>\n",
       "      <td>Boboye</td>\n",
       "      <td>Kiota</td>\n",
       "      <td>mil et niébé</td>\n",
       "      <td>POINT (2.93870 13.25270)</td>\n",
       "      <td>1</td>\n",
       "      <td>14</td>\n",
       "    </tr>\n",
       "    <tr>\n",
       "      <th>2</th>\n",
       "      <td>Boboye</td>\n",
       "      <td>Kiota</td>\n",
       "      <td>mil et niébé</td>\n",
       "      <td>POINT (2.94553 13.29112)</td>\n",
       "      <td>2</td>\n",
       "      <td>1</td>\n",
       "    </tr>\n",
       "    <tr>\n",
       "      <th>3</th>\n",
       "      <td>Boboye</td>\n",
       "      <td>Kiota</td>\n",
       "      <td>mil et niébé</td>\n",
       "      <td>POINT (2.97375 13.28498)</td>\n",
       "      <td>3</td>\n",
       "      <td>2</td>\n",
       "    </tr>\n",
       "    <tr>\n",
       "      <th>4</th>\n",
       "      <td>Boboye</td>\n",
       "      <td>Kiota</td>\n",
       "      <td>mil et niébé</td>\n",
       "      <td>POINT (2.98262 13.29145)</td>\n",
       "      <td>4</td>\n",
       "      <td>4</td>\n",
       "    </tr>\n",
       "  </tbody>\n",
       "</table>\n",
       "</div>"
      ],
      "text/plain": [
       "  Departemen Commune      Cultures                  geometry  id  predicted\n",
       "0     Boboye   Kiota  mil et niébé  POINT (2.96908 13.33147)   0          7\n",
       "1     Boboye   Kiota  mil et niébé  POINT (2.93870 13.25270)   1         14\n",
       "2     Boboye   Kiota  mil et niébé  POINT (2.94553 13.29112)   2          1\n",
       "3     Boboye   Kiota  mil et niébé  POINT (2.97375 13.28498)   3          2\n",
       "4     Boboye   Kiota  mil et niébé  POINT (2.98262 13.29145)   4          4"
      ]
     },
     "execution_count": 15,
     "metadata": {},
     "output_type": "execute_result"
    }
   ],
   "source": [
    "# Assign the predicted classes/clusters to the `gdf` GeoDataFrame.\n",
    "gdf[\"predicted\"] = predicted\n",
    "gdf.head()"
   ]
  },
  {
   "cell_type": "markdown",
   "id": "ad66c85a-0e9b-4f25-9ab7-aba151538a98",
   "metadata": {},
   "source": [
    "## Export the results"
   ]
  },
  {
   "cell_type": "code",
   "execution_count": 16,
   "id": "003cedef-37a9-49d7-bd87-9df439ed98ee",
   "metadata": {},
   "outputs": [],
   "source": [
    "# Export the results as a geojson file.\n",
    "gdf.to_file(\n",
    "    f\"{output_dir}/{file_name}_kmeans_{no_of_clusters}_classes_predicted_{time_01}.geojson\",\n",
    "    driver=\"GeoJSON\",\n",
    ")"
   ]
  },
  {
   "cell_type": "markdown",
   "id": "3d8ebb48-95c5-42e8-b429-41abfc90e9d4",
   "metadata": {},
   "source": [
    "## Recommended next steps\n",
    "\n",
    "To continue working through the notebooks in this workflow, go to the next notebook `02_group_classes_using_NDVI.ipynb`.\n",
    "\n",
    "1. **Unsupervised Class Identification (this notebook)**\n",
    "2. [Group Classes Using NDVI](02_group_classes_using_NDVI.ipynb.ipynb)\n",
    "3. [Reclassify Unsupervised NDVI](03_reclassify_unsupervised_map_NDVI_classes.ipynb)"
   ]
  },
  {
   "cell_type": "markdown",
   "id": "89fd9d5a-e8c4-41a0-8e42-570176078f7b",
   "metadata": {},
   "source": [
    "---\n",
    "\n",
    "## Additional information\n",
    "\n",
    "**License:** The code in this notebook is licensed under the [Apache License, Version 2.0](https://www.apache.org/licenses/LICENSE-2.0). \n",
    "Digital Earth Africa data is licensed under the [Creative Commons by Attribution 4.0](https://creativecommons.org/licenses/by/4.0/) license.\n",
    "\n",
    "**Contact:** If you need assistance, please post a question on the [Open Data Cube Slack channel](http://slack.opendatacube.org/) or on the [GIS Stack Exchange](https://gis.stackexchange.com/questions/ask?tags=open-data-cube) using the `open-data-cube` tag (you can view previously asked questions [here](https://gis.stackexchange.com/questions/tagged/open-data-cube)).\n",
    "If you would like to repoart an issue with this notebook, you can file one on [Github](https://github.com/digitalearthafrica/deafrica-sandbox-notebooks).\n",
    "\n",
    "**Compatible datacube version:**"
   ]
  },
  {
   "cell_type": "code",
   "execution_count": 17,
   "id": "ff79fcca-d0ec-4b0d-a61d-ce965c5e65c7",
   "metadata": {},
   "outputs": [
    {
     "name": "stdout",
     "output_type": "stream",
     "text": [
      "1.8.6\n"
     ]
    }
   ],
   "source": [
    "print(datacube.__version__)"
   ]
  },
  {
   "cell_type": "markdown",
   "id": "5df6ec07-545d-4ae0-9d09-9faa7f03f8eb",
   "metadata": {},
   "source": [
    "**Last Tested:**"
   ]
  },
  {
   "cell_type": "code",
   "execution_count": 18,
   "id": "110ab38a-6a88-4bd6-b1f8-204bdbea09ea",
   "metadata": {},
   "outputs": [
    {
     "data": {
      "text/plain": [
       "'2022-06-30'"
      ]
     },
     "execution_count": 18,
     "metadata": {},
     "output_type": "execute_result"
    }
   ],
   "source": [
    "from datetime import datetime\n",
    "\n",
    "datetime.today().strftime(\"%Y-%m-%d\")"
   ]
  }
 ],
 "metadata": {
  "kernelspec": {
   "display_name": "Python 3 (ipykernel)",
   "language": "python",
   "name": "python3"
  },
  "language_info": {
   "codemirror_mode": {
    "name": "ipython",
    "version": 3
   },
   "file_extension": ".py",
   "mimetype": "text/x-python",
   "name": "python",
   "nbconvert_exporter": "python",
   "pygments_lexer": "ipython3",
   "version": "3.8.10"
  },
  "widgets": {
   "application/vnd.jupyter.widget-state+json": {
    "state": {},
    "version_major": 2,
    "version_minor": 0
   }
  }
 },
 "nbformat": 4,
 "nbformat_minor": 5
}
