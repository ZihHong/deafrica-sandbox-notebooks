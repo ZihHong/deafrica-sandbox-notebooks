{
 "cells": [
  {
   "cell_type": "markdown",
   "id": "80432466-3bcc-4b0f-8604-c8e52e9f48c8",
   "metadata": {},
   "source": [
    "# Group Classes Using NDVI\n",
    "\n",
    "\n",
    "* **Products used:** \n",
    "[gm_s2_annual](https://explorer.digitalearth.africa/gm_s2_annual), \n",
    "[gm_s2_semiannual](https://explorer.digitalearth.africa/gm_s2_semiannual), \n",
    "[fc_ls_summary_annual](https://explorer.digitalearth.africa/fc_ls_summary_annual),\n"
   ]
  },
  {
   "cell_type": "raw",
   "id": "bd4dc697-0aa2-4e8f-96c6-6554d7dae3b8",
   "metadata": {},
   "source": [
    "**Keywords**: :index:`data used; sentinel-2 geomedian`, `data used; sentinel-2 semiannual geomedian`, index:`data used; MADs`, :index:`data used; fc_ls_summary_annual`,"
   ]
  },
  {
   "cell_type": "markdown",
   "id": "99dc2f1c-a942-432f-9ec7-8ae976413649",
   "metadata": {},
   "source": [
    "## Background"
   ]
  },
  {
   "cell_type": "markdown",
   "id": "e2ee429c-ba46-4a2e-b590-c5913f95504f",
   "metadata": {},
   "source": [
    "## Description\n",
    "\n",
    "\n",
    "---"
   ]
  },
  {
   "cell_type": "markdown",
   "id": "d2df3d7b-ba18-4e46-b090-984fc48ada5f",
   "metadata": {},
   "source": [
    "## Getting Started\n",
    "\n",
    "To run this analysis, run all the cells in the notebook, starting with the \"**Load packages**\" cell."
   ]
  },
  {
   "cell_type": "markdown",
   "id": "d0fbc5cd-ce44-4a2e-aeab-c84bafa08129",
   "metadata": {},
   "source": [
    "### Load packages"
   ]
  },
  {
   "cell_type": "code",
   "execution_count": 1,
   "id": "d97bd9fa-3fc9-4653-8ad8-d1b956bb9248",
   "metadata": {},
   "outputs": [],
   "source": [
    "import os\n",
    "import pickle\n",
    "import pprint\n",
    "\n",
    "import datacube\n",
    "import geopandas as gpd\n",
    "import matplotlib as mpl\n",
    "import matplotlib.pyplot as plt\n",
    "import numpy as np\n",
    "import pandas as pd\n",
    "import xarray as xr\n",
    "from datacube.utils import geometry\n",
    "from datacube.utils.geometry import CRS, Geometry\n",
    "from deafrica_tools.bandindices import calculate_indices\n",
    "from deafrica_tools.classification import sklearn_flatten, sklearn_unflatten\n",
    "from deafrica_tools.dask import create_local_dask_cluster\n",
    "from deafrica_tools.datahandling import load_ard\n",
    "from deafrica_tools.plotting import rgb\n",
    "from deafrica_tools.spatial import xr_rasterize\n",
    "from deafrica_tools.temporal import temporal_statistics, xr_phenology\n",
    "from sklearn.cluster import DBSCAN, KMeans\n",
    "from sklearn.decomposition import PCA\n",
    "from sklearn.ensemble import RandomForestClassifier\n",
    "from sklearn.preprocessing import StandardScaler\n",
    "from tqdm import tqdm\n",
    "from random_sampling import random_sampling"
   ]
  },
  {
   "cell_type": "markdown",
   "id": "ef0053aa-c729-4242-8f53-1eb2cade5a6d",
   "metadata": {},
   "source": [
    "### Set up a Dask cluster\n",
    "\n",
    "Dask can be used to better manage memory use and conduct the analysis in parallel. \n",
    "For an introduction to using Dask with Digital Earth Africa, see the [Dask notebook](../Beginners_guide/08_Parallel_processing_with_dask.ipynb).\n",
    "\n",
    ">**Note**: We recommend opening the Dask processing window to view the different computations that are being executed; to do this, see the *Dask dashboard in DE Africa* section of the [Dask notebook](../Beginners_guide/08_Parallel_processing_with_dask.ipynb).\n",
    "\n",
    "To use Dask, set up the local computing cluster using the cell below."
   ]
  },
  {
   "cell_type": "code",
   "execution_count": 2,
   "id": "991f2da5-ace7-41bc-be60-3b7011172917",
   "metadata": {},
   "outputs": [
    {
     "data": {
      "text/html": [
       "<table style=\"border: 2px solid white;\">\n",
       "<tr>\n",
       "<td style=\"vertical-align: top; border: 0px solid white\">\n",
       "<h3 style=\"text-align: left;\">Client</h3>\n",
       "<ul style=\"text-align: left; list-style: none; margin: 0; padding: 0;\">\n",
       "  <li><b>Scheduler: </b>tcp://127.0.0.1:42739</li>\n",
       "  <li><b>Dashboard: </b><a href='/user/victoria@kartoza.com/proxy/8787/status' target='_blank'>/user/victoria@kartoza.com/proxy/8787/status</a></li>\n",
       "</ul>\n",
       "</td>\n",
       "<td style=\"vertical-align: top; border: 0px solid white\">\n",
       "<h3 style=\"text-align: left;\">Cluster</h3>\n",
       "<ul style=\"text-align: left; list-style:none; margin: 0; padding: 0;\">\n",
       "  <li><b>Workers: </b>1</li>\n",
       "  <li><b>Cores: </b>15</li>\n",
       "  <li><b>Memory: </b>104.37 GB</li>\n",
       "</ul>\n",
       "</td>\n",
       "</tr>\n",
       "</table>"
      ],
      "text/plain": [
       "<Client: 'tcp://127.0.0.1:42739' processes=1 threads=15, memory=104.37 GB>"
      ]
     },
     "metadata": {},
     "output_type": "display_data"
    }
   ],
   "source": [
    "create_local_dask_cluster()"
   ]
  },
  {
   "cell_type": "markdown",
   "id": "49902d7c-530e-461a-9e8f-d7252418ceda",
   "metadata": {},
   "source": [
    "### Analysis parameters\n",
    "\n",
    "The following cell sets important parameters for the analysis:\n",
    "\n",
    "* `output_dir` : The directory in which to store results from the analysis.\n",
    "* `no_of_clusters` : The number of clusters used in the K-Means clustering in the [previous notebook](01_unsupervised_class_identification.ipynb).\n",
    "* `time_01` : This is the time period of interest from the [previous notebook](01_unsupervised_class_identification.ipynb).\n",
    "* `pickled_query` : The file path to the picklled datacube query from the [previous notebook](01_unsupervised_class_identification.ipynb).\n",
    "* `pickled_prediction` : The file path to the pickled clustering prediction result from the [previous notebook](01_unsupervised_class_identification.ipynb).\n",
    "* `time` : This is the time period of interest to load data for.\n",
    "* `veg_proxy`: Band index to use as a proxy for vegetation health e.g. 'NDVI' or 'EVI'\n",
    "\n",
    "**If running the notebook for the first time**, keep the default settings below.\n",
    "This will demonstrate how the analysis works and provide meaningful results."
   ]
  },
  {
   "cell_type": "code",
   "execution_count": 3,
   "id": "6d48f474-b1fd-4df6-8298-da9b6ec5d246",
   "metadata": {},
   "outputs": [],
   "source": [
    "# File name to use when exporting results.\n",
    "file_name = \"donnees_commune_kiota\"\n",
    "\n",
    "# Directory to store the results.\n",
    "output_dir = \"results\"\n",
    "\n",
    "# The number of clusters used in the K-Means clustering in the previous notebook. \n",
    "no_of_clusters = 15\n",
    "\n",
    "# Time period of interest from the previous notebook.\n",
    "time_01 = \"2021\"\n",
    "\n",
    "# Pickled datacube query from the previous notebook.\n",
    "pickled_query = f\"{output_dir}/{file_name}_query_{time_01}.pickle\"\n",
    "\n",
    "# Prediction results from the previouse notebook.\n",
    "pickled_prediction = f\"{output_dir}/{file_name}_kmeans_{no_of_clusters}classes_predicted_{time_01}.pickle\"\n",
    "\n",
    "# Time period of interest.\n",
    "time_02 = (\"15-10-2020\", \"15-02-2022\")\n",
    "\n",
    "veg_index = \"NDVI\""
   ]
  },
  {
   "cell_type": "markdown",
   "id": "50b59ce2-e678-413b-bedc-11ee4998fd36",
   "metadata": {},
   "source": [
    "### Connect to the datacube\n",
    "\n",
    "Connect to the datacube so we can access DE Africa data. \n",
    "The `app` parameter is a unique name for the analysis which is based on the notebook file name."
   ]
  },
  {
   "cell_type": "code",
   "execution_count": 4,
   "id": "b0a9fc29-2472-48c5-8408-b9bd6e0d9c03",
   "metadata": {},
   "outputs": [],
   "source": [
    "dc = datacube.Datacube(app=\"group_classes_using_ndvi\")"
   ]
  },
  {
   "cell_type": "markdown",
   "id": "4bc16166-97e3-4044-a170-60966e2f30e1",
   "metadata": {},
   "source": [
    "## Read in pickled K-means Clustering  prediction results from previous notebook"
   ]
  },
  {
   "cell_type": "code",
   "execution_count": 5,
   "id": "0c7f7c8d-95de-4cf1-94c0-92d5534748aa",
   "metadata": {},
   "outputs": [],
   "source": [
    "# Read in the pickled prediction data as a dictionary.\n",
    "with open(pickled_prediction, \"rb\") as f:\n",
    "    x_val, y_val, pred_val, pred_crs = pickle.load(f)"
   ]
  },
  {
   "cell_type": "code",
   "execution_count": 6,
   "id": "e7c4b531-2246-4efb-9ead-90375ef65c60",
   "metadata": {},
   "outputs": [
    {
     "name": "stdout",
     "output_type": "stream",
     "text": [
      "<xarray.DataArray (y: 916, x: 380)>\n",
      "array([[nan, nan, nan, ..., nan, nan, nan],\n",
      "       [nan, nan, nan, ..., nan, nan, nan],\n",
      "       [nan, nan, nan, ..., nan, nan, nan],\n",
      "       ...,\n",
      "       [ 9.,  9.,  9., ..., nan, nan, nan],\n",
      "       [ 9.,  9.,  9., ..., 12., 12.,  5.],\n",
      "       [ 3.,  9.,  9., ..., 12., 12.,  5.]])\n",
      "Coordinates:\n",
      "  * x        (x) float64 2.81e+05 2.81e+05 2.81e+05 ... 2.885e+05 2.886e+05\n",
      "  * y        (y) float64 1.691e+06 1.691e+06 1.691e+06 ... 1.673e+06 1.673e+06\n",
      "Attributes:\n",
      "    crs:      EPSG:6933\n"
     ]
    }
   ],
   "source": [
    "# Format the loaded prediction data into an xarray.DataArray.\n",
    "predicted = xr.DataArray(\n",
    "    data=pred_val,\n",
    "    dims=[\"y\", \"x\"],\n",
    "    coords=dict(\n",
    "        x=x_val,\n",
    "        y=y_val,\n",
    "    ),\n",
    "    attrs=dict(\n",
    "        crs=pred_crs,\n",
    "    ),\n",
    ").transpose(\"y\", \"x\")\n",
    "\n",
    "print(predicted)"
   ]
  },
  {
   "cell_type": "markdown",
   "id": "1f654090-1ac7-45ed-a6af-cd625b5ae43b",
   "metadata": {},
   "source": [
    "## Compute NDVI profiles for each pixel over the last 12 months"
   ]
  },
  {
   "cell_type": "code",
   "execution_count": 7,
   "id": "0fd5aa70-3ae2-48ca-ac69-02cc6fffd939",
   "metadata": {},
   "outputs": [
    {
     "data": {
      "text/plain": [
       "{'x': (2.912, 2.990499333),\n",
       " 'y': (13.22966667, 13.37695),\n",
       " 'time': ('15-10-2020', '15-02-2022'),\n",
       " 'resolution': (-20, 20),\n",
       " 'output_crs': 'EPSG:6933',\n",
       " 'dask_chunks': {'time': 1, 'x': 500, 'y': 500}}"
      ]
     },
     "execution_count": 7,
     "metadata": {},
     "output_type": "execute_result"
    }
   ],
   "source": [
    "# Read in the datacube query from the previous notebook.\n",
    "with open(pickled_query, \"rb\") as f:\n",
    "    query = pickle.load(f)\n",
    "    \n",
    "# Update the query with the new time period of interest.\n",
    "query.update({'time' : time_02})\n",
    "query"
   ]
  },
  {
   "cell_type": "code",
   "execution_count": 8,
   "id": "0b9c5159-9c65-4a6d-adbd-c4e58d179124",
   "metadata": {},
   "outputs": [
    {
     "name": "stdout",
     "output_type": "stream",
     "text": [
      "<xarray.Dataset>\n",
      "Dimensions:      (time: 96, y: 916, x: 380)\n",
      "Coordinates:\n",
      "  * time         (time) datetime64[ns] 2020-10-15T10:27:28 ... 2022-02-12T10:...\n",
      "  * y            (y) float64 1.691e+06 1.691e+06 ... 1.673e+06 1.673e+06\n",
      "  * x            (x) float64 2.81e+05 2.81e+05 2.81e+05 ... 2.885e+05 2.886e+05\n",
      "    spatial_ref  int32 6933\n",
      "Data variables:\n",
      "    red          (time, y, x) float32 dask.array<chunksize=(1, 500, 380), meta=np.ndarray>\n",
      "    nir          (time, y, x) float32 dask.array<chunksize=(1, 500, 380), meta=np.ndarray>\n",
      "Attributes:\n",
      "    crs:           EPSG:6933\n",
      "    grid_mapping:  spatial_ref\n"
     ]
    }
   ],
   "source": [
    "# Load the Sentinel-2 product.\n",
    "ds_s2 = load_ard(\n",
    "    dc=dc,\n",
    "    products=[\"s2_l2a\"],\n",
    "    measurements=[\"red\", \"nir\"],\n",
    "    mask_filters=[(\"opening\", 3), (\"dilation\", 3)],\n",
    "    **query,\n",
    "    verbose=False\n",
    ")\n",
    "\n",
    "print(ds_s2)"
   ]
  },
  {
   "cell_type": "code",
   "execution_count": 9,
   "id": "46aae4ca-a416-48ed-b77c-99fc96b5fac8",
   "metadata": {},
   "outputs": [
    {
     "name": "stderr",
     "output_type": "stream",
     "text": [
      "CPLReleaseMutex: Error = 1 (Operation not permitted)\n"
     ]
    },
    {
     "data": {
      "image/png": "[encoded data removed]",
      "text/plain": [
       "<Figure size 432x288 with 1 Axes>"
      ]
     },
     "metadata": {
      "needs_background": "light"
     },
     "output_type": "display_data"
    }
   ],
   "source": [
    "# Update the datacube query as the crop-mask is only available for the year 2019.\n",
    "query.update({'time' : '2019'})\n",
    "\n",
    "# Now load the crop-mask using the query.\n",
    "cm = dc.load(product='crop_mask',\n",
    "             measurements=['filtered'],\n",
    "             **query).filtered.squeeze()\n",
    "\n",
    "cm.where(cm<255).plot.imshow(cmap='Greens', add_colorbar=False); # we filter to <255 to omit missing data"
   ]
  },
  {
   "cell_type": "code",
   "execution_count": 10,
   "id": "64243cf7-1b2c-44f1-b587-2f219d0b35a9",
   "metadata": {},
   "outputs": [],
   "source": [
    "# Filter out the no data (255) and non-crop (0) pixels from the crop-mask `filtered` band and\n",
    "# mask the Sentinel-2 data.\n",
    "ds_s2 = ds_s2.where(cm == 1)"
   ]
  },
  {
   "cell_type": "code",
   "execution_count": 11,
   "id": "1735665d-76a4-484e-be3e-5a745b89ebf0",
   "metadata": {},
   "outputs": [],
   "source": [
    "# Calculate the 'veg_index'.\n",
    "ds_s2 = calculate_indices(ds_s2, index=veg_index, collection=\"s2\")"
   ]
  },
  {
   "cell_type": "markdown",
   "id": "7068bd16-f9b5-4467-be3b-88b16a87072d",
   "metadata": {},
   "source": [
    "## Compute NDVI time series per k-means class"
   ]
  },
  {
   "cell_type": "code",
   "execution_count": 12,
   "id": "5f49928f-8159-4cbc-a085-28ad2e817196",
   "metadata": {},
   "outputs": [
    {
     "name": "stderr",
     "output_type": "stream",
     "text": [
      "100%|██████████| 15/15 [04:16<00:00, 17.07s/it]"
     ]
    },
    {
     "name": "stdout",
     "output_type": "stream",
     "text": [
      "CPU times: user 31.9 s, sys: 2.01 s, total: 33.9 s\n",
      "Wall time: 4min 16s\n"
     ]
    },
    {
     "name": "stderr",
     "output_type": "stream",
     "text": [
      "\n"
     ]
    }
   ],
   "source": [
    "%%time\n",
    "def get_timeseries(ndvi_xr, kmeans_xr, class_id):\n",
    "\n",
    "    resample_period = \"2W\"\n",
    "    window = 4\n",
    "\n",
    "    ds_ndvi_class = ndvi_xr.where(kmeans_xr == class_id)\n",
    "\n",
    "    # Smooth the NDVI over time\n",
    "    ds_smooth = (\n",
    "        ds_ndvi_class[veg_index]\n",
    "        .resample(time=resample_period)\n",
    "        .median()\n",
    "        .rolling(time=window, min_periods=1)\n",
    "        .mean()\n",
    "    )\n",
    "\n",
    "    timeseries = ds_smooth.mean(dim=(\"x\", \"y\")).load()\n",
    "    timeseries = timeseries.rename(f\"Class_{class_id}\")\n",
    "\n",
    "    return timeseries\n",
    "\n",
    "\n",
    "classes = np.unique(predicted)\n",
    "classes = classes[~np.isnan(classes)].astype(int)\n",
    "\n",
    "timeseries_list = []\n",
    "for class_id in tqdm(classes):\n",
    "\n",
    "    timeseries_xr = get_timeseries(ds_s2, predicted, class_id)\n",
    "    timeseries_list.append(timeseries_xr)\n",
    "\n",
    "timeseries_xr = xr.merge(timeseries_list)"
   ]
  },
  {
   "cell_type": "code",
   "execution_count": 13,
   "id": "c392dbe2-b520-4e74-915e-2978b4afbd9c",
   "metadata": {},
   "outputs": [],
   "source": [
    "# Convert from xarray.Dataset to pandas Dataframe.\n",
    "timeseries_df = timeseries_xr.to_dataframe().drop([\"spatial_ref\"], axis=1)"
   ]
  },
  {
   "cell_type": "code",
   "execution_count": 14,
   "id": "ac2cb073-ccbb-45bb-99fb-dea261fd5929",
   "metadata": {},
   "outputs": [],
   "source": [
    "# Save the pandas Dataframe as csv.\n",
    "timeseries_df.to_csv(\n",
    "    f\"{output_dir}/{file_name}_ndvitimeseries_{time_02[0]}_to_{time_02[1]}_{no_of_clusters}classes.csv\"\n",
    ")"
   ]
  },
  {
   "cell_type": "markdown",
   "id": "3c0594a9-ccc6-450e-a93c-a69d0c27c5f4",
   "metadata": {},
   "source": [
    "## Compute cross-correlation (Pearson Correlation) and keep maximum"
   ]
  },
  {
   "cell_type": "code",
   "execution_count": 15,
   "id": "e1ec4e57-a4d5-47bb-a8ac-35a3d28bc0ec",
   "metadata": {},
   "outputs": [],
   "source": [
    "def max_lagged_correlation(df, max_lag):\n",
    "    max_lagged_correlation = pd.DataFrame.from_dict(\n",
    "        {\n",
    "            x: [\n",
    "                max(df[x].corr(df[y].shift(-t)) for t in range(-max_lag, max_lag))\n",
    "                for y in list(df.columns)\n",
    "            ]\n",
    "            for x in list(df.columns)\n",
    "        }\n",
    "    )\n",
    "\n",
    "    return max_lagged_correlation"
   ]
  },
  {
   "cell_type": "code",
   "execution_count": 16,
   "id": "411a7d92-919b-419c-9d25-5132377a0f7e",
   "metadata": {},
   "outputs": [],
   "source": [
    "# Demean the time series NDVI before cross correlation.\n",
    "demeaned_timeseries_df = timeseries_df.sub(timeseries_df.mean())"
   ]
  },
  {
   "cell_type": "code",
   "execution_count": 17,
   "id": "e8e6ce06-0187-4cdc-ac06-bb0ff7693898",
   "metadata": {},
   "outputs": [
    {
     "data": {
      "text/html": [
       "<div>\n",
       "<style scoped>\n",
       "    .dataframe tbody tr th:only-of-type {\n",
       "        vertical-align: middle;\n",
       "    }\n",
       "\n",
       "    .dataframe tbody tr th {\n",
       "        vertical-align: top;\n",
       "    }\n",
       "\n",
       "    .dataframe thead th {\n",
       "        text-align: right;\n",
       "    }\n",
       "</style>\n",
       "<table border=\"1\" class=\"dataframe\">\n",
       "  <thead>\n",
       "    <tr style=\"text-align: right;\">\n",
       "      <th></th>\n",
       "      <th>Class_0</th>\n",
       "      <th>Class_1</th>\n",
       "      <th>Class_2</th>\n",
       "      <th>Class_3</th>\n",
       "      <th>Class_4</th>\n",
       "      <th>Class_5</th>\n",
       "      <th>Class_6</th>\n",
       "      <th>Class_7</th>\n",
       "      <th>Class_8</th>\n",
       "      <th>Class_9</th>\n",
       "      <th>Class_10</th>\n",
       "      <th>Class_11</th>\n",
       "      <th>Class_12</th>\n",
       "      <th>Class_13</th>\n",
       "      <th>Class_14</th>\n",
       "    </tr>\n",
       "  </thead>\n",
       "  <tbody>\n",
       "    <tr>\n",
       "      <th>0</th>\n",
       "      <td>1.000000</td>\n",
       "      <td>0.946909</td>\n",
       "      <td>0.906312</td>\n",
       "      <td>0.952305</td>\n",
       "      <td>0.992398</td>\n",
       "      <td>0.968160</td>\n",
       "      <td>0.926928</td>\n",
       "      <td>0.963663</td>\n",
       "      <td>0.957252</td>\n",
       "      <td>0.956307</td>\n",
       "      <td>0.977528</td>\n",
       "      <td>0.994516</td>\n",
       "      <td>0.956549</td>\n",
       "      <td>0.952389</td>\n",
       "      <td>0.957620</td>\n",
       "    </tr>\n",
       "    <tr>\n",
       "      <th>1</th>\n",
       "      <td>0.946909</td>\n",
       "      <td>1.000000</td>\n",
       "      <td>0.971288</td>\n",
       "      <td>0.996241</td>\n",
       "      <td>0.967621</td>\n",
       "      <td>0.986272</td>\n",
       "      <td>0.992276</td>\n",
       "      <td>0.974192</td>\n",
       "      <td>0.873616</td>\n",
       "      <td>0.957678</td>\n",
       "      <td>0.981006</td>\n",
       "      <td>0.958387</td>\n",
       "      <td>0.986522</td>\n",
       "      <td>0.997448</td>\n",
       "      <td>0.992977</td>\n",
       "    </tr>\n",
       "    <tr>\n",
       "      <th>2</th>\n",
       "      <td>0.906312</td>\n",
       "      <td>0.971288</td>\n",
       "      <td>1.000000</td>\n",
       "      <td>0.974730</td>\n",
       "      <td>0.921821</td>\n",
       "      <td>0.936263</td>\n",
       "      <td>0.951101</td>\n",
       "      <td>0.952409</td>\n",
       "      <td>0.832926</td>\n",
       "      <td>0.955369</td>\n",
       "      <td>0.927368</td>\n",
       "      <td>0.918662</td>\n",
       "      <td>0.955598</td>\n",
       "      <td>0.970155</td>\n",
       "      <td>0.960823</td>\n",
       "    </tr>\n",
       "    <tr>\n",
       "      <th>3</th>\n",
       "      <td>0.952305</td>\n",
       "      <td>0.996241</td>\n",
       "      <td>0.974730</td>\n",
       "      <td>1.000000</td>\n",
       "      <td>0.972209</td>\n",
       "      <td>0.976718</td>\n",
       "      <td>0.980230</td>\n",
       "      <td>0.966606</td>\n",
       "      <td>0.871357</td>\n",
       "      <td>0.977623</td>\n",
       "      <td>0.974788</td>\n",
       "      <td>0.956184</td>\n",
       "      <td>0.981023</td>\n",
       "      <td>0.990590</td>\n",
       "      <td>0.984976</td>\n",
       "    </tr>\n",
       "    <tr>\n",
       "      <th>4</th>\n",
       "      <td>0.992398</td>\n",
       "      <td>0.967621</td>\n",
       "      <td>0.921821</td>\n",
       "      <td>0.972209</td>\n",
       "      <td>1.000000</td>\n",
       "      <td>0.981140</td>\n",
       "      <td>0.954628</td>\n",
       "      <td>0.958751</td>\n",
       "      <td>0.934079</td>\n",
       "      <td>0.963405</td>\n",
       "      <td>0.990848</td>\n",
       "      <td>0.985816</td>\n",
       "      <td>0.964996</td>\n",
       "      <td>0.966281</td>\n",
       "      <td>0.967257</td>\n",
       "    </tr>\n",
       "  </tbody>\n",
       "</table>\n",
       "</div>"
      ],
      "text/plain": [
       "    Class_0   Class_1   Class_2   Class_3   Class_4   Class_5   Class_6  \\\n",
       "0  1.000000  0.946909  0.906312  0.952305  0.992398  0.968160  0.926928   \n",
       "1  0.946909  1.000000  0.971288  0.996241  0.967621  0.986272  0.992276   \n",
       "2  0.906312  0.971288  1.000000  0.974730  0.921821  0.936263  0.951101   \n",
       "3  0.952305  0.996241  0.974730  1.000000  0.972209  0.976718  0.980230   \n",
       "4  0.992398  0.967621  0.921821  0.972209  1.000000  0.981140  0.954628   \n",
       "\n",
       "    Class_7   Class_8   Class_9  Class_10  Class_11  Class_12  Class_13  \\\n",
       "0  0.963663  0.957252  0.956307  0.977528  0.994516  0.956549  0.952389   \n",
       "1  0.974192  0.873616  0.957678  0.981006  0.958387  0.986522  0.997448   \n",
       "2  0.952409  0.832926  0.955369  0.927368  0.918662  0.955598  0.970155   \n",
       "3  0.966606  0.871357  0.977623  0.974788  0.956184  0.981023  0.990590   \n",
       "4  0.958751  0.934079  0.963405  0.990848  0.985816  0.964996  0.966281   \n",
       "\n",
       "   Class_14  \n",
       "0  0.957620  \n",
       "1  0.992977  \n",
       "2  0.960823  \n",
       "3  0.984976  \n",
       "4  0.967257  "
      ]
     },
     "execution_count": 17,
     "metadata": {},
     "output_type": "execute_result"
    }
   ],
   "source": [
    "correlation_matrix_df = max_lagged_correlation(demeaned_timeseries_df, 3)\n",
    "correlation_matrix_df.head()"
   ]
  },
  {
   "cell_type": "markdown",
   "id": "4d6ea148-87be-4268-9420-5253b3dd847d",
   "metadata": {},
   "source": [
    "## Identify Grouped Classes and Loner Classes\n",
    "\n",
    "Grouped classes are the classes in the K_means clustering prediction image that were grouped together.\n",
    "\n",
    "The loner classes are classes in the K_means clustering prediction image that were unable to be grouped in any way."
   ]
  },
  {
   "cell_type": "code",
   "execution_count": 18,
   "id": "4c649773-5182-4f69-8e07-d29c16a4824a",
   "metadata": {},
   "outputs": [],
   "source": [
    "correlation_matrix_df_copy = correlation_matrix_df.copy()\n",
    "\n",
    "grouped_classes = []\n",
    "loner_classes = []\n",
    "\n",
    "class_cols = list(correlation_matrix_df_copy.columns)\n",
    "\n",
    "for i, column in enumerate(class_cols):\n",
    "\n",
    "    thresh = 0.93\n",
    "\n",
    "    single_class = correlation_matrix_df_copy[column]\n",
    "    indexes_above_thresh = list(single_class[single_class >= thresh].index)\n",
    "\n",
    "    correlation_matrix_df_copy = correlation_matrix_df_copy.drop(\n",
    "        indexes_above_thresh, axis=0\n",
    "    )\n",
    "\n",
    "    # if not empty (contains at least one element)\n",
    "    if len(indexes_above_thresh) == 1:\n",
    "        loner_classes.extend(indexes_above_thresh)\n",
    "    elif len(indexes_above_thresh) > 1:\n",
    "        grouped_classes.append(indexes_above_thresh)"
   ]
  },
  {
   "cell_type": "code",
   "execution_count": 19,
   "id": "590e5ec6-c493-404d-8cf6-7e61dd33e97f",
   "metadata": {},
   "outputs": [
    {
     "data": {
      "image/png": "[encoded data removed]",
      "text/plain": [
       "<Figure size 1008x1080 with 2 Axes>"
      ]
     },
     "metadata": {},
     "output_type": "display_data"
    }
   ],
   "source": [
    "# Plot the grouped classes in their respective groups.\n",
    "fig = plt.figure(figsize=(14, 15), facecolor=\"white\")\n",
    "fig.suptitle('Grouped Classes', x=0.455 , y=1, fontsize=16)\n",
    "\n",
    "rows = len(grouped_classes)\n",
    "columns = 1\n",
    "\n",
    "# Starting point for naming the groups.\n",
    "group_name = 1 \n",
    "\n",
    "for i in range(rows):\n",
    "    ax = fig.add_subplot(rows, columns, i + 1)\n",
    "    timeseries_df.iloc[:, grouped_classes[i]].plot(ax=ax)\n",
    "    ax.legend(title= \"Kmeans Predicted Classes\", bbox_to_anchor=(1.0, 0.5), loc=\"center left\")\n",
    "    ax.set_ylim((-1, 1))\n",
    "    ax.set_title(f\"Group {group_name}\")\n",
    "    ax.set_ylabel(\"NDVI\")\n",
    "    group_name +=1\n",
    "plt.tight_layout()"
   ]
  },
  {
   "cell_type": "code",
   "execution_count": 20,
   "id": "7550dcb9-784b-4942-8178-a71d7b9e206b",
   "metadata": {},
   "outputs": [
    {
     "data": {
      "text/plain": [
       "<Figure size 1008x504 with 0 Axes>"
      ]
     },
     "metadata": {},
     "output_type": "display_data"
    }
   ],
   "source": [
    "# Plot the loner classes. Each loner class is a group on its own.\n",
    "fig = plt.figure(figsize=(14, 7), facecolor=\"white\")\n",
    "fig.suptitle('Loner (Non-Grouped) Classes', x=0.455 , y=1, fontsize=16)\n",
    "\n",
    "rows = len(loner_classes)\n",
    "columns = 1\n",
    "\n",
    "for i in range(rows):\n",
    "    ax = fig.add_subplot(rows, columns, i + 1)\n",
    "    timeseries_df.iloc[:, loner_classes[i]].plot(ax=ax)\n",
    "    ax.legend(title= \"Kmeans Predicted Classes\",bbox_to_anchor=(1.0, 0.5), loc=\"center left\")\n",
    "    ax.set_ylim((-1, 1))\n",
    "    ax.set_title(f\"Group {group_name}\")\n",
    "    ax.set_ylabel(\"NDVI\")\n",
    "    group_name +=1"
   ]
  },
  {
   "cell_type": "code",
   "execution_count": 21,
   "id": "0612fa12-6368-4c8b-b6c3-dfbf723b2d14",
   "metadata": {},
   "outputs": [],
   "source": [
    "# Export the grouped classes.\n",
    "\n",
    "# Starting point for naming the groups.\n",
    "group_name = 1 \n",
    "\n",
    "for group in grouped_classes:\n",
    "    class_list = [f\"Class_{index}\" for index in group]\n",
    "\n",
    "    with open(\n",
    "        f\"{output_dir}/{file_name}_correlated_ndvi_{time_02[0]}_to_{time_02[1]}_{no_of_clusters}classes_group{group_name}.pickle\", \"wb\") as f:\n",
    "        pickle.dump(class_list, f, protocol=-1)\n",
    "    \n",
    "    group_name+=1\n",
    "   "
   ]
  },
  {
   "cell_type": "code",
   "execution_count": 22,
   "id": "30418fce-8f75-4a16-b18c-a5f2f698a413",
   "metadata": {},
   "outputs": [],
   "source": [
    "# Export the loner classes\n",
    "class_list = [[f\"Class_{loner_class}\"] for loner_class in loner_classes]\n",
    "\n",
    "\n",
    "with open(f\"{output_dir}/{file_name}_correlated_ndvi_{time_02[0]}_to_{time_02[1]}_{no_of_clusters}classes_loner_classes.pickle\", \"wb\") as f:\n",
    "        pickle.dump(class_list, f, protocol=-1)"
   ]
  },
  {
   "cell_type": "markdown",
   "id": "c09d2ed7-421e-480f-b6c0-9ba57b06d77d",
   "metadata": {},
   "source": [
    "## Recommended next steps\n",
    "\n",
    "To continue working through the notebooks in this workflow, go to the next notebook `02_group_classes_using_NDVI.ipynb`.\n",
    "\n",
    "1. [Unsupervised Class Identification](01_unsupervised_class_identification.ipynb)\n",
    "2. **Group Classes Using NDVI (this notebook)**\n",
    "3. [Reclassify Unsupervised NDVI](03_reclassify_unsupervised_map_NDVI_classes.ipynb)"
   ]
  },
  {
   "cell_type": "markdown",
   "id": "1a0c1d46-0b13-46fb-9f27-de4d7a6ea261",
   "metadata": {},
   "source": [
    "---\n",
    "\n",
    "## Additional information\n",
    "\n",
    "**License:** The code in this notebook is licensed under the [Apache License, Version 2.0](https://www.apache.org/licenses/LICENSE-2.0). \n",
    "Digital Earth Africa data is licensed under the [Creative Commons by Attribution 4.0](https://creativecommons.org/licenses/by/4.0/) license.\n",
    "\n",
    "**Contact:** If you need assistance, please post a question on the [Open Data Cube Slack channel](http://slack.opendatacube.org/) or on the [GIS Stack Exchange](https://gis.stackexchange.com/questions/ask?tags=open-data-cube) using the `open-data-cube` tag (you can view previously asked questions [here](https://gis.stackexchange.com/questions/tagged/open-data-cube)).\n",
    "If you would like to repoart an issue with this notebook, you can file one on [Github](https://github.com/digitalearthafrica/deafrica-sandbox-notebooks).\n",
    "\n",
    "**Compatible datacube version:**"
   ]
  },
  {
   "cell_type": "code",
   "execution_count": 23,
   "id": "14c86163-d680-47a0-b40c-32ddcbdec915",
   "metadata": {},
   "outputs": [
    {
     "name": "stdout",
     "output_type": "stream",
     "text": [
      "1.8.6\n"
     ]
    }
   ],
   "source": [
    "print(datacube.__version__)"
   ]
  },
  {
   "cell_type": "markdown",
   "id": "7eb84441-be2d-4fbf-a639-6bb3d1b42054",
   "metadata": {},
   "source": [
    "**Last Tested:**"
   ]
  },
  {
   "cell_type": "code",
   "execution_count": 24,
   "id": "5a61d979-3ef2-4db5-abd3-e77ec758e2b2",
   "metadata": {},
   "outputs": [
    {
     "data": {
      "text/plain": [
       "'2022-06-23'"
      ]
     },
     "execution_count": 24,
     "metadata": {},
     "output_type": "execute_result"
    }
   ],
   "source": [
    "from datetime import datetime\n",
    "\n",
    "datetime.today().strftime(\"%Y-%m-%d\")"
   ]
  }
 ],
 "metadata": {
  "kernelspec": {
   "display_name": "Python 3 (ipykernel)",
   "language": "python",
   "name": "python3"
  },
  "language_info": {
   "codemirror_mode": {
    "name": "ipython",
    "version": 3
   },
   "file_extension": ".py",
   "mimetype": "text/x-python",
   "name": "python",
   "nbconvert_exporter": "python",
   "pygments_lexer": "ipython3",
   "version": "3.8.10"
  },
  "widgets": {
   "application/vnd.jupyter.widget-state+json": {
    "state": {},
    "version_major": 2,
    "version_minor": 0
   }
  }
 },
 "nbformat": 4,
 "nbformat_minor": 5
}
