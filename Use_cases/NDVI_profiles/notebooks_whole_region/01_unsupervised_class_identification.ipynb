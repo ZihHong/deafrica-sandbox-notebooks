{
 "cells": [
  {
   "cell_type": "markdown",
   "id": "0043a286-ab79-47b0-8df1-4b39213e636c",
   "metadata": {
    "tags": []
   },
   "source": [
    "# Unsupervised Class Identification\n",
    "\n",
    "\n",
    "* **Products used:** \n",
    "[gm_s2_annual](https://explorer.digitalearth.africa/gm_s2_annual), \n",
    "[gm_s2_semiannual](https://explorer.digitalearth.africa/gm_s2_semiannual), \n",
    "[fc_ls_summary_annual](https://explorer.digitalearth.africa/fc_ls_summary_annual),\n"
   ]
  },
  {
   "cell_type": "raw",
   "id": "23e78ad1-2644-48f4-8514-74541ea9e073",
   "metadata": {
    "raw_mimetype": "text/restructuredtext",
    "tags": []
   },
   "source": [
    "**Keywords**: :index:`data used; sentinel-2 geomedian`, `data used; sentinel-2 semiannual geomedian`, index:`data used; MADs`, :index:`data used; fc_ls_summary_annual`,"
   ]
  },
  {
   "cell_type": "markdown",
   "id": "e94af07b-f7ec-4e9d-a717-a228b39204a0",
   "metadata": {},
   "source": [
    "## Background"
   ]
  },
  {
   "cell_type": "markdown",
   "id": "87ad2be1-1961-49c1-9918-a617c1bd3ad2",
   "metadata": {},
   "source": [
    "## Description\n",
    "\n",
    "\n",
    "---"
   ]
  },
  {
   "cell_type": "markdown",
   "id": "72632c8a-26b0-4696-800a-23bebc2a2b19",
   "metadata": {},
   "source": [
    "## Getting Started\n",
    "\n",
    "To run this analysis, run all the cells in the notebook, starting with the \"**Load packages**\" cell."
   ]
  },
  {
   "cell_type": "markdown",
   "id": "6c62b6cd-2934-4a0e-90e9-208ccdfb0db4",
   "metadata": {},
   "source": [
    "### Load packages"
   ]
  },
  {
   "cell_type": "code",
   "execution_count": 1,
   "id": "820a2963-2b27-431b-bbd7-0312d54b81ca",
   "metadata": {},
   "outputs": [],
   "source": [
    "import os\n",
    "import pickle\n",
    "\n",
    "import datacube\n",
    "import geopandas as gpd\n",
    "import matplotlib.pyplot as plt\n",
    "import numpy as np\n",
    "import pandas as pd\n",
    "import rioxarray\n",
    "import xarray as xr\n",
    "from datacube.utils import geometry\n",
    "from datacube.utils.geometry import CRS, Geometry\n",
    "from deafrica_tools.bandindices import calculate_indices\n",
    "from deafrica_tools.classification import sklearn_flatten, sklearn_unflatten\n",
    "from deafrica_tools.dask import create_local_dask_cluster\n",
    "from deafrica_tools.datahandling import load_ard\n",
    "from deafrica_tools.plotting import rgb\n",
    "from deafrica_tools.spatial import xr_rasterize\n",
    "from deafrica_tools.temporal import temporal_statistics, xr_phenology\n",
    "from sklearn.cluster import DBSCAN, KMeans\n",
    "from sklearn.decomposition import PCA\n",
    "from sklearn.ensemble import RandomForestClassifier\n",
    "from sklearn.preprocessing import StandardScaler"
   ]
  },
  {
   "cell_type": "markdown",
   "id": "a082464a-7942-4603-9ef8-20f951ca9a44",
   "metadata": {},
   "source": [
    "### Set up a Dask cluster\n",
    "\n",
    "Dask can be used to better manage memory use and conduct the analysis in parallel. \n",
    "For an introduction to using Dask with Digital Earth Africa, see the [Dask notebook](../Beginners_guide/08_Parallel_processing_with_dask.ipynb).\n",
    "\n",
    ">**Note**: We recommend opening the Dask processing window to view the different computations that are being executed; to do this, see the *Dask dashboard in DE Africa* section of the [Dask notebook](../Beginners_guide/08_Parallel_processing_with_dask.ipynb).\n",
    "\n",
    "To use Dask, set up the local computing cluster using the cell below."
   ]
  },
  {
   "cell_type": "code",
   "execution_count": 2,
   "id": "4b1b75b7-e3ac-45de-84dd-f05fb1bce582",
   "metadata": {},
   "outputs": [
    {
     "data": {
      "text/html": [
       "<table style=\"border: 2px solid white;\">\n",
       "<tr>\n",
       "<td style=\"vertical-align: top; border: 0px solid white\">\n",
       "<h3 style=\"text-align: left;\">Client</h3>\n",
       "<ul style=\"text-align: left; list-style: none; margin: 0; padding: 0;\">\n",
       "  <li><b>Scheduler: </b>tcp://127.0.0.1:43899</li>\n",
       "  <li><b>Dashboard: </b><a href='/user/victoria@kartoza.com/proxy/8787/status' target='_blank'>/user/victoria@kartoza.com/proxy/8787/status</a></li>\n",
       "</ul>\n",
       "</td>\n",
       "<td style=\"vertical-align: top; border: 0px solid white\">\n",
       "<h3 style=\"text-align: left;\">Cluster</h3>\n",
       "<ul style=\"text-align: left; list-style:none; margin: 0; padding: 0;\">\n",
       "  <li><b>Workers: </b>1</li>\n",
       "  <li><b>Cores: </b>15</li>\n",
       "  <li><b>Memory: </b>104.37 GB</li>\n",
       "</ul>\n",
       "</td>\n",
       "</tr>\n",
       "</table>"
      ],
      "text/plain": [
       "<Client: 'tcp://127.0.0.1:43899' processes=1 threads=15, memory=104.37 GB>"
      ]
     },
     "metadata": {},
     "output_type": "display_data"
    }
   ],
   "source": [
    "create_local_dask_cluster()"
   ]
  },
  {
   "cell_type": "markdown",
   "id": "e4a0cfdd-4fa4-4ece-940e-df135a72ebc9",
   "metadata": {},
   "source": [
    "### Analysis parameters\n",
    "\n",
    "The following cell sets important parameters for the analysis:\n",
    "\n",
    "* `vector_file`: file path for the shapefile containing the polygon for the boundary of the area of interest\n",
    "* `attribute_col`: The column in the \"vector_file\" containing the names of the 'urban commune' or FR 'commune urbaine', 'rural commune' or FR 'commune rurale', and 'administrative post' or FR 'poste administratif'\n",
    "* `time` : This is the time period of interest to load data for.\n",
    "* `resolution` : The spatial resolution, in metres, to resample the satellite data to. \n",
    "* `output_crs` : The coordinate reference system that the loaded data is to be reprojected to.\n",
    "* `dask_chunks`: the size of the dask chunks, dask breaks data into manageable chunks that can be easily stored in memory, e.g. dict(x=1000,y=1000)\n",
    "* `output_dir` : The directory in which to store results from the analysis.\n",
    "* `no_of_clusters` : The number of clusters to form as well as the number of centroids generated in the K-Means clustering.\n",
    "\n",
    "**If running the notebook for the first time**, keep the default settings below.\n",
    "This will demonstrate how the analysis works and provide meaningful results."
   ]
  },
  {
   "cell_type": "code",
   "execution_count": 3,
   "id": "54afcc9e-d0cc-4b5d-9444-c47e27f34dbb",
   "metadata": {},
   "outputs": [],
   "source": [
    "vector_file = \"../data/boundary_data/communes_etude.geojson\"\n",
    "attribute_col = \"NOM_COM\"\n",
    "\n",
    "# Time period of interest.\n",
    "time = \"2021\"\n",
    "\n",
    "# Resolution and CRS to reproject data to.\n",
    "resolution = (-20, 20)\n",
    "output_crs = \"EPSG:6933\"\n",
    "\n",
    "# Size of dask chunks.\n",
    "dask_chunks = {\"time\": 1, \"x\": 500, \"y\": 500}\n",
    "\n",
    "# Create the output directory to store the results.\n",
    "output_dir = \"results\"\n",
    "os.makedirs(output_dir, exist_ok=True)\n",
    "\n",
    "# Specify the number of clusters to form as well as the number of centroids to generate in the K-Means Clustering.\n",
    "no_of_clusters = 15"
   ]
  },
  {
   "cell_type": "markdown",
   "id": "27424d01-de56-4804-ad22-ffeb53cde23f",
   "metadata": {},
   "source": [
    "### Connect to the datacube\n",
    "\n",
    "Connect to the datacube so we can access DE Africa data. \n",
    "The `app` parameter is a unique name for the analysis which is based on the notebook file name."
   ]
  },
  {
   "cell_type": "code",
   "execution_count": 4,
   "id": "672b00b9-a4b6-413b-ac2b-d60203ac8fee",
   "metadata": {},
   "outputs": [],
   "source": [
    "dc = datacube.Datacube(app=\"unsupervised_class_identification\")"
   ]
  },
  {
   "cell_type": "markdown",
   "id": "df0eab36-2e4f-4252-99f5-c64c10787d09",
   "metadata": {},
   "source": [
    "### Load the Niger Communes shapefile\n",
    "\n",
    "This shapefile contains polygons for the boundaries of Niger communes. \n",
    "We will dissolves all the geometries of the communes together into a single geometric feature."
   ]
  },
  {
   "cell_type": "code",
   "execution_count": 5,
   "id": "ceb61b36-15da-44f4-ae4c-061e59846a3b",
   "metadata": {},
   "outputs": [
    {
     "data": {
      "text/html": [
       "<div style=\"width:100%;\"><div style=\"position:relative;width:100%;height:0;padding-bottom:60%;\"><span style=\"color:#565656\">Make this Notebook Trusted to load map: File -> Trust Notebook</span><iframe src=\"about:blank\" style=\"position:absolute;width:100%;height:100%;left:0;top:0;border:none !important;\" data-html=%3C%21DOCTYPE%20html%3E%0A%3Chead%3E%20%20%20%20%0A%20%20%20%20%3Cmeta%20http-equiv%3D%22content-type%22%20content%3D%22text/html%3B%20charset%3DUTF-8%22%20/%3E%0A%20%20%20%20%0A%20%20%20%20%20%20%20%20%3Cscript%3E%0A%20%20%20%20%20%20%20%20%20%20%20%20L_NO_TOUCH%20%3D%20false%3B%0A%20%20%20%20%20%20%20%20%20%20%20%20L_DISABLE_3D%20%3D%20false%3B%0A%20%20%20%20%20%20%20%20%3C/script%3E%0A%20%20%20%20%0A%20%20%20%20%3Cstyle%3Ehtml%2C%20body%20%7Bwidth%3A%20100%25%3Bheight%3A%20100%25%3Bmargin%3A%200%3Bpadding%3A%200%3B%7D%3C/style%3E%0A%20%20%20%20%3Cstyle%3E%23map%20%7Bposition%3Aabsolute%3Btop%3A0%3Bbottom%3A0%3Bright%3A0%3Bleft%3A0%3B%7D%3C/style%3E%0A%20%20%20%20%3Cscript%20src%3D%22https%3A//cdn.jsdelivr.net/npm/leaflet%401.6.0/dist/leaflet.js%22%3E%3C/script%3E%0A%20%20%20%20%3Cscript%20src%3D%22https%3A//code.jquery.com/jquery-1.12.4.min.js%22%3E%3C/script%3E%0A%20%20%20%20%3Cscript%20src%3D%22https%3A//maxcdn.bootstrapcdn.com/bootstrap/3.2.0/js/bootstrap.min.js%22%3E%3C/script%3E%0A%20%20%20%20%3Cscript%20src%3D%22https%3A//cdnjs.cloudflare.com/ajax/libs/Leaflet.awesome-markers/2.0.2/leaflet.awesome-markers.js%22%3E%3C/script%3E%0A%20%20%20%20%3Clink%20rel%3D%22stylesheet%22%20href%3D%22https%3A//cdn.jsdelivr.net/npm/leaflet%401.6.0/dist/leaflet.css%22/%3E%0A%20%20%20%20%3Clink%20rel%3D%22stylesheet%22%20href%3D%22https%3A//maxcdn.bootstrapcdn.com/bootstrap/3.2.0/css/bootstrap.min.css%22/%3E%0A%20%20%20%20%3Clink%20rel%3D%22stylesheet%22%20href%3D%22https%3A//maxcdn.bootstrapcdn.com/bootstrap/3.2.0/css/bootstrap-theme.min.css%22/%3E%0A%20%20%20%20%3Clink%20rel%3D%22stylesheet%22%20href%3D%22https%3A//maxcdn.bootstrapcdn.com/font-awesome/4.6.3/css/font-awesome.min.css%22/%3E%0A%20%20%20%20%3Clink%20rel%3D%22stylesheet%22%20href%3D%22https%3A//cdnjs.cloudflare.com/ajax/libs/Leaflet.awesome-markers/2.0.2/leaflet.awesome-markers.css%22/%3E%0A%20%20%20%20%3Clink%20rel%3D%22stylesheet%22%20href%3D%22https%3A//cdn.jsdelivr.net/gh/python-visualization/folium/folium/templates/leaflet.awesome.rotate.min.css%22/%3E%0A%20%20%20%20%0A%20%20%20%20%20%20%20%20%20%20%20%20%3Cmeta%20name%3D%22viewport%22%20content%3D%22width%3Ddevice-width%2C%0A%20%20%20%20%20%20%20%20%20%20%20%20%20%20%20%20initial-scale%3D1.0%2C%20maximum-scale%3D1.0%2C%20user-scalable%3Dno%22%20/%3E%0A%20%20%20%20%20%20%20%20%20%20%20%20%3Cstyle%3E%0A%20%20%20%20%20%20%20%20%20%20%20%20%20%20%20%20%23map_a4cca340af3748d28cccff0f81dd1970%20%7B%0A%20%20%20%20%20%20%20%20%20%20%20%20%20%20%20%20%20%20%20%20position%3A%20relative%3B%0A%20%20%20%20%20%20%20%20%20%20%20%20%20%20%20%20%20%20%20%20width%3A%20100.0%25%3B%0A%20%20%20%20%20%20%20%20%20%20%20%20%20%20%20%20%20%20%20%20height%3A%20100.0%25%3B%0A%20%20%20%20%20%20%20%20%20%20%20%20%20%20%20%20%20%20%20%20left%3A%200.0%25%3B%0A%20%20%20%20%20%20%20%20%20%20%20%20%20%20%20%20%20%20%20%20top%3A%200.0%25%3B%0A%20%20%20%20%20%20%20%20%20%20%20%20%20%20%20%20%7D%0A%20%20%20%20%20%20%20%20%20%20%20%20%3C/style%3E%0A%20%20%20%20%20%20%20%20%0A%20%20%20%20%0A%20%20%20%20%20%20%20%20%20%20%20%20%20%20%20%20%20%20%20%20%3Cstyle%3E%0A%20%20%20%20%20%20%20%20%20%20%20%20%20%20%20%20%20%20%20%20%20%20%20%20.foliumtooltip%20%7B%0A%20%20%20%20%20%20%20%20%20%20%20%20%20%20%20%20%20%20%20%20%20%20%20%20%20%20%20%20%0A%20%20%20%20%20%20%20%20%20%20%20%20%20%20%20%20%20%20%20%20%20%20%20%20%7D%0A%20%20%20%20%20%20%20%20%20%20%20%20%20%20%20%20%20%20%20%20%20%20%20.foliumtooltip%20table%7B%0A%20%20%20%20%20%20%20%20%20%20%20%20%20%20%20%20%20%20%20%20%20%20%20%20%20%20%20%20margin%3A%20auto%3B%0A%20%20%20%20%20%20%20%20%20%20%20%20%20%20%20%20%20%20%20%20%20%20%20%20%7D%0A%20%20%20%20%20%20%20%20%20%20%20%20%20%20%20%20%20%20%20%20%20%20%20%20.foliumtooltip%20tr%7B%0A%20%20%20%20%20%20%20%20%20%20%20%20%20%20%20%20%20%20%20%20%20%20%20%20%20%20%20%20text-align%3A%20left%3B%0A%20%20%20%20%20%20%20%20%20%20%20%20%20%20%20%20%20%20%20%20%20%20%20%20%7D%0A%20%20%20%20%20%20%20%20%20%20%20%20%20%20%20%20%20%20%20%20%20%20%20%20.foliumtooltip%20th%7B%0A%20%20%20%20%20%20%20%20%20%20%20%20%20%20%20%20%20%20%20%20%20%20%20%20%20%20%20%20padding%3A%202px%3B%20padding-right%3A%208px%3B%0A%20%20%20%20%20%20%20%20%20%20%20%20%20%20%20%20%20%20%20%20%20%20%20%20%7D%0A%20%20%20%20%20%20%20%20%20%20%20%20%20%20%20%20%20%20%20%20%3C/style%3E%0A%20%20%20%20%20%20%20%20%20%20%20%20%0A%3C/head%3E%0A%3Cbody%3E%20%20%20%20%0A%20%20%20%20%0A%20%20%20%20%20%20%20%20%20%20%20%20%3Cdiv%20class%3D%22folium-map%22%20id%3D%22map_a4cca340af3748d28cccff0f81dd1970%22%20%3E%3C/div%3E%0A%20%20%20%20%20%20%20%20%0A%3C/body%3E%0A%3Cscript%3E%20%20%20%20%0A%20%20%20%20%0A%20%20%20%20%20%20%20%20%20%20%20%20var%20map_a4cca340af3748d28cccff0f81dd1970%20%3D%20L.map%28%0A%20%20%20%20%20%20%20%20%20%20%20%20%20%20%20%20%22map_a4cca340af3748d28cccff0f81dd1970%22%2C%0A%20%20%20%20%20%20%20%20%20%20%20%20%20%20%20%20%7B%0A%20%20%20%20%20%20%20%20%20%20%20%20%20%20%20%20%20%20%20%20center%3A%20%5B13.297698974500065%2C%202.801025391000053%5D%2C%0A%20%20%20%20%20%20%20%20%20%20%20%20%20%20%20%20%20%20%20%20crs%3A%20L.CRS.EPSG3857%2C%0A%20%20%20%20%20%20%20%20%20%20%20%20%20%20%20%20%20%20%20%20zoom%3A%2010%2C%0A%20%20%20%20%20%20%20%20%20%20%20%20%20%20%20%20%20%20%20%20zoomControl%3A%20true%2C%0A%20%20%20%20%20%20%20%20%20%20%20%20%20%20%20%20%20%20%20%20preferCanvas%3A%20false%2C%0A%20%20%20%20%20%20%20%20%20%20%20%20%20%20%20%20%7D%0A%20%20%20%20%20%20%20%20%20%20%20%20%29%3B%0A%20%20%20%20%20%20%20%20%20%20%20%20L.control.scale%28%29.addTo%28map_a4cca340af3748d28cccff0f81dd1970%29%3B%0A%0A%20%20%20%20%20%20%20%20%20%20%20%20%0A%0A%20%20%20%20%20%20%20%20%0A%20%20%20%20%0A%20%20%20%20%20%20%20%20%20%20%20%20var%20tile_layer_ef127605fe504da39f546bf46d87846e%20%3D%20L.tileLayer%28%0A%20%20%20%20%20%20%20%20%20%20%20%20%20%20%20%20%22https%3A//%7Bs%7D.tile.openstreetmap.org/%7Bz%7D/%7Bx%7D/%7By%7D.png%22%2C%0A%20%20%20%20%20%20%20%20%20%20%20%20%20%20%20%20%7B%22attribution%22%3A%20%22Data%20by%20%5Cu0026copy%3B%20%5Cu003ca%20href%3D%5C%22http%3A//openstreetmap.org%5C%22%5Cu003eOpenStreetMap%5Cu003c/a%5Cu003e%2C%20under%20%5Cu003ca%20href%3D%5C%22http%3A//www.openstreetmap.org/copyright%5C%22%5Cu003eODbL%5Cu003c/a%5Cu003e.%22%2C%20%22detectRetina%22%3A%20false%2C%20%22maxNativeZoom%22%3A%2018%2C%20%22maxZoom%22%3A%2018%2C%20%22minZoom%22%3A%200%2C%20%22noWrap%22%3A%20false%2C%20%22opacity%22%3A%201%2C%20%22subdomains%22%3A%20%22abc%22%2C%20%22tms%22%3A%20false%7D%0A%20%20%20%20%20%20%20%20%20%20%20%20%29.addTo%28map_a4cca340af3748d28cccff0f81dd1970%29%3B%0A%20%20%20%20%20%20%20%20%0A%20%20%20%20%0A%20%20%20%20%20%20%20%20%20%20%20%20map_a4cca340af3748d28cccff0f81dd1970.fitBounds%28%0A%20%20%20%20%20%20%20%20%20%20%20%20%20%20%20%20%5B%5B12.715515137000068%2C%202.454528809000067%5D%2C%20%5B13.879882812000062%2C%203.147521973000039%5D%5D%2C%0A%20%20%20%20%20%20%20%20%20%20%20%20%20%20%20%20%7B%7D%0A%20%20%20%20%20%20%20%20%20%20%20%20%29%3B%0A%20%20%20%20%20%20%20%20%0A%20%20%20%20%0A%20%20%20%20%20%20%20%20function%20geo_json_62c7d4b770e64e27be6fa4ba6bdef9c3_styler%28feature%29%20%7B%0A%20%20%20%20%20%20%20%20%20%20%20%20switch%28feature.id%29%20%7B%0A%20%20%20%20%20%20%20%20%20%20%20%20%20%20%20%20default%3A%0A%20%20%20%20%20%20%20%20%20%20%20%20%20%20%20%20%20%20%20%20return%20%7B%22fillOpacity%22%3A%200.5%2C%20%22weight%22%3A%202%7D%3B%0A%20%20%20%20%20%20%20%20%20%20%20%20%7D%0A%20%20%20%20%20%20%20%20%7D%0A%20%20%20%20%20%20%20%20function%20geo_json_62c7d4b770e64e27be6fa4ba6bdef9c3_highlighter%28feature%29%20%7B%0A%20%20%20%20%20%20%20%20%20%20%20%20switch%28feature.id%29%20%7B%0A%20%20%20%20%20%20%20%20%20%20%20%20%20%20%20%20default%3A%0A%20%20%20%20%20%20%20%20%20%20%20%20%20%20%20%20%20%20%20%20return%20%7B%22fillOpacity%22%3A%200.75%7D%3B%0A%20%20%20%20%20%20%20%20%20%20%20%20%7D%0A%20%20%20%20%20%20%20%20%7D%0A%20%20%20%20%20%20%20%20function%20geo_json_62c7d4b770e64e27be6fa4ba6bdef9c3_pointToLayer%28feature%2C%20latlng%29%20%7B%0A%20%20%20%20%20%20%20%20%20%20%20%20var%20opts%20%3D%20%7B%22bubblingMouseEvents%22%3A%20true%2C%20%22color%22%3A%20%22%233388ff%22%2C%20%22dashArray%22%3A%20null%2C%20%22dashOffset%22%3A%20null%2C%20%22fill%22%3A%20true%2C%20%22fillColor%22%3A%20%22%233388ff%22%2C%20%22fillOpacity%22%3A%200.2%2C%20%22fillRule%22%3A%20%22evenodd%22%2C%20%22lineCap%22%3A%20%22round%22%2C%20%22lineJoin%22%3A%20%22round%22%2C%20%22opacity%22%3A%201.0%2C%20%22radius%22%3A%202%2C%20%22stroke%22%3A%20true%2C%20%22weight%22%3A%203%7D%3B%0A%20%20%20%20%20%20%20%20%20%20%20%20%0A%20%20%20%20%20%20%20%20%20%20%20%20let%20style%20%3D%20geo_json_62c7d4b770e64e27be6fa4ba6bdef9c3_styler%28feature%29%0A%20%20%20%20%20%20%20%20%20%20%20%20Object.assign%28opts%2C%20style%29%0A%20%20%20%20%20%20%20%20%20%20%20%20%0A%20%20%20%20%20%20%20%20%20%20%20%20return%20new%20L.CircleMarker%28latlng%2C%20opts%29%0A%20%20%20%20%20%20%20%20%7D%0A%0A%20%20%20%20%20%20%20%20function%20geo_json_62c7d4b770e64e27be6fa4ba6bdef9c3_onEachFeature%28feature%2C%20layer%29%20%7B%0A%20%20%20%20%20%20%20%20%20%20%20%20layer.on%28%7B%0A%20%20%20%20%20%20%20%20%20%20%20%20%20%20%20%20mouseout%3A%20function%28e%29%20%7B%0A%20%20%20%20%20%20%20%20%20%20%20%20%20%20%20%20%20%20%20%20if%28typeof%20e.target.setStyle%20%3D%3D%3D%20%22function%22%29%7B%0A%20%20%20%20%20%20%20%20%20%20%20%20%20%20%20%20%20%20%20%20%20%20%20%20geo_json_62c7d4b770e64e27be6fa4ba6bdef9c3.resetStyle%28e.target%29%3B%0A%20%20%20%20%20%20%20%20%20%20%20%20%20%20%20%20%20%20%20%20%7D%0A%20%20%20%20%20%20%20%20%20%20%20%20%20%20%20%20%7D%2C%0A%20%20%20%20%20%20%20%20%20%20%20%20%20%20%20%20mouseover%3A%20function%28e%29%20%7B%0A%20%20%20%20%20%20%20%20%20%20%20%20%20%20%20%20%20%20%20%20if%28typeof%20e.target.setStyle%20%3D%3D%3D%20%22function%22%29%7B%0A%20%20%20%20%20%20%20%20%20%20%20%20%20%20%20%20%20%20%20%20%20%20%20%20const%20highlightStyle%20%3D%20geo_json_62c7d4b770e64e27be6fa4ba6bdef9c3_highlighter%28e.target.feature%29%0A%20%20%20%20%20%20%20%20%20%20%20%20%20%20%20%20%20%20%20%20%20%20%20%20e.target.setStyle%28highlightStyle%29%3B%0A%20%20%20%20%20%20%20%20%20%20%20%20%20%20%20%20%20%20%20%20%7D%0A%20%20%20%20%20%20%20%20%20%20%20%20%20%20%20%20%7D%2C%0A%20%20%20%20%20%20%20%20%20%20%20%20%7D%29%3B%0A%20%20%20%20%20%20%20%20%7D%3B%0A%20%20%20%20%20%20%20%20var%20geo_json_62c7d4b770e64e27be6fa4ba6bdef9c3%20%3D%20L.geoJson%28null%2C%20%7B%0A%20%20%20%20%20%20%20%20%20%20%20%20%20%20%20%20onEachFeature%3A%20geo_json_62c7d4b770e64e27be6fa4ba6bdef9c3_onEachFeature%2C%0A%20%20%20%20%20%20%20%20%20%20%20%20%0A%20%20%20%20%20%20%20%20%20%20%20%20%20%20%20%20style%3A%20geo_json_62c7d4b770e64e27be6fa4ba6bdef9c3_styler%2C%0A%20%20%20%20%20%20%20%20%20%20%20%20%20%20%20%20pointToLayer%3A%20geo_json_62c7d4b770e64e27be6fa4ba6bdef9c3_pointToLayer%0A%20%20%20%20%20%20%20%20%7D%29%3B%0A%0A%20%20%20%20%20%20%20%20function%20geo_json_62c7d4b770e64e27be6fa4ba6bdef9c3_add%20%28data%29%20%7B%0A%20%20%20%20%20%20%20%20%20%20%20%20geo_json_62c7d4b770e64e27be6fa4ba6bdef9c3%0A%20%20%20%20%20%20%20%20%20%20%20%20%20%20%20%20.addData%28data%29%0A%20%20%20%20%20%20%20%20%20%20%20%20%20%20%20%20.addTo%28map_a4cca340af3748d28cccff0f81dd1970%29%3B%0A%20%20%20%20%20%20%20%20%7D%0A%20%20%20%20%20%20%20%20%20%20%20%20geo_json_62c7d4b770e64e27be6fa4ba6bdef9c3_add%28%7B%22bbox%22%3A%20%5B2.454528809000067%2C%2012.715515137000068%2C%203.147521973000039%2C%2013.879882812000062%5D%2C%20%22features%22%3A%20%5B%7B%22bbox%22%3A%20%5B2.454528809000067%2C%2012.715515137000068%2C%203.147521973000039%2C%2013.879882812000062%5D%2C%20%22geometry%22%3A%20%7B%22coordinates%22%3A%20%5B%5B%5B2.973083496000072%2C%2013.185729980000076%5D%2C%20%5B2.973327637000068%2C%2013.178283691000047%5D%2C%20%5B2.972900391000053%2C%2013.17108154300007%5D%2C%20%5B2.978881836000028%2C%2013.15991210900006%5D%2C%20%5B2.98327636700003%2C%2013.152526855000076%5D%2C%20%5B2.989074707000043%2C%2013.142700195000032%5D%2C%20%5B2.997924805000025%2C%2013.115112305000025%5D%2C%20%5B2.996704102000024%2C%2013.106872559000067%5D%2C%20%5B2.990112305000025%2C%2013.064086914000029%5D%2C%20%5B2.989074707000043%2C%2013.005310059000067%5D%2C%20%5B2.982299805000025%2C%2012.99108886700003%5D%2C%20%5B2.982299805000025%2C%2012.974304199000073%5D%2C%20%5B2.983520508000026%2C%2012.968872070000032%5D%2C%20%5B2.993530273000033%2C%2012.947875977000024%5D%2C%20%5B2.980102539000029%2C%2012.922302246000072%5D%2C%20%5B2.965881348000039%2C%2012.898498535000044%5D%2C%20%5B2.972473145000038%2C%2012.891296387000068%5D%2C%20%5B2.989074707000043%2C%2012.885681152000075%5D%2C%20%5B2.992309570000032%2C%2012.865905762000068%5D%2C%20%5B2.986877441000047%2C%2012.834716797000056%5D%2C%20%5B2.977905273000033%2C%2012.81811523400006%5D%2C%20%5B2.965087891000053%2C%2012.806884766000053%5D%2C%20%5B2.968688965000069%2C%2012.79608154300007%5D%2C%20%5B2.970886230000076%2C%2012.792114258000026%5D%2C%20%5B2.975097656000059%2C%2012.757873535000044%5D%2C%20%5B2.976501465000069%2C%2012.740112305000025%5D%2C%20%5B2.973693848000039%2C%2012.739074707000043%5D%2C%20%5B2.961914063000052%2C%2012.735107422000056%5D%2C%20%5B2.948730469000054%2C%2012.72509765600006%5D%2C%20%5B2.931884766000053%2C%2012.715515137000068%5D%2C%20%5B2.924499512000068%2C%2012.726928711000028%5D%2C%20%5B2.918701172000056%2C%2012.73291015600006%5D%2C%20%5B2.905680258000075%2C%2012.740384044000052%5D%2C%20%5B2.905090332000043%2C%2012.74072265600006%5D%2C%20%5B2.902282715000069%2C%2012.755126953000058%5D%2C%20%5B2.887695313000052%2C%2012.76611328100006%5D%2C%20%5B2.886474609000061%2C%2012.774719238000046%5D%2C%20%5B2.873474121000072%2C%2012.77392578100006%5D%2C%20%5B2.857116699000073%2C%2012.779296875000057%5D%2C%20%5B2.843505859000061%2C%2012.777893066000047%5D%2C%20%5B2.824890137000068%2C%2012.780700684000067%5D%2C%20%5B2.799316406000059%2C%2012.785705566000047%5D%2C%20%5B2.774719238000046%2C%2012.790710449000073%5D%2C%20%5B2.753723145000038%2C%2012.79467773400006%5D%2C%20%5B2.740112305000025%2C%2012.799926758000026%5D%2C%20%5B2.721923828000058%2C%2012.809326172000056%5D%2C%20%5B2.711486816000047%2C%2012.813903809000067%5D%2C%20%5B2.690490723000039%2C%2012.818481445000032%5D%2C%20%5B2.660888672000056%2C%2012.824279785000044%5D%2C%20%5B2.643127441000047%2C%2012.827697754000042%5D%2C%20%5B2.623474121000072%2C%2012.836730957000043%5D%2C%20%5B2.612487793000071%2C%2012.83447265600006%5D%2C%20%5B2.602294922000056%2C%2012.838928223000039%5D%2C%20%5B2.616271973000039%2C%2012.871520996000072%5D%2C%20%5B2.643310547000056%2C%2012.880676270000038%5D%2C%20%5B2.663330078000058%2C%2012.889099121000072%5D%2C%20%5B2.67608642600004%2C%2012.90069580100004%5D%2C%20%5B2.696105957000043%2C%2012.906677246000072%5D%2C%20%5B2.693725586000028%2C%2012.945312500000057%5D%2C%20%5B2.623474121000072%2C%2012.957092285000044%5D%2C%20%5B2.584716797000056%2C%2012.963073730000076%5D%2C%20%5B2.548278809000067%2C%2012.995910645000038%5D%2C%20%5B2.537719727000024%2C%2013.00170898400006%5D%2C%20%5B2.518920898000033%2C%2013.014709473000039%5D%2C%20%5B2.502502441000047%2C%2013.040527344000054%5D%2C%20%5B2.499520840000059%2C%2013.054035825000028%5D%2C%20%5B2.496704102000024%2C%2013.067504883000026%5D%2C%20%5B2.491882324000073%2C%2013.085083008000026%5D%2C%20%5B2.476684570000032%2C%2013.096679687000062%5D%2C%20%5B2.463684082000043%2C%2013.106079102000024%5D%2C%20%5B2.456115723000039%2C%2013.115905762000068%5D%2C%20%5B2.454528809000067%2C%2013.118286133000026%5D%2C%20%5B2.455078125000057%2C%2013.12548828100006%5D%2C%20%5B2.45788574200003%2C%2013.130676270000038%5D%2C%20%5B2.460693359000061%2C%2013.142089844000054%5D%2C%20%5B2.465087891000053%2C%2013.153076172000056%5D%2C%20%5B2.469299316000047%2C%2013.162475586000028%5D%2C%20%5B2.470703125000057%2C%2013.170715332000043%5D%2C%20%5B2.474121094000054%2C%2013.179321289000029%5D%2C%20%5B2.484924316000047%2C%2013.192077637000068%5D%2C%20%5B2.495910645000038%2C%2013.19952392600004%5D%2C%20%5B2.501098633000026%2C%2013.20147705100004%5D%2C%20%5B2.511718750000057%2C%2013.205505371000072%5D%2C%20%5B2.521118164000029%2C%2013.205871582000043%5D%2C%20%5B2.545898438000052%2C%2013.203918457000043%5D%2C%20%5B2.55108642600004%2C%2013.203125%5D%2C%20%5B2.554870605000076%2C%2013.198730469000054%5D%2C%20%5B2.563476563000052%2C%2013.197875977000024%5D%2C%20%5B2.573913574000073%2C%2013.191528320000032%5D%2C%20%5B2.586303711000028%2C%2013.188293457000043%5D%2C%20%5B2.598327637000068%2C%2013.181701660000044%5D%2C%20%5B2.60827636700003%2C%2013.180114746000072%5D%2C%20%5B2.619079590000069%2C%2013.181701660000044%5D%2C%20%5B2.631530762000068%2C%2013.184509277000075%5D%2C%20%5B2.64147949200003%2C%2013.196899414000029%5D%2C%20%5B2.648315430000025%2C%2013.207275391000053%5D%2C%20%5B2.653930664000029%2C%2013.215881348000039%5D%2C%20%5B2.658081055000025%2C%2013.221130371000072%5D%2C%20%5B2.670104980000076%2C%2013.22967529300007%5D%2C%20%5B2.688720703000058%2C%2013.24389648400006%5D%2C%20%5B2.695312500000057%2C%2013.248718262000068%5D%2C%20%5B2.706298828000058%2C%2013.252502441000047%5D%2C%20%5B2.715881348000039%2C%2013.256286621000072%5D%2C%20%5B2.728088379000042%2C%2013.25830078100006%5D%2C%20%5B2.741882324000073%2C%2013.261108398000033%5D%2C%20%5B2.746883584000045%2C%2013.263050065000073%5D%2C%20%5B2.747070312000062%2C%2013.263122559000067%5D%2C%20%5B2.753906250000057%2C%2013.26593017600004%5D%2C%20%5B2.773315430000025%2C%2013.267700195000032%5D%2C%20%5B2.786315918000071%2C%2013.27069091800007%5D%2C%20%5B2.800014354000041%2C%2013.272932562000051%5D%2C%20%5B2.810549646000027%2C%2013.274689170000045%5D%2C%20%5B2.810729980000076%2C%2013.274719238000046%5D%2C%20%5B2.814697266000053%2C%2013.285278320000032%5D%2C%20%5B2.81671142600004%2C%2013.294921875000057%5D%2C%20%5B2.81671142600004%2C%2013.313903809000067%5D%2C%20%5B2.800903320000032%2C%2013.330505371000072%5D%2C%20%5B2.801879883000026%2C%2013.336303711000028%5D%2C%20%5B2.807678223000039%2C%2013.345886230000076%5D%2C%20%5B2.810485840000069%2C%2013.344726563000052%5D%2C%20%5B2.819702148000033%2C%2013.333679199000073%5D%2C%20%5B2.830688477000024%2C%2013.33447265600006%5D%2C%20%5B2.837890625000057%2C%2013.34210205100004%5D%2C%20%5B2.839721680000025%2C%2013.354492188000052%5D%2C%20%5B2.852722168000071%2C%2013.365478516000053%5D%2C%20%5B2.857299805000025%2C%2013.37530517600004%5D%2C%20%5B2.858055752000041%2C%2013.393389755000044%5D%2C%20%5B2.858093262000068%2C%2013.39447021500007%5D%2C%20%5B2.858093262000068%2C%2013.395645674000036%5D%2C%20%5B2.858093262000068%2C%2013.40850830100004%5D%2C%20%5B2.850891113000046%2C%2013.423278809000067%5D%2C%20%5B2.846313477000024%2C%2013.439086914000029%5D%2C%20%5B2.847473145000038%2C%2013.453918457000043%5D%2C%20%5B2.854125977000024%2C%2013.470886230000076%5D%2C%20%5B2.867675781000059%2C%2013.483886719000054%5D%2C%20%5B2.876281738000046%2C%2013.493530273000033%5D%2C%20%5B2.880676270000038%2C%2013.505920410000044%5D%2C%20%5B2.881286621000072%2C%2013.516296387000068%5D%2C%20%5B2.886686495000049%2C%2013.52127155100004%5D%2C%20%5B2.886718750000057%2C%2013.521301270000038%5D%2C%20%5B2.877502441000047%2C%2013.540283203000058%5D%2C%20%5B2.859924316000047%2C%2013.56829834000007%5D%2C%20%5B2.845703125000057%2C%2013.583312988000046%5D%2C%20%5B2.835327148000033%2C%2013.60150146500007%5D%2C%20%5B2.825500488000046%2C%2013.627502441000047%5D%2C%20%5B2.815673828000058%2C%2013.63592529300007%5D%2C%20%5B2.799499512000068%2C%2013.640502930000025%5D%2C%20%5B2.781311035000044%2C%2013.646301270000038%5D%2C%20%5B2.757873535000044%2C%2013.649475098000039%5D%2C%20%5B2.740295410000044%2C%2013.64251709000007%5D%2C%20%5B2.726684570000032%2C%2013.652893066000047%5D%2C%20%5B2.705322266000053%2C%2013.657287598000039%5D%2C%20%5B2.684509277000075%2C%2013.663879395000038%5D%2C%20%5B2.663696289000029%2C%2013.689880371000072%5D%2C%20%5B2.652709961000028%2C%2013.697692871000072%5D%2C%20%5B2.651306152000075%2C%2013.70947265600006%5D%2C%20%5B2.650085449000073%2C%2013.713317871000072%5D%2C%20%5B2.646528192000062%2C%2013.719226535000075%5D%2C%20%5B2.646484375000057%2C%2013.719299316000047%5D%2C%20%5B2.653686523000033%2C%2013.726684570000032%5D%2C%20%5B2.652893066000047%2C%2013.743530273000033%5D%2C%20%5B2.643676758000026%2C%2013.770324707000043%5D%2C%20%5B2.639892578000058%2C%2013.779479980000076%5D%2C%20%5B2.623107910000044%2C%2013.790100098000039%5D%2C%20%5B2.619323730000076%2C%2013.79931640600006%5D%2C%20%5B2.612487793000071%2C%2013.812927246000072%5D%2C%20%5B2.603271484000061%2C%2013.822875977000024%5D%2C%20%5B2.585693359000061%2C%2013.83428955100004%5D%2C%20%5B2.570495605000076%2C%2013.848876953000058%5D%2C%20%5B2.565124512000068%2C%2013.86572265600006%5D%2C%20%5B2.565673828000058%2C%2013.873291016000053%5D%2C%20%5B2.585327148000033%2C%2013.862915039000029%5D%2C%20%5B2.609497070000032%2C%2013.859924316000047%5D%2C%20%5B2.638122559000067%2C%2013.86712646500007%5D%2C%20%5B2.685119629000042%2C%2013.86712646500007%5D%2C%20%5B2.747924805000025%2C%2013.879882812000062%5D%2C%20%5B2.786499023000033%2C%2013.872924805000025%5D%2C%20%5B2.842285156000059%2C%2013.861511230000076%5D%2C%20%5B2.862304688000052%2C%2013.862915039000029%5D%2C%20%5B2.876525879000042%2C%2013.869873047000056%5D%2C%20%5B2.896484375000057%2C%2013.864318848000039%5D%2C%20%5B2.915100098000039%2C%2013.847106934000067%5D%2C%20%5B2.946472168000071%2C%2013.840087891000053%5D%2C%20%5B3.002075195000032%2C%2013.840087891000053%5D%2C%20%5B3.01647949200003%2C%2013.83569335900006%5D%2C%20%5B3.036315918000071%2C%2013.828674316000047%5D%2C%20%5B3.039306641000053%2C%2013.814270020000038%5D%2C%20%5B3.019287109000061%2C%2013.804321289000029%5D%2C%20%5B3.023498535000044%2C%2013.790100098000039%5D%2C%20%5B3.044921875000057%2C%2013.788696289000029%5D%2C%20%5B3.094909668000071%2C%2013.778686523000033%5D%2C%20%5B3.139099121000072%2C%2013.757080078000058%5D%2C%20%5B3.147521973000039%2C%2013.75952148400006%5D%2C%20%5B3.134704590000069%2C%2013.732299805000025%5D%2C%20%5B3.130493164000029%2C%2013.709716797000056%5D%2C%20%5B3.110107422000056%2C%2013.599121094000054%5D%2C%20%5B3.107299805000025%2C%2013.58447265600006%5D%2C%20%5B3.102111816000047%2C%2013.557312012000068%5D%2C%20%5B3.094909668000071%2C%2013.519104004000042%5D%2C%20%5B3.078491211000028%2C%2013.495483398000033%5D%2C%20%5B3.055725098000039%2C%2013.462707520000038%5D%2C%20%5B3.029296875000057%2C%2013.424499512000068%5D%2C%20%5B3.026489258000026%2C%2013.420898437000062%5D%2C%20%5B2.995483398000033%2C%2013.377502441000047%5D%2C%20%5B2.992309570000032%2C%2013.348876953000058%5D%2C%20%5B2.991882324000073%2C%2013.323303223000039%5D%2C%20%5B2.99108886700003%2C%2013.294494629000042%5D%2C%20%5B2.996704102000024%2C%2013.261291504000042%5D%2C%20%5B3.003479004000042%2C%2013.24249267600004%5D%2C%20%5B3.001281738000046%2C%2013.221496582000043%5D%2C%20%5B2.982299805000025%2C%2013.211486816000047%5D%2C%20%5B2.97491455100004%2C%2013.197082520000038%5D%2C%20%5B2.974121094000054%2C%2013.194274902000075%5D%2C%20%5B2.973083496000072%2C%2013.185729980000076%5D%5D%5D%2C%20%22type%22%3A%20%22Polygon%22%7D%2C%20%22id%22%3A%20%220%22%2C%20%22properties%22%3A%20%7B%22Crop_typ%22%3A%20%22Associated%20%28Millet/Cowpea%29%22%2C%20%22ID%22%3A%200%2C%20%22NOM_COM%22%3A%20%22BIRNI%20NGAOURE%22%2C%20%22OBJECTID%22%3A%2043%2C%20%22adm_01%22%3A%20%22Dosso%22%2C%20%22adm_02%22%3A%20%22Boboye%22%2C%20%22adm_03%22%3A%20%22Birni%20N%5Cu0027Gaour%5Cu00e9%22%7D%2C%20%22type%22%3A%20%22Feature%22%7D%5D%2C%20%22type%22%3A%20%22FeatureCollection%22%7D%29%3B%0A%0A%20%20%20%20%20%20%20%20%0A%20%20%20%20%0A%20%20%20%20geo_json_62c7d4b770e64e27be6fa4ba6bdef9c3.bindTooltip%28%0A%20%20%20%20function%28layer%29%7B%0A%20%20%20%20let%20div%20%3D%20L.DomUtil.create%28%27div%27%29%3B%0A%20%20%20%20%0A%20%20%20%20let%20handleObject%20%3D%20feature%3D%3Etypeof%28feature%29%3D%3D%27object%27%20%3F%20JSON.stringify%28feature%29%20%3A%20feature%3B%0A%20%20%20%20let%20fields%20%3D%20%5B%22OBJECTID%22%2C%20%22ID%22%2C%20%22NOM_COM%22%2C%20%22adm_01%22%2C%20%22adm_02%22%2C%20%22adm_03%22%2C%20%22Crop_typ%22%5D%3B%0A%20%20%20%20let%20aliases%20%3D%20%5B%22OBJECTID%22%2C%20%22ID%22%2C%20%22NOM_COM%22%2C%20%22adm_01%22%2C%20%22adm_02%22%2C%20%22adm_03%22%2C%20%22Crop_typ%22%5D%3B%0A%20%20%20%20let%20table%20%3D%20%27%3Ctable%3E%27%20%2B%0A%20%20%20%20%20%20%20%20String%28%0A%20%20%20%20%20%20%20%20fields.map%28%0A%20%20%20%20%20%20%20%20%28v%2Ci%29%3D%3E%0A%20%20%20%20%20%20%20%20%60%3Ctr%3E%0A%20%20%20%20%20%20%20%20%20%20%20%20%3Cth%3E%24%7Baliases%5Bi%5D%7D%3C/th%3E%0A%20%20%20%20%20%20%20%20%20%20%20%20%0A%20%20%20%20%20%20%20%20%20%20%20%20%3Ctd%3E%24%7BhandleObject%28layer.feature.properties%5Bv%5D%29%7D%3C/td%3E%0A%20%20%20%20%20%20%20%20%3C/tr%3E%60%29.join%28%27%27%29%29%0A%20%20%20%20%2B%27%3C/table%3E%27%3B%0A%20%20%20%20div.innerHTML%3Dtable%3B%0A%20%20%20%20%0A%20%20%20%20return%20div%0A%20%20%20%20%7D%0A%20%20%20%20%2C%7B%22className%22%3A%20%22foliumtooltip%22%2C%20%22sticky%22%3A%20true%7D%29%3B%0A%20%20%20%20%20%20%20%20%20%20%20%20%20%20%20%20%20%20%20%20%20%0A%3C/script%3E onload=\"this.contentDocument.open();this.contentDocument.write(    decodeURIComponent(this.getAttribute('data-html')));this.contentDocument.close();\" allowfullscreen webkitallowfullscreen mozallowfullscreen></iframe></div></div>"
      ],
      "text/plain": [
       "<folium.folium.Map at 0x7fb662562e80>"
      ]
     },
     "execution_count": 5,
     "metadata": {},
     "output_type": "execute_result"
    }
   ],
   "source": [
    "# Load the shapefile for the area of interest as a GeoDataFrame.\n",
    "niger_communes_gdf = gpd.read_file(vector_file)\n",
    "\n",
    "# Dissolve the individual communes geometries into one single geometric feacture.\n",
    "niger_communes = niger_communes_gdf.dissolve(by=None)\n",
    "niger_communes.explore()"
   ]
  },
  {
   "cell_type": "markdown",
   "id": "8d120861-0e3e-4ad4-b517-21355a1f0c6d",
   "metadata": {},
   "source": [
    "### Setup polygon\n",
    "\n",
    "The merged communes needs to be transformed into a geometry object to be used in the `dc.load()` function."
   ]
  },
  {
   "cell_type": "code",
   "execution_count": 6,
   "id": "51a26f81-ba52-40f4-99b0-986cbc1a5c6a",
   "metadata": {},
   "outputs": [],
   "source": [
    "geom = Geometry(geom=niger_communes.iloc[0].geometry, crs=niger_communes.crs)"
   ]
  },
  {
   "cell_type": "markdown",
   "id": "1ff1f35f-080a-4a42-80ff-a8efd5721c82",
   "metadata": {},
   "source": [
    "## Defining feature layers\n",
    "\n",
    "To create the desired feature layers, we pass instructions to `collect_training_data` through the `feature_func` parameter.\n",
    "\n",
    "*   `feature_func`: A function for generating feature layers that is applied to the data within the bounds of the input geometry. The feature_func must accept a dc_query dictionary, and return a single xarray.Dataset or xarray.DataArray containing 2D coordinates (i.e x, y - no time dimension). e.g.\n",
    "\n",
    "        def feature_function(query):\n",
    "            dc = datacube.Datacube(app='feature_layers')\n",
    "            ds = dc.load(**query)\n",
    "            ds = ds.mean('time')\n",
    "            return ds\n",
    "\n",
    "Below, we will define a more complicated feature layer function than the brief example shown above. "
   ]
  },
  {
   "cell_type": "code",
   "execution_count": 8,
   "id": "e6e4afb0-e4a0-47d4-8339-7f8f7ed85217",
   "metadata": {},
   "outputs": [],
   "source": [
    "# Generate a datacube query object from the analysis parameters above.\n",
    "\n",
    "query = {\n",
    "    \"geopolygon\": geom,\n",
    "    \"time\": time,\n",
    "    \"resolution\": resolution,\n",
    "    \"output_crs\": output_crs,\n",
    "    \"dask_chunks\": dask_chunks,\n",
    "}"
   ]
  },
  {
   "cell_type": "code",
   "execution_count": 9,
   "id": "2d2ccb60-4ec7-406f-a4d8-7005e69feea4",
   "metadata": {},
   "outputs": [],
   "source": [
    "# Define functions to load features.\n",
    "\n",
    "\n",
    "def feature_layers(query):\n",
    "\n",
    "    # Connnect to datacube.\n",
    "    dc = datacube.Datacube(app=\"unsupervised_class_identification\")\n",
    "\n",
    "    # ----------------- Sentinel-2 Annual Geomedian -----------------\n",
    "\n",
    "    # Sentinel-2 Annual and Bi-annual GeoMAD measurements.\n",
    "    s2_measurements = [\n",
    "        \"blue\",\n",
    "        \"green\",\n",
    "        \"red\",\n",
    "        \"nir\",\n",
    "        \"swir_1\",\n",
    "        \"swir_2\",\n",
    "        \"red_edge_1\",\n",
    "        \"red_edge_2\",\n",
    "        \"red_edge_3\",\n",
    "        \"BCMAD\",\n",
    "        \"EMAD\",\n",
    "        \"SMAD\",\n",
    "    ]\n",
    "\n",
    "    # Load Sentinel-2 Annual Geomedian.\n",
    "    ds_s2_annual_geomad = dc.load(\n",
    "        product=\"gm_s2_annual\", measurements=s2_measurements, **query\n",
    "    )\n",
    "\n",
    "    # Calculate some band indices.\n",
    "    ds_s2_annual_geomad = calculate_indices(\n",
    "        ds_s2_annual_geomad,\n",
    "        index=[\"NDVI\", \"LAI\", \"SAVI\", \"MSAVI\", \"MNDWI\"],\n",
    "        drop=False,\n",
    "        collection=\"s2\",\n",
    "    ).squeeze()\n",
    "\n",
    "    # ----------------- Sentinel-2 Bi-Annual Geomedian -----------------\n",
    "\n",
    "    # Load Sentinel-2 Bi-Annual Geomedian.\n",
    "    ds_s2_semiannual_geomad = dc.load(\n",
    "        product=\"gm_s2_semiannual\",\n",
    "        measurements=s2_measurements,\n",
    "        **query,\n",
    "    )\n",
    "\n",
    "    # Split into two seperate datasets Jan-Jun and Jul-Dec.\n",
    "    ds_janjun_geomad = (\n",
    "        ds_s2_semiannual_geomad.isel(time=0)\n",
    "        .reset_coords()\n",
    "        .drop_vars([\"time\", \"spatial_ref\"])\n",
    "    )\n",
    "    ds_juldec_geomad = (\n",
    "        ds_s2_semiannual_geomad.isel(time=1)\n",
    "        .reset_coords()\n",
    "        .drop_vars([\"time\", \"spatial_ref\"])\n",
    "    )\n",
    "\n",
    "    # Rename the dataset variables.\n",
    "    janjun_rename_dict = {key: f\"janjun_{key}\" for key in list(ds_janjun_geomad.keys())}\n",
    "    ds_janjun_geomad = ds_janjun_geomad.rename(name_dict=janjun_rename_dict)\n",
    "\n",
    "    juldec_rename_dict = {key: f\"juldec_{key}\" for key in list(ds_juldec_geomad.keys())}\n",
    "    ds_juldec_geomad = ds_juldec_geomad.rename(name_dict=juldec_rename_dict)\n",
    "\n",
    "    # ----------------- S1 RADAR -----------------\n",
    "\n",
    "    # Load Sentinel-1 data.\n",
    "    #     ds_S1 = dc.load(\n",
    "    #         product=\"s1_rtc\",\n",
    "    #         measurements=[\"vv\", \"vh\", \"mask\"],\n",
    "    #         group_by=\"solar_day\",\n",
    "    #         sat_orbit_state=\"ascending\",\n",
    "    #         **query,\n",
    "    #     )\n",
    "\n",
    "    # Get the temporal mean (mean over time) for the VH and VV polarizations.\n",
    "    #     mean_vv = ds_S1.vv.where(ds_S1.mask == 1).mean(dim=\"time\")\n",
    "    #     mean_vh = ds_S1.vh.where(ds_S1.mask == 1).mean(dim=\"time\")\n",
    "\n",
    "    # Merge the temporal mean xarray.DataArrays into one xarray.Dataset.\n",
    "    #     ds_S1_mean = xr.merge([mean_vv, mean_vh])\n",
    "\n",
    "    # ----------------- Fractional Cover Annual Summaries -----------------\n",
    "\n",
    "    # Fractional Cover Annual Summary  measurements.\n",
    "    fc_measurements = [\n",
    "        # \"pv_pc_10\",\n",
    "        # \"pv_pc_50\",\n",
    "        \"pv_pc_90\",\n",
    "        # \"npv_pc_10\",\n",
    "        # \"npv_pc_50\",\n",
    "        \"npv_pc_90\",\n",
    "        # \"bs_pc_10\",\n",
    "        # \"bs_pc_50\",\n",
    "        \"bs_pc_90\",\n",
    "    ]\n",
    "\n",
    "    # Load the Fractional Cover Annual Summary.\n",
    "    ds_annual_fc = dc.load(\n",
    "        product=\"fc_ls_summary_annual\",\n",
    "        measurements=fc_measurements,\n",
    "        **query,\n",
    "    )\n",
    "\n",
    "    # ----------------- Temporal Statistics -----------------\n",
    "    # Calculate these on NDVI over the year\n",
    "\n",
    "    #     # Set parameters\n",
    "    #     veg_index = \"NDVI\"\n",
    "    #     resample_period = \"2W\"\n",
    "    #     window = 4\n",
    "\n",
    "    #     # Load S2 for query\n",
    "    #     ds_S2 = load_ard(\n",
    "    #         dc=dc,\n",
    "    #         products=[\"s2_l2a\"],\n",
    "    #         measurements=[\"red\", \"nir\"],\n",
    "    #         mask_filters=[(\"opening\", 3), (\"dilation\", 3)],\n",
    "    #         **query,\n",
    "    #         verbose=False,\n",
    "    #     )\n",
    "\n",
    "    #     # Calculate NDVI\n",
    "    #     ds_S2 = calculate_indices(ds_S2, index=veg_index, collection=\"s2\")\n",
    "\n",
    "    #     # Smooth the NDVI over time\n",
    "    #     ds_smooth = (\n",
    "    #         ds_S2[veg_index]\n",
    "    #         .resample(time=resample_period)\n",
    "    #         .median()\n",
    "    #         .rolling(time=window, min_periods=1)\n",
    "    #         .mean()\n",
    "    #     )\n",
    "\n",
    "    #     statistics = [\n",
    "    #         \"discordance\",\n",
    "    #         #\"f_mean\",\n",
    "    #         #\"median_change\",\n",
    "    #         #\"abs_change\",\n",
    "    #         \"complexity\",\n",
    "    #         #\"central_diff\",\n",
    "    #     ]\n",
    "\n",
    "    #     ds_stats = temporal_statistics(ds_smooth, statistics)\n",
    "\n",
    "    # ----------------- MERGE -----------------\n",
    "\n",
    "    # Merge the indiviual datasets into one.\n",
    "    ds_final = xr.merge(\n",
    "        [\n",
    "            ds_s2_annual_geomad,\n",
    "            ds_janjun_geomad,\n",
    "            ds_juldec_geomad,\n",
    "            ds_annual_fc,\n",
    "        ]  # ds_S1_mean\n",
    "    )\n",
    "\n",
    "    return ds_final"
   ]
  },
  {
   "cell_type": "markdown",
   "id": "e88762a1-00b3-401b-89af-b05b3779d193",
   "metadata": {},
   "source": [
    "## Load data using the feature layers function"
   ]
  },
  {
   "cell_type": "code",
   "execution_count": 10,
   "id": "4790e0fb-e69a-4972-8b53-a32ac5286b47",
   "metadata": {},
   "outputs": [
    {
     "name": "stderr",
     "output_type": "stream",
     "text": [
      "CPLReleaseMutex: Error = 1 (Operation not permitted)\n"
     ]
    },
    {
     "name": "stdout",
     "output_type": "stream",
     "text": [
      "<xarray.Dataset>\n",
      "Dimensions:            (y: 7234, x: 3344)\n",
      "Coordinates:\n",
      "  * y                  (y) float64 1.754e+06 1.754e+06 ... 1.609e+06 1.609e+06\n",
      "  * x                  (x) float64 2.368e+05 2.368e+05 ... 3.037e+05 3.037e+05\n",
      "    spatial_ref        int32 6933\n",
      "Data variables: (12/44)\n",
      "    blue               (y, x) uint16 1304 1356 1302 1357 ... 955 1028 893 1088\n",
      "    green              (y, x) uint16 2048 2124 2049 2130 ... 1325 1426 1257 1519\n",
      "    red                (y, x) uint16 3218 3305 3242 3332 ... 1773 1911 1671 2054\n",
      "    nir                (y, x) uint16 3760 3736 3630 3737 ... 3215 3265 3201 3257\n",
      "    swir_1             (y, x) uint16 5088 5068 5063 5104 ... 4078 4202 4131 4188\n",
      "    swir_2             (y, x) uint16 4114 4101 4091 4160 ... 2839 2963 2859 2961\n",
      "    ...                 ...\n",
      "    juldec_BCMAD       (y, x) float32 0.01296 0.01085 ... 0.04328 0.03323\n",
      "    juldec_EMAD        (y, x) float32 329.2 286.2 282.3 ... 580.3 690.7 579.6\n",
      "    juldec_SMAD        (y, x) float32 0.0002613 0.0002188 ... 0.003057 0.001787\n",
      "    pv_pc_90           (y, x) uint8 0 0 0 0 0 0 0 0 ... 60 60 60 61 63 63 61 58\n",
      "    npv_pc_90          (y, x) uint8 73 74 74 72 68 68 72 ... 60 57 59 59 60 60\n",
      "    bs_pc_90           (y, x) uint8 52 51 51 54 57 57 57 ... 32 33 35 35 31 33\n",
      "Attributes:\n",
      "    crs:           EPSG:6933\n",
      "    grid_mapping:  spatial_ref\n",
      "CPU times: user 14.1 s, sys: 4.76 s, total: 18.9 s\n",
      "Wall time: 45.2 s\n"
     ]
    }
   ],
   "source": [
    "%%time\n",
    "data = feature_layers(query).load().squeeze(dim=\"time\", drop=True)\n",
    "\n",
    "print(data)"
   ]
  },
  {
   "cell_type": "markdown",
   "id": "45a9aba0-3f20-4f1f-b3a2-c517b3b720fa",
   "metadata": {},
   "source": [
    "## Classification using K-means Clustering"
   ]
  },
  {
   "cell_type": "markdown",
   "id": "ef07836e-8544-42ea-a364-e28a8c041f74",
   "metadata": {
    "tags": []
   },
   "source": [
    "### Run Standard Scaler for all parameters"
   ]
  },
  {
   "cell_type": "code",
   "execution_count": 11,
   "id": "600078c6-d160-43d3-b7ea-da1b7aef9c18",
   "metadata": {
    "tags": []
   },
   "outputs": [],
   "source": [
    "# Use the `sklearn_flatten` function to convert the `data` xarray.Dataset into a 2 dimensional numpy array.\n",
    "model_input = sklearn_flatten(data)"
   ]
  },
  {
   "cell_type": "code",
   "execution_count": 12,
   "id": "d38428e6-54dc-4364-bb33-b365007adcae",
   "metadata": {
    "tags": []
   },
   "outputs": [
    {
     "name": "stdout",
     "output_type": "stream",
     "text": [
      "CPU times: user 12.9 s, sys: 3.16 s, total: 16.1 s\n",
      "Wall time: 15.9 s\n"
     ]
    }
   ],
   "source": [
    "%%time\n",
    "# Standardize the model_input (numpy array) by removing the mean and scaling to unit variance.\n",
    "scaler = StandardScaler()\n",
    "scaler.fit(model_input)\n",
    "model_input = scaler.transform(model_input)"
   ]
  },
  {
   "cell_type": "code",
   "execution_count": 13,
   "id": "9e682661-a8e1-41cc-8fcf-e1c58f7b7c0d",
   "metadata": {},
   "outputs": [
    {
     "data": {
      "text/plain": [
       "array([False])"
      ]
     },
     "execution_count": 13,
     "metadata": {},
     "output_type": "execute_result"
    }
   ],
   "source": [
    "# Check for np.nan values in the scaled dataset.\n",
    "np.unique(np.isnan(model_input))"
   ]
  },
  {
   "cell_type": "markdown",
   "id": "fcd2d6e1-f1dc-455d-b94d-fb7b4f94c398",
   "metadata": {},
   "source": [
    "### Run K-Means Clustering\n",
    "\n",
    "Perform k-means clustering on the standardized `model_input` numpy array. "
   ]
  },
  {
   "cell_type": "code",
   "execution_count": 14,
   "id": "afb63c27-ce3f-48c3-aa71-acaa7c0b5cd5",
   "metadata": {},
   "outputs": [
    {
     "name": "stdout",
     "output_type": "stream",
     "text": [
      "CPU times: user 2h 24min 25s, sys: 3min 33s, total: 2h 27min 59s\n",
      "Wall time: 35min 58s\n"
     ]
    }
   ],
   "source": [
    "%%time\n",
    "# Set up the kmeans classification by specifying the number of clusters\n",
    "kmeans = KMeans(n_clusters=no_of_clusters, random_state=42)\n",
    "\n",
    "# Perform Kmeans clustering on the 'model_input'.\n",
    "# Begin iteratively computing the position of the clusters.\n",
    "kmeans.fit(model_input)\n",
    "\n",
    "# Use the sklearn kmeans `.predict` method to assign all the pixels of the `model_input` to a unique cluster.\n",
    "flat_predicted = kmeans.predict(model_input)\n",
    "\n",
    "# Use the sklearn_unflatten function to convert the flat predictions into a xarray DataArray.\n",
    "predicted = sklearn_unflatten(flat_predicted, data)\n",
    "predicted = predicted.transpose(\"y\", \"x\")"
   ]
  },
  {
   "cell_type": "markdown",
   "id": "ad66c85a-0e9b-4f25-9ab7-aba151538a98",
   "metadata": {},
   "source": [
    "## Pickle the resulting data for the next notebook"
   ]
  },
  {
   "cell_type": "code",
   "execution_count": 17,
   "id": "4242c7c5-32e7-4476-97fb-7824964e8d07",
   "metadata": {},
   "outputs": [],
   "source": [
    "# Pickle the query for use in next notebook.\n",
    "pickled_query = f\"{output_dir}/niger_communes_query_{time}.pickle\"\n",
    "\n",
    "with open(pickled_query, \"wb\") as f:\n",
    "    pickle.dump(query, f)"
   ]
  },
  {
   "cell_type": "code",
   "execution_count": 18,
   "id": "003cedef-37a9-49d7-bd87-9df439ed98ee",
   "metadata": {},
   "outputs": [],
   "source": [
    "# Pickle the K-Means clustering prediction results for use in next notebook.\n",
    "pickled_prediction = (\n",
    "    f\"{output_dir}/niger_communes_kmeans_{no_of_clusters}_predicted_{time}.pickle\"\n",
    ")\n",
    "\n",
    "# Format data for pickle.\n",
    "pickle_data = (\n",
    "    predicted.x.to_numpy(),  # x-values\n",
    "    predicted.y.to_numpy(),  # y-values\n",
    "    predicted.to_numpy(),  # k-means prediction values\n",
    "    data.crs,  # coordinate reference system\n",
    ")\n",
    "\n",
    "with open(pickled_prediction, \"wb\") as f:\n",
    "    pickle.dump(pickle_data, f)"
   ]
  },
  {
   "cell_type": "markdown",
   "id": "3d8ebb48-95c5-42e8-b429-41abfc90e9d4",
   "metadata": {},
   "source": [
    "## Recommended next steps\n",
    "\n",
    "To continue working through the notebooks in this workflow, go to the next notebook `02_group_classes_using_NDVI.ipynb`.\n",
    "\n",
    "1. **Unsupervised Class Identification (this notebook)**\n",
    "2. [Group Classes Using NDVI](02_group_classes_using_NDVI.ipynb.ipynb)\n",
    "3. [Reclassify Unsupervised NDVI](03_reclassify_unsupervised_map_NDVI_classes.ipynb)"
   ]
  },
  {
   "cell_type": "markdown",
   "id": "89fd9d5a-e8c4-41a0-8e42-570176078f7b",
   "metadata": {},
   "source": [
    "---\n",
    "\n",
    "## Additional information\n",
    "\n",
    "**License:** The code in this notebook is licensed under the [Apache License, Version 2.0](https://www.apache.org/licenses/LICENSE-2.0). \n",
    "Digital Earth Africa data is licensed under the [Creative Commons by Attribution 4.0](https://creativecommons.org/licenses/by/4.0/) license.\n",
    "\n",
    "**Contact:** If you need assistance, please post a question on the [Open Data Cube Slack channel](http://slack.opendatacube.org/) or on the [GIS Stack Exchange](https://gis.stackexchange.com/questions/ask?tags=open-data-cube) using the `open-data-cube` tag (you can view previously asked questions [here](https://gis.stackexchange.com/questions/tagged/open-data-cube)).\n",
    "If you would like to repoart an issue with this notebook, you can file one on [Github](https://github.com/digitalearthafrica/deafrica-sandbox-notebooks).\n",
    "\n",
    "**Compatible datacube version:**"
   ]
  },
  {
   "cell_type": "code",
   "execution_count": 19,
   "id": "ff79fcca-d0ec-4b0d-a61d-ce965c5e65c7",
   "metadata": {},
   "outputs": [
    {
     "name": "stdout",
     "output_type": "stream",
     "text": [
      "1.8.6\n"
     ]
    }
   ],
   "source": [
    "print(datacube.__version__)"
   ]
  },
  {
   "cell_type": "markdown",
   "id": "5df6ec07-545d-4ae0-9d09-9faa7f03f8eb",
   "metadata": {},
   "source": [
    "**Last Tested:**"
   ]
  },
  {
   "cell_type": "code",
   "execution_count": 20,
   "id": "110ab38a-6a88-4bd6-b1f8-204bdbea09ea",
   "metadata": {},
   "outputs": [
    {
     "data": {
      "text/plain": [
       "'2022-06-14'"
      ]
     },
     "execution_count": 20,
     "metadata": {},
     "output_type": "execute_result"
    },
    {
     "name": "stderr",
     "output_type": "stream",
     "text": [
      "distributed.nanny - WARNING - Restarting worker\n",
      "distributed.nanny - WARNING - Restarting worker\n",
      "distributed.nanny - WARNING - Restarting worker\n",
      "distributed.nanny - WARNING - Restarting worker\n"
     ]
    }
   ],
   "source": [
    "from datetime import datetime\n",
    "\n",
    "datetime.today().strftime(\"%Y-%m-%d\")"
   ]
  }
 ],
 "metadata": {
  "kernelspec": {
   "display_name": "Python 3 (ipykernel)",
   "language": "python",
   "name": "python3"
  },
  "language_info": {
   "codemirror_mode": {
    "name": "ipython",
    "version": 3
   },
   "file_extension": ".py",
   "mimetype": "text/x-python",
   "name": "python",
   "nbconvert_exporter": "python",
   "pygments_lexer": "ipython3",
   "version": "3.8.10"
  },
  "widgets": {
   "application/vnd.jupyter.widget-state+json": {
    "state": {},
    "version_major": 2,
    "version_minor": 0
   }
  }
 },
 "nbformat": 4,
 "nbformat_minor": 5
}
