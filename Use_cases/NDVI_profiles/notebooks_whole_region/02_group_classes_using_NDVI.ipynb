{
 "cells": [
  {
   "cell_type": "markdown",
   "id": "80432466-3bcc-4b0f-8604-c8e52e9f48c8",
   "metadata": {},
   "source": [
    "# Group Classes Using NDVI\n",
    "\n",
    "\n",
    "* **Products used:** \n",
    "[gm_s2_annual](https://explorer.digitalearth.africa/gm_s2_annual), \n",
    "[gm_s2_semiannual](https://explorer.digitalearth.africa/gm_s2_semiannual), \n",
    "[fc_ls_summary_annual](https://explorer.digitalearth.africa/fc_ls_summary_annual),\n"
   ]
  },
  {
   "cell_type": "raw",
   "id": "bd4dc697-0aa2-4e8f-96c6-6554d7dae3b8",
   "metadata": {},
   "source": [
    "**Keywords**: :index:`data used; sentinel-2 geomedian`, `data used; sentinel-2 semiannual geomedian`, index:`data used; MADs`, :index:`data used; fc_ls_summary_annual`,"
   ]
  },
  {
   "cell_type": "markdown",
   "id": "99dc2f1c-a942-432f-9ec7-8ae976413649",
   "metadata": {},
   "source": [
    "## Background"
   ]
  },
  {
   "cell_type": "markdown",
   "id": "e2ee429c-ba46-4a2e-b590-c5913f95504f",
   "metadata": {},
   "source": [
    "## Description\n",
    "\n",
    "\n",
    "---"
   ]
  },
  {
   "cell_type": "markdown",
   "id": "d2df3d7b-ba18-4e46-b090-984fc48ada5f",
   "metadata": {},
   "source": [
    "## Getting Started\n",
    "\n",
    "To run this analysis, run all the cells in the notebook, starting with the \"**Load packages**\" cell."
   ]
  },
  {
   "cell_type": "markdown",
   "id": "d0fbc5cd-ce44-4a2e-aeab-c84bafa08129",
   "metadata": {},
   "source": [
    "### Load packages"
   ]
  },
  {
   "cell_type": "code",
   "execution_count": 1,
   "id": "d97bd9fa-3fc9-4653-8ad8-d1b956bb9248",
   "metadata": {},
   "outputs": [],
   "source": [
    "import os\n",
    "import pickle\n",
    "import pprint\n",
    "\n",
    "import datacube\n",
    "import geopandas as gpd\n",
    "import matplotlib.pyplot as plt\n",
    "import numpy as np\n",
    "import pandas as pd\n",
    "import xarray as xr\n",
    "from datacube.utils import geometry\n",
    "from datacube.utils.geometry import CRS, Geometry\n",
    "from deafrica_tools.bandindices import calculate_indices\n",
    "from deafrica_tools.classification import sklearn_flatten, sklearn_unflatten\n",
    "from deafrica_tools.dask import create_local_dask_cluster\n",
    "from deafrica_tools.datahandling import load_ard\n",
    "from deafrica_tools.plotting import rgb\n",
    "from deafrica_tools.spatial import xr_rasterize\n",
    "from deafrica_tools.temporal import temporal_statistics, xr_phenology\n",
    "from sklearn.cluster import DBSCAN, KMeans\n",
    "from sklearn.decomposition import PCA\n",
    "from sklearn.ensemble import RandomForestClassifier\n",
    "from sklearn.preprocessing import StandardScaler\n",
    "from tqdm import tqdm"
   ]
  },
  {
   "cell_type": "markdown",
   "id": "ef0053aa-c729-4242-8f53-1eb2cade5a6d",
   "metadata": {},
   "source": [
    "### Set up a Dask cluster\n",
    "\n",
    "Dask can be used to better manage memory use and conduct the analysis in parallel. \n",
    "For an introduction to using Dask with Digital Earth Africa, see the [Dask notebook](../Beginners_guide/08_Parallel_processing_with_dask.ipynb).\n",
    "\n",
    ">**Note**: We recommend opening the Dask processing window to view the different computations that are being executed; to do this, see the *Dask dashboard in DE Africa* section of the [Dask notebook](../Beginners_guide/08_Parallel_processing_with_dask.ipynb).\n",
    "\n",
    "To use Dask, set up the local computing cluster using the cell below."
   ]
  },
  {
   "cell_type": "code",
   "execution_count": 2,
   "id": "991f2da5-ace7-41bc-be60-3b7011172917",
   "metadata": {},
   "outputs": [
    {
     "data": {
      "text/html": [
       "<table style=\"border: 2px solid white;\">\n",
       "<tr>\n",
       "<td style=\"vertical-align: top; border: 0px solid white\">\n",
       "<h3 style=\"text-align: left;\">Client</h3>\n",
       "<ul style=\"text-align: left; list-style: none; margin: 0; padding: 0;\">\n",
       "  <li><b>Scheduler: </b>tcp://127.0.0.1:35083</li>\n",
       "  <li><b>Dashboard: </b><a href='/user/victoria@kartoza.com/proxy/8787/status' target='_blank'>/user/victoria@kartoza.com/proxy/8787/status</a></li>\n",
       "</ul>\n",
       "</td>\n",
       "<td style=\"vertical-align: top; border: 0px solid white\">\n",
       "<h3 style=\"text-align: left;\">Cluster</h3>\n",
       "<ul style=\"text-align: left; list-style:none; margin: 0; padding: 0;\">\n",
       "  <li><b>Workers: </b>1</li>\n",
       "  <li><b>Cores: </b>15</li>\n",
       "  <li><b>Memory: </b>104.37 GB</li>\n",
       "</ul>\n",
       "</td>\n",
       "</tr>\n",
       "</table>"
      ],
      "text/plain": [
       "<Client: 'tcp://127.0.0.1:35083' processes=1 threads=15, memory=104.37 GB>"
      ]
     },
     "metadata": {},
     "output_type": "display_data"
    }
   ],
   "source": [
    "create_local_dask_cluster()"
   ]
  },
  {
   "cell_type": "markdown",
   "id": "49902d7c-530e-461a-9e8f-d7252418ceda",
   "metadata": {},
   "source": [
    "### Analysis parameters\n",
    "\n",
    "The following cell sets important parameters for the analysis:\n",
    "\n",
    "* `vector_file`: file path for the shapefile containing the polygon for the boundary of the area of interest\n",
    "* `attribute_col`: The column in the \"vector_file\" containing the names of the 'urban commune' or FR 'commune urbaine', 'rural commune' or FR 'commune rurale', and 'administrative post' or FR 'poste administratif'\n",
    "* `output_dir` : The directory in which to store results from the analysis.\n",
    "* `no_of_clusters` : The number of clusters used in the K-Means clustering in the [previous notebook](01_unsupervised_class_identification.ipynb).\n",
    "* `time_old` : This is the time period of interest from the [previous notebook](01_unsupervised_class_identification.ipynb).\n",
    "* `pickled_prediction` : The file path to the pickled clustering prediction result from the [previous notebook](01_unsupervised_class_identification.ipynb).\n",
    "* `time` : This is the time period of interest to load data for.\n",
    "* `resolution` : The spatial resolution, in metres, to resample the satellite data to. \n",
    "* `output_crs` : The coordinate reference system that the loaded data is to be reprojected to.\n",
    "* `dask_chunks`: the size of the dask chunks, dask breaks data into manageable chunks that can be easily stored in memory, e.g. dict(x=1000,y=1000)\n",
    "* `veg_proxy`: Band index to use as a proxy for vegetation health e.g. 'NDVI' or 'EVI'\n",
    "\n",
    "**If running the notebook for the first time**, keep the default settings below.\n",
    "This will demonstrate how the analysis works and provide meaningful results."
   ]
  },
  {
   "cell_type": "code",
   "execution_count": 3,
   "id": "6d48f474-b1fd-4df6-8298-da9b6ec5d246",
   "metadata": {},
   "outputs": [],
   "source": [
    "vector_file = \"../data/boundary_data/communes_etude.geojson\"\n",
    "attribute_col = \"NOM_COM\"\n",
    "\n",
    "# Directory to store the results.\n",
    "output_dir = \"results\"\n",
    "\n",
    "# The number of clusters used in the K-Means clustering in the previous notebook. \n",
    "no_of_clusters = 15\n",
    "\n",
    "# Time period of interest from the previous notebook.\n",
    "time_old = \"2021\"\n",
    "\n",
    "# Prediction results from the previouse notebook.\n",
    "pickled_prediction = f\"{output_dir}/niger_communes_kmeans_{no_of_clusters}_predicted_{time_old}.pickle\"\n",
    "\n",
    "# Time period of interest.\n",
    "time = (\"15-10-2020\", \"15-02-2022\")\n",
    "\n",
    "# Resolution and CRS to reproject data to.\n",
    "resolution = (-20, 20)\n",
    "output_crs = \"EPSG:6933\"\n",
    "\n",
    "# Size of dask chunks.\n",
    "dask_chunks = {\"time\": 1, \"x\": 500, \"y\": 500}\n",
    "\n",
    "veg_index = \"NDVI\""
   ]
  },
  {
   "cell_type": "markdown",
   "id": "50b59ce2-e678-413b-bedc-11ee4998fd36",
   "metadata": {},
   "source": [
    "### Connect to the datacube\n",
    "\n",
    "Connect to the datacube so we can access DE Africa data. \n",
    "The `app` parameter is a unique name for the analysis which is based on the notebook file name."
   ]
  },
  {
   "cell_type": "code",
   "execution_count": 4,
   "id": "b0a9fc29-2472-48c5-8408-b9bd6e0d9c03",
   "metadata": {},
   "outputs": [],
   "source": [
    "dc = datacube.Datacube(app=\"group_classes_using_ndvi\")"
   ]
  },
  {
   "cell_type": "markdown",
   "id": "6fa18177-9e63-4e3b-9c54-4deb254c6372",
   "metadata": {},
   "source": [
    "### Load the Niger Communes shapefile\n",
    "\n",
    "This shapefile contains polygons for the boundaries of Niger communes. \n",
    "We will dissolves all the geometries of the communes together into a single geometric feature."
   ]
  },
  {
   "cell_type": "code",
   "execution_count": 5,
   "id": "23544904-870f-47df-89b1-132ee229fdd4",
   "metadata": {},
   "outputs": [
    {
     "data": {
      "text/html": [
       "<div style=\"width:100%;\"><div style=\"position:relative;width:100%;height:0;padding-bottom:60%;\"><span style=\"color:#565656\">Make this Notebook Trusted to load map: File -> Trust Notebook</span><iframe src=\"about:blank\" style=\"position:absolute;width:100%;height:100%;left:0;top:0;border:none !important;\" data-html=%3C%21DOCTYPE%20html%3E%0A%3Chead%3E%20%20%20%20%0A%20%20%20%20%3Cmeta%20http-equiv%3D%22content-type%22%20content%3D%22text/html%3B%20charset%3DUTF-8%22%20/%3E%0A%20%20%20%20%0A%20%20%20%20%20%20%20%20%3Cscript%3E%0A%20%20%20%20%20%20%20%20%20%20%20%20L_NO_TOUCH%20%3D%20false%3B%0A%20%20%20%20%20%20%20%20%20%20%20%20L_DISABLE_3D%20%3D%20false%3B%0A%20%20%20%20%20%20%20%20%3C/script%3E%0A%20%20%20%20%0A%20%20%20%20%3Cstyle%3Ehtml%2C%20body%20%7Bwidth%3A%20100%25%3Bheight%3A%20100%25%3Bmargin%3A%200%3Bpadding%3A%200%3B%7D%3C/style%3E%0A%20%20%20%20%3Cstyle%3E%23map%20%7Bposition%3Aabsolute%3Btop%3A0%3Bbottom%3A0%3Bright%3A0%3Bleft%3A0%3B%7D%3C/style%3E%0A%20%20%20%20%3Cscript%20src%3D%22https%3A//cdn.jsdelivr.net/npm/leaflet%401.6.0/dist/leaflet.js%22%3E%3C/script%3E%0A%20%20%20%20%3Cscript%20src%3D%22https%3A//code.jquery.com/jquery-1.12.4.min.js%22%3E%3C/script%3E%0A%20%20%20%20%3Cscript%20src%3D%22https%3A//maxcdn.bootstrapcdn.com/bootstrap/3.2.0/js/bootstrap.min.js%22%3E%3C/script%3E%0A%20%20%20%20%3Cscript%20src%3D%22https%3A//cdnjs.cloudflare.com/ajax/libs/Leaflet.awesome-markers/2.0.2/leaflet.awesome-markers.js%22%3E%3C/script%3E%0A%20%20%20%20%3Clink%20rel%3D%22stylesheet%22%20href%3D%22https%3A//cdn.jsdelivr.net/npm/leaflet%401.6.0/dist/leaflet.css%22/%3E%0A%20%20%20%20%3Clink%20rel%3D%22stylesheet%22%20href%3D%22https%3A//maxcdn.bootstrapcdn.com/bootstrap/3.2.0/css/bootstrap.min.css%22/%3E%0A%20%20%20%20%3Clink%20rel%3D%22stylesheet%22%20href%3D%22https%3A//maxcdn.bootstrapcdn.com/bootstrap/3.2.0/css/bootstrap-theme.min.css%22/%3E%0A%20%20%20%20%3Clink%20rel%3D%22stylesheet%22%20href%3D%22https%3A//maxcdn.bootstrapcdn.com/font-awesome/4.6.3/css/font-awesome.min.css%22/%3E%0A%20%20%20%20%3Clink%20rel%3D%22stylesheet%22%20href%3D%22https%3A//cdnjs.cloudflare.com/ajax/libs/Leaflet.awesome-markers/2.0.2/leaflet.awesome-markers.css%22/%3E%0A%20%20%20%20%3Clink%20rel%3D%22stylesheet%22%20href%3D%22https%3A//cdn.jsdelivr.net/gh/python-visualization/folium/folium/templates/leaflet.awesome.rotate.min.css%22/%3E%0A%20%20%20%20%0A%20%20%20%20%20%20%20%20%20%20%20%20%3Cmeta%20name%3D%22viewport%22%20content%3D%22width%3Ddevice-width%2C%0A%20%20%20%20%20%20%20%20%20%20%20%20%20%20%20%20initial-scale%3D1.0%2C%20maximum-scale%3D1.0%2C%20user-scalable%3Dno%22%20/%3E%0A%20%20%20%20%20%20%20%20%20%20%20%20%3Cstyle%3E%0A%20%20%20%20%20%20%20%20%20%20%20%20%20%20%20%20%23map_00e52bf52cd648318e3e8a1955bda0e1%20%7B%0A%20%20%20%20%20%20%20%20%20%20%20%20%20%20%20%20%20%20%20%20position%3A%20relative%3B%0A%20%20%20%20%20%20%20%20%20%20%20%20%20%20%20%20%20%20%20%20width%3A%20100.0%25%3B%0A%20%20%20%20%20%20%20%20%20%20%20%20%20%20%20%20%20%20%20%20height%3A%20100.0%25%3B%0A%20%20%20%20%20%20%20%20%20%20%20%20%20%20%20%20%20%20%20%20left%3A%200.0%25%3B%0A%20%20%20%20%20%20%20%20%20%20%20%20%20%20%20%20%20%20%20%20top%3A%200.0%25%3B%0A%20%20%20%20%20%20%20%20%20%20%20%20%20%20%20%20%7D%0A%20%20%20%20%20%20%20%20%20%20%20%20%3C/style%3E%0A%20%20%20%20%20%20%20%20%0A%20%20%20%20%0A%20%20%20%20%20%20%20%20%20%20%20%20%20%20%20%20%20%20%20%20%3Cstyle%3E%0A%20%20%20%20%20%20%20%20%20%20%20%20%20%20%20%20%20%20%20%20%20%20%20%20.foliumtooltip%20%7B%0A%20%20%20%20%20%20%20%20%20%20%20%20%20%20%20%20%20%20%20%20%20%20%20%20%20%20%20%20%0A%20%20%20%20%20%20%20%20%20%20%20%20%20%20%20%20%20%20%20%20%20%20%20%20%7D%0A%20%20%20%20%20%20%20%20%20%20%20%20%20%20%20%20%20%20%20%20%20%20%20.foliumtooltip%20table%7B%0A%20%20%20%20%20%20%20%20%20%20%20%20%20%20%20%20%20%20%20%20%20%20%20%20%20%20%20%20margin%3A%20auto%3B%0A%20%20%20%20%20%20%20%20%20%20%20%20%20%20%20%20%20%20%20%20%20%20%20%20%7D%0A%20%20%20%20%20%20%20%20%20%20%20%20%20%20%20%20%20%20%20%20%20%20%20%20.foliumtooltip%20tr%7B%0A%20%20%20%20%20%20%20%20%20%20%20%20%20%20%20%20%20%20%20%20%20%20%20%20%20%20%20%20text-align%3A%20left%3B%0A%20%20%20%20%20%20%20%20%20%20%20%20%20%20%20%20%20%20%20%20%20%20%20%20%7D%0A%20%20%20%20%20%20%20%20%20%20%20%20%20%20%20%20%20%20%20%20%20%20%20%20.foliumtooltip%20th%7B%0A%20%20%20%20%20%20%20%20%20%20%20%20%20%20%20%20%20%20%20%20%20%20%20%20%20%20%20%20padding%3A%202px%3B%20padding-right%3A%208px%3B%0A%20%20%20%20%20%20%20%20%20%20%20%20%20%20%20%20%20%20%20%20%20%20%20%20%7D%0A%20%20%20%20%20%20%20%20%20%20%20%20%20%20%20%20%20%20%20%20%3C/style%3E%0A%20%20%20%20%20%20%20%20%20%20%20%20%0A%3C/head%3E%0A%3Cbody%3E%20%20%20%20%0A%20%20%20%20%0A%20%20%20%20%20%20%20%20%20%20%20%20%3Cdiv%20class%3D%22folium-map%22%20id%3D%22map_00e52bf52cd648318e3e8a1955bda0e1%22%20%3E%3C/div%3E%0A%20%20%20%20%20%20%20%20%0A%3C/body%3E%0A%3Cscript%3E%20%20%20%20%0A%20%20%20%20%0A%20%20%20%20%20%20%20%20%20%20%20%20var%20map_00e52bf52cd648318e3e8a1955bda0e1%20%3D%20L.map%28%0A%20%20%20%20%20%20%20%20%20%20%20%20%20%20%20%20%22map_00e52bf52cd648318e3e8a1955bda0e1%22%2C%0A%20%20%20%20%20%20%20%20%20%20%20%20%20%20%20%20%7B%0A%20%20%20%20%20%20%20%20%20%20%20%20%20%20%20%20%20%20%20%20center%3A%20%5B13.297698974500065%2C%202.801025391000053%5D%2C%0A%20%20%20%20%20%20%20%20%20%20%20%20%20%20%20%20%20%20%20%20crs%3A%20L.CRS.EPSG3857%2C%0A%20%20%20%20%20%20%20%20%20%20%20%20%20%20%20%20%20%20%20%20zoom%3A%2010%2C%0A%20%20%20%20%20%20%20%20%20%20%20%20%20%20%20%20%20%20%20%20zoomControl%3A%20true%2C%0A%20%20%20%20%20%20%20%20%20%20%20%20%20%20%20%20%20%20%20%20preferCanvas%3A%20false%2C%0A%20%20%20%20%20%20%20%20%20%20%20%20%20%20%20%20%7D%0A%20%20%20%20%20%20%20%20%20%20%20%20%29%3B%0A%20%20%20%20%20%20%20%20%20%20%20%20L.control.scale%28%29.addTo%28map_00e52bf52cd648318e3e8a1955bda0e1%29%3B%0A%0A%20%20%20%20%20%20%20%20%20%20%20%20%0A%0A%20%20%20%20%20%20%20%20%0A%20%20%20%20%0A%20%20%20%20%20%20%20%20%20%20%20%20var%20tile_layer_6a9d65ca99bb49d48eb8d9db7240a18d%20%3D%20L.tileLayer%28%0A%20%20%20%20%20%20%20%20%20%20%20%20%20%20%20%20%22https%3A//%7Bs%7D.tile.openstreetmap.org/%7Bz%7D/%7Bx%7D/%7By%7D.png%22%2C%0A%20%20%20%20%20%20%20%20%20%20%20%20%20%20%20%20%7B%22attribution%22%3A%20%22Data%20by%20%5Cu0026copy%3B%20%5Cu003ca%20href%3D%5C%22http%3A//openstreetmap.org%5C%22%5Cu003eOpenStreetMap%5Cu003c/a%5Cu003e%2C%20under%20%5Cu003ca%20href%3D%5C%22http%3A//www.openstreetmap.org/copyright%5C%22%5Cu003eODbL%5Cu003c/a%5Cu003e.%22%2C%20%22detectRetina%22%3A%20false%2C%20%22maxNativeZoom%22%3A%2018%2C%20%22maxZoom%22%3A%2018%2C%20%22minZoom%22%3A%200%2C%20%22noWrap%22%3A%20false%2C%20%22opacity%22%3A%201%2C%20%22subdomains%22%3A%20%22abc%22%2C%20%22tms%22%3A%20false%7D%0A%20%20%20%20%20%20%20%20%20%20%20%20%29.addTo%28map_00e52bf52cd648318e3e8a1955bda0e1%29%3B%0A%20%20%20%20%20%20%20%20%0A%20%20%20%20%0A%20%20%20%20%20%20%20%20%20%20%20%20map_00e52bf52cd648318e3e8a1955bda0e1.fitBounds%28%0A%20%20%20%20%20%20%20%20%20%20%20%20%20%20%20%20%5B%5B12.715515137000068%2C%202.454528809000067%5D%2C%20%5B13.879882812000062%2C%203.147521973000039%5D%5D%2C%0A%20%20%20%20%20%20%20%20%20%20%20%20%20%20%20%20%7B%7D%0A%20%20%20%20%20%20%20%20%20%20%20%20%29%3B%0A%20%20%20%20%20%20%20%20%0A%20%20%20%20%0A%20%20%20%20%20%20%20%20function%20geo_json_4ac71cccc39d487c8bf4e7656c723dad_styler%28feature%29%20%7B%0A%20%20%20%20%20%20%20%20%20%20%20%20switch%28feature.id%29%20%7B%0A%20%20%20%20%20%20%20%20%20%20%20%20%20%20%20%20default%3A%0A%20%20%20%20%20%20%20%20%20%20%20%20%20%20%20%20%20%20%20%20return%20%7B%22fillOpacity%22%3A%200.5%2C%20%22weight%22%3A%202%7D%3B%0A%20%20%20%20%20%20%20%20%20%20%20%20%7D%0A%20%20%20%20%20%20%20%20%7D%0A%20%20%20%20%20%20%20%20function%20geo_json_4ac71cccc39d487c8bf4e7656c723dad_highlighter%28feature%29%20%7B%0A%20%20%20%20%20%20%20%20%20%20%20%20switch%28feature.id%29%20%7B%0A%20%20%20%20%20%20%20%20%20%20%20%20%20%20%20%20default%3A%0A%20%20%20%20%20%20%20%20%20%20%20%20%20%20%20%20%20%20%20%20return%20%7B%22fillOpacity%22%3A%200.75%7D%3B%0A%20%20%20%20%20%20%20%20%20%20%20%20%7D%0A%20%20%20%20%20%20%20%20%7D%0A%20%20%20%20%20%20%20%20function%20geo_json_4ac71cccc39d487c8bf4e7656c723dad_pointToLayer%28feature%2C%20latlng%29%20%7B%0A%20%20%20%20%20%20%20%20%20%20%20%20var%20opts%20%3D%20%7B%22bubblingMouseEvents%22%3A%20true%2C%20%22color%22%3A%20%22%233388ff%22%2C%20%22dashArray%22%3A%20null%2C%20%22dashOffset%22%3A%20null%2C%20%22fill%22%3A%20true%2C%20%22fillColor%22%3A%20%22%233388ff%22%2C%20%22fillOpacity%22%3A%200.2%2C%20%22fillRule%22%3A%20%22evenodd%22%2C%20%22lineCap%22%3A%20%22round%22%2C%20%22lineJoin%22%3A%20%22round%22%2C%20%22opacity%22%3A%201.0%2C%20%22radius%22%3A%202%2C%20%22stroke%22%3A%20true%2C%20%22weight%22%3A%203%7D%3B%0A%20%20%20%20%20%20%20%20%20%20%20%20%0A%20%20%20%20%20%20%20%20%20%20%20%20let%20style%20%3D%20geo_json_4ac71cccc39d487c8bf4e7656c723dad_styler%28feature%29%0A%20%20%20%20%20%20%20%20%20%20%20%20Object.assign%28opts%2C%20style%29%0A%20%20%20%20%20%20%20%20%20%20%20%20%0A%20%20%20%20%20%20%20%20%20%20%20%20return%20new%20L.CircleMarker%28latlng%2C%20opts%29%0A%20%20%20%20%20%20%20%20%7D%0A%0A%20%20%20%20%20%20%20%20function%20geo_json_4ac71cccc39d487c8bf4e7656c723dad_onEachFeature%28feature%2C%20layer%29%20%7B%0A%20%20%20%20%20%20%20%20%20%20%20%20layer.on%28%7B%0A%20%20%20%20%20%20%20%20%20%20%20%20%20%20%20%20mouseout%3A%20function%28e%29%20%7B%0A%20%20%20%20%20%20%20%20%20%20%20%20%20%20%20%20%20%20%20%20if%28typeof%20e.target.setStyle%20%3D%3D%3D%20%22function%22%29%7B%0A%20%20%20%20%20%20%20%20%20%20%20%20%20%20%20%20%20%20%20%20%20%20%20%20geo_json_4ac71cccc39d487c8bf4e7656c723dad.resetStyle%28e.target%29%3B%0A%20%20%20%20%20%20%20%20%20%20%20%20%20%20%20%20%20%20%20%20%7D%0A%20%20%20%20%20%20%20%20%20%20%20%20%20%20%20%20%7D%2C%0A%20%20%20%20%20%20%20%20%20%20%20%20%20%20%20%20mouseover%3A%20function%28e%29%20%7B%0A%20%20%20%20%20%20%20%20%20%20%20%20%20%20%20%20%20%20%20%20if%28typeof%20e.target.setStyle%20%3D%3D%3D%20%22function%22%29%7B%0A%20%20%20%20%20%20%20%20%20%20%20%20%20%20%20%20%20%20%20%20%20%20%20%20const%20highlightStyle%20%3D%20geo_json_4ac71cccc39d487c8bf4e7656c723dad_highlighter%28e.target.feature%29%0A%20%20%20%20%20%20%20%20%20%20%20%20%20%20%20%20%20%20%20%20%20%20%20%20e.target.setStyle%28highlightStyle%29%3B%0A%20%20%20%20%20%20%20%20%20%20%20%20%20%20%20%20%20%20%20%20%7D%0A%20%20%20%20%20%20%20%20%20%20%20%20%20%20%20%20%7D%2C%0A%20%20%20%20%20%20%20%20%20%20%20%20%7D%29%3B%0A%20%20%20%20%20%20%20%20%7D%3B%0A%20%20%20%20%20%20%20%20var%20geo_json_4ac71cccc39d487c8bf4e7656c723dad%20%3D%20L.geoJson%28null%2C%20%7B%0A%20%20%20%20%20%20%20%20%20%20%20%20%20%20%20%20onEachFeature%3A%20geo_json_4ac71cccc39d487c8bf4e7656c723dad_onEachFeature%2C%0A%20%20%20%20%20%20%20%20%20%20%20%20%0A%20%20%20%20%20%20%20%20%20%20%20%20%20%20%20%20style%3A%20geo_json_4ac71cccc39d487c8bf4e7656c723dad_styler%2C%0A%20%20%20%20%20%20%20%20%20%20%20%20%20%20%20%20pointToLayer%3A%20geo_json_4ac71cccc39d487c8bf4e7656c723dad_pointToLayer%0A%20%20%20%20%20%20%20%20%7D%29%3B%0A%0A%20%20%20%20%20%20%20%20function%20geo_json_4ac71cccc39d487c8bf4e7656c723dad_add%20%28data%29%20%7B%0A%20%20%20%20%20%20%20%20%20%20%20%20geo_json_4ac71cccc39d487c8bf4e7656c723dad%0A%20%20%20%20%20%20%20%20%20%20%20%20%20%20%20%20.addData%28data%29%0A%20%20%20%20%20%20%20%20%20%20%20%20%20%20%20%20.addTo%28map_00e52bf52cd648318e3e8a1955bda0e1%29%3B%0A%20%20%20%20%20%20%20%20%7D%0A%20%20%20%20%20%20%20%20%20%20%20%20geo_json_4ac71cccc39d487c8bf4e7656c723dad_add%28%7B%22bbox%22%3A%20%5B2.454528809000067%2C%2012.715515137000068%2C%203.147521973000039%2C%2013.879882812000062%5D%2C%20%22features%22%3A%20%5B%7B%22bbox%22%3A%20%5B2.454528809000067%2C%2012.715515137000068%2C%203.147521973000039%2C%2013.879882812000062%5D%2C%20%22geometry%22%3A%20%7B%22coordinates%22%3A%20%5B%5B%5B2.973083496000072%2C%2013.185729980000076%5D%2C%20%5B2.973327637000068%2C%2013.178283691000047%5D%2C%20%5B2.972900391000053%2C%2013.17108154300007%5D%2C%20%5B2.978881836000028%2C%2013.15991210900006%5D%2C%20%5B2.98327636700003%2C%2013.152526855000076%5D%2C%20%5B2.989074707000043%2C%2013.142700195000032%5D%2C%20%5B2.997924805000025%2C%2013.115112305000025%5D%2C%20%5B2.996704102000024%2C%2013.106872559000067%5D%2C%20%5B2.990112305000025%2C%2013.064086914000029%5D%2C%20%5B2.989074707000043%2C%2013.005310059000067%5D%2C%20%5B2.982299805000025%2C%2012.99108886700003%5D%2C%20%5B2.982299805000025%2C%2012.974304199000073%5D%2C%20%5B2.983520508000026%2C%2012.968872070000032%5D%2C%20%5B2.993530273000033%2C%2012.947875977000024%5D%2C%20%5B2.980102539000029%2C%2012.922302246000072%5D%2C%20%5B2.965881348000039%2C%2012.898498535000044%5D%2C%20%5B2.972473145000038%2C%2012.891296387000068%5D%2C%20%5B2.989074707000043%2C%2012.885681152000075%5D%2C%20%5B2.992309570000032%2C%2012.865905762000068%5D%2C%20%5B2.986877441000047%2C%2012.834716797000056%5D%2C%20%5B2.977905273000033%2C%2012.81811523400006%5D%2C%20%5B2.965087891000053%2C%2012.806884766000053%5D%2C%20%5B2.968688965000069%2C%2012.79608154300007%5D%2C%20%5B2.970886230000076%2C%2012.792114258000026%5D%2C%20%5B2.975097656000059%2C%2012.757873535000044%5D%2C%20%5B2.976501465000069%2C%2012.740112305000025%5D%2C%20%5B2.973693848000039%2C%2012.739074707000043%5D%2C%20%5B2.961914063000052%2C%2012.735107422000056%5D%2C%20%5B2.948730469000054%2C%2012.72509765600006%5D%2C%20%5B2.931884766000053%2C%2012.715515137000068%5D%2C%20%5B2.924499512000068%2C%2012.726928711000028%5D%2C%20%5B2.918701172000056%2C%2012.73291015600006%5D%2C%20%5B2.905680258000075%2C%2012.740384044000052%5D%2C%20%5B2.905090332000043%2C%2012.74072265600006%5D%2C%20%5B2.902282715000069%2C%2012.755126953000058%5D%2C%20%5B2.887695313000052%2C%2012.76611328100006%5D%2C%20%5B2.886474609000061%2C%2012.774719238000046%5D%2C%20%5B2.873474121000072%2C%2012.77392578100006%5D%2C%20%5B2.857116699000073%2C%2012.779296875000057%5D%2C%20%5B2.843505859000061%2C%2012.777893066000047%5D%2C%20%5B2.824890137000068%2C%2012.780700684000067%5D%2C%20%5B2.799316406000059%2C%2012.785705566000047%5D%2C%20%5B2.774719238000046%2C%2012.790710449000073%5D%2C%20%5B2.753723145000038%2C%2012.79467773400006%5D%2C%20%5B2.740112305000025%2C%2012.799926758000026%5D%2C%20%5B2.721923828000058%2C%2012.809326172000056%5D%2C%20%5B2.711486816000047%2C%2012.813903809000067%5D%2C%20%5B2.690490723000039%2C%2012.818481445000032%5D%2C%20%5B2.660888672000056%2C%2012.824279785000044%5D%2C%20%5B2.643127441000047%2C%2012.827697754000042%5D%2C%20%5B2.623474121000072%2C%2012.836730957000043%5D%2C%20%5B2.612487793000071%2C%2012.83447265600006%5D%2C%20%5B2.602294922000056%2C%2012.838928223000039%5D%2C%20%5B2.616271973000039%2C%2012.871520996000072%5D%2C%20%5B2.643310547000056%2C%2012.880676270000038%5D%2C%20%5B2.663330078000058%2C%2012.889099121000072%5D%2C%20%5B2.67608642600004%2C%2012.90069580100004%5D%2C%20%5B2.696105957000043%2C%2012.906677246000072%5D%2C%20%5B2.693725586000028%2C%2012.945312500000057%5D%2C%20%5B2.623474121000072%2C%2012.957092285000044%5D%2C%20%5B2.584716797000056%2C%2012.963073730000076%5D%2C%20%5B2.548278809000067%2C%2012.995910645000038%5D%2C%20%5B2.537719727000024%2C%2013.00170898400006%5D%2C%20%5B2.518920898000033%2C%2013.014709473000039%5D%2C%20%5B2.502502441000047%2C%2013.040527344000054%5D%2C%20%5B2.499520840000059%2C%2013.054035825000028%5D%2C%20%5B2.496704102000024%2C%2013.067504883000026%5D%2C%20%5B2.491882324000073%2C%2013.085083008000026%5D%2C%20%5B2.476684570000032%2C%2013.096679687000062%5D%2C%20%5B2.463684082000043%2C%2013.106079102000024%5D%2C%20%5B2.456115723000039%2C%2013.115905762000068%5D%2C%20%5B2.454528809000067%2C%2013.118286133000026%5D%2C%20%5B2.455078125000057%2C%2013.12548828100006%5D%2C%20%5B2.45788574200003%2C%2013.130676270000038%5D%2C%20%5B2.460693359000061%2C%2013.142089844000054%5D%2C%20%5B2.465087891000053%2C%2013.153076172000056%5D%2C%20%5B2.469299316000047%2C%2013.162475586000028%5D%2C%20%5B2.470703125000057%2C%2013.170715332000043%5D%2C%20%5B2.474121094000054%2C%2013.179321289000029%5D%2C%20%5B2.484924316000047%2C%2013.192077637000068%5D%2C%20%5B2.495910645000038%2C%2013.19952392600004%5D%2C%20%5B2.501098633000026%2C%2013.20147705100004%5D%2C%20%5B2.511718750000057%2C%2013.205505371000072%5D%2C%20%5B2.521118164000029%2C%2013.205871582000043%5D%2C%20%5B2.545898438000052%2C%2013.203918457000043%5D%2C%20%5B2.55108642600004%2C%2013.203125%5D%2C%20%5B2.554870605000076%2C%2013.198730469000054%5D%2C%20%5B2.563476563000052%2C%2013.197875977000024%5D%2C%20%5B2.573913574000073%2C%2013.191528320000032%5D%2C%20%5B2.586303711000028%2C%2013.188293457000043%5D%2C%20%5B2.598327637000068%2C%2013.181701660000044%5D%2C%20%5B2.60827636700003%2C%2013.180114746000072%5D%2C%20%5B2.619079590000069%2C%2013.181701660000044%5D%2C%20%5B2.631530762000068%2C%2013.184509277000075%5D%2C%20%5B2.64147949200003%2C%2013.196899414000029%5D%2C%20%5B2.648315430000025%2C%2013.207275391000053%5D%2C%20%5B2.653930664000029%2C%2013.215881348000039%5D%2C%20%5B2.658081055000025%2C%2013.221130371000072%5D%2C%20%5B2.670104980000076%2C%2013.22967529300007%5D%2C%20%5B2.688720703000058%2C%2013.24389648400006%5D%2C%20%5B2.695312500000057%2C%2013.248718262000068%5D%2C%20%5B2.706298828000058%2C%2013.252502441000047%5D%2C%20%5B2.715881348000039%2C%2013.256286621000072%5D%2C%20%5B2.728088379000042%2C%2013.25830078100006%5D%2C%20%5B2.741882324000073%2C%2013.261108398000033%5D%2C%20%5B2.746883584000045%2C%2013.263050065000073%5D%2C%20%5B2.747070312000062%2C%2013.263122559000067%5D%2C%20%5B2.753906250000057%2C%2013.26593017600004%5D%2C%20%5B2.773315430000025%2C%2013.267700195000032%5D%2C%20%5B2.786315918000071%2C%2013.27069091800007%5D%2C%20%5B2.800014354000041%2C%2013.272932562000051%5D%2C%20%5B2.810549646000027%2C%2013.274689170000045%5D%2C%20%5B2.810729980000076%2C%2013.274719238000046%5D%2C%20%5B2.814697266000053%2C%2013.285278320000032%5D%2C%20%5B2.81671142600004%2C%2013.294921875000057%5D%2C%20%5B2.81671142600004%2C%2013.313903809000067%5D%2C%20%5B2.800903320000032%2C%2013.330505371000072%5D%2C%20%5B2.801879883000026%2C%2013.336303711000028%5D%2C%20%5B2.807678223000039%2C%2013.345886230000076%5D%2C%20%5B2.810485840000069%2C%2013.344726563000052%5D%2C%20%5B2.819702148000033%2C%2013.333679199000073%5D%2C%20%5B2.830688477000024%2C%2013.33447265600006%5D%2C%20%5B2.837890625000057%2C%2013.34210205100004%5D%2C%20%5B2.839721680000025%2C%2013.354492188000052%5D%2C%20%5B2.852722168000071%2C%2013.365478516000053%5D%2C%20%5B2.857299805000025%2C%2013.37530517600004%5D%2C%20%5B2.858055752000041%2C%2013.393389755000044%5D%2C%20%5B2.858093262000068%2C%2013.39447021500007%5D%2C%20%5B2.858093262000068%2C%2013.395645674000036%5D%2C%20%5B2.858093262000068%2C%2013.40850830100004%5D%2C%20%5B2.850891113000046%2C%2013.423278809000067%5D%2C%20%5B2.846313477000024%2C%2013.439086914000029%5D%2C%20%5B2.847473145000038%2C%2013.453918457000043%5D%2C%20%5B2.854125977000024%2C%2013.470886230000076%5D%2C%20%5B2.867675781000059%2C%2013.483886719000054%5D%2C%20%5B2.876281738000046%2C%2013.493530273000033%5D%2C%20%5B2.880676270000038%2C%2013.505920410000044%5D%2C%20%5B2.881286621000072%2C%2013.516296387000068%5D%2C%20%5B2.886686495000049%2C%2013.52127155100004%5D%2C%20%5B2.886718750000057%2C%2013.521301270000038%5D%2C%20%5B2.877502441000047%2C%2013.540283203000058%5D%2C%20%5B2.859924316000047%2C%2013.56829834000007%5D%2C%20%5B2.845703125000057%2C%2013.583312988000046%5D%2C%20%5B2.835327148000033%2C%2013.60150146500007%5D%2C%20%5B2.825500488000046%2C%2013.627502441000047%5D%2C%20%5B2.815673828000058%2C%2013.63592529300007%5D%2C%20%5B2.799499512000068%2C%2013.640502930000025%5D%2C%20%5B2.781311035000044%2C%2013.646301270000038%5D%2C%20%5B2.757873535000044%2C%2013.649475098000039%5D%2C%20%5B2.740295410000044%2C%2013.64251709000007%5D%2C%20%5B2.726684570000032%2C%2013.652893066000047%5D%2C%20%5B2.705322266000053%2C%2013.657287598000039%5D%2C%20%5B2.684509277000075%2C%2013.663879395000038%5D%2C%20%5B2.663696289000029%2C%2013.689880371000072%5D%2C%20%5B2.652709961000028%2C%2013.697692871000072%5D%2C%20%5B2.651306152000075%2C%2013.70947265600006%5D%2C%20%5B2.650085449000073%2C%2013.713317871000072%5D%2C%20%5B2.646528192000062%2C%2013.719226535000075%5D%2C%20%5B2.646484375000057%2C%2013.719299316000047%5D%2C%20%5B2.653686523000033%2C%2013.726684570000032%5D%2C%20%5B2.652893066000047%2C%2013.743530273000033%5D%2C%20%5B2.643676758000026%2C%2013.770324707000043%5D%2C%20%5B2.639892578000058%2C%2013.779479980000076%5D%2C%20%5B2.623107910000044%2C%2013.790100098000039%5D%2C%20%5B2.619323730000076%2C%2013.79931640600006%5D%2C%20%5B2.612487793000071%2C%2013.812927246000072%5D%2C%20%5B2.603271484000061%2C%2013.822875977000024%5D%2C%20%5B2.585693359000061%2C%2013.83428955100004%5D%2C%20%5B2.570495605000076%2C%2013.848876953000058%5D%2C%20%5B2.565124512000068%2C%2013.86572265600006%5D%2C%20%5B2.565673828000058%2C%2013.873291016000053%5D%2C%20%5B2.585327148000033%2C%2013.862915039000029%5D%2C%20%5B2.609497070000032%2C%2013.859924316000047%5D%2C%20%5B2.638122559000067%2C%2013.86712646500007%5D%2C%20%5B2.685119629000042%2C%2013.86712646500007%5D%2C%20%5B2.747924805000025%2C%2013.879882812000062%5D%2C%20%5B2.786499023000033%2C%2013.872924805000025%5D%2C%20%5B2.842285156000059%2C%2013.861511230000076%5D%2C%20%5B2.862304688000052%2C%2013.862915039000029%5D%2C%20%5B2.876525879000042%2C%2013.869873047000056%5D%2C%20%5B2.896484375000057%2C%2013.864318848000039%5D%2C%20%5B2.915100098000039%2C%2013.847106934000067%5D%2C%20%5B2.946472168000071%2C%2013.840087891000053%5D%2C%20%5B3.002075195000032%2C%2013.840087891000053%5D%2C%20%5B3.01647949200003%2C%2013.83569335900006%5D%2C%20%5B3.036315918000071%2C%2013.828674316000047%5D%2C%20%5B3.039306641000053%2C%2013.814270020000038%5D%2C%20%5B3.019287109000061%2C%2013.804321289000029%5D%2C%20%5B3.023498535000044%2C%2013.790100098000039%5D%2C%20%5B3.044921875000057%2C%2013.788696289000029%5D%2C%20%5B3.094909668000071%2C%2013.778686523000033%5D%2C%20%5B3.139099121000072%2C%2013.757080078000058%5D%2C%20%5B3.147521973000039%2C%2013.75952148400006%5D%2C%20%5B3.134704590000069%2C%2013.732299805000025%5D%2C%20%5B3.130493164000029%2C%2013.709716797000056%5D%2C%20%5B3.110107422000056%2C%2013.599121094000054%5D%2C%20%5B3.107299805000025%2C%2013.58447265600006%5D%2C%20%5B3.102111816000047%2C%2013.557312012000068%5D%2C%20%5B3.094909668000071%2C%2013.519104004000042%5D%2C%20%5B3.078491211000028%2C%2013.495483398000033%5D%2C%20%5B3.055725098000039%2C%2013.462707520000038%5D%2C%20%5B3.029296875000057%2C%2013.424499512000068%5D%2C%20%5B3.026489258000026%2C%2013.420898437000062%5D%2C%20%5B2.995483398000033%2C%2013.377502441000047%5D%2C%20%5B2.992309570000032%2C%2013.348876953000058%5D%2C%20%5B2.991882324000073%2C%2013.323303223000039%5D%2C%20%5B2.99108886700003%2C%2013.294494629000042%5D%2C%20%5B2.996704102000024%2C%2013.261291504000042%5D%2C%20%5B3.003479004000042%2C%2013.24249267600004%5D%2C%20%5B3.001281738000046%2C%2013.221496582000043%5D%2C%20%5B2.982299805000025%2C%2013.211486816000047%5D%2C%20%5B2.97491455100004%2C%2013.197082520000038%5D%2C%20%5B2.974121094000054%2C%2013.194274902000075%5D%2C%20%5B2.973083496000072%2C%2013.185729980000076%5D%5D%5D%2C%20%22type%22%3A%20%22Polygon%22%7D%2C%20%22id%22%3A%20%220%22%2C%20%22properties%22%3A%20%7B%22Crop_typ%22%3A%20%22Associated%20%28Millet/Cowpea%29%22%2C%20%22ID%22%3A%200%2C%20%22NOM_COM%22%3A%20%22BIRNI%20NGAOURE%22%2C%20%22OBJECTID%22%3A%2043%2C%20%22adm_01%22%3A%20%22Dosso%22%2C%20%22adm_02%22%3A%20%22Boboye%22%2C%20%22adm_03%22%3A%20%22Birni%20N%5Cu0027Gaour%5Cu00e9%22%7D%2C%20%22type%22%3A%20%22Feature%22%7D%5D%2C%20%22type%22%3A%20%22FeatureCollection%22%7D%29%3B%0A%0A%20%20%20%20%20%20%20%20%0A%20%20%20%20%0A%20%20%20%20geo_json_4ac71cccc39d487c8bf4e7656c723dad.bindTooltip%28%0A%20%20%20%20function%28layer%29%7B%0A%20%20%20%20let%20div%20%3D%20L.DomUtil.create%28%27div%27%29%3B%0A%20%20%20%20%0A%20%20%20%20let%20handleObject%20%3D%20feature%3D%3Etypeof%28feature%29%3D%3D%27object%27%20%3F%20JSON.stringify%28feature%29%20%3A%20feature%3B%0A%20%20%20%20let%20fields%20%3D%20%5B%22OBJECTID%22%2C%20%22ID%22%2C%20%22NOM_COM%22%2C%20%22adm_01%22%2C%20%22adm_02%22%2C%20%22adm_03%22%2C%20%22Crop_typ%22%5D%3B%0A%20%20%20%20let%20aliases%20%3D%20%5B%22OBJECTID%22%2C%20%22ID%22%2C%20%22NOM_COM%22%2C%20%22adm_01%22%2C%20%22adm_02%22%2C%20%22adm_03%22%2C%20%22Crop_typ%22%5D%3B%0A%20%20%20%20let%20table%20%3D%20%27%3Ctable%3E%27%20%2B%0A%20%20%20%20%20%20%20%20String%28%0A%20%20%20%20%20%20%20%20fields.map%28%0A%20%20%20%20%20%20%20%20%28v%2Ci%29%3D%3E%0A%20%20%20%20%20%20%20%20%60%3Ctr%3E%0A%20%20%20%20%20%20%20%20%20%20%20%20%3Cth%3E%24%7Baliases%5Bi%5D%7D%3C/th%3E%0A%20%20%20%20%20%20%20%20%20%20%20%20%0A%20%20%20%20%20%20%20%20%20%20%20%20%3Ctd%3E%24%7BhandleObject%28layer.feature.properties%5Bv%5D%29%7D%3C/td%3E%0A%20%20%20%20%20%20%20%20%3C/tr%3E%60%29.join%28%27%27%29%29%0A%20%20%20%20%2B%27%3C/table%3E%27%3B%0A%20%20%20%20div.innerHTML%3Dtable%3B%0A%20%20%20%20%0A%20%20%20%20return%20div%0A%20%20%20%20%7D%0A%20%20%20%20%2C%7B%22className%22%3A%20%22foliumtooltip%22%2C%20%22sticky%22%3A%20true%7D%29%3B%0A%20%20%20%20%20%20%20%20%20%20%20%20%20%20%20%20%20%20%20%20%20%0A%3C/script%3E onload=\"this.contentDocument.open();this.contentDocument.write(    decodeURIComponent(this.getAttribute('data-html')));this.contentDocument.close();\" allowfullscreen webkitallowfullscreen mozallowfullscreen></iframe></div></div>"
      ],
      "text/plain": [
       "<folium.folium.Map at 0x7f7961b587c0>"
      ]
     },
     "execution_count": 5,
     "metadata": {},
     "output_type": "execute_result"
    }
   ],
   "source": [
    "# Load the shapefile for the area of interest as a GeoDataFrame.\n",
    "niger_communes_gdf = gpd.read_file(vector_file)\n",
    "\n",
    "# Dissolve the individual communes geometries into one single geometric feacture.\n",
    "niger_communes = niger_communes_gdf.dissolve(by=None)\n",
    "niger_communes.explore()"
   ]
  },
  {
   "cell_type": "markdown",
   "id": "769b0549-ca5b-4b36-844a-414fac8b5c6a",
   "metadata": {},
   "source": [
    "### Setup polygon\n",
    "\n",
    "The merged communes needs to be transformed into a geometry object to be used in the `dc.load()` function."
   ]
  },
  {
   "cell_type": "code",
   "execution_count": 6,
   "id": "aece692c-341a-41b5-8cf0-1769a0fa2b13",
   "metadata": {},
   "outputs": [],
   "source": [
    "geom = Geometry(geom=niger_communes.iloc[0].geometry, crs=niger_communes.crs)"
   ]
  },
  {
   "cell_type": "markdown",
   "id": "4bc16166-97e3-4044-a170-60966e2f30e1",
   "metadata": {},
   "source": [
    "## Read in pickled prediction results from previous notebook"
   ]
  },
  {
   "cell_type": "code",
   "execution_count": 7,
   "id": "0c7f7c8d-95de-4cf1-94c0-92d5534748aa",
   "metadata": {},
   "outputs": [],
   "source": [
    "# Read in the pickled prediction data as a dictionary.\n",
    "with open(pickled_prediction, \"rb\") as f:\n",
    "    x_val, y_val, pred_val, pred_crs = pickle.load(f)"
   ]
  },
  {
   "cell_type": "code",
   "execution_count": 8,
   "id": "e7c4b531-2246-4efb-9ead-90375ef65c60",
   "metadata": {},
   "outputs": [
    {
     "name": "stdout",
     "output_type": "stream",
     "text": [
      "<xarray.DataArray (y: 7234, x: 3344)>\n",
      "array([[12., 12., 12., ...,  2.,  2.,  2.],\n",
      "       [14., 14., 14., ...,  2.,  2.,  2.],\n",
      "       [14., 14., 14., ...,  2.,  2.,  2.],\n",
      "       ...,\n",
      "       [ 3.,  3.,  3., ...,  7.,  7.,  3.],\n",
      "       [ 3.,  3.,  3., ...,  3.,  3.,  3.],\n",
      "       [ 3.,  3.,  3., ...,  3.,  1.,  3.]])\n",
      "Coordinates:\n",
      "  * x        (x) float64 2.368e+05 2.368e+05 2.369e+05 ... 3.037e+05 3.037e+05\n",
      "  * y        (y) float64 1.754e+06 1.754e+06 1.754e+06 ... 1.609e+06 1.609e+06\n",
      "Attributes:\n",
      "    crs:      EPSG:6933\n"
     ]
    }
   ],
   "source": [
    "# Format the loaded data into an xarray.DataArray.\n",
    "predicted = xr.DataArray(\n",
    "    data=pred_val,\n",
    "    dims=[\"y\", \"x\"],\n",
    "    coords=dict(\n",
    "        x=x_val,\n",
    "        y=y_val,\n",
    "    ),\n",
    "    attrs=dict(\n",
    "        crs=pred_crs,\n",
    "    ),\n",
    ").transpose(\"y\", \"x\")\n",
    "\n",
    "print(predicted)"
   ]
  },
  {
   "cell_type": "markdown",
   "id": "100aa879-ad69-4e41-b7f6-b343993b2bcf",
   "metadata": {},
   "source": [
    "## Mask using the commune boundary\n",
    "\n",
    "Below, the commune polygon is rasterized so the `predicted` dataset is masked within that raster."
   ]
  },
  {
   "cell_type": "code",
   "execution_count": 9,
   "id": "1bce4a69-f8de-47aa-a7a5-7ad16e065142",
   "metadata": {},
   "outputs": [
    {
     "data": {
      "image/png": "[encoded data removed]",
      "text/plain": [
       "<Figure size 432x288 with 2 Axes>"
      ]
     },
     "metadata": {
      "needs_background": "light"
     },
     "output_type": "display_data"
    }
   ],
   "source": [
    "niger_communes = niger_communes.to_crs(output_crs)\n",
    "\n",
    "mask = xr_rasterize(niger_communes, predicted)\n",
    "\n",
    "# Mask the `predicted` dataset using the commune polygon\n",
    "predicted = predicted.where(mask)\n",
    "\n",
    "# Plot the mask.\n",
    "mask.plot();"
   ]
  },
  {
   "cell_type": "markdown",
   "id": "2746ac0f-9dd7-484b-9d59-5183ea73629b",
   "metadata": {},
   "source": [
    "### Check if all classes appear in the masked dataset\n",
    "\n",
    "Check if all the clusters generated in the [previous notebook](01_unsupervised_class_identification.ipynb) are present in the masked `predicted` `xarray.DataArray."
   ]
  },
  {
   "cell_type": "code",
   "execution_count": 10,
   "id": "dde042a3-4090-4fa5-b28d-b1fb79640524",
   "metadata": {},
   "outputs": [
    {
     "data": {
      "text/plain": [
       "array([ 0.,  1.,  2.,  3.,  4.,  5.,  6.,  7.,  8.,  9., 10., 11., 12.,\n",
       "       13., 14., nan])"
      ]
     },
     "execution_count": 10,
     "metadata": {},
     "output_type": "execute_result"
    }
   ],
   "source": [
    "np.unique(predicted)"
   ]
  },
  {
   "cell_type": "code",
   "execution_count": 11,
   "id": "06f2e1ec-6494-4b30-b64b-5e01ec295d91",
   "metadata": {},
   "outputs": [
    {
     "data": {
      "text/plain": [
       "array([ 0,  1,  2,  3,  4,  5,  6,  7,  8,  9, 10, 11, 12, 13, 14])"
      ]
     },
     "execution_count": 11,
     "metadata": {},
     "output_type": "execute_result"
    }
   ],
   "source": [
    "np.array(range(no_of_clusters))"
   ]
  },
  {
   "cell_type": "markdown",
   "id": "1f654090-1ac7-45ed-a6af-cd625b5ae43b",
   "metadata": {},
   "source": [
    "## Compute NDVI profiles for each pixel over the last 12 months"
   ]
  },
  {
   "cell_type": "code",
   "execution_count": 12,
   "id": "76e6c956-0a87-4724-b01a-6da5762cc6fe",
   "metadata": {},
   "outputs": [],
   "source": [
    "# Generate a datacube query object from the analysis parameters above.\n",
    "query = {\n",
    "    \"geopolygon\": geom,\n",
    "    \"time\": time,\n",
    "    \"resolution\": resolution,\n",
    "    \"output_crs\": output_crs,\n",
    "    \"dask_chunks\": dask_chunks,\n",
    "}"
   ]
  },
  {
   "cell_type": "code",
   "execution_count": 13,
   "id": "0b9c5159-9c65-4a6d-adbd-c4e58d179124",
   "metadata": {},
   "outputs": [
    {
     "name": "stdout",
     "output_type": "stream",
     "text": [
      "<xarray.Dataset>\n",
      "Dimensions:      (time: 387, y: 7234, x: 3344)\n",
      "Coordinates:\n",
      "  * time         (time) datetime64[ns] 2020-10-15T10:27:10 ... 2022-02-12T10:...\n",
      "  * y            (y) float64 1.754e+06 1.754e+06 ... 1.609e+06 1.609e+06\n",
      "  * x            (x) float64 2.368e+05 2.368e+05 ... 3.037e+05 3.037e+05\n",
      "    spatial_ref  int32 6933\n",
      "Data variables:\n",
      "    red          (time, y, x) float32 dask.array<chunksize=(1, 500, 500), meta=np.ndarray>\n",
      "    nir          (time, y, x) float32 dask.array<chunksize=(1, 500, 500), meta=np.ndarray>\n",
      "Attributes:\n",
      "    crs:           EPSG:6933\n",
      "    grid_mapping:  spatial_ref\n"
     ]
    }
   ],
   "source": [
    "# Load the Sentinel-2 product.\n",
    "ds_s2 = load_ard(\n",
    "    dc=dc,\n",
    "    products=[\"s2_l2a\"],\n",
    "    measurements=[\"red\", \"nir\"],\n",
    "    mask_filters=[(\"opening\", 3), (\"dilation\", 3)],\n",
    "    **query,\n",
    "    verbose=False\n",
    ")\n",
    "\n",
    "print(ds_s2)"
   ]
  },
  {
   "cell_type": "code",
   "execution_count": 14,
   "id": "5714046c-4771-43ab-aa8b-2a82fb306be2",
   "metadata": {},
   "outputs": [],
   "source": [
    "# Mask the data using the commmune polygon.\n",
    "ds_s2 = ds_s2.where(mask)"
   ]
  },
  {
   "cell_type": "code",
   "execution_count": 15,
   "id": "1735665d-76a4-484e-be3e-5a745b89ebf0",
   "metadata": {},
   "outputs": [],
   "source": [
    "# Calculate the 'veg_index'.\n",
    "ds_s2 = calculate_indices(ds_s2, index=veg_index, collection=\"s2\")"
   ]
  },
  {
   "cell_type": "markdown",
   "id": "7068bd16-f9b5-4467-be3b-88b16a87072d",
   "metadata": {},
   "source": [
    "## Compute NDVI time series per k-means class"
   ]
  },
  {
   "cell_type": "code",
   "execution_count": 16,
   "id": "5f49928f-8159-4cbc-a085-28ad2e817196",
   "metadata": {},
   "outputs": [
    {
     "name": "stderr",
     "output_type": "stream",
     "text": [
      "100%|██████████| 15/15 [7:29:44<00:00, 1798.98s/it]  "
     ]
    },
    {
     "name": "stdout",
     "output_type": "stream",
     "text": [
      "CPU times: user 2h 38min 27s, sys: 5min 4s, total: 2h 43min 31s\n",
      "Wall time: 7h 29min 45s\n"
     ]
    },
    {
     "name": "stderr",
     "output_type": "stream",
     "text": [
      "\n"
     ]
    }
   ],
   "source": [
    "%%time\n",
    "def get_timeseries(ndvi_xr, kmeans_xr, class_id):\n",
    "\n",
    "    resample_period = \"2W\"\n",
    "    window = 4\n",
    "\n",
    "    ds_ndvi_class = ndvi_xr.where(kmeans_xr == class_id)\n",
    "\n",
    "    # Smooth the NDVI over time\n",
    "    ds_smooth = (\n",
    "        ds_ndvi_class[veg_index]\n",
    "        .resample(time=resample_period)\n",
    "        .median()\n",
    "        .rolling(time=window, min_periods=1)\n",
    "        .mean()\n",
    "    )\n",
    "\n",
    "    timeseries = ds_smooth.mean(dim=(\"x\", \"y\")).load()\n",
    "    timeseries = timeseries.rename(f\"Class_{class_id}\")\n",
    "\n",
    "    return timeseries\n",
    "\n",
    "\n",
    "classes = np.unique(predicted)\n",
    "classes = classes[~np.isnan(classes)].astype(int)\n",
    "\n",
    "timeseries_list = []\n",
    "for class_id in tqdm(classes):\n",
    "\n",
    "    timeseries_xr = get_timeseries(ds_s2, predicted, class_id)\n",
    "    timeseries_list.append(timeseries_xr)\n",
    "\n",
    "timeseries_xr = xr.merge(timeseries_list)"
   ]
  },
  {
   "cell_type": "code",
   "execution_count": 17,
   "id": "c392dbe2-b520-4e74-915e-2978b4afbd9c",
   "metadata": {},
   "outputs": [],
   "source": [
    "# Convert from xarray.Dataset to pandas Dataframe.\n",
    "timeseries_df = timeseries_xr.to_dataframe().drop([\"spatial_ref\"], axis=1)"
   ]
  },
  {
   "cell_type": "code",
   "execution_count": 19,
   "id": "ac2cb073-ccbb-45bb-99fb-dea261fd5929",
   "metadata": {},
   "outputs": [],
   "source": [
    "# Save the pandas Dataframe as csv.\n",
    "timeseries_df.to_csv(\n",
    "    f\"{output_dir}/niger_communes_ndvitimeseries_18month_{no_of_clusters}classes.csv\"\n",
    ")"
   ]
  },
  {
   "cell_type": "markdown",
   "id": "3c0594a9-ccc6-450e-a93c-a69d0c27c5f4",
   "metadata": {},
   "source": [
    "## Compute cross-correlation (Pearson Correlation) and keep maximum"
   ]
  },
  {
   "cell_type": "code",
   "execution_count": 20,
   "id": "e1ec4e57-a4d5-47bb-a8ac-35a3d28bc0ec",
   "metadata": {},
   "outputs": [],
   "source": [
    "def max_lagged_correlation(df, max_lag):\n",
    "    max_lagged_correlation = pd.DataFrame.from_dict(\n",
    "        {\n",
    "            x: [\n",
    "                max(df[x].corr(df[y].shift(-t)) for t in range(-max_lag, max_lag))\n",
    "                for y in list(df.columns)\n",
    "            ]\n",
    "            for x in list(df.columns)\n",
    "        }\n",
    "    )\n",
    "\n",
    "    return max_lagged_correlation"
   ]
  },
  {
   "cell_type": "code",
   "execution_count": 21,
   "id": "411a7d92-919b-419c-9d25-5132377a0f7e",
   "metadata": {},
   "outputs": [],
   "source": [
    "# Demean the time series NDVI before cross correlation\n",
    "demeaned_timeseries_df = timeseries_df.sub(timeseries_df.mean())"
   ]
  },
  {
   "cell_type": "code",
   "execution_count": 22,
   "id": "e8e6ce06-0187-4cdc-ac06-bb0ff7693898",
   "metadata": {},
   "outputs": [
    {
     "data": {
      "text/html": [
       "<div>\n",
       "<style scoped>\n",
       "    .dataframe tbody tr th:only-of-type {\n",
       "        vertical-align: middle;\n",
       "    }\n",
       "\n",
       "    .dataframe tbody tr th {\n",
       "        vertical-align: top;\n",
       "    }\n",
       "\n",
       "    .dataframe thead th {\n",
       "        text-align: right;\n",
       "    }\n",
       "</style>\n",
       "<table border=\"1\" class=\"dataframe\">\n",
       "  <thead>\n",
       "    <tr style=\"text-align: right;\">\n",
       "      <th></th>\n",
       "      <th>Class_0</th>\n",
       "      <th>Class_1</th>\n",
       "      <th>Class_2</th>\n",
       "      <th>Class_3</th>\n",
       "      <th>Class_4</th>\n",
       "      <th>Class_5</th>\n",
       "      <th>Class_6</th>\n",
       "      <th>Class_7</th>\n",
       "      <th>Class_8</th>\n",
       "      <th>Class_9</th>\n",
       "      <th>Class_10</th>\n",
       "      <th>Class_11</th>\n",
       "      <th>Class_12</th>\n",
       "      <th>Class_13</th>\n",
       "      <th>Class_14</th>\n",
       "    </tr>\n",
       "  </thead>\n",
       "  <tbody>\n",
       "    <tr>\n",
       "      <th>0</th>\n",
       "      <td>1.000000</td>\n",
       "      <td>0.866116</td>\n",
       "      <td>0.980944</td>\n",
       "      <td>0.918938</td>\n",
       "      <td>0.984052</td>\n",
       "      <td>0.905463</td>\n",
       "      <td>0.971340</td>\n",
       "      <td>0.953834</td>\n",
       "      <td>0.949348</td>\n",
       "      <td>-0.270212</td>\n",
       "      <td>0.992575</td>\n",
       "      <td>0.938770</td>\n",
       "      <td>0.924815</td>\n",
       "      <td>0.957062</td>\n",
       "      <td>0.927743</td>\n",
       "    </tr>\n",
       "    <tr>\n",
       "      <th>1</th>\n",
       "      <td>0.866116</td>\n",
       "      <td>1.000000</td>\n",
       "      <td>0.849268</td>\n",
       "      <td>0.973924</td>\n",
       "      <td>0.896353</td>\n",
       "      <td>0.938127</td>\n",
       "      <td>0.837241</td>\n",
       "      <td>0.937743</td>\n",
       "      <td>0.877344</td>\n",
       "      <td>-0.319019</td>\n",
       "      <td>0.866636</td>\n",
       "      <td>0.896182</td>\n",
       "      <td>0.833940</td>\n",
       "      <td>0.924481</td>\n",
       "      <td>0.873511</td>\n",
       "    </tr>\n",
       "    <tr>\n",
       "      <th>2</th>\n",
       "      <td>0.980944</td>\n",
       "      <td>0.849268</td>\n",
       "      <td>1.000000</td>\n",
       "      <td>0.923642</td>\n",
       "      <td>0.974209</td>\n",
       "      <td>0.874098</td>\n",
       "      <td>0.966528</td>\n",
       "      <td>0.956320</td>\n",
       "      <td>0.949065</td>\n",
       "      <td>-0.328293</td>\n",
       "      <td>0.991094</td>\n",
       "      <td>0.941193</td>\n",
       "      <td>0.962168</td>\n",
       "      <td>0.974249</td>\n",
       "      <td>0.965267</td>\n",
       "    </tr>\n",
       "    <tr>\n",
       "      <th>3</th>\n",
       "      <td>0.918938</td>\n",
       "      <td>0.973924</td>\n",
       "      <td>0.923642</td>\n",
       "      <td>1.000000</td>\n",
       "      <td>0.959124</td>\n",
       "      <td>0.947258</td>\n",
       "      <td>0.886512</td>\n",
       "      <td>0.990363</td>\n",
       "      <td>0.946882</td>\n",
       "      <td>-0.181325</td>\n",
       "      <td>0.929782</td>\n",
       "      <td>0.961383</td>\n",
       "      <td>0.870778</td>\n",
       "      <td>0.967209</td>\n",
       "      <td>0.932838</td>\n",
       "    </tr>\n",
       "    <tr>\n",
       "      <th>4</th>\n",
       "      <td>0.984052</td>\n",
       "      <td>0.896353</td>\n",
       "      <td>0.974209</td>\n",
       "      <td>0.959124</td>\n",
       "      <td>1.000000</td>\n",
       "      <td>0.928207</td>\n",
       "      <td>0.954009</td>\n",
       "      <td>0.984908</td>\n",
       "      <td>0.979447</td>\n",
       "      <td>-0.185127</td>\n",
       "      <td>0.993829</td>\n",
       "      <td>0.971038</td>\n",
       "      <td>0.918123</td>\n",
       "      <td>0.981530</td>\n",
       "      <td>0.957119</td>\n",
       "    </tr>\n",
       "  </tbody>\n",
       "</table>\n",
       "</div>"
      ],
      "text/plain": [
       "    Class_0   Class_1   Class_2   Class_3   Class_4   Class_5   Class_6  \\\n",
       "0  1.000000  0.866116  0.980944  0.918938  0.984052  0.905463  0.971340   \n",
       "1  0.866116  1.000000  0.849268  0.973924  0.896353  0.938127  0.837241   \n",
       "2  0.980944  0.849268  1.000000  0.923642  0.974209  0.874098  0.966528   \n",
       "3  0.918938  0.973924  0.923642  1.000000  0.959124  0.947258  0.886512   \n",
       "4  0.984052  0.896353  0.974209  0.959124  1.000000  0.928207  0.954009   \n",
       "\n",
       "    Class_7   Class_8   Class_9  Class_10  Class_11  Class_12  Class_13  \\\n",
       "0  0.953834  0.949348 -0.270212  0.992575  0.938770  0.924815  0.957062   \n",
       "1  0.937743  0.877344 -0.319019  0.866636  0.896182  0.833940  0.924481   \n",
       "2  0.956320  0.949065 -0.328293  0.991094  0.941193  0.962168  0.974249   \n",
       "3  0.990363  0.946882 -0.181325  0.929782  0.961383  0.870778  0.967209   \n",
       "4  0.984908  0.979447 -0.185127  0.993829  0.971038  0.918123  0.981530   \n",
       "\n",
       "   Class_14  \n",
       "0  0.927743  \n",
       "1  0.873511  \n",
       "2  0.965267  \n",
       "3  0.932838  \n",
       "4  0.957119  "
      ]
     },
     "execution_count": 22,
     "metadata": {},
     "output_type": "execute_result"
    }
   ],
   "source": [
    "correlation_matrix_df = max_lagged_correlation(demeaned_timeseries_df, 3)\n",
    "correlation_matrix_df.head()"
   ]
  },
  {
   "cell_type": "markdown",
   "id": "4d6ea148-87be-4268-9420-5253b3dd847d",
   "metadata": {},
   "source": [
    "## Identify Grouped Classes"
   ]
  },
  {
   "cell_type": "code",
   "execution_count": 23,
   "id": "4c649773-5182-4f69-8e07-d29c16a4824a",
   "metadata": {},
   "outputs": [],
   "source": [
    "correlation_matrix_df_copy = correlation_matrix_df.copy()\n",
    "\n",
    "grouped_classes = []\n",
    "loner_classes = []\n",
    "\n",
    "class_cols = list(correlation_matrix_df_copy.columns)\n",
    "\n",
    "for i, column in enumerate(class_cols):\n",
    "\n",
    "    thresh = 0.93\n",
    "\n",
    "    single_class = correlation_matrix_df_copy[column]\n",
    "    indexes_above_thresh = list(single_class[single_class >= thresh].index)\n",
    "\n",
    "    correlation_matrix_df_copy = correlation_matrix_df_copy.drop(\n",
    "        indexes_above_thresh, axis=0\n",
    "    )\n",
    "\n",
    "    # if not empty (contains at least one element)\n",
    "    if len(indexes_above_thresh) == 1:\n",
    "        loner_classes.extend(indexes_above_thresh)\n",
    "    elif len(indexes_above_thresh) > 1:\n",
    "        grouped_classes.append(indexes_above_thresh)"
   ]
  },
  {
   "cell_type": "code",
   "execution_count": 24,
   "id": "590e5ec6-c493-404d-8cf6-7e61dd33e97f",
   "metadata": {},
   "outputs": [
    {
     "data": {
      "image/png": "[encoded data removed]",
      "text/plain": [
       "<Figure size 1008x1080 with 3 Axes>"
      ]
     },
     "metadata": {},
     "output_type": "display_data"
    }
   ],
   "source": [
    "fig = plt.figure(figsize=(14, 15), facecolor=\"white\")\n",
    "\n",
    "rows = len(grouped_classes)\n",
    "columns = 1\n",
    "\n",
    "for i in range(rows):\n",
    "    ax = fig.add_subplot(rows, columns, i + 1)\n",
    "    timeseries_df.iloc[:, grouped_classes[i]].plot(ax=ax)\n",
    "    ax.legend(bbox_to_anchor=(1.0, 0.5), loc=\"center left\")\n",
    "    ax.set_ylim((-1, 1))\n",
    "    ax.set_title(f\"Group {i}\")\n",
    "    ax.set_ylabel(\"NDVI\")\n",
    "\n",
    "plt.tight_layout()"
   ]
  },
  {
   "cell_type": "code",
   "execution_count": 25,
   "id": "7550dcb9-784b-4942-8178-a71d7b9e206b",
   "metadata": {},
   "outputs": [
    {
     "data": {
      "image/png": "[encoded data removed]",
      "text/plain": [
       "<Figure size 1008x504 with 1 Axes>"
      ]
     },
     "metadata": {},
     "output_type": "display_data"
    }
   ],
   "source": [
    "fig = plt.figure(figsize=(14, 7), facecolor=\"white\")\n",
    "\n",
    "rows = len(loner_classes)\n",
    "columns = 1\n",
    "\n",
    "for i in range(rows):\n",
    "    ax = fig.add_subplot(rows, columns, i + 1)\n",
    "    timeseries_df.iloc[:, loner_classes[i]].plot(ax=ax)\n",
    "    ax.legend(bbox_to_anchor=(1.0, 0.5), loc=\"center left\")\n",
    "    ax.set_ylim((-1, 1))\n",
    "    ax.set_title(f\"Group {i}\")\n",
    "    ax.set_ylabel(\"NDVI\")"
   ]
  },
  {
   "cell_type": "code",
   "execution_count": 26,
   "id": "2abd8efc-e840-4a66-a311-f07f58217317",
   "metadata": {},
   "outputs": [],
   "source": [
    "# Export clusters back.\n",
    "for i, group in enumerate(grouped_classes):\n",
    "    class_list = [f\"Class_{index}\" for index in group]\n",
    "\n",
    "    with open(\n",
    "        f\"{output_dir}/niger_communes_correlated_ndvi_group{i}_{no_of_clusters}classes.pickle\",\n",
    "        \"wb\",\n",
    "    ) as f:\n",
    "        pickle.dump(class_list, f, protocol=-1)\n",
    "\n",
    "with open(\n",
    "    f\"{output_dir}/niger_communes_correlated_ndvi_singles_{no_of_clusters}classes.pickle\",\n",
    "    \"wb\",\n",
    ") as f:\n",
    "    pickle.dump([f\"Class_{index}\" for index in loner_classes], f, protocol=-1)"
   ]
  },
  {
   "cell_type": "markdown",
   "id": "c09d2ed7-421e-480f-b6c0-9ba57b06d77d",
   "metadata": {},
   "source": [
    "## Recommended next steps\n",
    "\n",
    "To continue working through the notebooks in this workflow, go to the next notebook `02_group_classes_using_NDVI.ipynb`.\n",
    "\n",
    "1. [Unsupervised Class Identification](01_unsupervised_class_identification.ipynb)\n",
    "2. **Group Classes Using NDVI (this notebook)**\n",
    "3. [Reclassify Unsupervised NDVI](03_reclassify_unsupervised_map_NDVI_classes.ipynb)"
   ]
  },
  {
   "cell_type": "markdown",
   "id": "1a0c1d46-0b13-46fb-9f27-de4d7a6ea261",
   "metadata": {},
   "source": [
    "---\n",
    "\n",
    "## Additional information\n",
    "\n",
    "**License:** The code in this notebook is licensed under the [Apache License, Version 2.0](https://www.apache.org/licenses/LICENSE-2.0). \n",
    "Digital Earth Africa data is licensed under the [Creative Commons by Attribution 4.0](https://creativecommons.org/licenses/by/4.0/) license.\n",
    "\n",
    "**Contact:** If you need assistance, please post a question on the [Open Data Cube Slack channel](http://slack.opendatacube.org/) or on the [GIS Stack Exchange](https://gis.stackexchange.com/questions/ask?tags=open-data-cube) using the `open-data-cube` tag (you can view previously asked questions [here](https://gis.stackexchange.com/questions/tagged/open-data-cube)).\n",
    "If you would like to repoart an issue with this notebook, you can file one on [Github](https://github.com/digitalearthafrica/deafrica-sandbox-notebooks).\n",
    "\n",
    "**Compatible datacube version:**"
   ]
  },
  {
   "cell_type": "code",
   "execution_count": 27,
   "id": "14c86163-d680-47a0-b40c-32ddcbdec915",
   "metadata": {},
   "outputs": [
    {
     "name": "stdout",
     "output_type": "stream",
     "text": [
      "1.8.6\n"
     ]
    }
   ],
   "source": [
    "print(datacube.__version__)"
   ]
  },
  {
   "cell_type": "markdown",
   "id": "7eb84441-be2d-4fbf-a639-6bb3d1b42054",
   "metadata": {},
   "source": [
    "**Last Tested:**"
   ]
  },
  {
   "cell_type": "code",
   "execution_count": 28,
   "id": "5a61d979-3ef2-4db5-abd3-e77ec758e2b2",
   "metadata": {},
   "outputs": [
    {
     "data": {
      "text/plain": [
       "'2022-06-14'"
      ]
     },
     "execution_count": 28,
     "metadata": {},
     "output_type": "execute_result"
    }
   ],
   "source": [
    "from datetime import datetime\n",
    "\n",
    "datetime.today().strftime(\"%Y-%m-%d\")"
   ]
  }
 ],
 "metadata": {
  "kernelspec": {
   "display_name": "Python 3 (ipykernel)",
   "language": "python",
   "name": "python3"
  },
  "language_info": {
   "codemirror_mode": {
    "name": "ipython",
    "version": 3
   },
   "file_extension": ".py",
   "mimetype": "text/x-python",
   "name": "python",
   "nbconvert_exporter": "python",
   "pygments_lexer": "ipython3",
   "version": "3.8.10"
  },
  "widgets": {
   "application/vnd.jupyter.widget-state+json": {
    "state": {},
    "version_major": 2,
    "version_minor": 0
   }
  }
 },
 "nbformat": 4,
 "nbformat_minor": 5
}
