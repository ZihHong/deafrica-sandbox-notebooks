{
 "cells": [
  {
   "cell_type": "code",
   "execution_count": 1,
   "id": "1a5f8ee6-e3c2-41dc-8893-21a25d70c299",
   "metadata": {},
   "outputs": [
    {
     "ename": "AttributeError",
     "evalue": "module 'datacube.utils' has no attribute 'rio'",
     "output_type": "error",
     "traceback": [
      "\u001b[0;31m---------------------------------------------------------------------------\u001b[0m",
      "\u001b[0;31mAttributeError\u001b[0m                            Traceback (most recent call last)",
      "\u001b[0;32m/tmp/ipykernel_523/3989914859.py\u001b[0m in \u001b[0;36m<module>\u001b[0;34m\u001b[0m\n\u001b[1;32m     18\u001b[0m \u001b[0;34m\u001b[0m\u001b[0m\n\u001b[1;32m     19\u001b[0m \u001b[0;31m# This will speed up loading data\u001b[0m\u001b[0;34m\u001b[0m\u001b[0;34m\u001b[0m\u001b[0;34m\u001b[0m\u001b[0m\n\u001b[0;32m---> 20\u001b[0;31m \u001b[0mdatacube\u001b[0m\u001b[0;34m.\u001b[0m\u001b[0mutils\u001b[0m\u001b[0;34m.\u001b[0m\u001b[0mrio\u001b[0m\u001b[0;34m.\u001b[0m\u001b[0mset_default_rio_config\u001b[0m\u001b[0;34m(\u001b[0m\u001b[0maws\u001b[0m\u001b[0;34m=\u001b[0m\u001b[0;34m\"auto\"\u001b[0m\u001b[0;34m,\u001b[0m \u001b[0mcloud_defaults\u001b[0m\u001b[0;34m=\u001b[0m\u001b[0;32mTrue\u001b[0m\u001b[0;34m)\u001b[0m\u001b[0;34m\u001b[0m\u001b[0;34m\u001b[0m\u001b[0m\n\u001b[0m",
      "\u001b[0;31mAttributeError\u001b[0m: module 'datacube.utils' has no attribute 'rio'"
     ]
    }
   ],
   "source": [
    "# Load the necessary Python packages for the analysis.\n",
    "%matplotlib inline\n",
    "\n",
    "import os\n",
    "import datacube\n",
    "import pickle\n",
    "import math\n",
    "import numpy as np\n",
    "import geopandas as gpd\n",
    "import pandas as pd\n",
    "import xarray as xr\n",
    "import matplotlib.colors as mcolors\n",
    "import matplotlib.pyplot as plt\n",
    "\n",
    "from datacube.utils.geometry import Geometry\n",
    "from deafrica_tools.plotting import plot_lulc\n",
    "from deafrica_tools.spatial import xr_rasterize\n",
    "\n",
    "# This will speed up loading data\n",
    "datacube.utils.rio.set_default_rio_config(aws=\"auto\", cloud_defaults=True)"
   ]
  },
  {
   "cell_type": "code",
   "execution_count": null,
   "id": "1b361a8e-084b-4ab3-aed2-f001060b1fd7",
   "metadata": {},
   "outputs": [],
   "source": [
    "# Connect to the datacube to access DE Africa data.\n",
    "# The `app` parameter is a unique name for the analysis which is based on the notebook file name.\n",
    "dc = datacube.Datacube(app=\"Landcover_Reclassification\")"
   ]
  },
  {
   "cell_type": "code",
   "execution_count": null,
   "id": "8ec1af7e-0bcb-4112-a684-46c7165c7c6f",
   "metadata": {},
   "outputs": [],
   "source": [
    "# Set important parameters for the analysis.\n",
    "\n",
    "# Set the bands/measurements of the satellite data to load.\n",
    "measurements = \"classification\"\n",
    "\n",
    "# Set the time period of interest for your analysis.\n",
    "time_range = (\"2014\", \"2019\")\n",
    "\n",
    "# Set the x and y cell resolution of the satellite data.\n",
    "# If loading a large area, then increase the resolution so the data will fit into memory.\n",
    "resolution = (-300, 300)\n",
    "\n",
    "# Set the Coordinate Reference System (CRS) the satellite data is to be reprojected to.\n",
    "# output_crs = \"EPSG:32632\"\n",
    "output_crs = \"EPSG:6933\"\n",
    "\n",
    "# Create the output directory to store the results.\n",
    "output_dir = \"results\"\n",
    "os.makedirs(output_dir, exist_ok=True)"
   ]
  },
  {
   "cell_type": "code",
   "execution_count": null,
   "id": "b71c4132-862a-49c0-8b20-88de27cccf61",
   "metadata": {},
   "outputs": [],
   "source": [
    "# Load the African Countries GeoJSON.\n",
    "# This file contains polygons for the boundaries of African countries.\n",
    "african_countries = gpd.read_file(\"../Supplementary_data/MGCI/african_countries.geojson\")\n",
    "\n",
    "# List the countries in the African Countries GeoJSON.\n",
    "np.unique(african_countries[\"COUNTRY\"])"
   ]
  },
  {
   "cell_type": "code",
   "execution_count": null,
   "id": "58ae2550-ae29-48ce-89db-33f86875494c",
   "metadata": {},
   "outputs": [],
   "source": [
    "# Select an African country to carry out the analysis over.\n",
    "country = \"Tunisia\"\n",
    "\n",
    "# The country selected needs to be transformed into a geometry object to be used in the dc.load() function.\n",
    "idx = african_countries[african_countries[\"COUNTRY\"] == country].index[0]\n",
    "geom = Geometry(geom=african_countries.iloc[idx].geometry, crs=african_countries.crs)"
   ]
  },
  {
   "cell_type": "code",
   "execution_count": null,
   "id": "6ddacb73-6c34-4964-9d7e-902567fab76e",
   "metadata": {},
   "outputs": [],
   "source": [
    "# Create a reusable datacube query object.\n",
    "query = {\"geopolygon\": geom,\n",
    "         \"time\": time_range,\n",
    "         \"measurements\": measurements,\n",
    "         \"resolution\": resolution,\n",
    "         \"output_crs\": output_crs}"
   ]
  },
  {
   "cell_type": "code",
   "execution_count": null,
   "id": "fe2dc278-e312-4680-a681-5206613d8709",
   "metadata": {},
   "outputs": [],
   "source": [
    "# Load the ESA Climate Change Initiative Land Cover dataset at 300m resolution.\n",
    "ds_cci = dc.load(product=\"cci_landcover\", **query)\n",
    "\n",
    "# Convert the no data values to np.nan.\n",
    "ds_cci = ds_cci.where(ds_cci != 0)"
   ]
  },
  {
   "cell_type": "code",
   "execution_count": null,
   "id": "c8076509-14dc-471f-b378-eac17ac86f94",
   "metadata": {},
   "outputs": [],
   "source": [
    "# Mask the dataset with the country polygon.\n",
    "african_countries = african_countries.to_crs(output_crs)\n",
    "mask = xr_rasterize(african_countries[african_countries[\"COUNTRY\"] == country], ds_cci)\n",
    "ds_cci = ds_cci.where(mask)"
   ]
  },
  {
   "cell_type": "code",
   "execution_count": null,
   "id": "d3976ffa-cc48-4fbd-a57b-c30af064954e",
   "metadata": {},
   "outputs": [],
   "source": [
    "# Plot the CCI Landcover dataset.\n",
    "plot_lulc(ds_cci[\"classification\"], product=\"CCI\", col=\"time\", col_wrap=2, figsize=(20, 45));"
   ]
  },
  {
   "cell_type": "code",
   "execution_count": null,
   "id": "820b6c9c-a4c7-4f35-80f2-08a033625829",
   "metadata": {},
   "outputs": [],
   "source": [
    "# Reclassify the CCI land Cover dataset into seven land use unit categories.\n",
    "\n",
    "# Define the labels and codes of the aggregated land cover classes.\n",
    "CNULCD_labels = [\"Treed areas\", \"Prairies\", \"Cultivated land\", \"Wetlands\", \"Artificial surfaces\", \"Other land\", \"Water bodies\"]\n",
    "CNULCD_codes = [1, 2, 3, 4, 5, 6, 7]\n",
    "# Define the colors to be used to represent the aggregated land use unit categories.\n",
    "CNULCD_colors = [\"#054907\", \"#ffa500\", \"#ffff00\", \"#95d0fc\", \"#dc143c\", \"#d6d4b6\", \"#069af3\"]\n",
    "\n",
    "\n",
    "ds_clas = ds_cci[\"classification\"]\n",
    "\n",
    "# Reclassification\n",
    "treed_areas = [50, 60, 61, 62, 70, 71, 72, 80, 81, 82, 90, 100]\n",
    "priaries = [110, 120, 121, 122, 130, 140, 150, 151, 152, 153]\n",
    "cultivated_land = [10, 11, 12, 20, 30, 40]\n",
    "wetlands = [160, 170, 180]\n",
    "artificial_surfaces = [190]\n",
    "other_land = [200, 201, 202, 220]\n",
    "waterbodies = [210]\n",
    "\n",
    "reclassification_condition = [ds_clas.isin(treed_areas),\n",
    "                              ds_clas.isin(priaries),\n",
    "                              ds_clas.isin(cultivated_land),\n",
    "                              ds_clas.isin(wetlands),\n",
    "                              ds_clas.isin(artificial_surfaces),\n",
    "                              ds_clas.isin(other_land),\n",
    "                              ds_clas.isin(waterbodies)]\n",
    "\n",
    "ds_cci[\"reclassification\"] = xr.DataArray(data=np.select(reclassification_condition, CNULCD_codes),\n",
    "                                          coords={\"time\": ds_cci.time, \"y\": ds_cci.y, \"x\": ds_cci.x},\n",
    "                                          dims=[\"time\", \"y\", \"x\"]).astype(\"int8\").where(mask)"
   ]
  },
  {
   "cell_type": "code",
   "execution_count": null,
   "id": "f135804f-68c4-456d-8a2d-de030d28f0a6",
   "metadata": {},
   "outputs": [],
   "source": [
    "# Define the Reclassification specific color map.\n",
    "cmap = mcolors.ListedColormap(colors=CNULCD_colors, N=len(CNULCD_codes))\n",
    "bounds = np.arange(min(CNULCD_codes) - 0.5, max(CNULCD_codes) + 1, 1)\n",
    "norm = mcolors.BoundaryNorm(bounds, cmap.N)\n",
    "\n",
    "# Plot the IPCC Land Cover.\n",
    "clas = ds_cci[\"reclassification\"].plot(col=\"time\", col_wrap=2, add_colorbar=False, figsize=(20, 45), cmap=cmap, norm=norm)\n",
    "\n",
    "clas.fig.suptitle(\"CCI Reclassification\", x=0.4, y=1.05, size=20)\n",
    "clasp = plt.colorbar(clas._mappables[-1], ax=clas.axes, ticks=CNULCD_codes)\n",
    "clasp.set_ticklabels(CNULCD_labels)\n",
    "plt.savefig(f\"{output_dir}/{country.replace(' ', '')}_reclassification.png\")\n",
    "plt.show()"
   ]
  },
  {
   "cell_type": "code",
   "execution_count": null,
   "id": "e6f26417-b970-4988-83a5-b51dde048d42",
   "metadata": {},
   "outputs": [],
   "source": [
    "# Get the resolution i.e. actual ground distance represented by the length of a single pixel in meters.\n",
    "pixel_length = query[\"resolution\"][1]\n",
    "# Conversion from metres sqaured to hectares.\n",
    "m2_per_ha = 10000\n",
    "# Get the actual ground area represented by each pixel.\n",
    "area_per_pixel = (pixel_length ** 2) / m2_per_ha"
   ]
  },
  {
   "cell_type": "code",
   "execution_count": null,
   "id": "9d9bbe9c-2abe-404c-ba1d-3f08928b2bcc",
   "metadata": {},
   "outputs": [],
   "source": [
    "# For each year, get the area of each land cover class\n",
    "# Empty dictionary to store the loop results.\n",
    "results = {}\n",
    "\n",
    "# Group the reclassification xarray.DataArray by year.\n",
    "for year, ds_year in ds_cci[\"reclassification\"].groupby(\"time.year\"):\n",
    "    # Convert the xarray.DataArray to a numpy array.\n",
    "    ds_np = ds_year.values\n",
    "    # Use the numpy np.unique function to return the pixel count for each land cover class.\n",
    "    ds_counts = np.unique(ds_np, return_counts=True)\n",
    "    # Calculate the area of each land cover class.\n",
    "    # Remove the last value as it represents the area of pixels with the value np.nan.\n",
    "    ds_area = np.array(ds_counts[1] * area_per_pixel)[:-1]\n",
    "\n",
    "    results[year] = dict(zip(CNULCD_labels, ds_area))"
   ]
  },
  {
   "cell_type": "code",
   "execution_count": null,
   "id": "bb31c891-900c-4b72-8b01-9eaa0c5ce5ee",
   "metadata": {},
   "outputs": [],
   "source": [
    "# Convert the results dictionary into a pandas DataFrame.\n",
    "results_df = pd.DataFrame.from_dict(results)\n",
    "results_df.to_csv(f\"{output_dir}/{country.replace(' ', '')}_classification_result.csv\")\n",
    "results_df"
   ]
  },
  {
   "cell_type": "code",
   "execution_count": null,
   "id": "6e1dc287-4c1c-4b9a-89bb-416c749e69a1",
   "metadata": {},
   "outputs": [],
   "source": [
    "# Plot the area represented by each land cover class over time.\n",
    "\n",
    "# Transpose the results.df pandas dataframe.\n",
    "results_df_1 = results_df.T\n",
    "\n",
    "# Define subplot grid.\n",
    "ncols = 2\n",
    "nrows = math.ceil(len(CNULCD_labels) / ncols)\n",
    "\n",
    "fig, axs = plt.subplots(nrows=nrows, ncols=ncols, figsize=(20, 15))\n",
    "plt.subplots_adjust(hspace=0.5)\n",
    "fig.suptitle(f\"{country} Land Cover Classes Areas by Year\", fontsize=18, y=0.95)\n",
    "\n",
    "for i, lulc_class in enumerate(CNULCD_labels):\n",
    "    results_df_1[lulc_class].plot.bar(\n",
    "        title=f\"{lulc_class}\",\n",
    "        xlabel=\"Year\",\n",
    "        ylabel=\"Area (Sq. km)\",\n",
    "        rot=0,\n",
    "        ax=axs.reshape(-1)[i],\n",
    "    )\n",
    "    \n",
    "plt.savefig(f\"{output_dir}/{country.replace(' ', '')}_classification_chart.png\")"
   ]
  },
  {
   "cell_type": "markdown",
   "id": "339ac04e-e141-49c6-851f-141e11465258",
   "metadata": {},
   "source": [
    "## Area change matrix"
   ]
  },
  {
   "cell_type": "code",
   "execution_count": null,
   "id": "3eb30153-5a3e-4947-961f-1bc23e784790",
   "metadata": {},
   "outputs": [],
   "source": [
    "# Change the default decimal precision used for printing dataframes.\n",
    "pd.set_option(\"display.precision\", 2)\n",
    "\n",
    "# Custom styling function to change the background of a cell.  \n",
    "def lulc_set_background_color(df):\n",
    "\n",
    "    # Define the background colors to be used for the input dataFrame cells.\n",
    "    # based on the type of land cover change.\n",
    "    dont_color = \"background-color : white\"\n",
    "    stable = \"background-color : orange\"\n",
    "    bad = \"background-color : red\"\n",
    "    excellent = \"background-color: green\"\n",
    "\n",
    "    # Create a copy of the input dataframe. \n",
    "    df1 = df.copy(deep=True)\n",
    "\n",
    "    # Get the name of the first column.\n",
    "    first_column = df1.columns[0]\n",
    "    \n",
    "    # Define the stable land cover change.\n",
    "    df1.loc[df1.index[df1[first_column] == \"Treed areas\"], [\"Treed areas\", \"Water bodies\"]] = stable\n",
    "    df1.loc[df1.index[df1[first_column] == \"Prairies\"], [ \"Prairies\", \"Water bodies\"]] = stable\n",
    "    df1.loc[df1.index[df1[first_column] == \"Cultivated land\"], [ \"Cultivated land\", \"Water bodies\"]] = stable\n",
    "    df1.loc[df1.index[df1[first_column] == \"Wetlands\"], [ \"Wetlands\", \"Water bodies\"]] = stable\n",
    "    df1.loc[df1.index[df1[first_column] == \"Artificial surfaces\"], [\"Artificial surfaces\", \"Water bodies\"]] = stable\n",
    "    df1.loc[df1.index[df1[first_column] == \"Other land\"], [\"Other land\", \"Water bodies\"]] = stable\n",
    "    df1.loc[df1.index[df1[first_column] == \"Water bodies\"], ['Treed areas', 'Prairies', 'Cultivated land', 'Wetlands', 'Artificial surfaces', 'Other land', 'Water bodies']] = stable\n",
    "\n",
    "    # Define the negative/bad land cover changes.\n",
    "    df1.loc[df1.index[df1[first_column] == \"Treed areas\"], [\"Prairies\", \"Cultivated land\", \"Wetlands\",\"Artificial surfaces\", \"Other land\"]] = bad\n",
    "    df1.loc[df1.index[df1[first_column] == \"Prairies\"], [ \"Wetlands\", \"Artificial surfaces\", \"Other land\"]] = bad\n",
    "    df1.loc[df1.index[df1[first_column] == \"Cultivated land\"], [ \"Prairies\", \"Wetlands\", \"Artificial surfaces\", \"Other land\"]] = bad\n",
    "    df1.loc[df1.index[df1[first_column] == \"Wetlands\"], [ \"Treed areas\", \"Prairies\", \"Cultivated land\", \"Artificial surfaces\", \"Other land\"]] = bad\n",
    "    df1.loc[df1.index[df1[first_column] == \"Other land\"], \"Artificial surfaces\"] = bad\n",
    "\n",
    "    # Define the positive/excellent land cover changes.\n",
    "    df1.loc[df1.index[df1[first_column] == \"Prairies\"], [\"Treed areas\", \"Cultivated land\"]] = excellent\n",
    "    df1.loc[df1.index[df1[first_column] == \"Cultivated land\"], \"Treed areas\"] = excellent\n",
    "    df1.loc[df1.index[df1[first_column] == \"Artificial surfaces\"], [ \"Treed areas\", \"Prairies\", \"Cultivated land\", \"Wetlands\", \"Other land\"]] = excellent\n",
    "    df1.loc[df1.index[df1[first_column] == \"Other land\"], [\"Treed areas\", \"Prairies\", \"Cultivated land\", \"Wetlands\"]] = excellent\n",
    "    \n",
    "    # Set the background color for the cells in the first column. \n",
    "    df1.loc[df1.index, first_column] = dont_color\n",
    "\n",
    "    return df1\n",
    "\n",
    "# Define function to add a title to the pandas dataframe.\n",
    "def make_pretty(styler, title):\n",
    "    # Add a title to the dataframe.\n",
    "    styler.set_caption(title) \n",
    "    # Increase the font size and bold the dataframe title.\n",
    "    title_style = dict(selector=\"caption\", props=[(\"font-weight\", \"bold\"), \n",
    "                                                  (\"font-size\", \"14px\")])\n",
    "    styler.set_table_styles([title_style])\n",
    "    # Hide the dataframe index when displaying the dataframe.\n",
    "    styler.hide_index() \n",
    "    return styler"
   ]
  },
  {
   "cell_type": "code",
   "execution_count": null,
   "id": "7b607eb7-00ce-4acb-91ca-a06e5f690eaf",
   "metadata": {},
   "outputs": [],
   "source": [
    "# Generate the reference LULC zone change matrix.\n",
    "row_labels = CNULCD_labels\n",
    "column_labels = CNULCD_labels\n",
    "\n",
    "# Create a dataframe where all changes are classified as stable.\n",
    "ref_lulc_change_matrix = pd.DataFrame(data=\"Stable\", index=row_labels , columns=column_labels)\n",
    "# Set the index column name\n",
    "ref_lulc_change_matrix.index.name = \"Year of follow up <br> Initial Year\"\n",
    "\n",
    "# Define the negative/bad land cover changes.\n",
    "ref_lulc_change_matrix.loc[\"Treed areas\", [\"Prairies\", \"Cultivated land\", \"Wetlands\",\"Artificial surfaces\", \"Other land\"]] = \"Bad\"\n",
    "ref_lulc_change_matrix.loc[\"Prairies\", [ \"Wetlands\", \"Artificial surfaces\", \"Other land\"]] = \"Bad\"\n",
    "ref_lulc_change_matrix.loc[\"Cultivated land\", [ \"Prairies\", \"Wetlands\", \"Artificial surfaces\", \"Other land\"]] = \"Bad\"\n",
    "ref_lulc_change_matrix.loc[\"Wetlands\", [ \"Treed areas\", \"Prairies\", \"Cultivated land\", \"Artificial surfaces\", \"Other land\"]] = \"Bad\"\n",
    "ref_lulc_change_matrix.loc[\"Other land\", \"Artificial surfaces\"] = \"Bad\"\n",
    "\n",
    "# Define the positive/excellent land cover changes.\n",
    "ref_lulc_change_matrix.loc[\"Prairies\", [\"Treed areas\", \"Cultivated land\"]] = \"Excellent\"\n",
    "ref_lulc_change_matrix.loc[\"Cultivated land\", \"Treed areas\"] = \"Excellent\"\n",
    "ref_lulc_change_matrix.loc[\"Artificial surfaces\", [ \"Treed areas\", \"Prairies\", \"Cultivated land\", \"Wetlands\", \"Other land\"]] = \"Excellent\"\n",
    "ref_lulc_change_matrix.loc[\"Other land\", [\"Treed areas\", \"Prairies\", \"Cultivated land\", \"Wetlands\"]] = \"Excellent\"\n",
    "\n",
    "# Reset the index.\n",
    "ref_lulc_change_matrix.reset_index(inplace=True)\n",
    "# Style the dataframe.\n",
    "ref_lulc_change_matrix = ref_lulc_change_matrix.style.apply(lulc_set_background_color, axis=None).pipe(make_pretty, title=\"LULC Zone Change Matrix\")"
   ]
  },
  {
   "cell_type": "code",
   "execution_count": null,
   "id": "718627e4-bb01-438e-ab43-afdc133b3c18",
   "metadata": {},
   "outputs": [],
   "source": [
    "# Generate the change matrix for the selected initial and follow up year\n",
    "initial_year = \"2015\"\n",
    "followup_year = \"2019\"\n",
    "\n",
    "# Map the class labels to the class values.\n",
    "class_dict = dict(zip(CNULCD_codes, CNULCD_labels))\n",
    "\n",
    "# Select the initial year from which to determine change from.\n",
    "t0 = ds_cci[\"reclassification\"].sel(time=initial_year).squeeze().values\n",
    "\n",
    "# Select the folow up year to use to determine if there is change in a pixel.\n",
    "tn = ds_cci[\"reclassification\"].sel(time=followup_year).squeeze().values\n",
    "\n",
    "change_results_per_class = {}\n",
    "for class_value in CNULCD_codes:\n",
    "    area_changed = {}\n",
    "    for change_class_value in CNULCD_codes:\n",
    "        # Get the pixels where change occored.\n",
    "        change = np.where((t0 == class_value) & (tn == change_class_value), 1, np.nan)\n",
    "        # Use the numpy np.unique function to return the pixel count for the changed pixels.\n",
    "        counts = np.unique(change, return_counts=True)\n",
    "        # Calculate the area of each land cover class.\n",
    "        # Remove the last value as it represents the area of pixels with the value np.nan.\n",
    "        area = np.array(counts[1] * area_per_pixel)[:-1]\n",
    "        # Check for empty arrays.\n",
    "        if len(area)==1:\n",
    "            area = area.item()\n",
    "        else:\n",
    "            area = 0\n",
    "        area_changed[class_dict[change_class_value]] = area\n",
    "\n",
    "    change_results_per_class[class_dict[class_value]] = area_changed\n",
    "    \n",
    "\n",
    "# Create a pandas dataframe with from the results.    \n",
    "lulc_change_matrix = pd.DataFrame.from_dict(change_results_per_class)\n",
    "# Set the index column name.\n",
    "lulc_change_matrix.index.name = f\"{followup_year} <br> {initial_year}\"\n",
    "# Reset the index. \n",
    "lulc_change_matrix.reset_index(inplace=True)\n",
    "# Style the dataframe.\n",
    "lulc_change_matrix = lulc_change_matrix.style.apply(lulc_set_background_color, axis=None).pipe(make_pretty, title=f\"{initial_year} to {followup_year} {country} LULC Zone Change Matrix (hectares)\")"
   ]
  },
  {
   "cell_type": "code",
   "execution_count": null,
   "id": "1a93e3ee-9246-4e1e-a92c-70e42b5ec5cc",
   "metadata": {},
   "outputs": [],
   "source": [
    "display(ref_lulc_change_matrix)"
   ]
  },
  {
   "cell_type": "code",
   "execution_count": null,
   "id": "6c7b5f30-4a6d-4987-812c-14c74d0d6ab6",
   "metadata": {},
   "outputs": [],
   "source": [
    "display(lulc_change_matrix)"
   ]
  },
  {
   "cell_type": "code",
   "execution_count": null,
   "id": "c2ec4297-3979-4829-bf00-7110018cf825",
   "metadata": {},
   "outputs": [],
   "source": [
    "# Export the above LULC zone change matrices as csv files.\n",
    "ref_lulc_change_matrix.data.to_csv(f\"{output_dir}/{country.replace(' ', '')}_reference_lulc_change_matrix.csv\", index=False)\n",
    "lulc_change_matrix.data.to_csv(f\"{output_dir}/{country.replace(' ', '')}_{initial_year}_to_{followup_year}_lulc_change_matrix.csv\", index=False)"
   ]
  },
  {
   "cell_type": "markdown",
   "id": "1451eb74-9167-4115-a050-deca1abdcf60",
   "metadata": {},
   "source": [
    "## Generate a xarray.DataArray for the change"
   ]
  },
  {
   "cell_type": "code",
   "execution_count": null,
   "id": "2100eeb8-e67b-4eed-a6d1-67edcbf2a2d5",
   "metadata": {},
   "outputs": [],
   "source": [
    "# Generate an xarray.DataArray where the negative, positive and stable changes occurred. \n",
    "\n",
    "# Define the types of land cover change.\n",
    "# stable\n",
    "stable = 0\n",
    "# negative\n",
    "bad = 1\n",
    "# positive\n",
    "excellent = 2\n",
    "\n",
    "# Define the change numpy array where all changes are assumed to be stable.\n",
    "change = np.full(shape=t0.shape, fill_value=stable)\n",
    "\n",
    "# Define the negative/bad changes.\n",
    "change = np.where((((t0 == 1) & (tn == 2)) | # Treed areas to Prairies\n",
    "                   ((t0 == 1) & (tn == 3)) | # Treed areas to Cultivated land\n",
    "                   ((t0 == 1) & (tn == 4)) | # Treed areas to Wetlands\n",
    "                   ((t0 == 1) & (tn == 5)) | # Treed areas to Artificial surfaces\n",
    "                   ((t0 == 1) & (tn == 6)) | # Treed areas to Other land\n",
    "                   ((t0 == 2) & (tn == 4)) | # Prairies to Wetlands\n",
    "                   ((t0 == 2) & (tn == 5)) | # Prairies to Artificial Surfaces\n",
    "                   ((t0 == 2) & (tn == 6)) | # Prairies to Other land\n",
    "                   ((t0 == 3) & (tn == 2)) | # Cultivated land to Prairies\n",
    "                   ((t0 == 3) & (tn == 4)) | # Cultivated land to Wetlands\n",
    "                   ((t0 == 3) & (tn == 5)) | # Cultivated land to Artificial surfaces\n",
    "                   ((t0 == 3) & (tn == 6)) | # Cultivated land to Other land\n",
    "                   ((t0 == 4) & (tn == 1)) | # Wetlands to Treed areas\n",
    "                   ((t0 == 4) & (tn == 2)) | # Wetlands to Prairies\n",
    "                   ((t0 == 4) & (tn == 3)) | # Wetlands to Cultivated lland \n",
    "                   ((t0 == 4) & (tn == 5)) | # Wetlands to Artificial surfaces\n",
    "                   ((t0 == 4) & (tn == 6)) | # Wetlands to Other land \n",
    "                   ((t0 == 6) & (tn == 5)) # Other land to Artificial surface \n",
    "                  ), bad, change)\n",
    "\n",
    "\n",
    "# Define the positive/excellent changes.\n",
    "change = np.where((((t0 == 2) & (tn == 1)) | # Prairies to Treed areas\n",
    "                   ((t0 == 2) & (tn == 3)) | # Prairies to Cultivated land\n",
    "                   ((t0 == 3) & (tn == 1)) | # Cultivated land to Treed areas\n",
    "                   ((t0 == 5) & (tn == 1)) | # Artificial surfaces to Treed areas\n",
    "                   ((t0 == 5) & (tn == 2)) | # Artificial surfaces to Prairies\n",
    "                   ((t0 == 5) & (tn == 3)) | # Artificial surfaces to Cultivated land \n",
    "                   ((t0 == 5) & (tn == 4)) | # Artificial surfaces to Wetlands\n",
    "                   ((t0 == 5) & (tn == 6)) | # Artificial surfaces to Other land \n",
    "                   ((t0 == 6) & (tn == 1)) | # Other land to Treed areas\n",
    "                   ((t0 == 6) & (tn == 2)) | # Other land to Prairies\n",
    "                   ((t0 == 6) & (tn == 3)) | # Other land to Cultivated land\n",
    "                   ((t0 == 6) & (tn == 4)) # Other land to Wetlands\n",
    "                  ), excellent, change)"
   ]
  },
  {
   "cell_type": "code",
   "execution_count": null,
   "id": "bfd24ed0-ddc1-481e-af8a-764ccaa413a3",
   "metadata": {},
   "outputs": [],
   "source": [
    "# Convert the change numpy array to an xarray.DataArray.\n",
    "ds_change = xr.DataArray(data=change,\n",
    "                         coords={\"y\": ds_cci.y, \"x\": ds_cci.x},\n",
    "                         dims=[\"y\", \"x\"]).astype(\"int8\").where(mask)"
   ]
  },
  {
   "cell_type": "code",
   "execution_count": null,
   "id": "d8904032-af89-4ca3-bd0e-e38b232efd3e",
   "metadata": {},
   "outputs": [],
   "source": [
    "# Export the change DataArray.\n",
    "fn = f\"{output_dir}/{country.replace(' ', '')}_{initial_year}_to_{followup_year}_lulc_change.pickle\"\n",
    "with open(fn, 'wb') as f:\n",
    "    pickle.dump(ds_change, f, protocol=-1)"
   ]
  }
 ],
 "metadata": {
  "kernelspec": {
   "display_name": "Python 3 (ipykernel)",
   "language": "python",
   "name": "python3"
  },
  "language_info": {
   "codemirror_mode": {
    "name": "ipython",
    "version": 3
   },
   "file_extension": ".py",
   "mimetype": "text/x-python",
   "name": "python",
   "nbconvert_exporter": "python",
   "pygments_lexer": "ipython3",
   "version": "3.8.10"
  },
  "widgets": {
   "application/vnd.jupyter.widget-state+json": {
    "state": {},
    "version_major": 2,
    "version_minor": 0
   }
  }
 },
 "nbformat": 4,
 "nbformat_minor": 5
}
