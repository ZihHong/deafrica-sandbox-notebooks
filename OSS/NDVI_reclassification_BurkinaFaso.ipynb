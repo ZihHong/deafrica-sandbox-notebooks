{
 "cells": [
  {
   "cell_type": "code",
   "execution_count": 1,
   "id": "1a5f8ee6-e3c2-41dc-8893-21a25d70c299",
   "metadata": {},
   "outputs": [],
   "source": [
    "# Load the necessary Python packages for the analysis.\n",
    "%matplotlib inline\n",
    "\n",
    "import os\n",
    "\n",
    "import datacube\n",
    "import datacube.utils.rio\n",
    "import geopandas as gpd\n",
    "import matplotlib.colors as mcolors\n",
    "import matplotlib.pyplot as plt\n",
    "import numpy as np\n",
    "import xarray as xr\n",
    "from datacube.utils.cog import write_cog\n",
    "from datacube.utils.geometry import Geometry\n",
    "from deafrica_tools.bandindices import calculate_indices\n",
    "from deafrica_tools.dask import create_local_dask_cluster\n",
    "from deafrica_tools.datahandling import load_ard, mostcommon_crs\n",
    "from deafrica_tools.plotting import rgb\n",
    "from deafrica_tools.spatial import xr_rasterize\n",
    "from scipy import stats\n",
    "\n",
    "# This will speed up loading data\n",
    "datacube.utils.rio.set_default_rio_config(aws=\"auto\", cloud_defaults=True)"
   ]
  },
  {
   "cell_type": "code",
   "execution_count": 2,
   "id": "522d26ac-eeba-4373-95fc-294b9b9334d3",
   "metadata": {},
   "outputs": [
    {
     "data": {
      "text/html": [
       "<table style=\"border: 2px solid white;\">\n",
       "<tr>\n",
       "<td style=\"vertical-align: top; border: 0px solid white\">\n",
       "<h3 style=\"text-align: left;\">Client</h3>\n",
       "<ul style=\"text-align: left; list-style: none; margin: 0; padding: 0;\">\n",
       "  <li><b>Scheduler: </b>tcp://127.0.0.1:38969</li>\n",
       "  <li><b>Dashboard: </b><a href='/user/nanaboamah89@gmail.com/proxy/8787/status' target='_blank'>/user/nanaboamah89@gmail.com/proxy/8787/status</a></li>\n",
       "</ul>\n",
       "</td>\n",
       "<td style=\"vertical-align: top; border: 0px solid white\">\n",
       "<h3 style=\"text-align: left;\">Cluster</h3>\n",
       "<ul style=\"text-align: left; list-style:none; margin: 0; padding: 0;\">\n",
       "  <li><b>Workers: </b>1</li>\n",
       "  <li><b>Cores: </b>4</li>\n",
       "  <li><b>Memory: </b>28.14 GB</li>\n",
       "</ul>\n",
       "</td>\n",
       "</tr>\n",
       "</table>"
      ],
      "text/plain": [
       "<Client: 'tcp://127.0.0.1:38969' processes=1 threads=4, memory=28.14 GB>"
      ]
     },
     "metadata": {},
     "output_type": "display_data"
    }
   ],
   "source": [
    "# Set up a Dask cluster.\n",
    "create_local_dask_cluster()"
   ]
  },
  {
   "cell_type": "code",
   "execution_count": 3,
   "id": "1b361a8e-084b-4ab3-aed2-f001060b1fd7",
   "metadata": {},
   "outputs": [],
   "source": [
    "# Connect to the datacube to access DE Africa data.\n",
    "# The `app` parameter is a unique name for the analysis which is based on the notebook file name.\n",
    "dc = datacube.Datacube(app=\"NDVI_Classification\")"
   ]
  },
  {
   "cell_type": "code",
   "execution_count": 4,
   "id": "394bc629-524e-4983-8aa5-f85c1f25f43c",
   "metadata": {},
   "outputs": [],
   "source": [
    "# Set important parameters for the analysis.\n",
    "\n",
    "# Set the bands/measurements of the satellite data to load.\n",
    "measurements = [\"red\", \"green\", \"blue\", \"nir\"]\n",
    "\n",
    "# Set the time period of interest for your analysis.\n",
    "time_range = (\"2014\", \"2019\")\n",
    "\n",
    "# Set the x and y cell resolution of the satellite data.\n",
    "# If loading a large area, then increase the resolution so the data will fit into memory.\n",
    "resolution = (-120, 120)\n",
    "\n",
    "# Set the Coordinate Reference System (CRS) the satellite data is to be reprojected to.\n",
    "output_crs = \"EPSG:6933\"\n",
    "\n",
    "dask_chunks = dict(x=1000, y=1000)\n",
    "\n",
    "# Create the output directory to store the results.\n",
    "output_dir = \"results\"\n",
    "os.makedirs(output_dir, exist_ok=True)"
   ]
  },
  {
   "cell_type": "code",
   "execution_count": 5,
   "id": "b71c4132-862a-49c0-8b20-88de27cccf61",
   "metadata": {},
   "outputs": [
    {
     "data": {
      "text/plain": [
       "array(['Algeria', 'Angola', 'Benin', 'Botswana', 'Burkina Faso',\n",
       "       'Burundi', 'Cameroon', 'Cape Verde', 'Central African Republic',\n",
       "       'Chad', 'Comoros', 'Congo-Brazzaville', 'Cote d`Ivoire',\n",
       "       'Democratic Republic of Congo', 'Djibouti', 'Egypt',\n",
       "       'Equatorial Guinea', 'Eritrea', 'Ethiopia', 'Gabon', 'Gambia',\n",
       "       'Ghana', 'Guinea', 'Guinea-Bissau', 'Kenya', 'Lesotho', 'Liberia',\n",
       "       'Libya', 'Madagascar', 'Malawi', 'Mali', 'Mauritania', 'Morocco',\n",
       "       'Mozambique', 'Namibia', 'Niger', 'Nigeria', 'Rwanda',\n",
       "       'Sao Tome and Principe', 'Senegal', 'Sierra Leone', 'Somalia',\n",
       "       'South Africa', 'Sudan', 'Swaziland', 'Tanzania', 'Togo',\n",
       "       'Tunisia', 'Uganda', 'Western Sahara', 'Zambia', 'Zimbabwe'],\n",
       "      dtype=object)"
      ]
     },
     "execution_count": 5,
     "metadata": {},
     "output_type": "execute_result"
    }
   ],
   "source": [
    "# Load the African Countries GeoJSON.\n",
    "# This file contains polygons for the boundaries of African countries.\n",
    "african_countries = gpd.read_file(\"../Supplementary_data/MGCI/african_countries.geojson\")\n",
    "\n",
    "# List the countries in the African Countries GeoJSON.\n",
    "np.unique(african_countries[\"COUNTRY\"])"
   ]
  },
  {
   "cell_type": "code",
   "execution_count": 6,
   "id": "58ae2550-ae29-48ce-89db-33f86875494c",
   "metadata": {},
   "outputs": [],
   "source": [
    "# Select an African country to carry out the analysis over.\n",
    "country = \"Burkina Faso\"\n",
    "\n",
    "# The country selected needs to be transformed into a geometry object to be used in the dc.load() function.\n",
    "idx = african_countries[african_countries[\"COUNTRY\"] == country].index[0]\n",
    "geom = Geometry(geom=african_countries.iloc[idx].geometry, crs=african_countries.crs)"
   ]
  },
  {
   "cell_type": "code",
   "execution_count": 7,
   "id": "f77d2f2a-2fc5-47a3-9973-cc307710dfe1",
   "metadata": {},
   "outputs": [],
   "source": [
    "# Create a reusable datacube query object.\n",
    "query = {\n",
    "    \"geopolygon\": geom,\n",
    "    \"time\": time_range,\n",
    "    \"resolution\": resolution,\n",
    "    \"output_crs\": output_crs,\n",
    "    \"dask_chunks\": dask_chunks,\n",
    "}"
   ]
  },
  {
   "cell_type": "code",
   "execution_count": 8,
   "id": "46826f9c-4b52-4318-a559-d16e42ba7d4f",
   "metadata": {},
   "outputs": [
    {
     "name": "stdout",
     "output_type": "stream",
     "text": [
      "<xarray.Dataset>\n",
      "Dimensions:      (time: 6, y: 5905, x: 6372)\n",
      "Coordinates:\n",
      "  * time         (time) datetime64[ns] 2014-07-02T11:59:59.999999 ... 2019-07...\n",
      "  * y            (y) float64 1.903e+06 1.902e+06 ... 1.194e+06 1.194e+06\n",
      "  * x            (x) float64 -5.325e+05 -5.324e+05 ... 2.319e+05 2.32e+05\n",
      "    spatial_ref  int32 6933\n",
      "Data variables:\n",
      "    red          (time, y, x) uint16 dask.array<chunksize=(1, 1000, 1000), meta=np.ndarray>\n",
      "    green        (time, y, x) uint16 dask.array<chunksize=(1, 1000, 1000), meta=np.ndarray>\n",
      "    blue         (time, y, x) uint16 dask.array<chunksize=(1, 1000, 1000), meta=np.ndarray>\n",
      "    nir          (time, y, x) uint16 dask.array<chunksize=(1, 1000, 1000), meta=np.ndarray>\n",
      "Attributes:\n",
      "    crs:           EPSG:6933\n",
      "    grid_mapping:  spatial_ref\n"
     ]
    }
   ],
   "source": [
    "# Load available Landsat 8 Annual GeoMAD data.\n",
    "ds = dc.load(\n",
    "    product=\"gm_ls8_annual\", measurements=[\"red\", \"green\", \"blue\", \"nir\"], **query\n",
    ")\n",
    "\n",
    "print(ds)"
   ]
  },
  {
   "cell_type": "code",
   "execution_count": 9,
   "id": "297f2847-cb9a-4aad-849c-3f0b8ad10eb4",
   "metadata": {},
   "outputs": [],
   "source": [
    "# Mask the Landsat GeoMAD dataset with the country polygon.\n",
    "african_countries = african_countries.to_crs(output_crs)\n",
    "mask = xr_rasterize(african_countries[african_countries[\"COUNTRY\"] == country], ds)\n",
    "ds = ds.where(mask)"
   ]
  },
  {
   "cell_type": "code",
   "execution_count": 10,
   "id": "0de26156-ab5f-4526-8157-40819d4acacc",
   "metadata": {},
   "outputs": [],
   "source": [
    "# Calculate the NDVI spectral index and add it to the loaded Landsat GeoMAD dataset.\n",
    "ds = calculate_indices(ds, \"NDVI\", satellite_mission=\"ls\")\n",
    "# Get the NDVI xarray.DataArray.\n",
    "ds_ndvi = ds.NDVI.compute()"
   ]
  },
  {
   "cell_type": "code",
   "execution_count": 11,
   "id": "96262be3-6db0-4165-a29a-ca63be763392",
   "metadata": {},
   "outputs": [],
   "source": [
    "# Define the name and class values of the NDVI Classes.\n",
    "ndvi_classes = [\"Very Low\", \"Low\", \"Normal\", \"High\", \"Very High\"]\n",
    "ndvi_class_values = [1, 2, 3, 4, 5]\n",
    "\n",
    "classification_condition = [\n",
    "    (ds_ndvi > -1) & (ds_ndvi <= 0.16),\n",
    "    (ds_ndvi > 0.16) & (ds_ndvi <= 0.30),\n",
    "    (ds_ndvi > 0.30) & (ds_ndvi <= 0.50),\n",
    "    (ds_ndvi > 0.50) & (ds_ndvi <= 0.66),\n",
    "    (ds_ndvi > 0.66) & (ds_ndvi <= 1),\n",
    "]\n",
    "\n",
    "\n",
    "ds_ndvi_classified = (\n",
    "    xr.DataArray(\n",
    "        np.select(classification_condition, ndvi_class_values),\n",
    "        coords={\"time\": ds_ndvi.time, \"y\": ds_ndvi.y, \"x\": ds_ndvi.x},\n",
    "        dims=[\"time\", \"y\", \"x\"],\n",
    "    )\n",
    "    .astype(ds_ndvi.dtype)\n",
    "    .where(mask)\n",
    ")"
   ]
  },
  {
   "cell_type": "code",
   "execution_count": null,
   "id": "8f5ccc5e-7cfc-43d7-9be8-bbaca82cf8d9",
   "metadata": {},
   "outputs": [],
   "source": [
    "# Define the NDVI classification specific color map.\n",
    "cmap = plt.get_cmap(\"RdYlGn\", len(ndvi_class_values))\n",
    "bounds = np.arange(min(ndvi_class_values) - 0.5, max(ndvi_class_values) + 1, 1)\n",
    "norm = mcolors.BoundaryNorm(bounds, cmap.N)\n",
    "\n",
    "# Visualise the NDVI classification.\n",
    "fig = ds_ndvi_classified.plot.imshow(\n",
    "    col=\"time\", col_wrap=2, cmap=cmap, norm=norm, add_colorbar=False, figsize=(18, 18)\n",
    ")\n",
    "\n",
    "fig.fig.suptitle(\"NDVI Classification\", x=0.4, y=1.05, size=20)\n",
    "cbar = plt.colorbar(fig._mappables[-1], ax=fig.axes, ticks=ndvi_class_values)\n",
    "cbar.set_ticklabels(ndvi_classes)\n",
    "plt.savefig(f\"results/{country}_NDVI_classification.png\")\n",
    "plt.show()"
   ]
  },
  {
   "cell_type": "code",
   "execution_count": null,
   "id": "e64d2167-b882-400b-8cc0-9fb9572c53f9",
   "metadata": {},
   "outputs": [],
   "source": []
  }
 ],
 "metadata": {
  "kernelspec": {
   "display_name": "Python 3 (ipykernel)",
   "language": "python",
   "name": "python3"
  },
  "language_info": {
   "codemirror_mode": {
    "name": "ipython",
    "version": 3
   },
   "file_extension": ".py",
   "mimetype": "text/x-python",
   "name": "python",
   "nbconvert_exporter": "python",
   "pygments_lexer": "ipython3",
   "version": "3.8.10"
  },
  "widgets": {
   "application/vnd.jupyter.widget-state+json": {
    "state": {},
    "version_major": 2,
    "version_minor": 0
   }
  }
 },
 "nbformat": 4,
 "nbformat_minor": 5
}
