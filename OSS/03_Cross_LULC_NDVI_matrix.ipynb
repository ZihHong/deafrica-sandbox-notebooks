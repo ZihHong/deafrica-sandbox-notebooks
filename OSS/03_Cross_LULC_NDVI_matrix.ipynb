{
 "cells": [
  {
   "cell_type": "markdown",
   "id": "7f953244-b772-4892-94d3-08cf6375bfe6",
   "metadata": {},
   "source": [
    "# Cross LULC Zone change Matrix and NDVI Zone change Matrix"
   ]
  },
  {
   "cell_type": "code",
   "execution_count": 1,
   "id": "7b9619f3-d43d-4f58-b37d-2994501872ff",
   "metadata": {},
   "outputs": [],
   "source": [
    "# Load the necessary Python packages for the analysis.\n",
    "%matplotlib inline\n",
    "\n",
    "import os\n",
    "import datacube\n",
    "import pickle\n",
    "import numpy as np\n",
    "import pandas as pd\n",
    "import xarray as xr"
   ]
  },
  {
   "cell_type": "code",
   "execution_count": 2,
   "id": "b32865ff-77dc-4b9d-bc2b-5bacceffeaea",
   "metadata": {},
   "outputs": [],
   "source": [
    "# Change the default decimal precision used for printing dataframes.\n",
    "pd.set_option(\"display.precision\", 2)"
   ]
  },
  {
   "cell_type": "code",
   "execution_count": 3,
   "id": "91721524-5b45-4592-8d4c-b9b226a10ebc",
   "metadata": {},
   "outputs": [],
   "source": [
    "# Set important parameters for the analysis.\n",
    "\n",
    "# Directory where the results from previous notebooks are stored in.\n",
    "output_dir = \"results\"\n",
    "\n",
    "# Select an African country to carry out the analysis over.\n",
    "country = \"Tunisia\"\n",
    "\n",
    "# Select the initial and follow up year for change detection used in the previous notebooks.\n",
    "initial_year = \"2015\"\n",
    "followup_year = \"2019\""
   ]
  },
  {
   "cell_type": "code",
   "execution_count": 4,
   "id": "a37ab42e-eadc-4edc-a821-97762c0e0f53",
   "metadata": {},
   "outputs": [],
   "source": [
    "# Custom dataframe styling functions.\n",
    "\n",
    "def cross_matrix_set_background_color(df):\n",
    "\n",
    "    # Define the background colors to be used for the input dataFrame cells.\n",
    "    # based on the type of change.\n",
    "    red = \"background-color : red\"\n",
    "    purple = \"background-color : #E5D1EF\"\n",
    "    orange = \"background-color : orange\"\n",
    "    light_green = \"background-color : #A8CD66\"\n",
    "    green = \"background-color : green\"\n",
    "\n",
    "    # Create a copy of the input dataframe. \n",
    "    df1 = df.copy(deep=True)\n",
    "    \n",
    "    row_fill_value = df1.index[0][0]\n",
    "    column_fill_value = df1.columns[0][0]\n",
    "    \n",
    "    # Define the color code for the types of changes.\n",
    "    df1.loc[(row_fill_value, \"Bad\"), (column_fill_value, \"Bad\")] = red\n",
    "    df1.loc[(row_fill_value, \"Bad\"), (column_fill_value, \"Stable\")] = orange\n",
    "    df1.loc[(row_fill_value, \"Bad\"), (column_fill_value, \"Excellent\")] = light_green\n",
    "    df1.loc[(row_fill_value, \"Stable\"), (column_fill_value, \"Bad\")] = orange\n",
    "    df1.loc[(row_fill_value, \"Stable\"), (column_fill_value, \"Stable\")] = purple\n",
    "    df1.loc[(row_fill_value, \"Stable\"), (column_fill_value, \"Excellent\")] = red\n",
    "    df1.loc[(row_fill_value, \"Excellent\"), (column_fill_value, \"Bad\")] = light_green\n",
    "    df1.loc[(row_fill_value, \"Excellent\"), (column_fill_value, \"Stable\")] = red\n",
    "    df1.loc[(row_fill_value, \"Excellent\"), (column_fill_value, \"Excellent\")] = green\n",
    "\n",
    "    return df1\n",
    "\n",
    "def make_pretty(styler, title):\n",
    "    # Add a title to the dataframe.\n",
    "    styler.set_caption(title)\n",
    "    # Increase font size and bold the dataframe title.\n",
    "    title_style = dict(selector=\"caption\", props=[(\"text-align\", \"right\"), \n",
    "                                                  (\"font-weight\", \"bold\"), \n",
    "                                                  (\"font-size\", \"14px\")])\n",
    "    # Rotate the level 0 row labels.\n",
    "    row_labels_style = dict(selector=\"th.row_heading.level0\", props=[(\"text-align\", \"left\"),\n",
    "                                                                     (\"width\", \"100px\")])\n",
    "    \n",
    "    column_labels_style = dict(selector=\"th.column_heading.level0\", props=[(\"text-align\", \"left\")])\n",
    "    \n",
    "    styler.set_table_styles([title_style, row_labels_style])\n",
    "    return styler"
   ]
  },
  {
   "cell_type": "code",
   "execution_count": 5,
   "id": "02a1a6f3-31cc-468a-8059-9945e15a4422",
   "metadata": {},
   "outputs": [],
   "source": [
    "# Create the reference Cross LULC Zone change and NDVI zone change matrix.\n",
    "\n",
    "row_labels_level1 = [\"Bad\", \"Stable\", \"Excellent\"]\n",
    "row_fill_value = \"LULC Zone Change Matrix Result\"\n",
    "row_labels_level0 = np.full(shape=len(row_labels_level1), fill_value=row_fill_value)\n",
    "row_labels_tuples = list(zip(row_labels_level0, row_labels_level1))\n",
    "row_labels = pd.MultiIndex.from_tuples(row_labels_tuples)\n",
    "\n",
    "column_labels_level1 = [\"Bad\", \"Stable\", \"Excellent\"]\n",
    "column_fill_value = \"NDVI Zone Change Matrix Result\"\n",
    "column_labels_level0 = np.full(shape=len(column_labels_level1), fill_value=column_fill_value)\n",
    "column_labels_tuples = list(zip(column_labels_level0, column_labels_level1))\n",
    "column_labels = pd.MultiIndex.from_tuples(column_labels_tuples)\n",
    "\n",
    "# Create an empty dataframe.\n",
    "ref_cross_matrix = pd.DataFrame(data=\" \", index=row_labels, columns=column_labels)\n",
    "\n",
    "# Define the types of changes.\n",
    "ref_cross_matrix.loc[(row_fill_value, \"Bad\"), (column_fill_value, \"Bad\")] = \"Mediocre\"\n",
    "ref_cross_matrix.loc[(row_fill_value, \"Bad\"), (column_fill_value, \"Stable\")] = \"Bad\"\n",
    "ref_cross_matrix.loc[(row_fill_value, \"Bad\"), (column_fill_value, \"Excellent\")] = \"Good\"\n",
    "ref_cross_matrix.loc[(row_fill_value, \"Stable\"), (column_fill_value, \"Bad\")] = \"Bad\"\n",
    "ref_cross_matrix.loc[(row_fill_value, \"Stable\"), (column_fill_value, \"Stable\")] = \"Stable\"\n",
    "ref_cross_matrix.loc[(row_fill_value, \"Stable\"), (column_fill_value, \"Excellent\")] = \"Mediocre\"\n",
    "ref_cross_matrix.loc[(row_fill_value, \"Excellent\"), (column_fill_value, \"Bad\")] = \"Good\"\n",
    "ref_cross_matrix.loc[(row_fill_value, \"Excellent\"), (column_fill_value, \"Stable\")] = \"Mediocre\"\n",
    "ref_cross_matrix.loc[(row_fill_value, \"Excellent\"), (column_fill_value, \"Excellent\")] = \"Excellent\"\n",
    "\n",
    "# Style the dataframe.\n",
    "ref_cross_matrix = ref_cross_matrix.style.apply(cross_matrix_set_background_color, axis=None).pipe(make_pretty, title=\"Reference Cross LULC and NDVI Zone Change matrix\")"
   ]
  },
  {
   "cell_type": "code",
   "execution_count": 6,
   "id": "a983604c-23e7-4573-9ee6-f639387b8362",
   "metadata": {},
   "outputs": [],
   "source": [
    "# Load the LULC change xarray.DataArray for the initial and follow up year defined above.\n",
    "lulc_change_fn = f\"{output_dir}/{country.replace(' ', '')}_{initial_year}_to_{followup_year}_lulc_change.pickle\"\n",
    "\n",
    "with open(lulc_change_fn, 'rb') as handle:\n",
    "    lulc_change = pickle.load(handle)"
   ]
  },
  {
   "cell_type": "code",
   "execution_count": 7,
   "id": "225b0d86-5212-4469-b3d4-ac63b092ce5c",
   "metadata": {},
   "outputs": [],
   "source": [
    "# Load the NDVI change xarray.DataArray for the initial and follow up year defined above.\n",
    "ndvi_change_fn = f\"{output_dir}/{country.replace(' ', '')}_{initial_year}_to_{followup_year}_ndvi_change.pickle\"\n",
    "\n",
    "with open(ndvi_change_fn, 'rb') as handle:\n",
    "    ndvi_change = pickle.load(handle)"
   ]
  },
  {
   "cell_type": "code",
   "execution_count": 8,
   "id": "eebe6bdd-522d-4c0a-91d2-7fda8f16eaaf",
   "metadata": {},
   "outputs": [],
   "source": [
    "# Generate a legend for the comparison of the LULC and NDVI change xarray.DataArrays.\n",
    "legend = {\"Excellent\": 2.0,\n",
    "          \"Good\": 1.5,\n",
    "          \"Stable\": 0.0,\n",
    "          \"Bad\": 0.5,\n",
    "          \"Mediocre\": 1.0}"
   ]
  },
  {
   "cell_type": "code",
   "execution_count": 9,
   "id": "897580b4-f5d4-42df-bc27-94655dba8e95",
   "metadata": {},
   "outputs": [],
   "source": [
    "# To compare the LULC and NDVI change arrays\n",
    "# add the two arrays and divide the results by 2.\n",
    "results = (lulc_change + ndvi_change) / 2"
   ]
  },
  {
   "cell_type": "code",
   "execution_count": 10,
   "id": "f8d3c9e6-b405-447b-9f4c-83bd37fa641a",
   "metadata": {},
   "outputs": [],
   "source": [
    "# Get the resolution i.e. actual ground distance represented by the length of a single pixel in meters.\n",
    "pixel_length = results.geobox.resolution[1]\n",
    "# Conversion from metres sqaured to hectares.\n",
    "m2_per_ha = 10000\n",
    "# Get the actual ground area represented by each pixel.\n",
    "area_per_pixel = (pixel_length ** 2) / m2_per_ha"
   ]
  },
  {
   "cell_type": "code",
   "execution_count": 11,
   "id": "1ef16cb1-d299-4b97-97d6-66262bf9f2f9",
   "metadata": {},
   "outputs": [
    {
     "data": {
      "text/plain": [
       "{0.0: 13433094.0, 0.5: 1609650.0, 1.0: 396855.0, 1.5: 9495.0, 2.0: 729.0}"
      ]
     },
     "execution_count": 11,
     "metadata": {},
     "output_type": "execute_result"
    }
   ],
   "source": [
    "# Use the numpy np.unique function to return the pixel count for each \n",
    "# unique class value in results.\n",
    "counts = np.unique(results, return_counts=True)\n",
    "# Calculate the area of each class.\n",
    "area = np.array(counts[1] * area_per_pixel)\n",
    "# Map the unique class values to their areas. \n",
    "# Remove the last value as it represents the area of pixels with the value np.nan.\n",
    "area_dict = dict(zip(counts[0][:-1], area[:-1]))\n",
    " \n",
    "area_dict"
   ]
  },
  {
   "cell_type": "code",
   "execution_count": 12,
   "id": "6e472d06-2a37-451a-87fd-c47c59d4236a",
   "metadata": {},
   "outputs": [],
   "source": [
    "# Generate the Cross LULC and NDVI Zone Change Matrix.\n",
    "cross_matrix = ref_cross_matrix.data.copy(deep=True)\n",
    "\n",
    "for i in legend.keys():\n",
    "    cross_matrix.replace(to_replace=i, value=area_dict[legend[i]], inplace=True) \n",
    "                         \n",
    "cross_matrix = cross_matrix.style.apply(cross_matrix_set_background_color, axis=None).pipe(make_pretty, title=f\"{initial_year} to {followup_year} {country} Cross LULC and NDVI Zone Change matrix (hectares)\")                         "
   ]
  },
  {
   "cell_type": "code",
   "execution_count": 13,
   "id": "a2bad18b-cf1d-44a6-a6b5-74fc19f47552",
   "metadata": {},
   "outputs": [
    {
     "data": {
      "text/html": [
       "<style type=\"text/css\">\n",
       "#T_c062f_ caption {\n",
       "  text-align: right;\n",
       "  font-weight: bold;\n",
       "  font-size: 14px;\n",
       "}\n",
       "#T_c062f_ th.row_heading.level0 {\n",
       "  text-align: left;\n",
       "  width: 100px;\n",
       "}\n",
       "#T_c062f_row0_col0, #T_c062f_row1_col2, #T_c062f_row2_col1 {\n",
       "  background-color: red;\n",
       "}\n",
       "#T_c062f_row0_col1, #T_c062f_row1_col0 {\n",
       "  background-color: orange;\n",
       "}\n",
       "#T_c062f_row0_col2, #T_c062f_row2_col0 {\n",
       "  background-color: #A8CD66;\n",
       "}\n",
       "#T_c062f_row1_col1 {\n",
       "  background-color: #E5D1EF;\n",
       "}\n",
       "#T_c062f_row2_col2 {\n",
       "  background-color: green;\n",
       "}\n",
       "</style>\n",
       "<table id=\"T_c062f_\">\n",
       "  <caption>Reference Cross LULC and NDVI Zone Change matrix</caption>\n",
       "  <thead>\n",
       "    <tr>\n",
       "      <th class=\"blank\" >&nbsp;</th>\n",
       "      <th class=\"blank level0\" >&nbsp;</th>\n",
       "      <th class=\"col_heading level0 col0\" colspan=\"3\">NDVI Zone Change Matrix Result</th>\n",
       "    </tr>\n",
       "    <tr>\n",
       "      <th class=\"blank\" >&nbsp;</th>\n",
       "      <th class=\"blank level1\" >&nbsp;</th>\n",
       "      <th class=\"col_heading level1 col0\" >Bad</th>\n",
       "      <th class=\"col_heading level1 col1\" >Stable</th>\n",
       "      <th class=\"col_heading level1 col2\" >Excellent</th>\n",
       "    </tr>\n",
       "  </thead>\n",
       "  <tbody>\n",
       "    <tr>\n",
       "      <th id=\"T_c062f_level0_row0\" class=\"row_heading level0 row0\" rowspan=\"3\">LULC Zone Change Matrix Result</th>\n",
       "      <th id=\"T_c062f_level1_row0\" class=\"row_heading level1 row0\" >Bad</th>\n",
       "      <td id=\"T_c062f_row0_col0\" class=\"data row0 col0\" >Mediocre</td>\n",
       "      <td id=\"T_c062f_row0_col1\" class=\"data row0 col1\" >Bad</td>\n",
       "      <td id=\"T_c062f_row0_col2\" class=\"data row0 col2\" >Good</td>\n",
       "    </tr>\n",
       "    <tr>\n",
       "      <th id=\"T_c062f_level1_row1\" class=\"row_heading level1 row1\" >Stable</th>\n",
       "      <td id=\"T_c062f_row1_col0\" class=\"data row1 col0\" >Bad</td>\n",
       "      <td id=\"T_c062f_row1_col1\" class=\"data row1 col1\" >Stable</td>\n",
       "      <td id=\"T_c062f_row1_col2\" class=\"data row1 col2\" >Mediocre</td>\n",
       "    </tr>\n",
       "    <tr>\n",
       "      <th id=\"T_c062f_level1_row2\" class=\"row_heading level1 row2\" >Excellent</th>\n",
       "      <td id=\"T_c062f_row2_col0\" class=\"data row2 col0\" >Good</td>\n",
       "      <td id=\"T_c062f_row2_col1\" class=\"data row2 col1\" >Mediocre</td>\n",
       "      <td id=\"T_c062f_row2_col2\" class=\"data row2 col2\" >Excellent</td>\n",
       "    </tr>\n",
       "  </tbody>\n",
       "</table>\n"
      ],
      "text/plain": [
       "<pandas.io.formats.style.Styler at 0x7f21c9c16f70>"
      ]
     },
     "metadata": {},
     "output_type": "display_data"
    }
   ],
   "source": [
    "display(ref_cross_matrix)"
   ]
  },
  {
   "cell_type": "code",
   "execution_count": 14,
   "id": "9c0c223a-daa7-4a93-9b9a-53bb75dc4f6c",
   "metadata": {},
   "outputs": [
    {
     "data": {
      "text/html": [
       "<style type=\"text/css\">\n",
       "#T_772b8_ caption {\n",
       "  text-align: right;\n",
       "  font-weight: bold;\n",
       "  font-size: 14px;\n",
       "}\n",
       "#T_772b8_ th.row_heading.level0 {\n",
       "  text-align: left;\n",
       "  width: 100px;\n",
       "}\n",
       "#T_772b8_row0_col0, #T_772b8_row1_col2, #T_772b8_row2_col1 {\n",
       "  background-color: red;\n",
       "}\n",
       "#T_772b8_row0_col1, #T_772b8_row1_col0 {\n",
       "  background-color: orange;\n",
       "}\n",
       "#T_772b8_row0_col2, #T_772b8_row2_col0 {\n",
       "  background-color: #A8CD66;\n",
       "}\n",
       "#T_772b8_row1_col1 {\n",
       "  background-color: #E5D1EF;\n",
       "}\n",
       "#T_772b8_row2_col2 {\n",
       "  background-color: green;\n",
       "}\n",
       "</style>\n",
       "<table id=\"T_772b8_\">\n",
       "  <caption>2015 to 2019 Tunisia Cross LULC and NDVI Zone Change matrix (hectares)</caption>\n",
       "  <thead>\n",
       "    <tr>\n",
       "      <th class=\"blank\" >&nbsp;</th>\n",
       "      <th class=\"blank level0\" >&nbsp;</th>\n",
       "      <th class=\"col_heading level0 col0\" colspan=\"3\">NDVI Zone Change Matrix Result</th>\n",
       "    </tr>\n",
       "    <tr>\n",
       "      <th class=\"blank\" >&nbsp;</th>\n",
       "      <th class=\"blank level1\" >&nbsp;</th>\n",
       "      <th class=\"col_heading level1 col0\" >Bad</th>\n",
       "      <th class=\"col_heading level1 col1\" >Stable</th>\n",
       "      <th class=\"col_heading level1 col2\" >Excellent</th>\n",
       "    </tr>\n",
       "  </thead>\n",
       "  <tbody>\n",
       "    <tr>\n",
       "      <th id=\"T_772b8_level0_row0\" class=\"row_heading level0 row0\" rowspan=\"3\">LULC Zone Change Matrix Result</th>\n",
       "      <th id=\"T_772b8_level1_row0\" class=\"row_heading level1 row0\" >Bad</th>\n",
       "      <td id=\"T_772b8_row0_col0\" class=\"data row0 col0\" >396855.00</td>\n",
       "      <td id=\"T_772b8_row0_col1\" class=\"data row0 col1\" >1609650.00</td>\n",
       "      <td id=\"T_772b8_row0_col2\" class=\"data row0 col2\" >9495.00</td>\n",
       "    </tr>\n",
       "    <tr>\n",
       "      <th id=\"T_772b8_level1_row1\" class=\"row_heading level1 row1\" >Stable</th>\n",
       "      <td id=\"T_772b8_row1_col0\" class=\"data row1 col0\" >1609650.00</td>\n",
       "      <td id=\"T_772b8_row1_col1\" class=\"data row1 col1\" >13433094.00</td>\n",
       "      <td id=\"T_772b8_row1_col2\" class=\"data row1 col2\" >396855.00</td>\n",
       "    </tr>\n",
       "    <tr>\n",
       "      <th id=\"T_772b8_level1_row2\" class=\"row_heading level1 row2\" >Excellent</th>\n",
       "      <td id=\"T_772b8_row2_col0\" class=\"data row2 col0\" >9495.00</td>\n",
       "      <td id=\"T_772b8_row2_col1\" class=\"data row2 col1\" >396855.00</td>\n",
       "      <td id=\"T_772b8_row2_col2\" class=\"data row2 col2\" >729.00</td>\n",
       "    </tr>\n",
       "  </tbody>\n",
       "</table>\n"
      ],
      "text/plain": [
       "<pandas.io.formats.style.Styler at 0x7f21c9824b50>"
      ]
     },
     "metadata": {},
     "output_type": "display_data"
    }
   ],
   "source": [
    "display(cross_matrix)"
   ]
  },
  {
   "cell_type": "code",
   "execution_count": 15,
   "id": "1f13432f-1cd9-44f0-b448-e967dbc3fceb",
   "metadata": {},
   "outputs": [],
   "source": [
    "# Export the above Cross LULC and NDVI zone change matrices as csv files.\n",
    "ref_cross_matrix.data.to_csv(f\"{output_dir}/{country.replace(' ', '')}_reference_cross_change_matrix.csv\", index=False)\n",
    "cross_matrix.data.to_csv(f\"{output_dir}/{country.replace(' ', '')}_{initial_year}_to_{followup_year}_cross_change_matrix.csv\", index=False)"
   ]
  }
 ],
 "metadata": {
  "kernelspec": {
   "display_name": "Python 3 (ipykernel)",
   "language": "python",
   "name": "python3"
  },
  "language_info": {
   "codemirror_mode": {
    "name": "ipython",
    "version": 3
   },
   "file_extension": ".py",
   "mimetype": "text/x-python",
   "name": "python",
   "nbconvert_exporter": "python",
   "pygments_lexer": "ipython3",
   "version": "3.8.10"
  },
  "widgets": {
   "application/vnd.jupyter.widget-state+json": {
    "state": {},
    "version_major": 2,
    "version_minor": 0
   }
  }
 },
 "nbformat": 4,
 "nbformat_minor": 5
}
