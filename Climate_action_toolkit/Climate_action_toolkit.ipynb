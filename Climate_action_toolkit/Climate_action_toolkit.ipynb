{
 "cells": [
  {
   "cell_type": "markdown",
   "id": "bdb4fe0c-436f-4bad-85dc-da41b9a1cab3",
   "metadata": {},
   "source": [
    "# Digital Earth Africa Climate Action Toolkit"
   ]
  },
  {
   "cell_type": "markdown",
   "id": "9d8c25d6-7d50-47b0-8a8f-69c2ee953a32",
   "metadata": {},
   "source": [
    "## Background"
   ]
  },
  {
   "cell_type": "markdown",
   "id": "df032619-69d2-4211-8652-17da2845c71a",
   "metadata": {},
   "source": [
    "Climate action “means stepped-up efforts to reduce greenhouse gas emissions and strengthen resilience and adaptive capacity to climate-induced impacts, including: climate-related hazards in all countries; integrating climate change measures into national policies, strategies and planning; and improving education, awareness-raising and human and institutional capacity with respect to climate change mitigation, adaptation, impact reduction and early warning.” [(SDG Helpdesk)](https://sdghelpdesk.unescap.org/learn-more-about-climate-action)"
   ]
  },
  {
   "cell_type": "markdown",
   "id": "c6fc0493-ca9b-48da-b3e8-206b1dd949bb",
   "metadata": {},
   "source": [
    "The Nationally Determined Contribution (NDC) is a climate action plan to cut emissions and adapt to climate impacts that each Party to the [Paris Agreement](https://www.un.org/en/climatechange/paris-agreement) is required to establish and update every 5 years. [(UN Climate Action)](https://www.un.org/en/climatechange/all-about-ndcs)\n",
    "\n",
    "NDCs are where countries set targets for mitigating the greenhouse gas emissions that cause climate change and for adapting to climate impacts. The plans define how to reach the targets, and elaborate systems to monitor and verify progress so it stays on track. [(UN Climate Action)](https://www.un.org/en/climatechange/all-about-ndcs)"
   ]
  },
  {
   "cell_type": "markdown",
   "id": "0c96e93e-0690-4be3-8c0c-38357bd664ed",
   "metadata": {},
   "source": [
    "Because many climate variables (such as temperature, relative humidity, precipitation, wind, waves and tides) can be measured from space, earth observation data is essential in monitoring deforestation, rising sea levels and greenhouse gas emissions in the atmosphere. This means that earth obervation data has an important role to play in a country's monitoring of climate change targets and verifying of progress in their Nationally Determined Contributions. "
   ]
  },
  {
   "cell_type": "markdown",
   "id": "e30e8c8d-02e5-47c8-9c51-e2060ee01397",
   "metadata": {},
   "source": [
    "The goal of this notebook is to show how Digital Earth Africa products and services can be used for multi-scale climate impact assessments across Africa."
   ]
  },
  {
   "cell_type": "markdown",
   "id": "376aba21-b13e-477e-882e-c233bbf295d0",
   "metadata": {},
   "source": [
    "## Mitigation of climate change\n",
    "\n",
    "Climate Change Mitigation refers to efforts to reduce or stabilize the levels of heat-trapping greenhouse gases in the atmosphere or prevent emission of greenhouse gases. [(UNEP Climate Action - Mitigation)](https://www.unep.org/explore-topics/climate-action/what-we-do/mitigation)"
   ]
  },
  {
   "cell_type": "markdown",
   "id": "4eeb422c-6c8d-4dad-ab6b-56cd957c3b1f",
   "metadata": {
    "jp-MarkdownHeadingCollapsed": true,
    "tags": []
   },
   "source": [
    "### Deforestation and reforestation\n",
    "\n",
    "* [Cropland extent maps for Africa](../Datasets/Cropland_extent.ipynb)\n",
    "\n",
    "* [Global Mangrove Watch](../Datasets/Global_Mangrove_Watch.ipynb)\n",
    "\n",
    "* [Landcover Classification](../Datasets/Landcover_Classification.ipynb)\n",
    "\n",
    "* [NDVI Climatology](../Datasets/NDVI_Climatology.ipynb)\n",
    "\n",
    "* [Monitoring change through time using satellite imagery filmstrip plots](../Real_world_examples/Change_filmstrips.ipynb)\n",
    "\n",
    "* [Monitoring Mangrove Extents](../Real_world_examples/Mangrove_analysis.ipynb)\n",
    "\n",
    "* [Urban area mapping using Sentinel 1 data](../Real_world_examples/Radar_urban_area_mapping.ipynb)\n",
    "\n",
    "* [Timeseries analysis of temperature](../Real_world_examples/Temperature_trends.ipynb)\n",
    "\n",
    "* [Detecting change in urban extent](../Real_world_examples/Urban_change_detection.ipynb)\n",
    "\n",
    "* [Monthly vegetation condition anomalies](../Real_world_examples/Vegetation_anomalies_monthly.ipynb)\n",
    "\n",
    "* [Vegetation Change Detection](../Real_world_examples/Vegetation_change_detection.ipynb)\n",
    "\n",
    "* [Wetlands Insight Tool](../Real_world_examples/Wetlands_insight_tool.ipynb)\n",
    "\n",
    "* [Surface Mining Screening](../Use_cases/Surface_mining_screening/Surface_mining_screening.ipynb)"
   ]
  },
  {
   "cell_type": "markdown",
   "id": "d73dfacb-8f60-43e0-a2a5-28a47a6da6bf",
   "metadata": {
    "tags": []
   },
   "source": [
    "### Mangrove\n",
    "\n",
    "* [Global Mangrove Watch](../Datasets/Global_Mangrove_Watch.ipynb)\n",
    "\n",
    "* [Landcover Classification](../Datasets/Landcover_Classification.ipynb)\n",
    "\n",
    "* [NDVI Climatology](../Datasets/NDVI_Climatology.ipynb)\n",
    "\n",
    "* [Monitoring change through time using satellite imagery filmstrip plots](../Real_world_examples/Change_filmstrips.ipynb)\n",
    "\n",
    "* [Monitoring Mangrove Extents](../Real_world_examples/Mangrove_analysis.ipynb)\n",
    "\n",
    "* [Monthly vegetation condition anomalies](../Real_world_examples/Vegetation_anomalies_monthly.ipynb)\n",
    "\n",
    "* [Vegetation Change Detection](../Real_world_examples/Vegetation_change_detection.ipynb)\n",
    "\n",
    "* [Mapping longer-term changes in water extent with WOfS](../Real_world_examples/Water_extent_WOfS.ipynb)\n",
    "\n",
    "* [Determining seasonal extent of waterbodies with Sentinel-2](../Real_world_examples/Water_extent_sentinel_2.ipynb)\n",
    "\n",
    "* [Wetlands Insight Tool](../Real_world_examples/Wetlands_insight_tool.ipynb)\n",
    "\n",
    "* The Monitoring Water Extent Use Case Notebooks:\n",
    "\n",
    "    1. [Mapping water extent and rainfall using Sentinel-1 and CHIRPS](../Use_cases/Monitoring_water_extent/Monitoring_water_extent_radar.ipynb)\n",
    "\n",
    "    2. [Mapping water extent and rainfall using WOfS and CHIRPS](../Use_cases/Monitoring_water_extent/Monitoring_water_extent_WOfS.ipynb)\n",
    "    \n",
    "* [Surface Mining Screening](../Use_cases/Surface_mining_screening/Surface_mining_screening.ipynb)\n",
    "\n",
    "* [Vectorise and analyse waterbodies in Kenya](../Use_cases/surface_water_count/Vectorise_waterbodies.ipynb)"
   ]
  },
  {
   "cell_type": "markdown",
   "id": "105666f9-ee44-4826-b2ac-87f2a28b15af",
   "metadata": {
    "jp-MarkdownHeadingCollapsed": true,
    "tags": []
   },
   "source": [
    "### Fire mapping\n",
    "\n",
    "* [Landcover Classification](../Datasets/Landcover_Classification.ipynb)\n",
    "\n",
    "* [Burnt area mapping using Sentinel-2 data](../Real_world_examples/Burnt_area_mapping.ipynb)\n",
    "\n",
    "* [Monitoring change through time using satellite imagery filmstrip plots](../Real_world_examples/Change_filmstrips.ipynb)\n",
    "\n",
    "* [Monthly vegetation condition anomalies](../Real_world_examples/Vegetation_anomalies_monthly.ipynb)\n",
    "\n",
    "* [Vegetation Change Detection](../Real_world_examples/Vegetation_change_detection.ipynb)"
   ]
  },
  {
   "cell_type": "markdown",
   "id": "4a58b2ef-660d-40ef-8036-9330e0e51546",
   "metadata": {
    "jp-MarkdownHeadingCollapsed": true,
    "tags": []
   },
   "source": [
    "### Mapping soil carbon (below ground carbon)\n",
    "\n",
    "* [Fractional Cover](../Datasets/Fractional_Cover.ipynb)\n",
    "\n",
    "* [Landcover Classification](../Datasets/Landcover_Classification.ipynb)\n",
    "\n",
    "* [Water Observations from Space (WOfS)](../Datasets/Water_Observations_from_Space.ipynb)\n",
    "\n",
    "* [Global Mangrove Watch](../Datasets/Global_Mangrove_Watch.ipynb)\n",
    "\n",
    "* [Monitoring Mangrove Extents](../Real_world_examples/Mangrove_analysis.ipynb)\n",
    "\n",
    "* [Cropland extent maps for Africa](../Datasets/Cropland_extent.ipynb)\n",
    "\n",
    "* [Wetlands Insight Tool](../Real_world_examples/Wetlands_insight_tool.ipynb)\n",
    "\n",
    "* The Okavango Use Case Notebooks:\n",
    "\n",
    "    1. [Monitoring wetlands in the Okavango](../Use_cases/Okavango/0_Wetland_inundation_and_vegetation_dynamics.ipynb)\n",
    "\n",
    "    2. [Mapping long-term changes in the annual water extent of the Okavango Delta](../Use_cases/Okavango/1_Water_extent_longterm_WOfS.ipynb)\n",
    "\n",
    "    3. [Mapping the seasonal changes to the open water extent of the Okavango delta](../Use_cases/Okavango/2_Water_extent_seasonal_MNDWI.ipynb)\n",
    "\n",
    "    4. [Extracting historical climate (rainfall) data over selected basins](../Use_cases/Okavango/3_Historical_rainfall.ipynb)\n",
    "\n",
    "    5. [Visualising the correlation between rainfall, surface water extent, and discharge](../Use_cases/Okavango/4_Visualising_rainfall_discharge_water_extent.ipynb)\n",
    "\n",
    "    6. [Modelling discharge at Mohembo using uppercatchment rainfall](../Use_cases/Okavango/5_Rainfall_discharge_modelling.ipynb)\n",
    "\n",
    "    7. [Forecasting surface water extent in the Okavango delta](../Use_cases/Okavango/6_Forecasting_water_extent.ipynb)\n",
    "\n",
    "* [Vectorise and analyse waterbodies in Kenya](../Use_cases/surface_water_count/Vectorise_waterbodies.ipynb)"
   ]
  },
  {
   "cell_type": "markdown",
   "id": "1839a090-349d-4f20-9065-a39b352acc78",
   "metadata": {},
   "source": [
    "## Climate adaptation\n",
    "\n",
    "Climate Adaptation refers to changes in processes, practices, and structures to moderate potential damages or to benefit from opportunities associated with climate change. [(UN Climate Change - The Big Picture)](https://unfccc.int/topics/adaptation-and-resilience/the-big-picture/what-do-adaptation-to-climate-change-and-climate-resilience-mean)"
   ]
  },
  {
   "cell_type": "markdown",
   "id": "8bc5ee00-df9b-4b52-8df5-85adb72bbfe4",
   "metadata": {
    "tags": []
   },
   "source": [
    "### Flood mapping\n",
    "\n",
    "* [Cropland extent maps for Africa](../Datasets/Cropland_extent.ipynb)\n",
    "\n",
    "* [Digital Elevation Models](../Datasets/Digital_Elevation_Models.ipynb)\n",
    "\n",
    "* [Landcover Classification](../Datasets/Landcover_Classification.ipynb)\n",
    "\n",
    "* [Rainfall - Climate Hazards Group InfraRed Precipitation with Station data (CHIRPS)](../Datasets/Rainfall_CHIRPS.ipynb)\n",
    "\n",
    "* [Water Observations from Space (WOfS)](../Datasets/Water_Observations_from_Space.ipynb)\n",
    "\n",
    "* [Monitoring change through time using satellite imagery filmstrip plots](../Real_world_examples/Change_filmstrips.ipynb)\n",
    "\n",
    "* [Machine learning with the Open Data Cube](../Real_world_examples/Machine_learning_with_ODC.ipynb)\n",
    "\n",
    "* [Urban area mapping using Sentinel 1 data](../Real_world_examples/Radar_urban_area_mapping.ipynb)\n",
    "\n",
    "* [Water detection with Sentinel-1](../Real_world_examples/Radar_water_detection.ipynb)\n",
    "\n",
    "* [Rainfall anomalies from Climate Hazards Group InfraRed Precipitation with Station data (CHIRPS)](../Real_world_examples/Rainfall_anomaly_CHIRPS.ipynb)\n",
    "\n",
    "* [Detecting change in urban extent](../Real_world_examples/Urban_change_detection.ipynb)\n",
    "\n",
    "* [Mapping longer-term changes in water extent with WOfS](../Real_world_examples/Water_extent_WOfS.ipynb)\n",
    "\n",
    "* [Determining seasonal extent of waterbodies with Sentinel-2](../Real_world_examples/Water_extent_sentinel_2.ipynb)\n",
    "\n",
    "* The Monitoring Water Extent Use Case Notebooks:\n",
    "\n",
    "    1. [Mapping water extent and rainfall using Sentinel-1 and CHIRPS](../Use_cases/Monitoring_water_extent/Monitoring_water_extent_radar.ipynb)\n",
    "\n",
    "    2. [Mapping water extent and rainfall using WOfS and CHIRPS](../Use_cases/Monitoring_water_extent/Monitoring_water_extent_WOfS.ipynb)\n",
    "    \n",
    "* [Vectorise and analyse waterbodies in Kenya](../Use_cases/surface_water_count/Vectorise_waterbodies.ipynb)\n",
    "\n",
    "* [Vectorise and analyse waterbodies in Kenya](../Use_cases/surface_water_count/Vectorise_waterbodies.ipynb)"
   ]
  },
  {
   "cell_type": "markdown",
   "id": "cb6860c3-a1e9-4cf8-85c3-7ca672c526a5",
   "metadata": {
    "tags": []
   },
   "source": [
    "### Drought Assessment : Agriculture and Ecological drought monitoring\n",
    "\n",
    "* [ERA5 Climate Gridded Data](../Datasets/Climate_Data_ERA5_AWS.ipynb)\n",
    "\n",
    "* [Fractional Cover](../Datasets/Fractional_Cover.ipynb)\n",
    "\n",
    "* [Landcover Classification](../Datasets/Landcover_Classification.ipynb)\n",
    "\n",
    "* [NDVI Climatology](../Datasets/NDVI_Climatology.ipynb)\n",
    "\n",
    "* [Rainfall - Climate Hazards Group InfraRed Precipitation with Station data (CHIRPS)](../Datasets/Rainfall_CHIRPS.ipynb)\n",
    "\n",
    "* [Global Root-zone moisture Analysis & Forecasting System (GRAFS)](../Datasets/Soil_Moisture.ipynb)\n",
    "\n",
    "* [Water Observations from Space (WOfS)](../Datasets/Water_Observations_from_Space.ipynb)\n",
    "\n",
    "* [Monitoring change through time using satellite imagery filmstrip plots](../Real_world_examples/Change_filmstrips.ipynb)\n",
    "\n",
    "* [Measuring crop health](../Real_world_examples/Crop_health.ipynb)\n",
    "\n",
    "* [Forecasting cropland vegetation condition](../Real_world_examples/Forecasting_vegetation_condition.ipynb)\n",
    "\n",
    "* [Identifying active irrigated cropping](../Real_world_examples/Irrigated_cropping.ipynb)\n",
    "\n",
    "* [Vegetation Phenology](../Real_world_examples/Phenology_optical.ipynb)\n",
    "\n",
    "* [Radar vegetation phenology using Sentinel-1](../Real_world_examples/Phenology_radar.ipynb)\n",
    "\n",
    "* [Water detection with Sentinel-1](../Real_world_examples/Radar_water_detection.ipynb)\n",
    "\n",
    "* [Rainfall anomalies from Climate Hazards Group InfraRed Precipitation with Station data (CHIRPS)](../Real_world_examples/Rainfall_anomaly_CHIRPS.ipynb)\n",
    "\n",
    "* [Timeseries analysis of temperature](../Real_world_examples/Temperature_trends.ipynb)\n",
    "\n",
    "* [Monthly vegetation condition anomalies](../Real_world_examples/Vegetation_anomalies_monthly.ipynb)\n",
    "\n",
    "* [Vegetation Change Detection](../Real_world_examples/Vegetation_change_detection.ipynb)\n",
    "\n",
    "* [Mapping longer-term changes in water extent with WOfS](../Real_world_examples/Water_extent_WOfS.ipynb)\n",
    "\n",
    "* [Determining seasonal extent of waterbodies with Sentinel-2](../Real_world_examples/Water_extent_sentinel_2.ipynb)\n",
    "\n",
    "* [Wetlands Insight Tool](../Real_world_examples/Wetlands_insight_tool.ipynb)\n",
    "\n",
    "* The Monitoring Water Extent Use Case Notebooks:\n",
    "\n",
    "    1. [Mapping water extent and rainfall using Sentinel-1 and CHIRPS](../Use_cases/Monitoring_water_extent/Monitoring_water_extent_radar.ipynb)\n",
    "\n",
    "    2. [Mapping water extent and rainfall using WOfS and CHIRPS](../Use_cases/Monitoring_water_extent/Monitoring_water_extent_WOfS.ipynb)\n",
    "    \n",
    "* The Okavango Use Case Notebooks:\n",
    "\n",
    "    1. [Monitoring wetlands in the Okavango](../Use_cases/Okavango/0_Wetland_inundation_and_vegetation_dynamics.ipynb)\n",
    "\n",
    "    2. [Mapping long-term changes in the annual water extent of the Okavango Delta](../Use_cases/Okavango/1_Water_extent_longterm_WOfS.ipynb)\n",
    "\n",
    "    3. [Mapping the seasonal changes to the open water extent of the Okavango delta](../Use_cases/Okavango/2_Water_extent_seasonal_MNDWI.ipynb)\n",
    "\n",
    "    4. [Extracting historical climate (rainfall) data over selected basins](../Use_cases/Okavango/3_Historical_rainfall.ipynb)\n",
    "\n",
    "    5. [Visualising the correlation between rainfall, surface water extent, and discharge](../Use_cases/Okavango/4_Visualising_rainfall_discharge_water_extent.ipynb)\n",
    "\n",
    "    6. [Modelling discharge at Mohembo using uppercatchment rainfall](../Use_cases/Okavango/5_Rainfall_discharge_modelling.ipynb)\n",
    "\n",
    "    7. [Forecasting surface water extent in the Okavango delta](../Use_cases/Okavango/6_Forecasting_water_extent.ipynb) \n",
    "\n",
    "* [Vectorise and analyse waterbodies in Kenya](../Use_cases/surface_water_count/Vectorise_waterbodies.ipynb)"
   ]
  },
  {
   "cell_type": "markdown",
   "id": "f89f6c9f-e8aa-41a4-a914-d65a6add9ac2",
   "metadata": {
    "tags": []
   },
   "source": [
    "### Cropland extent\n",
    "\n",
    "* [Cropland extent maps for Africa](../Datasets/Cropland_extent.ipynb)\n",
    "\n",
    "* [Landcover Classification](../Datasets/Landcover_Classification.ipynb)\n",
    "\n",
    "* [Scalable Supervised Machine Learning on the Open Data Cube ReadME](../Real_world_examples/Scalable_machine_learning/0_README.ipynb)\n",
    "\n",
    "* [Identifying active irrigated cropping](../Real_world_examples/Irrigated_cropping.ipynb)"
   ]
  },
  {
   "cell_type": "markdown",
   "id": "adbbbd3e-ec99-4424-82e4-10d839fea31d",
   "metadata": {
    "tags": []
   },
   "source": [
    "### Coastal erosion\n",
    "\n",
    "* [Fractional Cover](../Datasets/Fractional_Cover.ipynb)\n",
    "\n",
    "* [Landcover Classification](../Datasets/Landcover_Classification.ipynb)\n",
    "\n",
    "* [Water Observations from Space (WOfS)](../Datasets/Water_Observations_from_Space.ipynb)\n",
    "\n",
    "* [Combining satellite data with tidal modelling using OTPS](../Frequently_used_code/Tidal_modelling.ipynb)\n",
    "\n",
    "* [Monitoring change through time using satellite imagery filmstrip plots](../Real_world_examples/Change_filmstrips.ipynb)\n",
    "\n",
    "* [Monitoring coastal erosion along Africa's coastline](../Real_world_examples/Coastal_erosion.ipynb)\n",
    "\n",
    "* [Modelling intertidal elevation using tidal data](../Real_world_examples/Intertidal_elevation.ipynb)\n",
    "\n",
    "* [Water detection with Sentinel-1](../Real_world_examples/Radar_water_detection.ipynb)"
   ]
  },
  {
   "cell_type": "markdown",
   "id": "2f70f461-2889-4cca-b83f-106f6ac74aa3",
   "metadata": {
    "tags": []
   },
   "source": [
    "### Sustainable Water Use\n",
    "\n",
    "* [ERA5 Climate Gridded Data](../Datasets/Climate_Data_ERA5_AWS.ipynb)\n",
    "\n",
    "* [Cropland extent maps for Africa](../Datasets/Cropland_extent.ipynb)\n",
    "\n",
    "* [Fractional Cover](../Datasets/Fractional_Cover.ipynb)\n",
    "\n",
    "* [Landcover Classification](../Datasets/Landcover_Classification.ipynb)\n",
    "\n",
    "* [Rainfall - Climate Hazards Group InfraRed Precipitation with Station data (CHIRPS)](../Datasets/Rainfall_CHIRPS.ipynb)\n",
    "\n",
    "* [Global Root-zone moisture Analysis & Forecasting System (GRAFS)](../Datasets/Soil_Moisture.ipynb)\n",
    "\n",
    "* [Water Observations from Space (WOfS)](../Datasets/Water_Observations_from_Space.ipynb)\n",
    "\n",
    "* [Monitoring Water Quality](../Frequently_used_code/Monitoring_water_quality.ipynb)\n",
    "\n",
    "* [Monitoring chlorophyll-a in African waterbodies](../Real_world_examples/Chlorophyll_monitoring.ipynb)\n",
    "\n",
    "* [Identifying active irrigated cropping](../Real_world_examples/Irrigated_cropping.ipynb)\n",
    "\n",
    "* [Urban area mapping using Sentinel 1 data](../Real_world_examples/Radar_urban_area_mapping.ipynb)\n",
    "\n",
    "* [Water detection with Sentinel-1](../Real_world_examples/Radar_water_detection.ipynb)\n",
    "\n",
    "* [Rainfall anomalies from Climate Hazards Group InfraRed Precipitation with Station data (CHIRPS)](../Real_world_examples/Rainfall_anomaly_CHIRPS.ipynb)\n",
    "\n",
    "* [Detecting change in urban extent](../Real_world_examples/Urban_change_detection.ipynb)\n",
    "\n",
    "* [Mapping longer-term changes in water extent with WOfS](../Real_world_examples/Water_extent_WOfS.ipynb)\n",
    "\n",
    "* [Determining seasonal extent of waterbodies with Sentinel-2](../Real_world_examples/Water_extent_sentinel_2.ipynb)\n",
    "\n",
    "* The Monitoring Water Extent Use Case Notebooks:\n",
    "\n",
    "    1. [Mapping water extent and rainfall using Sentinel-1 and CHIRPS](../Use_cases/Monitoring_water_extent/Monitoring_water_extent_radar.ipynb)\n",
    "\n",
    "    2. [Mapping water extent and rainfall using WOfS and CHIRPS](../Use_cases/Monitoring_water_extent/Monitoring_water_extent_WOfS.ipynb)\n",
    "\n",
    "* The Okavango Use Case Notebooks:\n",
    "\n",
    "    1. [Monitoring wetlands in the Okavango](../Use_cases/Okavango/0_Wetland_inundation_and_vegetation_dynamics.ipynb)\n",
    "\n",
    "    2. [Mapping long-term changes in the annual water extent of the Okavango Delta](../Use_cases/Okavango/1_Water_extent_longterm_WOfS.ipynb)\n",
    "\n",
    "    3. [Mapping the seasonal changes to the open water extent of the Okavango delta](../Use_cases/Okavango/2_Water_extent_seasonal_MNDWI.ipynb)\n",
    "\n",
    "    4. [Extracting historical climate (rainfall) data over selected basins](../Use_cases/Okavango/3_Historical_rainfall.ipynb)\n",
    "\n",
    "    5. [Visualising the correlation between rainfall, surface water extent, and discharge](../Use_cases/Okavango/4_Visualising_rainfall_discharge_water_extent.ipynb)\n",
    "\n",
    "    6. [Modelling discharge at Mohembo using uppercatchment rainfall](../Use_cases/Okavango/5_Rainfall_discharge_modelling.ipynb)\n",
    "\n",
    "    7. [Forecasting surface water extent in the Okavango delta](../Use_cases/Okavango/6_Forecasting_water_extent.ipynb)\n",
    "    \n",
    "* [Vectorise and analyse waterbodies in Kenya](../Use_cases/surface_water_count/Vectorise_waterbodies.ipynb)"
   ]
  },
  {
   "cell_type": "markdown",
   "id": "49633d44-04e3-4197-bf7b-4ef84d888db8",
   "metadata": {},
   "source": [
    "## Monitoring, Evaluating and Reporting Climate Action\n",
    "\n",
    "MRV enables countries to meet international reporting requirements such as National Communications, Biennial Update Reports, and National Greenhouse Gas (GHG) Inventories.\n"
   ]
  },
  {
   "cell_type": "markdown",
   "id": "f03c03cc-2b97-4e86-ba8a-ddc0db3942a6",
   "metadata": {},
   "source": [
    "* [ERA5 Climate Gridded Data](../Datasets/Climate_Data_ERA5_AWS.ipynb)\n",
    "\n",
    "* [Cropland extent maps for Africa](../Datasets/Cropland_extent.ipynb)\n",
    "\n",
    "* [Fractional Cover](../Datasets/Fractional_Cover.ipynb)\n",
    "\n",
    "* [Global Mangrove Watch](../Datasets/Global_Mangrove_Watch.ipynb)\n",
    "\n",
    "* [Landcover Classification](../Datasets/Landcover_Classification.ipynb)\n",
    "\n",
    "* [Water Observations from Space (WOfS)](../Datasets/Water_Observations_from_Space.ipynb)\n",
    "\n",
    "* [Scalable Supervised Machine Learning on the Open Data Cube ReadME](../Real_world_examples/Scalable_machine_learning/0_README.ipynb)\n",
    "\n",
    "* [Measuring crop health](../Real_world_examples/Crop_health.ipynb)\n",
    "\n",
    "* [Forecasting cropland vegetation condition](../Real_world_examples/Forecasting_vegetation_condition.ipynb)\n",
    "\n",
    "* [Machine learning with the Open Data Cube](../Real_world_examples/Machine_learning_with_ODC.ipynb)\n",
    "\n",
    "* [Monitoring Mangrove Extents](../Real_world_examples/Mangrove_analysis.ipynb)\n",
    "\n",
    "* [Urban area mapping using Sentinel 1 data](../Real_world_examples/Radar_urban_area_mapping.ipynb)\n",
    "\n",
    "* [Water detection with Sentinel-1](../Real_world_examples/Radar_water_detection.ipynb)\n",
    "\n",
    "* [Timeseries analysis of temperature](../Real_world_examples/Temperature_trends.ipynb)\n",
    "\n",
    "* [Detecting change in urban extent](../Real_world_examples/Urban_change_detection.ipynb)\n",
    "\n",
    "* [Monthly vegetation condition anomalies](../Real_world_examples/Vegetation_anomalies_monthly.ipynb)\n",
    "\n",
    "* [Vegetation Change Detection](../Real_world_examples/Vegetation_change_detection.ipynb)\n",
    "\n",
    "* [Mapping longer-term changes in water extent with WOfS](../Real_world_examples/Water_extent_WOfS.ipynb)\n",
    "\n",
    "* [Determining seasonal extent of waterbodies with Sentinel-2](../Real_world_examples/Water_extent_sentinel_2.ipynb)\n",
    "\n",
    "* [Wetlands Insight Tool](../Real_world_examples/Wetlands_insight_tool.ipynb)\n",
    "\n",
    "* The Monitoring Water Extent Use Case Notebooks:\n",
    "\n",
    "    1. [Mapping water extent and rainfall using Sentinel-1 and CHIRPS](../Use_cases/Monitoring_water_extent/Monitoring_water_extent_radar.ipynb)\n",
    "\n",
    "    2. [Mapping water extent and rainfall using WOfS and CHIRPS](../Use_cases/Monitoring_water_extent/Monitoring_water_extent_WOfS.ipynb)\n",
    "\n",
    "* The Okavango Use Case Notebooks:\n",
    "\n",
    "    1. [Monitoring wetlands in the Okavango](../Use_cases/Okavango/0_Wetland_inundation_and_vegetation_dynamics.ipynb)\n",
    "\n",
    "    2. [Mapping long-term changes in the annual water extent of the Okavango Delta](../Use_cases/Okavango/1_Water_extent_longterm_WOfS.ipynb)\n",
    "\n",
    "    3. [Mapping the seasonal changes to the open water extent of the Okavango delta](../Use_cases/Okavango/2_Water_extent_seasonal_MNDWI.ipynb)\n",
    "\n",
    "    4. [Extracting historical climate (rainfall) data over selected basins](../Use_cases/Okavango/3_Historical_rainfall.ipynb)\n",
    "\n",
    "    5. [Visualising the correlation between rainfall, surface water extent, and discharge](../Use_cases/Okavango/4_Visualising_rainfall_discharge_water_extent.ipynb)\n",
    "\n",
    "    6. [Modelling discharge at Mohembo using uppercatchment rainfall](../Use_cases/Okavango/5_Rainfall_discharge_modelling.ipynb)\n",
    "\n",
    "    7. [Forecasting surface water extent in the Okavango delta](../Use_cases/Okavango/6_Forecasting_water_extent.ipynb)\n",
    "    \n",
    "* [Surface Mining Screening](../Use_cases/Surface_mining_screening/Surface_mining_screening.ipynb)\n",
    "\n",
    "* [Vectorise and analyse waterbodies in Kenya](../Use_cases/surface_water_count/Vectorise_waterbodies.ipynb)"
   ]
  }
 ],
 "metadata": {
  "kernelspec": {
   "display_name": "Python 3 (ipykernel)",
   "language": "python",
   "name": "python3"
  },
  "language_info": {
   "codemirror_mode": {
    "name": "ipython",
    "version": 3
   },
   "file_extension": ".py",
   "mimetype": "text/x-python",
   "name": "python",
   "nbconvert_exporter": "python",
   "pygments_lexer": "ipython3",
   "version": "3.8.10"
  },
  "widgets": {
   "application/vnd.jupyter.widget-state+json": {
    "state": {},
    "version_major": 2,
    "version_minor": 0
   }
  }
 },
 "nbformat": 4,
 "nbformat_minor": 5
}
