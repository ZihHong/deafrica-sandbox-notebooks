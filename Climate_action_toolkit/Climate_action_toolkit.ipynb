{
 "cells": [
  {
   "cell_type": "markdown",
   "id": "bdb4fe0c-436f-4bad-85dc-da41b9a1cab3",
   "metadata": {},
   "source": [
    "# Digital Earth Africa Climate Action Toolkit"
   ]
  },
  {
   "cell_type": "markdown",
   "id": "9d8c25d6-7d50-47b0-8a8f-69c2ee953a32",
   "metadata": {},
   "source": [
    "## Background"
   ]
  },
  {
   "cell_type": "markdown",
   "id": "df032619-69d2-4211-8652-17da2845c71a",
   "metadata": {},
   "source": [
    "Climate action “means stepped-up efforts to reduce greenhouse gas emissions and strengthen resilience and adaptive capacity to climate-induced impacts, including: climate-related hazards in all countries; integrating climate change measures into national policies, strategies and planning; and improving education, awareness-raising and human and institutional capacity with respect to climate change mitigation, adaptation, impact reduction and early warning.” [[SDG Helpdesk]](https://sdghelpdesk.unescap.org/learn-more-about-climate-action)"
   ]
  },
  {
   "cell_type": "markdown",
   "id": "c6fc0493-ca9b-48da-b3e8-206b1dd949bb",
   "metadata": {},
   "source": [
    "The Nationally Determined Contribution (NDC) is a climate action plan to cut emissions and adapt to climate impacts that each Party to the [Paris Agreement](https://www.un.org/en/climatechange/paris-agreement) is required to establish and update every 5 years. [[UN Climate Action]](https://www.un.org/en/climatechange/all-about-ndcs)\n",
    "\n",
    "NDCs are where countries set targets for mitigating the greenhouse gas emissions that cause climate change and for adapting to climate impacts. The plans define how to reach the targets, and elaborate systems to monitor and verify progress so it stays on track.[[UN Climate Action]](https://www.un.org/en/climatechange/all-about-ndcs)"
   ]
  },
  {
   "cell_type": "markdown",
   "id": "0c96e93e-0690-4be3-8c0c-38357bd664ed",
   "metadata": {},
   "source": [
    "Because many climate variables (such as temperature, relative humidity, precipitation, wind, waves and tides) can be measured from space, earth observation data is essential in monitoring deforestation, rising sea levels and greenhouse gas emissions in the atmosphere. This means that earth obervation data has an important role to play in a country's monitoring of climate change targets and verifying of progress in their Nationally Determined Contributions. "
   ]
  },
  {
   "cell_type": "markdown",
   "id": "e30e8c8d-02e5-47c8-9c51-e2060ee01397",
   "metadata": {},
   "source": [
    "The goal of this notebook is to show how Digital Earth Africa products and services can be used for multi-scale climate impact assessments across Africa."
   ]
  },
  {
   "cell_type": "markdown",
   "id": "145d0cdd-6eea-433f-9e3c-e6760fe085ca",
   "metadata": {},
   "source": [
    "## Agricultural Drought  monitoring\n",
    "## Ecological drought monitoring\n",
    "## Sustainable water use"
   ]
  },
  {
   "cell_type": "markdown",
   "id": "3ac17a4a-0eed-4aaf-ad5e-998fbd3e1114",
   "metadata": {},
   "source": []
  },
  {
   "cell_type": "markdown",
   "id": "8798bab3-3290-4ff6-9ad9-8578b4fe3c76",
   "metadata": {},
   "source": []
  },
  {
   "cell_type": "markdown",
   "id": "376aba21-b13e-477e-882e-c233bbf295d0",
   "metadata": {},
   "source": [
    "## Mitigation of climate change\n",
    "Reducing and stabilizing the levels of heat-trapping greenhouse gases in the atmosphere\n"
   ]
  },
  {
   "cell_type": "markdown",
   "id": "7bbcd3ba-9bf9-43c6-ad5f-224e243bc693",
   "metadata": {},
   "source": [
    "### Deforestation and reforestation\n",
    "Vegetation change detection \n",
    "### Mangrove\n",
    "Mangrove analysis\n",
    "### Fire mapping\n",
    "Burnt area mapping\n",
    "### Mapping soil carbon (below ground carbon)\n",
    "Ag lands, wetlands, forestlands, etc…"
   ]
  },
  {
   "cell_type": "markdown",
   "id": "1839a090-349d-4f20-9065-a39b352acc78",
   "metadata": {},
   "source": [
    "## Climate adaptation\n",
    "Adapting to the climate change already in the pipeline"
   ]
  },
  {
   "cell_type": "markdown",
   "id": "39495286-6276-446b-99ab-06899b4ac8f2",
   "metadata": {},
   "source": [
    "### Flood mapping\n",
    "Radar water detection\n",
    "Water extent using WOfS (flood risk)\n",
    "### Drought Assessment\n",
    "Wetlands insight tool\n",
    "Rainfall Anomaly\n",
    "NDVI Anomaly\n",
    "### Cropland extent\n",
    "### Coastal erosion\n",
    "- Coastal erosion\n"
   ]
  },
  {
   "cell_type": "markdown",
   "id": "5b9d1ccd-4bf9-4345-96ac-1cbec7f3519a",
   "metadata": {},
   "source": [
    "Gap\n",
    "Climate change projections under different climate scenarios\n",
    "Modelled climate change impacts (water availability, drought impacts, agriculture etc.)\n",
    "Vulnerability assessments \n",
    "\n"
   ]
  },
  {
   "cell_type": "markdown",
   "id": "49633d44-04e3-4197-bf7b-4ef84d888db8",
   "metadata": {},
   "source": [
    "## Monitoring, Evaluation, Reporting\n",
    "MRV enables countries to meet international reporting requirements such as National Communications, Biennial Update Reports, and National Greenhouse Gas (GHG) Inventories.\n"
   ]
  },
  {
   "cell_type": "markdown",
   "id": "b9f56e86-3d04-4b55-a699-fc62e7b93af7",
   "metadata": {},
   "source": [
    "Current notebook examples\n",
    "Land cover mapping and change\n",
    "Land cover classification datasets (global products provided by ESA)\n",
    "Gap\n",
    "Land cover mapping - ongoing FAO work\n",
    "others?\n"
   ]
  }
 ],
 "metadata": {
  "kernelspec": {
   "display_name": "Python 3 (ipykernel)",
   "language": "python",
   "name": "python3"
  },
  "language_info": {
   "codemirror_mode": {
    "name": "ipython",
    "version": 3
   },
   "file_extension": ".py",
   "mimetype": "text/x-python",
   "name": "python",
   "nbconvert_exporter": "python",
   "pygments_lexer": "ipython3",
   "version": "3.8.10"
  },
  "widgets": {
   "application/vnd.jupyter.widget-state+json": {
    "state": {},
    "version_major": 2,
    "version_minor": 0
   }
  }
 },
 "nbformat": 4,
 "nbformat_minor": 5
}
