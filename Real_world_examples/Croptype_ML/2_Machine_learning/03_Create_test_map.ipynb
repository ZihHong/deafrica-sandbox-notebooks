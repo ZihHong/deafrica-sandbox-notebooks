{
 "cells": [
  {
   "cell_type": "code",
   "execution_count": null,
   "id": "38a62af3-b442-4acc-af8a-c97235e509db",
   "metadata": {},
   "outputs": [],
   "source": [
    "import json\n",
    "import pickle\n",
    "\n",
    "import datacube\n",
    "import geopandas as gpd\n",
    "import matplotlib.pyplot as plt\n",
    "import numpy as np\n",
    "import pandas as pd\n",
    "import xarray as xr\n",
    "from datacube.utils import geometry\n",
    "from datacube.utils.cog import write_cog\n",
    "from deafrica_tools.bandindices import calculate_indices\n",
    "from deafrica_tools.classification import predict_xr\n",
    "from deafrica_tools.dask import create_local_dask_cluster\n",
    "from deafrica_tools.datahandling import load_ard\n",
    "from deafrica_tools.plotting import display_map, rgb\n",
    "from feature_collection import feature_layers\n",
    "from joblib import load\n",
    "from odc.algo import geomedian_with_mads, xr_geomedian\n",
    "from odc.io.cgroups import get_cpu_quota"
   ]
  },
  {
   "cell_type": "markdown",
   "id": "67c5a5e7-1ea5-4c00-9f22-2b3ded13d7ce",
   "metadata": {},
   "source": [
    "## Create Dask cluster for running predictions"
   ]
  },
  {
   "cell_type": "code",
   "execution_count": null,
   "id": "352ee4aa-b19a-4a14-9a6c-6aabb27c92ed",
   "metadata": {},
   "outputs": [],
   "source": [
    "ncpus = round(get_cpu_quota())\n",
    "print(\"ncpus = \" + str(ncpus))\n",
    "\n",
    "client = create_local_dask_cluster(return_client=True, n_workers=1, threads_per_worker=ncpus)"
   ]
  },
  {
   "cell_type": "markdown",
   "id": "81f29b95-18b7-485c-8ac0-b51214d50461",
   "metadata": {},
   "source": [
    "## Read in training data feaure names and class labels"
   ]
  },
  {
   "cell_type": "code",
   "execution_count": null,
   "id": "324a427e-cba3-4349-9573-80a2e82b5e22",
   "metadata": {},
   "outputs": [],
   "source": [
    "# Get column names from fitted model data\n",
    "training_data = \"results/training_data.txt\"\n",
    "\n",
    "# load the data\n",
    "model_input = np.loadtxt(training_data)\n",
    "\n",
    "# load the column_names\n",
    "with open(training_data, \"r\") as file:\n",
    "    header = file.readline()\n",
    "\n",
    "column_names = header.split()[2:]\n",
    "\n",
    "# Get label dictionary\n",
    "labels_path = \"results/class_labels.json\"\n",
    "with open(labels_path, \"r\") as json_file:\n",
    "    labels_dict = json.load(json_file)\n",
    "\n",
    "# Get model features\n",
    "feautres_path = \"results/exp_multipixel_allfeatures_removecorrfeaturesgt0p9_RandomForest_features.json\"\n",
    "with open(feautres_path, \"r\") as json_file:\n",
    "    features_dict = json.load(json_file)\n",
    "    \n",
    "features = features_dict[\"features\"]"
   ]
  },
  {
   "cell_type": "code",
   "execution_count": null,
   "id": "64cc583b-3645-4173-a885-24d518487d0b",
   "metadata": {},
   "outputs": [],
   "source": [
    "features"
   ]
  },
  {
   "cell_type": "markdown",
   "id": "2c19a2b3-62e6-445f-b835-29e4860d98b1",
   "metadata": {
    "tags": []
   },
   "source": [
    "## Load trained ML model and areas to test"
   ]
  },
  {
   "cell_type": "code",
   "execution_count": null,
   "id": "6fbbb575-e50c-4535-b07c-0db4a70c25d1",
   "metadata": {},
   "outputs": [],
   "source": [
    "# Choose model and load\n",
    "model_path = \"results/exp_multipixel_allfeatures_removecorrfeaturesgt0p9_RandomForest.joblib\"#\"results/randomforest_model.joblib\"\n",
    "model = load(model_path).set_params(n_jobs=1)\n",
    "\n",
    "# Choose file containing test areas and load\n",
    "test_areas_file = \"data/ml_test_areas.geojson\"\n",
    "test_areas_gdf = gpd.read_file(test_areas_file)"
   ]
  },
  {
   "cell_type": "code",
   "execution_count": null,
   "id": "58e3dc83-eec7-40b6-9c04-a9df1b0ac0f7",
   "metadata": {},
   "outputs": [],
   "source": [
    "model"
   ]
  },
  {
   "cell_type": "markdown",
   "id": "ee29e253-5782-4d45-8194-4ff4b3d1d7f4",
   "metadata": {
    "tags": []
   },
   "source": [
    "## Create the query for running the predictions\n",
    "This uses the existing query from the training data collection notebook, and adds `dask_chunks` as an additional parameter."
   ]
  },
  {
   "cell_type": "code",
   "execution_count": null,
   "id": "f88f146f-5192-4cd9-b6bc-9031422297d4",
   "metadata": {},
   "outputs": [],
   "source": [
    "# Load the query used for fitting\n",
    "query_file = \"results/query.pickle\"\n",
    "\n",
    "with open(query_file, \"rb\") as f:\n",
    "    query = pickle.load(f)\n",
    "    \n",
    "# Specify any specific additions to the data query -- e.g. dask_chunks for enabling parallel computation\n",
    "dask_chunks = {\"x\": 1000, \"y\": 1000}\n",
    "query.update({\"dask_chunks\": dask_chunks})\n",
    "\n",
    "query"
   ]
  },
  {
   "cell_type": "markdown",
   "id": "098b23a6-d24d-4b34-89ad-065688811012",
   "metadata": {},
   "source": [
    "## Run model over test areas"
   ]
  },
  {
   "cell_type": "code",
   "execution_count": null,
   "id": "12ff2523-e5b3-45c9-956e-040374803a59",
   "metadata": {},
   "outputs": [],
   "source": [
    "predictions = []\n",
    "area_of_interest_gdf = test_areas_gdf\n",
    "\n",
    "for index, district in area_of_interest_gdf.iterrows():\n",
    "\n",
    "    print(\"working on test region \" + str(index))\n",
    "    \n",
    "    # set up query based on district polygon\n",
    "    geom = geometry.Geometry(geom=district.geometry, crs=area_of_interest_gdf.crs)\n",
    "    query.update({\"geopolygon\": geom})\n",
    "\n",
    "    # calculate features\n",
    "    data = feature_layers(query)\n",
    "    print(len(data.data_vars))\n",
    "\n",
    "    # Only keep features that are in the original list of columns\n",
    "    data = data[features]\n",
    "    print(len(data.data_vars))\n",
    "\n",
    "    # predict using the imported model\n",
    "    predicted = predict_xr(\n",
    "        model, data, proba=True, persist=True, clean=True, return_input=True\n",
    "    ).compute()\n",
    "\n",
    "    predictions.append(predicted)"
   ]
  },
  {
   "cell_type": "markdown",
   "id": "071145d4-813a-4fd1-8fcb-f7596feb056f",
   "metadata": {},
   "source": [
    "## Visualise predictions over test areas\n",
    "\n",
    "Resulting figures are saved out to the \"results\" folder."
   ]
  },
  {
   "cell_type": "code",
   "execution_count": null,
   "id": "6132278e-037c-4155-b66a-7bcb5ee35453",
   "metadata": {},
   "outputs": [],
   "source": [
    "figures = [\n",
    "    plt.subplots(1, 3, figsize=(18, 5), gridspec_kw={\"width_ratios\": [1, 0.90, 1]})\n",
    "    for i in range(0, len(predictions))\n",
    "]\n",
    "\n",
    "for i, figure in enumerate(figures):\n",
    "    \n",
    "    fig, axes = figure\n",
    "\n",
    "    # get discrete colormap\n",
    "    cmap = plt.get_cmap(\"Set3\", len(labels_dict))\n",
    "    # set limits .5 outside true range\n",
    "    mat = (\n",
    "        predictions[i]\n",
    "        .Predictions.astype(int)\n",
    "        .plot(\n",
    "            ax=axes[0],\n",
    "            cmap=cmap,\n",
    "            vmin=-0.5,\n",
    "            vmax=9.5,\n",
    "            add_labels=False,\n",
    "            add_colorbar=False,\n",
    "        )\n",
    "    )\n",
    "\n",
    "    # tell the colorbar to tick at integers\n",
    "    cax = plt.colorbar(\n",
    "        mat,\n",
    "        ticks=np.arange(min(labels_dict.values()), max(labels_dict.values()) + 1),\n",
    "        ax=axes[0],\n",
    "        fraction=0.046,\n",
    "        pad=0.04,\n",
    "    )\n",
    "    cax.ax.set_yticklabels(list(labels_dict.keys()))\n",
    "\n",
    "    # Plot true colour image\n",
    "    predictions[i][\"NDVI_s2_Q1_2022\"].plot(ax=axes[1], add_colorbar=False)\n",
    "    \n",
    "#     rgb(\n",
    "#         predictions[i],\n",
    "#         bands=[\n",
    "#             \"red_geomed_2021annual\",\n",
    "#             \"green_geomed_2021annual\",\n",
    "#             \"blue_geomed_2021annual\",\n",
    "#         ],\n",
    "#         ax=axes[1],\n",
    "#         percentile_stretch=(0.01, 0.99),\n",
    "#     )\n",
    "    axes[1].set_xlabel(\"\")\n",
    "    axes[1].set_ylabel(\"\")\n",
    "\n",
    "    predictions[i].Probabilities.plot(\n",
    "        ax=axes[2],\n",
    "        cmap=\"magma\",\n",
    "        vmin=0,\n",
    "        vmax=100,\n",
    "        add_labels=False,\n",
    "        add_colorbar=True,\n",
    "        cbar_kwargs={\"fraction\": 0.046, \"pad\": 0.04},\n",
    "    )\n",
    "\n",
    "    # Remove axes on all plots\n",
    "    for ax in axes:\n",
    "        ax.set_aspect(\"equal\")\n",
    "        ax.tick_params(\n",
    "            axis=\"both\",\n",
    "            which=\"both\",\n",
    "            top=False,\n",
    "            bottom=False,\n",
    "            left=False,\n",
    "            right=False,\n",
    "            labelleft=False,\n",
    "            labelbottom=False,\n",
    "        )\n",
    "\n",
    "    # Add plot titles\n",
    "    axes[0].set_title(\"Classified Image\")\n",
    "    axes[1].set_title(\"NDVI_s2_Q1_2022\")\n",
    "    axes[2].set_title(\"Probabilities\");\n",
    "    \n",
    "    \n",
    "# Save out all figures\n",
    "for i, figure in enumerate(figures):\n",
    "    fig, ax = figure\n",
    "    fig.savefig(f\"results/test_region_{i}.png\", dpi=300, bbox_inches=\"tight\", facecolor=\"white\")"
   ]
  },
  {
   "cell_type": "markdown",
   "id": "a10468a3-dca1-4985-85ae-9db57287e4ef",
   "metadata": {},
   "source": [
    "## Close the dask client"
   ]
  },
  {
   "cell_type": "code",
   "execution_count": null,
   "id": "36762b58-c9a1-46c0-aff8-b0b25dda11f2",
   "metadata": {},
   "outputs": [],
   "source": [
    "client.close()"
   ]
  },
  {
   "cell_type": "code",
   "execution_count": null,
   "id": "7556dad8-ecad-4abe-aa6a-b761182c4739",
   "metadata": {},
   "outputs": [],
   "source": []
  }
 ],
 "metadata": {
  "kernelspec": {
   "display_name": "Python 3 (ipykernel)",
   "language": "python",
   "name": "python3"
  },
  "language_info": {
   "codemirror_mode": {
    "name": "ipython",
    "version": 3
   },
   "file_extension": ".py",
   "mimetype": "text/x-python",
   "name": "python",
   "nbconvert_exporter": "python",
   "pygments_lexer": "ipython3",
   "version": "3.8.10"
  },
  "widgets": {
   "application/vnd.jupyter.widget-state+json": {
    "state": {},
    "version_major": 2,
    "version_minor": 0
   }
  }
 },
 "nbformat": 4,
 "nbformat_minor": 5
}
